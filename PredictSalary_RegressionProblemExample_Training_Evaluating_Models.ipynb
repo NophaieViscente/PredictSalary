{
  "cells": [
    {
      "cell_type": "markdown",
      "metadata": {
        "id": "view-in-github",
        "colab_type": "text"
      },
      "source": [
        "<a href=\"https://colab.research.google.com/github/NophaieViscente/PredictSalary/blob/main/PredictSalary_RegressionProblemExample_Training_Evaluating_Models.ipynb\" target=\"_parent\"><img src=\"https://colab.research.google.com/assets/colab-badge.svg\" alt=\"Open In Colab\"/></a>"
      ]
    },
    {
      "cell_type": "markdown",
      "metadata": {
        "id": "hWvRML72iTR2"
      },
      "source": [
        "## Transformação dos dados e Treinamento/Avaliação dos modelos de Aprendizado de Máquina\n",
        "\n",
        "* Este notebook conterá a parte de treinamento e avaliação dos modelos, bem como transformação de dados caso sejam necessárias."
      ]
    },
    {
      "cell_type": "code",
      "execution_count": 1,
      "metadata": {
        "colab": {
          "base_uri": "https://localhost:8080/"
        },
        "id": "He7wSgtJjbmM",
        "outputId": "dbc25794-88f6-4076-f0a9-cf70692eee1d"
      },
      "outputs": [
        {
          "output_type": "stream",
          "name": "stdout",
          "text": [
            "Drive already mounted at /content/drive; to attempt to forcibly remount, call drive.mount(\"/content/drive\", force_remount=True).\n"
          ]
        }
      ],
      "source": [
        "from google.colab import drive\n",
        "drive.mount('/content/drive')"
      ]
    },
    {
      "cell_type": "markdown",
      "metadata": {
        "id": "axqOwwZqjK0v"
      },
      "source": [
        "### Carregamento das bibliotecas necessárias"
      ]
    },
    {
      "cell_type": "code",
      "execution_count": 2,
      "metadata": {
        "colab": {
          "base_uri": "https://localhost:8080/"
        },
        "id": "MKzpy2-_g80b",
        "outputId": "ce2068db-d025-432c-b64f-e0fbd819e61b"
      },
      "outputs": [
        {
          "output_type": "stream",
          "name": "stdout",
          "text": [
            "[nltk_data] Downloading package stopwords to /root/nltk_data...\n",
            "[nltk_data]   Package stopwords is already up-to-date!\n"
          ]
        }
      ],
      "source": [
        "import pandas as pd\n",
        "import numpy as np\n",
        "import matplotlib.pyplot as plt\n",
        "import nltk\n",
        "nltk.download('stopwords')\n",
        "from nltk.corpus import stopwords\n",
        "import string"
      ]
    },
    {
      "cell_type": "markdown",
      "metadata": {
        "id": "pgZ3l0GnjQmB"
      },
      "source": [
        "### Carregamento dos dados para treino"
      ]
    },
    {
      "cell_type": "code",
      "execution_count": 3,
      "metadata": {
        "id": "yVKi8QsOjVGa"
      },
      "outputs": [],
      "source": [
        "train = pd.read_csv('/content/drive/MyDrive/Train_rev2.csv')"
      ]
    },
    {
      "cell_type": "markdown",
      "metadata": {
        "id": "Sgq8NU3EnvmR"
      },
      "source": [
        "### Retirando coluna Unnamed: 0"
      ]
    },
    {
      "cell_type": "code",
      "execution_count": 4,
      "metadata": {
        "id": "3t1Lu2DEnWHH"
      },
      "outputs": [],
      "source": [
        "train.drop('Unnamed: 0', axis=1, inplace=True)"
      ]
    },
    {
      "cell_type": "markdown",
      "metadata": {
        "id": "6ih3uSDwpNUE"
      },
      "source": [
        "* Visualizando o dataSet"
      ]
    },
    {
      "cell_type": "code",
      "execution_count": 5,
      "metadata": {
        "colab": {
          "base_uri": "https://localhost:8080/",
          "height": 548
        },
        "id": "ce1duMqDomcA",
        "outputId": "3ea2e4ad-e673-41a2-826b-11f62627322d"
      },
      "outputs": [
        {
          "output_type": "execute_result",
          "data": {
            "text/html": [
              "\n",
              "  <div id=\"df-088c8940-d270-4fbb-9974-d75338567b02\">\n",
              "    <div class=\"colab-df-container\">\n",
              "      <div>\n",
              "<style scoped>\n",
              "    .dataframe tbody tr th:only-of-type {\n",
              "        vertical-align: middle;\n",
              "    }\n",
              "\n",
              "    .dataframe tbody tr th {\n",
              "        vertical-align: top;\n",
              "    }\n",
              "\n",
              "    .dataframe thead th {\n",
              "        text-align: right;\n",
              "    }\n",
              "</style>\n",
              "<table border=\"1\" class=\"dataframe\">\n",
              "  <thead>\n",
              "    <tr style=\"text-align: right;\">\n",
              "      <th></th>\n",
              "      <th>Id</th>\n",
              "      <th>Title</th>\n",
              "      <th>FullDescription</th>\n",
              "      <th>LocationRaw</th>\n",
              "      <th>LocationNormalized</th>\n",
              "      <th>ContractType</th>\n",
              "      <th>ContractTime</th>\n",
              "      <th>Company</th>\n",
              "      <th>Category</th>\n",
              "      <th>SalaryRaw</th>\n",
              "      <th>SalaryNormalized</th>\n",
              "      <th>SourceName</th>\n",
              "      <th>LowSalaryRange</th>\n",
              "      <th>HighSalaryRange</th>\n",
              "      <th>Rate_by</th>\n",
              "      <th>SalaryBin</th>\n",
              "    </tr>\n",
              "  </thead>\n",
              "  <tbody>\n",
              "    <tr>\n",
              "      <th>0</th>\n",
              "      <td>12612628</td>\n",
              "      <td>Engineering Systems Analyst</td>\n",
              "      <td>Engineering Systems Analyst Dorking Surrey Sal...</td>\n",
              "      <td>Dorking, Surrey, Surrey</td>\n",
              "      <td>Dorking</td>\n",
              "      <td>NaN</td>\n",
              "      <td>permanent</td>\n",
              "      <td>Gregory Martin International</td>\n",
              "      <td>Engineering Jobs</td>\n",
              "      <td>20000 - 30000/annum 20-30K</td>\n",
              "      <td>25000</td>\n",
              "      <td>cv-library.co.uk</td>\n",
              "      <td>20000</td>\n",
              "      <td>30000</td>\n",
              "      <td>Yearly</td>\n",
              "      <td>0</td>\n",
              "    </tr>\n",
              "    <tr>\n",
              "      <th>1</th>\n",
              "      <td>12612830</td>\n",
              "      <td>Stress Engineer Glasgow</td>\n",
              "      <td>Stress Engineer Glasgow Salary **** to **** We...</td>\n",
              "      <td>Glasgow, Scotland, Scotland</td>\n",
              "      <td>Glasgow</td>\n",
              "      <td>NaN</td>\n",
              "      <td>permanent</td>\n",
              "      <td>Gregory Martin International</td>\n",
              "      <td>Engineering Jobs</td>\n",
              "      <td>25000 - 35000/annum 25-35K</td>\n",
              "      <td>30000</td>\n",
              "      <td>cv-library.co.uk</td>\n",
              "      <td>25000</td>\n",
              "      <td>35000</td>\n",
              "      <td>Yearly</td>\n",
              "      <td>1</td>\n",
              "    </tr>\n",
              "    <tr>\n",
              "      <th>2</th>\n",
              "      <td>12612844</td>\n",
              "      <td>Modelling and simulation analyst</td>\n",
              "      <td>Mathematical Modeller / Simulation Analyst / O...</td>\n",
              "      <td>Hampshire, South East, South East</td>\n",
              "      <td>Hampshire</td>\n",
              "      <td>NaN</td>\n",
              "      <td>permanent</td>\n",
              "      <td>Gregory Martin International</td>\n",
              "      <td>Engineering Jobs</td>\n",
              "      <td>20000 - 40000/annum 20-40K</td>\n",
              "      <td>30000</td>\n",
              "      <td>cv-library.co.uk</td>\n",
              "      <td>20000</td>\n",
              "      <td>40000</td>\n",
              "      <td>Yearly</td>\n",
              "      <td>1</td>\n",
              "    </tr>\n",
              "    <tr>\n",
              "      <th>3</th>\n",
              "      <td>12613049</td>\n",
              "      <td>Engineering Systems Analyst / Mathematical Mod...</td>\n",
              "      <td>Engineering Systems Analyst / Mathematical Mod...</td>\n",
              "      <td>Surrey, South East, South East</td>\n",
              "      <td>Surrey</td>\n",
              "      <td>NaN</td>\n",
              "      <td>permanent</td>\n",
              "      <td>Gregory Martin International</td>\n",
              "      <td>Engineering Jobs</td>\n",
              "      <td>25000 - 30000/annum 25K-30K negotiable</td>\n",
              "      <td>27500</td>\n",
              "      <td>cv-library.co.uk</td>\n",
              "      <td>25000</td>\n",
              "      <td>30000</td>\n",
              "      <td>Yearly</td>\n",
              "      <td>1</td>\n",
              "    </tr>\n",
              "    <tr>\n",
              "      <th>4</th>\n",
              "      <td>12613647</td>\n",
              "      <td>Pioneer, Miser Engineering Systems Analyst</td>\n",
              "      <td>Pioneer, Miser  Engineering Systems Analyst Do...</td>\n",
              "      <td>Surrey, South East, South East</td>\n",
              "      <td>Surrey</td>\n",
              "      <td>NaN</td>\n",
              "      <td>permanent</td>\n",
              "      <td>Gregory Martin International</td>\n",
              "      <td>Engineering Jobs</td>\n",
              "      <td>20000 - 30000/annum 20-30K</td>\n",
              "      <td>25000</td>\n",
              "      <td>cv-library.co.uk</td>\n",
              "      <td>20000</td>\n",
              "      <td>30000</td>\n",
              "      <td>Yearly</td>\n",
              "      <td>0</td>\n",
              "    </tr>\n",
              "  </tbody>\n",
              "</table>\n",
              "</div>\n",
              "      <button class=\"colab-df-convert\" onclick=\"convertToInteractive('df-088c8940-d270-4fbb-9974-d75338567b02')\"\n",
              "              title=\"Convert this dataframe to an interactive table.\"\n",
              "              style=\"display:none;\">\n",
              "        \n",
              "  <svg xmlns=\"http://www.w3.org/2000/svg\" height=\"24px\"viewBox=\"0 0 24 24\"\n",
              "       width=\"24px\">\n",
              "    <path d=\"M0 0h24v24H0V0z\" fill=\"none\"/>\n",
              "    <path d=\"M18.56 5.44l.94 2.06.94-2.06 2.06-.94-2.06-.94-.94-2.06-.94 2.06-2.06.94zm-11 1L8.5 8.5l.94-2.06 2.06-.94-2.06-.94L8.5 2.5l-.94 2.06-2.06.94zm10 10l.94 2.06.94-2.06 2.06-.94-2.06-.94-.94-2.06-.94 2.06-2.06.94z\"/><path d=\"M17.41 7.96l-1.37-1.37c-.4-.4-.92-.59-1.43-.59-.52 0-1.04.2-1.43.59L10.3 9.45l-7.72 7.72c-.78.78-.78 2.05 0 2.83L4 21.41c.39.39.9.59 1.41.59.51 0 1.02-.2 1.41-.59l7.78-7.78 2.81-2.81c.8-.78.8-2.07 0-2.86zM5.41 20L4 18.59l7.72-7.72 1.47 1.35L5.41 20z\"/>\n",
              "  </svg>\n",
              "      </button>\n",
              "      \n",
              "  <style>\n",
              "    .colab-df-container {\n",
              "      display:flex;\n",
              "      flex-wrap:wrap;\n",
              "      gap: 12px;\n",
              "    }\n",
              "\n",
              "    .colab-df-convert {\n",
              "      background-color: #E8F0FE;\n",
              "      border: none;\n",
              "      border-radius: 50%;\n",
              "      cursor: pointer;\n",
              "      display: none;\n",
              "      fill: #1967D2;\n",
              "      height: 32px;\n",
              "      padding: 0 0 0 0;\n",
              "      width: 32px;\n",
              "    }\n",
              "\n",
              "    .colab-df-convert:hover {\n",
              "      background-color: #E2EBFA;\n",
              "      box-shadow: 0px 1px 2px rgba(60, 64, 67, 0.3), 0px 1px 3px 1px rgba(60, 64, 67, 0.15);\n",
              "      fill: #174EA6;\n",
              "    }\n",
              "\n",
              "    [theme=dark] .colab-df-convert {\n",
              "      background-color: #3B4455;\n",
              "      fill: #D2E3FC;\n",
              "    }\n",
              "\n",
              "    [theme=dark] .colab-df-convert:hover {\n",
              "      background-color: #434B5C;\n",
              "      box-shadow: 0px 1px 3px 1px rgba(0, 0, 0, 0.15);\n",
              "      filter: drop-shadow(0px 1px 2px rgba(0, 0, 0, 0.3));\n",
              "      fill: #FFFFFF;\n",
              "    }\n",
              "  </style>\n",
              "\n",
              "      <script>\n",
              "        const buttonEl =\n",
              "          document.querySelector('#df-088c8940-d270-4fbb-9974-d75338567b02 button.colab-df-convert');\n",
              "        buttonEl.style.display =\n",
              "          google.colab.kernel.accessAllowed ? 'block' : 'none';\n",
              "\n",
              "        async function convertToInteractive(key) {\n",
              "          const element = document.querySelector('#df-088c8940-d270-4fbb-9974-d75338567b02');\n",
              "          const dataTable =\n",
              "            await google.colab.kernel.invokeFunction('convertToInteractive',\n",
              "                                                     [key], {});\n",
              "          if (!dataTable) return;\n",
              "\n",
              "          const docLinkHtml = 'Like what you see? Visit the ' +\n",
              "            '<a target=\"_blank\" href=https://colab.research.google.com/notebooks/data_table.ipynb>data table notebook</a>'\n",
              "            + ' to learn more about interactive tables.';\n",
              "          element.innerHTML = '';\n",
              "          dataTable['output_type'] = 'display_data';\n",
              "          await google.colab.output.renderOutput(dataTable, element);\n",
              "          const docLink = document.createElement('div');\n",
              "          docLink.innerHTML = docLinkHtml;\n",
              "          element.appendChild(docLink);\n",
              "        }\n",
              "      </script>\n",
              "    </div>\n",
              "  </div>\n",
              "  "
            ],
            "text/plain": [
              "         Id  ... SalaryBin\n",
              "0  12612628  ...         0\n",
              "1  12612830  ...         1\n",
              "2  12612844  ...         1\n",
              "3  12613049  ...         1\n",
              "4  12613647  ...         0\n",
              "\n",
              "[5 rows x 16 columns]"
            ]
          },
          "metadata": {},
          "execution_count": 5
        }
      ],
      "source": [
        "train.head()"
      ]
    },
    {
      "cell_type": "markdown",
      "metadata": {
        "id": "_MCyaZiwrnwZ"
      },
      "source": [
        "* Vamos carregar os dados do dataset em uma cópia para caso necessitemos, só executamos novamente a partir desse ponto."
      ]
    },
    {
      "cell_type": "code",
      "execution_count": 6,
      "metadata": {
        "id": "bPLXWEYprw6h"
      },
      "outputs": [],
      "source": [
        "df_tmp = train"
      ]
    },
    {
      "cell_type": "markdown",
      "metadata": {
        "id": "HRfF0CrEpjkK"
      },
      "source": [
        "## Iniciando as transformações.\n",
        "\n",
        "* Inicialmente vamos verificar a distribuição dos dados da coluna SalaryNormalized"
      ]
    },
    {
      "cell_type": "code",
      "execution_count": 7,
      "metadata": {
        "colab": {
          "base_uri": "https://localhost:8080/",
          "height": 281
        },
        "id": "oVtJNs36zHqH",
        "outputId": "69acd1e7-df02-47f8-c1be-3c831dd5f6af"
      },
      "outputs": [
        {
          "output_type": "display_data",
          "data": {
            "image/png": "[encoded data removed]",
            "text/plain": [
              "<Figure size 432x288 with 1 Axes>"
            ]
          },
          "metadata": {
            "needs_background": "light"
          }
        }
      ],
      "source": [
        "df_tmp.SalaryNormalized.hist()\n",
        "plt.title('Distribuição dos dados')\n",
        "plt.show()"
      ]
    },
    {
      "cell_type": "markdown",
      "metadata": {
        "id": "wdu3BCIkr_eA"
      },
      "source": [
        "Pode-se observar que os dados tem uma assimetria a direita"
      ]
    },
    {
      "cell_type": "markdown",
      "metadata": {
        "id": "Uu1QHrSEwXue"
      },
      "source": [
        "* Criando coluna com os dados normalizados."
      ]
    },
    {
      "cell_type": "code",
      "execution_count": 8,
      "metadata": {
        "id": "48X9N7eZv_n5"
      },
      "outputs": [],
      "source": [
        "df_tmp['SalaryNormal'] = np.log(df_tmp.SalaryNormalized)"
      ]
    },
    {
      "cell_type": "markdown",
      "metadata": {
        "id": "L-5YEKKKyRny"
      },
      "source": [
        "* Plotando gráficos comparativos entre as colunas SalaryNormalized e SalaryNormal"
      ]
    },
    {
      "cell_type": "code",
      "execution_count": 9,
      "metadata": {
        "colab": {
          "base_uri": "https://localhost:8080/",
          "height": 279
        },
        "id": "9u4XbHoFwWUI",
        "outputId": "f2486a59-0d9b-475c-b4bb-1285da8c9b9c"
      },
      "outputs": [
        {
          "output_type": "display_data",
          "data": {
            "image/png": "[encoded data removed]",
            "text/plain": [
              "<Figure size 432x288 with 2 Axes>"
            ]
          },
          "metadata": {
            "needs_background": "light"
          }
        }
      ],
      "source": [
        "# Plotando histograma para validar a distribuição das duas colunas\n",
        "plt.subplot(1,2,1)\n",
        "plt.title('Dist. Coluna SalaryNormalized')\n",
        "df_tmp.SalaryNormalized.hist()\n",
        "\n",
        "plt.subplot(1,2,2)\n",
        "plt.title('Dist. Coluna SalaryNormal')\n",
        "df_tmp.SalaryNormal.hist()\n",
        "plt.tight_layout(2)\n",
        "plt.show()"
      ]
    },
    {
      "cell_type": "markdown",
      "metadata": {
        "id": "kkJwYNOl1qUi"
      },
      "source": [
        "* Combinando as colunas Title e FullDescription em uma nova coluna chamada Full_Title"
      ]
    },
    {
      "cell_type": "code",
      "source": [
        "# Adicionando dados aos dados faltantes do texto na coluna Company\n",
        "df_tmp['Company'].fillna('missing', inplace=True)"
      ],
      "metadata": {
        "id": "dpRCASoLgDBe"
      },
      "execution_count": 13,
      "outputs": []
    },
    {
      "cell_type": "code",
      "execution_count": 23,
      "metadata": {
        "id": "GCv9onk00VNP"
      },
      "outputs": [],
      "source": [
        "df_tmp['Full_'] = df_tmp.Title.str.cat(df_tmp[['FullDescription','LocationRaw','Company','Category']], sep=\" \")"
      ]
    },
    {
      "cell_type": "code",
      "execution_count": 24,
      "metadata": {
        "colab": {
          "base_uri": "https://localhost:8080/",
          "height": 105
        },
        "id": "b4Exdr7v1Byc",
        "outputId": "5ac54c59-f29f-4e16-a9d4-e9450b2090df"
      },
      "outputs": [
        {
          "output_type": "execute_result",
          "data": {
            "application/vnd.google.colaboratory.intrinsic+json": {
              "type": "string"
            },
            "text/plain": [
              "'Accountant This entrepreneurial and growing private equity backed company is looking for an Accountant to join them and support the FD in running the finance function. As the Accountant you will manage a team of three accounts clerk and take responsibility for maintaining up to date and accurate financial records, preparing monthly management accounts and overseeing the ledgers, payroll and bank reconciliations. You will also provide the operational teams with relevant financial information. This would be an ideal opportunity for someone looking for their first move from practice or for someone already in an SME looking for a step up. You must be qualified (ACA/ACCA/CIMA) and have strong IT skills. Hitchin missing Teaching Jobs'"
            ]
          },
          "metadata": {},
          "execution_count": 24
        }
      ],
      "source": [
        "df_tmp.Full_[244767]"
      ]
    },
    {
      "cell_type": "markdown",
      "metadata": {
        "id": "n9QPTrcQ3wF8"
      },
      "source": [
        "* Efetuando limpeza na coluna Full_Title"
      ]
    },
    {
      "cell_type": "code",
      "execution_count": 25,
      "metadata": {
        "id": "C1BONMZN3vGe"
      },
      "outputs": [],
      "source": [
        "# criando a função para tokenizar/Limpar texto\n",
        "def tokenizaTexto(x) :\n",
        "  # Criando uma lista para receber a saida com o texto já 'tokenizado'\n",
        "  saida = []\n",
        "  # Gerando um padrão para a expressão regular ser aplicada\n",
        "  padrao = \"([a-zA-Z]+(?:'[a-z]+)?)\"\n",
        "  # Criando uma lista com as Stop Words, números e pontos\n",
        "  listaStopWords = stopwords.words('english')\n",
        "  listaStopWords += list(string.punctuation)\n",
        "  listaStopWords += ['0','1','2','3','4','5','6','8','9']\n",
        "\n",
        "  # Percorrendo o texto passado.\n",
        "  for txt in x:\n",
        "    # Alocando o texto com a primeira filtragem.\n",
        "    txt_tokens_raw = nltk.regexp_tokenize(txt, padrao)\n",
        "    # Padronizando o texto\n",
        "    txt_tokens_min =[palavra.lower() for palavra in txt_tokens_raw]\n",
        "    # Retirando simbolos e números.\n",
        "    txt_words_stopped = [palavra for palavra in txt_tokens_min if palavra not in listaStopWords]\n",
        "    saida.append(txt_words_stopped)\n",
        "  # Gerando a saída com o texto tokenizado\n",
        "  return pd.Series(saida)"
      ]
    },
    {
      "cell_type": "code",
      "execution_count": 26,
      "metadata": {
        "id": "bD9QVGCF4Hds",
        "colab": {
          "base_uri": "https://localhost:8080/"
        },
        "outputId": "07e177e8-fb61-414c-96ae-6da43e92dd5e"
      },
      "outputs": [
        {
          "output_type": "execute_result",
          "data": {
            "text/plain": [
              "0         [engineering, systems, analyst, engineering, s...\n",
              "1         [stress, engineer, glasgow, stress, engineer, ...\n",
              "2         [modelling, simulation, analyst, mathematical,...\n",
              "3         [engineering, systems, analyst, mathematical, ...\n",
              "4         [pioneer, miser, engineering, systems, analyst...\n",
              "                                ...                        \n",
              "244763    [teacher, science, position, qualified, teache...\n",
              "244764    [teacher, business, studies, ict, position, qu...\n",
              "244765    [english, teacher, position, qualified, teache...\n",
              "244766    [supply, teachers, position, qualified, teache...\n",
              "244767    [accountant, entrepreneurial, growing, private...\n",
              "Length: 244768, dtype: object"
            ]
          },
          "metadata": {},
          "execution_count": 26
        }
      ],
      "source": [
        "data = tokenizaTexto(df_tmp.Full_)\n",
        "data"
      ]
    },
    {
      "cell_type": "markdown",
      "metadata": {
        "id": "pN44hgdyBkxm"
      },
      "source": [
        "### Separando dados para treino e variável alvo"
      ]
    },
    {
      "cell_type": "markdown",
      "metadata": {
        "id": "Ah6UsD1qErDb"
      },
      "source": [
        "* Carregando as bibliotecas necessárias"
      ]
    },
    {
      "cell_type": "code",
      "execution_count": 27,
      "metadata": {
        "id": "7lGaLZeoEuft"
      },
      "outputs": [],
      "source": [
        "from sklearn.model_selection import train_test_split"
      ]
    },
    {
      "cell_type": "markdown",
      "metadata": {
        "id": "6IBIEg2EEW6h"
      },
      "source": [
        "* Alocando a target a uma variável separada"
      ]
    },
    {
      "cell_type": "code",
      "execution_count": 28,
      "metadata": {
        "id": "AVYSAB0bBHJo"
      },
      "outputs": [],
      "source": [
        "target = df_tmp['SalaryNormalized'] "
      ]
    },
    {
      "cell_type": "markdown",
      "metadata": {
        "id": "3c2gFutgEee4"
      },
      "source": [
        "* Usando Train_test_split para separação entre dataset de treino e teste"
      ]
    },
    {
      "cell_type": "code",
      "source": [
        "len(data[0]),len(data[1]),len(data[2]),len(data[3]),len(data[4])"
      ],
      "metadata": {
        "colab": {
          "base_uri": "https://localhost:8080/"
        },
        "id": "J0IZi81KqYJZ",
        "outputId": "c325e139-9cb0-4129-8b02-ae9aeab4e4f1"
      },
      "execution_count": 29,
      "outputs": [
        {
          "output_type": "execute_result",
          "data": {
            "text/plain": [
              "(48, 155, 172, 57, 40)"
            ]
          },
          "metadata": {},
          "execution_count": 29
        }
      ]
    },
    {
      "cell_type": "code",
      "execution_count": 30,
      "metadata": {
        "id": "nFOZB-LQElyI"
      },
      "outputs": [],
      "source": [
        "X_treino, X_teste, y_treino, y_teste = train_test_split(data, target, test_size=0.2, random_state=42)"
      ]
    },
    {
      "cell_type": "markdown",
      "metadata": {
        "id": "0HuOBPV2Folx"
      },
      "source": [
        "### Preparação e Treinamento dos modelos"
      ]
    },
    {
      "cell_type": "code",
      "execution_count": 31,
      "metadata": {
        "id": "PKh_Gnq2VvkS"
      },
      "outputs": [],
      "source": [
        "from gensim.models import Word2Vec"
      ]
    },
    {
      "cell_type": "code",
      "execution_count": 32,
      "metadata": {
        "id": "mgC0XqIeFECz"
      },
      "outputs": [],
      "source": [
        "w2v_model1 = Word2Vec(data,\n",
        "                size=64, #size is the number of dimensions of the N-dimensional space and Word2Vec maps the words into\n",
        "                window=10,\n",
        "                min_count=10, #min frequency appeared in the corpus\n",
        "                workers=4)"
      ]
    },
    {
      "cell_type": "code",
      "execution_count": 33,
      "metadata": {
        "colab": {
          "base_uri": "https://localhost:8080/"
        },
        "id": "gPTa37WTXPdW",
        "outputId": "50b40da7-ecce-4ac3-ae53-4c3c56af25c4"
      },
      "outputs": [
        {
          "output_type": "execute_result",
          "data": {
            "text/plain": [
              "(187913929, 200461895)"
            ]
          },
          "metadata": {},
          "execution_count": 33
        }
      ],
      "source": [
        "# Conferiando a contagem de palavras.\n",
        "w2v_model1.train(data,total_examples=w2v_model1.corpus_count, epochs=5)"
      ]
    },
    {
      "cell_type": "code",
      "execution_count": 34,
      "metadata": {
        "id": "2giAKmrCf-yb"
      },
      "outputs": [],
      "source": [
        "# Alocando o modelo em uma variável\n",
        "wv = w2v_model1.wv"
      ]
    },
    {
      "cell_type": "code",
      "execution_count": 35,
      "metadata": {
        "colab": {
          "base_uri": "https://localhost:8080/"
        },
        "id": "TYepOyNmgDET",
        "outputId": "37e9f0a5-3e01-44d0-c66b-1494c37ca8e2"
      },
      "outputs": [
        {
          "output_type": "stream",
          "name": "stdout",
          "text": [
            "Tamanho Vocabulário: 34255 palavras.\n"
          ]
        }
      ],
      "source": [
        "# Conferindo o tamanho do vocabulário\n",
        "palavras = list(wv.vocab)\n",
        "print(f'Tamanho Vocabulário: {len(palavras)} palavras.')"
      ]
    },
    {
      "cell_type": "code",
      "execution_count": 37,
      "metadata": {
        "id": "aEJeUxxJgkHa"
      },
      "outputs": [],
      "source": [
        "# Transformando os dados em um dicionário para poder usar no pipeline\n",
        "w2v = dict(zip(w2v_model1.wv.index2word, w2v_model1.wv.vectors))"
      ]
    },
    {
      "cell_type": "code",
      "execution_count": 38,
      "metadata": {
        "id": "Pu6w5HMdgv6l"
      },
      "outputs": [],
      "source": [
        "# Criando uma classe para a incorporação do texto nos vetores \n",
        "class MeanEmbeddingVectorizer(object):\n",
        "    def __init__(self, word2vec):\n",
        "        self.word2vec = word2vec\n",
        "        # if a text is empty we should return a vector of zeros\n",
        "        # with the same dimensionality as all the other vectors\n",
        "        self.dim = len(word2vec.values())\n",
        "\n",
        "    def fit(self, X, y):\n",
        "        return self\n",
        "\n",
        "    def transform(self, X):\n",
        "        return np.array([\n",
        "            np.mean([self.word2vec[w] for w in words if w in self.word2vec]\n",
        "                    or [np.zeros(self.dim)], axis=0)\n",
        "            for words in X\n",
        "        ])"
      ]
    },
    {
      "cell_type": "markdown",
      "source": [
        "### Treinando os modelos para o baseline"
      ],
      "metadata": {
        "id": "tBL3rHaRxt6W"
      }
    },
    {
      "cell_type": "code",
      "execution_count": 76,
      "metadata": {
        "colab": {
          "base_uri": "https://localhost:8080/"
        },
        "id": "vGM-4SBOhAEv",
        "outputId": "45d351d6-55c0-4c4b-89c8-f13247bb21e2"
      },
      "outputs": [
        {
          "output_type": "stream",
          "name": "stderr",
          "text": [
            "[Parallel(n_jobs=3)]: Using backend LokyBackend with 3 concurrent workers.\n",
            "[Parallel(n_jobs=3)]: Done  25 out of  25 | elapsed:  5.0min finished\n",
            "[Parallel(n_jobs=3)]: Using backend ThreadingBackend with 3 concurrent workers.\n",
            "[Parallel(n_jobs=3)]: Done  25 out of  25 | elapsed:    0.5s finished\n",
            "[Parallel(n_jobs=3)]: Using backend LokyBackend with 3 concurrent workers.\n",
            "[Parallel(n_jobs=3)]: Done  25 out of  25 | elapsed:  4.9min finished\n",
            "[Parallel(n_jobs=3)]: Using backend ThreadingBackend with 3 concurrent workers.\n",
            "[Parallel(n_jobs=3)]: Done  25 out of  25 | elapsed:    0.4s finished\n",
            "[Parallel(n_jobs=3)]: Using backend LokyBackend with 3 concurrent workers.\n",
            "[Parallel(n_jobs=3)]: Done  25 out of  25 | elapsed:  4.7min finished\n",
            "[Parallel(n_jobs=3)]: Using backend ThreadingBackend with 3 concurrent workers.\n",
            "[Parallel(n_jobs=3)]: Done  25 out of  25 | elapsed:    0.4s finished\n",
            "[Parallel(n_jobs=3)]: Using backend LokyBackend with 3 concurrent workers.\n",
            "[Parallel(n_jobs=3)]: Done  25 out of  25 | elapsed:  4.8min finished\n",
            "[Parallel(n_jobs=3)]: Using backend ThreadingBackend with 3 concurrent workers.\n",
            "[Parallel(n_jobs=3)]: Done  25 out of  25 | elapsed:    0.4s finished\n",
            "[Parallel(n_jobs=3)]: Using backend LokyBackend with 3 concurrent workers.\n",
            "[Parallel(n_jobs=3)]: Done  25 out of  25 | elapsed:  4.8min finished\n",
            "[Parallel(n_jobs=3)]: Using backend ThreadingBackend with 3 concurrent workers.\n",
            "[Parallel(n_jobs=3)]: Done  25 out of  25 | elapsed:    0.4s finished\n"
          ]
        }
      ],
      "source": [
        "# Importando as bibliotecas\n",
        "from sklearn.ensemble import RandomForestRegressor\n",
        "from sklearn.svm import SVR\n",
        "from sklearn.linear_model import LinearRegression, Ridge\n",
        "from sklearn.pipeline import Pipeline\n",
        "from sklearn.model_selection import cross_val_score\n",
        "from sklearn.model_selection import GridSearchCV\n",
        "\n",
        "#Usando Pipeline para os modelos. \n",
        "\n",
        "rf =  Pipeline([('Word2Vec Vectorizer', MeanEmbeddingVectorizer(w2v)),\n",
        "              ('Random Forest', RandomForestRegressor(n_estimators=25, verbose=True, n_jobs=3))])\n",
        "\n",
        "#ri = Pipeline([('Word2Vec Vectorizer', MeanEmbeddingVectorizer(w2v)),\n",
        "#               ('Ridge', Ridge(alpha=0.9))])\n",
        "                \n",
        "#lr = Pipeline([('Word2Vec Vectorizer', MeanEmbeddingVectorizer(w2v)),\n",
        "#              ('Linear Regression', LinearRegression(n_jobs=3))])\n",
        "\n",
        "models = [('Random Forest', rf),]# ('Ridge', ri),\n",
        "           #('Linear Regression', lr)]\n",
        "\n",
        "scores = [(name, cross_val_score(model, X_treino, y_treino).mean()) for name, model, in models]"
      ]
    },
    {
      "cell_type": "code",
      "execution_count": 77,
      "metadata": {
        "colab": {
          "base_uri": "https://localhost:8080/"
        },
        "id": "60nhZOB5Groq",
        "outputId": "38bdf933-d47f-42c1-d11a-6fb3321ccb4d"
      },
      "outputs": [
        {
          "output_type": "execute_result",
          "data": {
            "text/plain": [
              "[('Random Forest', 0.5618870773040483)]"
            ]
          },
          "metadata": {},
          "execution_count": 77
        }
      ],
      "source": [
        "scores"
      ]
    },
    {
      "cell_type": "code",
      "source": [
        "rf.fit(X_treino,y_treino)"
      ],
      "metadata": {
        "colab": {
          "base_uri": "https://localhost:8080/"
        },
        "id": "D-9gaLn3z2bR",
        "outputId": "a961c5ab-af64-4634-c157-b5a3324915c1"
      },
      "execution_count": 78,
      "outputs": [
        {
          "output_type": "stream",
          "name": "stderr",
          "text": [
            "[Parallel(n_jobs=3)]: Using backend ThreadingBackend with 3 concurrent workers.\n",
            "[Parallel(n_jobs=3)]: Done  25 out of  25 | elapsed:  6.1min finished\n"
          ]
        },
        {
          "output_type": "execute_result",
          "data": {
            "text/plain": [
              "Pipeline(steps=[('Word2Vec Vectorizer',\n",
              "                 <__main__.MeanEmbeddingVectorizer object at 0x7f39911ef190>),\n",
              "                ('Random Forest',\n",
              "                 RandomForestRegressor(n_estimators=25, n_jobs=3,\n",
              "                                       verbose=True))])"
            ]
          },
          "metadata": {},
          "execution_count": 78
        }
      ]
    },
    {
      "cell_type": "code",
      "source": [
        "y_pred = rf.predict(X_teste)"
      ],
      "metadata": {
        "colab": {
          "base_uri": "https://localhost:8080/"
        },
        "id": "sSGmv_rr2vvF",
        "outputId": "31c629b2-10cf-4ddb-e849-b3d01c87c491"
      },
      "execution_count": 82,
      "outputs": [
        {
          "output_type": "stream",
          "name": "stderr",
          "text": [
            "[Parallel(n_jobs=3)]: Using backend ThreadingBackend with 3 concurrent workers.\n",
            "[Parallel(n_jobs=3)]: Done  25 out of  25 | elapsed:    0.7s finished\n"
          ]
        }
      ]
    },
    {
      "cell_type": "code",
      "source": [
        "from sklearn.metrics import mean_absolute_error"
      ],
      "metadata": {
        "id": "o06pufN30MHn"
      },
      "execution_count": 83,
      "outputs": []
    },
    {
      "cell_type": "code",
      "source": [
        "mean_absolute_error(y_teste, y_pred)"
      ],
      "metadata": {
        "colab": {
          "base_uri": "https://localhost:8080/"
        },
        "id": "5-aHBivN0gT8",
        "outputId": "1262aa81-d8a1-40e7-9221-3315ec6a55bc"
      },
      "execution_count": 84,
      "outputs": [
        {
          "output_type": "execute_result",
          "data": {
            "text/plain": [
              "7668.979674668347"
            ]
          },
          "metadata": {},
          "execution_count": 84
        }
      ]
    }
  ],
  "metadata": {
    "colab": {
      "collapsed_sections": [],
      "name": "PredictSalary_RegressionProblemExample_Training_Evaluating_Models",
      "provenance": [],
      "mount_file_id": "1BaElRIV6NOgQ0w4Tm1H9iWzw9ID_AZ58",
      "authorship_tag": "ABX9TyN2HjBR6gYblyCvGXYGy7mp",
      "include_colab_link": true
    },
    "kernelspec": {
      "display_name": "Python 3",
      "name": "python3"
    },
    "language_info": {
      "name": "python"
    }
  },
  "nbformat": 4,
  "nbformat_minor": 0
}