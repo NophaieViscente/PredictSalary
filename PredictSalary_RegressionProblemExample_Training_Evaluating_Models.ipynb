{
 "cells": [
  {
   "cell_type": "markdown",
   "metadata": {
    "id": "hWvRML72iTR2"
   },
   "source": [
    "## Transformação dos dados e Treinamento/Avaliação dos modelos de Aprendizado de Máquina\n",
    "\n",
    "Este notebook contem a parte de treinamento e avaliação dos modelos, bem como transformação de dados caso sejam necessárias."
   ]
  },
  {
   "attachments": {},
   "cell_type": "markdown",
   "metadata": {
    "id": "axqOwwZqjK0v"
   },
   "source": [
    "### Carregamento das bibliotecas necessárias\n",
    "\n",
    "Usando sklearnex para que o processamento em CPU seja otimizado. Caso a biblioteca não esteja instalada será necessária sua instalação através do módulo pip com o seguinte comando : \n",
    "\n",
    "**pip install scikit-learn-intelex**"
   ]
  },
  {
   "cell_type": "code",
   "execution_count": 11,
   "metadata": {
    "colab": {
     "base_uri": "https://localhost:8080/"
    },
    "id": "MKzpy2-_g80b",
    "outputId": "8840c507-dbdc-468f-926f-add24c97258b"
   },
   "outputs": [
    {
     "name": "stderr",
     "output_type": "stream",
     "text": [
      "[nltk_data] Downloading package stopwords to\n",
      "[nltk_data]     C:\\Users\\nophaie.morais\\AppData\\Roaming\\nltk_data...\n",
      "[nltk_data]   Package stopwords is already up-to-date!\n",
      "Intel(R) Extension for Scikit-learn* enabled (https://github.com/intel/scikit-learn-intelex)\n"
     ]
    }
   ],
   "source": [
    "import pandas as pd\n",
    "import numpy as np\n",
    "import matplotlib.pyplot as plt\n",
    "import nltk\n",
    "import string\n",
    "nltk.download('stopwords')\n",
    "from nltk.corpus import stopwords\n",
    "import string\n",
    "from sklearnex import patch_sklearn\n",
    "patch_sklearn()"
   ]
  },
  {
   "cell_type": "markdown",
   "metadata": {
    "id": "pgZ3l0GnjQmB"
   },
   "source": [
    "### Carregamento dos dados para treino\n",
    "\n",
    "O carregamento do dataSet de treino já transformado no processo de ETL, do primeiro notebook.\n",
    "\n",
    "* Como sugestão sugere-se que o arquivo sempre seja alocado na mesma pasta do projeto."
   ]
  },
  {
   "cell_type": "code",
   "execution_count": 2,
   "metadata": {
    "id": "yVKi8QsOjVGa"
   },
   "outputs": [],
   "source": [
    "train = pd.read_csv('Train_rev2.csv')"
   ]
  },
  {
   "cell_type": "markdown",
   "metadata": {
    "id": "Sgq8NU3EnvmR"
   },
   "source": [
    "****Retirando coluna Unnamed: 0****\n",
    "\n",
    "Que veio de forma indesejada no carregamento do dataSet. "
   ]
  },
  {
   "cell_type": "code",
   "execution_count": 3,
   "metadata": {
    "id": "3t1Lu2DEnWHH",
    "scrolled": true
   },
   "outputs": [],
   "source": [
    "train.drop('Unnamed: 0', axis=1, inplace=True)"
   ]
  },
  {
   "cell_type": "markdown",
   "metadata": {
    "id": "6ih3uSDwpNUE"
   },
   "source": [
    "****Visualizando o dataSet****\n",
    "\n",
    "Usando o comando nomeDataFrame.head(), para visualizar as cinco primeiras linhas."
   ]
  },
  {
   "cell_type": "code",
   "execution_count": 4,
   "metadata": {
    "colab": {
     "base_uri": "https://localhost:8080/",
     "height": 548
    },
    "id": "ce1duMqDomcA",
    "outputId": "33ba9115-ec42-479f-bfed-5dc25d1c6f45"
   },
   "outputs": [
    {
     "data": {
      "text/html": [
       "<div>\n",
       "<style scoped>\n",
       "    .dataframe tbody tr th:only-of-type {\n",
       "        vertical-align: middle;\n",
       "    }\n",
       "\n",
       "    .dataframe tbody tr th {\n",
       "        vertical-align: top;\n",
       "    }\n",
       "\n",
       "    .dataframe thead th {\n",
       "        text-align: right;\n",
       "    }\n",
       "</style>\n",
       "<table border=\"1\" class=\"dataframe\">\n",
       "  <thead>\n",
       "    <tr style=\"text-align: right;\">\n",
       "      <th></th>\n",
       "      <th>Id</th>\n",
       "      <th>Title</th>\n",
       "      <th>FullDescription</th>\n",
       "      <th>LocationRaw</th>\n",
       "      <th>LocationNormalized</th>\n",
       "      <th>ContractType</th>\n",
       "      <th>ContractTime</th>\n",
       "      <th>Company</th>\n",
       "      <th>Category</th>\n",
       "      <th>SalaryRaw</th>\n",
       "      <th>SalaryNormalized</th>\n",
       "      <th>SourceName</th>\n",
       "      <th>LowSalaryRange</th>\n",
       "      <th>HighSalaryRange</th>\n",
       "      <th>Rate_by</th>\n",
       "      <th>SalaryBin</th>\n",
       "    </tr>\n",
       "  </thead>\n",
       "  <tbody>\n",
       "    <tr>\n",
       "      <th>0</th>\n",
       "      <td>12612628</td>\n",
       "      <td>Engineering Systems Analyst</td>\n",
       "      <td>Engineering Systems Analyst Dorking Surrey Sal...</td>\n",
       "      <td>Dorking, Surrey, Surrey</td>\n",
       "      <td>Dorking</td>\n",
       "      <td>NaN</td>\n",
       "      <td>permanent</td>\n",
       "      <td>Gregory Martin International</td>\n",
       "      <td>Engineering Jobs</td>\n",
       "      <td>20000 - 30000/annum 20-30K</td>\n",
       "      <td>25000</td>\n",
       "      <td>cv-library.co.uk</td>\n",
       "      <td>20000</td>\n",
       "      <td>30000</td>\n",
       "      <td>Yearly</td>\n",
       "      <td>0</td>\n",
       "    </tr>\n",
       "    <tr>\n",
       "      <th>1</th>\n",
       "      <td>12612830</td>\n",
       "      <td>Stress Engineer Glasgow</td>\n",
       "      <td>Stress Engineer Glasgow Salary **** to **** We...</td>\n",
       "      <td>Glasgow, Scotland, Scotland</td>\n",
       "      <td>Glasgow</td>\n",
       "      <td>NaN</td>\n",
       "      <td>permanent</td>\n",
       "      <td>Gregory Martin International</td>\n",
       "      <td>Engineering Jobs</td>\n",
       "      <td>25000 - 35000/annum 25-35K</td>\n",
       "      <td>30000</td>\n",
       "      <td>cv-library.co.uk</td>\n",
       "      <td>25000</td>\n",
       "      <td>35000</td>\n",
       "      <td>Yearly</td>\n",
       "      <td>1</td>\n",
       "    </tr>\n",
       "    <tr>\n",
       "      <th>2</th>\n",
       "      <td>12612844</td>\n",
       "      <td>Modelling and simulation analyst</td>\n",
       "      <td>Mathematical Modeller / Simulation Analyst / O...</td>\n",
       "      <td>Hampshire, South East, South East</td>\n",
       "      <td>Hampshire</td>\n",
       "      <td>NaN</td>\n",
       "      <td>permanent</td>\n",
       "      <td>Gregory Martin International</td>\n",
       "      <td>Engineering Jobs</td>\n",
       "      <td>20000 - 40000/annum 20-40K</td>\n",
       "      <td>30000</td>\n",
       "      <td>cv-library.co.uk</td>\n",
       "      <td>20000</td>\n",
       "      <td>40000</td>\n",
       "      <td>Yearly</td>\n",
       "      <td>1</td>\n",
       "    </tr>\n",
       "    <tr>\n",
       "      <th>3</th>\n",
       "      <td>12613049</td>\n",
       "      <td>Engineering Systems Analyst / Mathematical Mod...</td>\n",
       "      <td>Engineering Systems Analyst / Mathematical Mod...</td>\n",
       "      <td>Surrey, South East, South East</td>\n",
       "      <td>Surrey</td>\n",
       "      <td>NaN</td>\n",
       "      <td>permanent</td>\n",
       "      <td>Gregory Martin International</td>\n",
       "      <td>Engineering Jobs</td>\n",
       "      <td>25000 - 30000/annum 25K-30K negotiable</td>\n",
       "      <td>27500</td>\n",
       "      <td>cv-library.co.uk</td>\n",
       "      <td>25000</td>\n",
       "      <td>30000</td>\n",
       "      <td>Yearly</td>\n",
       "      <td>1</td>\n",
       "    </tr>\n",
       "    <tr>\n",
       "      <th>4</th>\n",
       "      <td>12613647</td>\n",
       "      <td>Pioneer, Miser Engineering Systems Analyst</td>\n",
       "      <td>Pioneer, Miser  Engineering Systems Analyst Do...</td>\n",
       "      <td>Surrey, South East, South East</td>\n",
       "      <td>Surrey</td>\n",
       "      <td>NaN</td>\n",
       "      <td>permanent</td>\n",
       "      <td>Gregory Martin International</td>\n",
       "      <td>Engineering Jobs</td>\n",
       "      <td>20000 - 30000/annum 20-30K</td>\n",
       "      <td>25000</td>\n",
       "      <td>cv-library.co.uk</td>\n",
       "      <td>20000</td>\n",
       "      <td>30000</td>\n",
       "      <td>Yearly</td>\n",
       "      <td>0</td>\n",
       "    </tr>\n",
       "  </tbody>\n",
       "</table>\n",
       "</div>"
      ],
      "text/plain": [
       "         Id                                              Title  \\\n",
       "0  12612628                        Engineering Systems Analyst   \n",
       "1  12612830                            Stress Engineer Glasgow   \n",
       "2  12612844                   Modelling and simulation analyst   \n",
       "3  12613049  Engineering Systems Analyst / Mathematical Mod...   \n",
       "4  12613647         Pioneer, Miser Engineering Systems Analyst   \n",
       "\n",
       "                                     FullDescription  \\\n",
       "0  Engineering Systems Analyst Dorking Surrey Sal...   \n",
       "1  Stress Engineer Glasgow Salary **** to **** We...   \n",
       "2  Mathematical Modeller / Simulation Analyst / O...   \n",
       "3  Engineering Systems Analyst / Mathematical Mod...   \n",
       "4  Pioneer, Miser  Engineering Systems Analyst Do...   \n",
       "\n",
       "                         LocationRaw LocationNormalized ContractType  \\\n",
       "0            Dorking, Surrey, Surrey            Dorking          NaN   \n",
       "1        Glasgow, Scotland, Scotland            Glasgow          NaN   \n",
       "2  Hampshire, South East, South East          Hampshire          NaN   \n",
       "3     Surrey, South East, South East             Surrey          NaN   \n",
       "4     Surrey, South East, South East             Surrey          NaN   \n",
       "\n",
       "  ContractTime                       Company          Category  \\\n",
       "0    permanent  Gregory Martin International  Engineering Jobs   \n",
       "1    permanent  Gregory Martin International  Engineering Jobs   \n",
       "2    permanent  Gregory Martin International  Engineering Jobs   \n",
       "3    permanent  Gregory Martin International  Engineering Jobs   \n",
       "4    permanent  Gregory Martin International  Engineering Jobs   \n",
       "\n",
       "                                SalaryRaw  SalaryNormalized        SourceName  \\\n",
       "0              20000 - 30000/annum 20-30K             25000  cv-library.co.uk   \n",
       "1              25000 - 35000/annum 25-35K             30000  cv-library.co.uk   \n",
       "2              20000 - 40000/annum 20-40K             30000  cv-library.co.uk   \n",
       "3  25000 - 30000/annum 25K-30K negotiable             27500  cv-library.co.uk   \n",
       "4              20000 - 30000/annum 20-30K             25000  cv-library.co.uk   \n",
       "\n",
       "  LowSalaryRange HighSalaryRange Rate_by  SalaryBin  \n",
       "0          20000           30000  Yearly          0  \n",
       "1          25000           35000  Yearly          1  \n",
       "2          20000           40000  Yearly          1  \n",
       "3          25000           30000  Yearly          1  \n",
       "4          20000           30000  Yearly          0  "
      ]
     },
     "execution_count": 4,
     "metadata": {},
     "output_type": "execute_result"
    }
   ],
   "source": [
    "train.head()"
   ]
  },
  {
   "cell_type": "markdown",
   "metadata": {
    "id": "_MCyaZiwrnwZ"
   },
   "source": [
    "****Aqui carregamos os dados do dataset em uma cópia para caso necessitemos, só executamos novamente a partir desse ponto.****"
   ]
  },
  {
   "cell_type": "code",
   "execution_count": 5,
   "metadata": {
    "id": "bPLXWEYprw6h"
   },
   "outputs": [],
   "source": [
    "df_tmp = train"
   ]
  },
  {
   "cell_type": "markdown",
   "metadata": {
    "id": "HRfF0CrEpjkK"
   },
   "source": [
    "## Iniciando as transformações.\n",
    "\n",
    "* Inicialmente vamos verificar a distribuição dos dados da coluna SalaryNormalized. Pois talvez os dados não estejam em uma distribuição normal . "
   ]
  },
  {
   "cell_type": "code",
   "execution_count": 7,
   "metadata": {
    "colab": {
     "base_uri": "https://localhost:8080/",
     "height": 281
    },
    "id": "oVtJNs36zHqH",
    "outputId": "926c67e4-bb14-435a-822a-a8898b52649a"
   },
   "outputs": [
    {
     "data": {
      "image/png": "[encoded data removed]",
      "text/plain": [
       "<Figure size 432x288 with 1 Axes>"
      ]
     },
     "metadata": {
      "needs_background": "light"
     },
     "output_type": "display_data"
    }
   ],
   "source": [
    "df_tmp.SalaryNormalized.hist()\n",
    "plt.title('Distribuição dos dados')\n",
    "plt.show()"
   ]
  },
  {
   "cell_type": "markdown",
   "metadata": {
    "id": "wdu3BCIkr_eA"
   },
   "source": [
    "****Pode-se observar que os dados tem uma assimetria a direita.****"
   ]
  },
  {
   "cell_type": "markdown",
   "metadata": {
    "id": "Uu1QHrSEwXue"
   },
   "source": [
    "Para corrigir isso vamos executar o comando a seguir, para usar o logaritmo nos dados da coluna 'SalaryNormalized', pois assim melhoraremos a distribuição escalar dos dados, depois disso vamos alocar em uma nova coluna chamada 'SalaryNormal'."
   ]
  },
  {
   "cell_type": "code",
   "execution_count": 6,
   "metadata": {
    "id": "48X9N7eZv_n5"
   },
   "outputs": [],
   "source": [
    "df_tmp['SalaryNormal'] = np.log(df_tmp.SalaryNormalized)"
   ]
  },
  {
   "cell_type": "markdown",
   "metadata": {
    "id": "L-5YEKKKyRny"
   },
   "source": [
    "Após a criação da coluna 'SalaryNormal', partimos para a visualização dos dados para validarmos se houve a normalização. Para isso vamos plotar dois gráficos lado a lado, um com a distribuição sem normalização e ao lado um com a normalização efetuada através de logarítmo. "
   ]
  },
  {
   "cell_type": "code",
   "execution_count": 9,
   "metadata": {
    "colab": {
     "base_uri": "https://localhost:8080/",
     "height": 279
    },
    "id": "9u4XbHoFwWUI",
    "outputId": "692477e8-cc64-4cbb-e3f7-0ac6162fd10e"
   },
   "outputs": [
    {
     "data": {
      "image/png": "[encoded data removed]",
      "text/plain": [
       "<Figure size 432x288 with 2 Axes>"
      ]
     },
     "metadata": {
      "needs_background": "light"
     },
     "output_type": "display_data"
    }
   ],
   "source": [
    "plt.subplot(1,2,1)\n",
    "plt.title('Dist. Coluna SalaryNormalized')\n",
    "df_tmp.SalaryNormalized.hist()\n",
    "\n",
    "plt.subplot(1,2,2)\n",
    "plt.title('Dist. Coluna SalaryNormal')\n",
    "df_tmp.SalaryNormal.hist()\n",
    "plt.tight_layout(2)\n",
    "plt.show()"
   ]
  },
  {
   "cell_type": "markdown",
   "metadata": {
    "id": "kkJwYNOl1qUi"
   },
   "source": [
    "****Pode se observar que melhoramos bastante a distribuição dos dados com a aplicação do logarítmo nos dados.****"
   ]
  },
  {
   "cell_type": "markdown",
   "metadata": {},
   "source": [
    "### Verificando o dataFrame.\n",
    "\n",
    "Verificando a adição da coluna 'SalaryNormal'."
   ]
  },
  {
   "cell_type": "code",
   "execution_count": 48,
   "metadata": {},
   "outputs": [
    {
     "data": {
      "text/html": [
       "<div>\n",
       "<style scoped>\n",
       "    .dataframe tbody tr th:only-of-type {\n",
       "        vertical-align: middle;\n",
       "    }\n",
       "\n",
       "    .dataframe tbody tr th {\n",
       "        vertical-align: top;\n",
       "    }\n",
       "\n",
       "    .dataframe thead th {\n",
       "        text-align: right;\n",
       "    }\n",
       "</style>\n",
       "<table border=\"1\" class=\"dataframe\">\n",
       "  <thead>\n",
       "    <tr style=\"text-align: right;\">\n",
       "      <th></th>\n",
       "      <th>Id</th>\n",
       "      <th>Title</th>\n",
       "      <th>FullDescription</th>\n",
       "      <th>LocationRaw</th>\n",
       "      <th>LocationNormalized</th>\n",
       "      <th>ContractType</th>\n",
       "      <th>ContractTime</th>\n",
       "      <th>Company</th>\n",
       "      <th>Category</th>\n",
       "      <th>SalaryRaw</th>\n",
       "      <th>SalaryNormalized</th>\n",
       "      <th>SourceName</th>\n",
       "      <th>LowSalaryRange</th>\n",
       "      <th>HighSalaryRange</th>\n",
       "      <th>Rate_by</th>\n",
       "      <th>SalaryBin</th>\n",
       "      <th>SalaryNormal</th>\n",
       "    </tr>\n",
       "  </thead>\n",
       "  <tbody>\n",
       "    <tr>\n",
       "      <th>0</th>\n",
       "      <td>12612628</td>\n",
       "      <td>Engineering Systems Analyst</td>\n",
       "      <td>Engineering Systems Analyst Dorking Surrey Sal...</td>\n",
       "      <td>Dorking, Surrey, Surrey</td>\n",
       "      <td>Dorking</td>\n",
       "      <td>NaN</td>\n",
       "      <td>permanent</td>\n",
       "      <td>Gregory Martin International</td>\n",
       "      <td>Engineering Jobs</td>\n",
       "      <td>20000 - 30000/annum 20-30K</td>\n",
       "      <td>25000</td>\n",
       "      <td>cv-library.co.uk</td>\n",
       "      <td>20000</td>\n",
       "      <td>30000</td>\n",
       "      <td>Yearly</td>\n",
       "      <td>0</td>\n",
       "      <td>10.126631</td>\n",
       "    </tr>\n",
       "    <tr>\n",
       "      <th>1</th>\n",
       "      <td>12612830</td>\n",
       "      <td>Stress Engineer Glasgow</td>\n",
       "      <td>Stress Engineer Glasgow Salary **** to **** We...</td>\n",
       "      <td>Glasgow, Scotland, Scotland</td>\n",
       "      <td>Glasgow</td>\n",
       "      <td>NaN</td>\n",
       "      <td>permanent</td>\n",
       "      <td>Gregory Martin International</td>\n",
       "      <td>Engineering Jobs</td>\n",
       "      <td>25000 - 35000/annum 25-35K</td>\n",
       "      <td>30000</td>\n",
       "      <td>cv-library.co.uk</td>\n",
       "      <td>25000</td>\n",
       "      <td>35000</td>\n",
       "      <td>Yearly</td>\n",
       "      <td>1</td>\n",
       "      <td>10.308953</td>\n",
       "    </tr>\n",
       "    <tr>\n",
       "      <th>2</th>\n",
       "      <td>12612844</td>\n",
       "      <td>Modelling and simulation analyst</td>\n",
       "      <td>Mathematical Modeller / Simulation Analyst / O...</td>\n",
       "      <td>Hampshire, South East, South East</td>\n",
       "      <td>Hampshire</td>\n",
       "      <td>NaN</td>\n",
       "      <td>permanent</td>\n",
       "      <td>Gregory Martin International</td>\n",
       "      <td>Engineering Jobs</td>\n",
       "      <td>20000 - 40000/annum 20-40K</td>\n",
       "      <td>30000</td>\n",
       "      <td>cv-library.co.uk</td>\n",
       "      <td>20000</td>\n",
       "      <td>40000</td>\n",
       "      <td>Yearly</td>\n",
       "      <td>1</td>\n",
       "      <td>10.308953</td>\n",
       "    </tr>\n",
       "  </tbody>\n",
       "</table>\n",
       "</div>"
      ],
      "text/plain": [
       "         Id                             Title  \\\n",
       "0  12612628       Engineering Systems Analyst   \n",
       "1  12612830           Stress Engineer Glasgow   \n",
       "2  12612844  Modelling and simulation analyst   \n",
       "\n",
       "                                     FullDescription  \\\n",
       "0  Engineering Systems Analyst Dorking Surrey Sal...   \n",
       "1  Stress Engineer Glasgow Salary **** to **** We...   \n",
       "2  Mathematical Modeller / Simulation Analyst / O...   \n",
       "\n",
       "                         LocationRaw LocationNormalized ContractType  \\\n",
       "0            Dorking, Surrey, Surrey            Dorking          NaN   \n",
       "1        Glasgow, Scotland, Scotland            Glasgow          NaN   \n",
       "2  Hampshire, South East, South East          Hampshire          NaN   \n",
       "\n",
       "  ContractTime                       Company          Category  \\\n",
       "0    permanent  Gregory Martin International  Engineering Jobs   \n",
       "1    permanent  Gregory Martin International  Engineering Jobs   \n",
       "2    permanent  Gregory Martin International  Engineering Jobs   \n",
       "\n",
       "                    SalaryRaw  SalaryNormalized        SourceName  \\\n",
       "0  20000 - 30000/annum 20-30K             25000  cv-library.co.uk   \n",
       "1  25000 - 35000/annum 25-35K             30000  cv-library.co.uk   \n",
       "2  20000 - 40000/annum 20-40K             30000  cv-library.co.uk   \n",
       "\n",
       "  LowSalaryRange HighSalaryRange Rate_by  SalaryBin  SalaryNormal  \n",
       "0          20000           30000  Yearly          0     10.126631  \n",
       "1          25000           35000  Yearly          1     10.308953  \n",
       "2          20000           40000  Yearly          1     10.308953  "
      ]
     },
     "execution_count": 48,
     "metadata": {},
     "output_type": "execute_result"
    }
   ],
   "source": [
    "train.head(3)"
   ]
  },
  {
   "cell_type": "markdown",
   "metadata": {},
   "source": [
    "**Verificando dados do DataFrame**"
   ]
  },
  {
   "cell_type": "code",
   "execution_count": 49,
   "metadata": {},
   "outputs": [
    {
     "name": "stdout",
     "output_type": "stream",
     "text": [
      "<class 'pandas.core.frame.DataFrame'>\n",
      "RangeIndex: 244768 entries, 0 to 244767\n",
      "Data columns (total 17 columns):\n",
      " #   Column              Non-Null Count   Dtype  \n",
      "---  ------              --------------   -----  \n",
      " 0   Id                  244768 non-null  int64  \n",
      " 1   Title               244768 non-null  object \n",
      " 2   FullDescription     244768 non-null  object \n",
      " 3   LocationRaw         244768 non-null  object \n",
      " 4   LocationNormalized  244768 non-null  object \n",
      " 5   ContractType        65442 non-null   object \n",
      " 6   ContractTime        180863 non-null  object \n",
      " 7   Company             212338 non-null  object \n",
      " 8   Category            244768 non-null  object \n",
      " 9   SalaryRaw           244768 non-null  object \n",
      " 10  SalaryNormalized    244768 non-null  int64  \n",
      " 11  SourceName          244767 non-null  object \n",
      " 12  LowSalaryRange      244766 non-null  object \n",
      " 13  HighSalaryRange     194082 non-null  object \n",
      " 14  Rate_by             244768 non-null  object \n",
      " 15  SalaryBin           244768 non-null  int64  \n",
      " 16  SalaryNormal        244768 non-null  float64\n",
      "dtypes: float64(1), int64(3), object(13)\n",
      "memory usage: 31.7+ MB\n"
     ]
    }
   ],
   "source": [
    "train.info()"
   ]
  },
  {
   "cell_type": "markdown",
   "metadata": {},
   "source": [
    "****Observa-se que ainda temos dados faltantes em algumas colunas, iremos completar as posições de dados faltantes da coluna 'Company' com o dado 'missing'.****"
   ]
  },
  {
   "cell_type": "code",
   "execution_count": 10,
   "metadata": {
    "id": "dpRCASoLgDBe"
   },
   "outputs": [],
   "source": [
    "df_tmp['Company'].fillna('missing', inplace=True)"
   ]
  },
  {
   "cell_type": "markdown",
   "metadata": {},
   "source": [
    "****Criando uma nova coluna 'Full_', com a concatenação das colunas 'FullDescription','LocationRaw','Company','Category'.****"
   ]
  },
  {
   "cell_type": "code",
   "execution_count": 11,
   "metadata": {
    "id": "GCv9onk00VNP"
   },
   "outputs": [],
   "source": [
    "df_tmp['Full_'] = df_tmp.Title.str.cat(df_tmp[['FullDescription','LocationRaw','Company','Category']], sep=\" \")"
   ]
  },
  {
   "cell_type": "markdown",
   "metadata": {},
   "source": [
    "****Conferindo a quantidade de linhas da nova coluna****"
   ]
  },
  {
   "cell_type": "code",
   "execution_count": 12,
   "metadata": {
    "colab": {
     "base_uri": "https://localhost:8080/"
    },
    "id": "b4Exdr7v1Byc",
    "outputId": "953cfe64-3a1b-410b-821c-03e52207eeed"
   },
   "outputs": [
    {
     "data": {
      "text/plain": [
       "244768"
      ]
     },
     "execution_count": 12,
     "metadata": {},
     "output_type": "execute_result"
    }
   ],
   "source": [
    "df_tmp.Full_.size"
   ]
  },
  {
   "cell_type": "markdown",
   "metadata": {},
   "source": [
    "### Criando função para o pré-processamento do texto"
   ]
  },
  {
   "cell_type": "code",
   "execution_count": 9,
   "metadata": {
    "id": "C1BONMZN3vGe"
   },
   "outputs": [],
   "source": [
    "def tokenizaTexto(x) :\n",
    "  # Criando uma lista para receber a saida com o texto já 'tokenizado'\n",
    "  saida = []\n",
    "  # Gerando um padrão para a expressão regular ser aplicada\n",
    "  padrao = \"([a-zA-Z]+(?:'[a-z]+)?)\"\n",
    "  # Criando uma lista com as Stop Words, números e pontos\n",
    "  listaStopWords = stopwords.words('english')\n",
    "  listaStopWords += list(string.punctuation)\n",
    "  listaStopWords += ['0','1','2','3','4','5','6','8','9']\n",
    "\n",
    "  # Percorrendo o texto passado.\n",
    "  for txt in x:\n",
    "    # Alocando o texto com a primeira filtragem.\n",
    "    txt_tokens_raw = nltk.regexp_tokenize(txt, padrao)\n",
    "    # Padronizando o texto\n",
    "    txt_tokens_min =[palavra.lower() for palavra in txt_tokens_raw]\n",
    "    # Retirando simbolos e números.\n",
    "    txt_words_stopped = [palavra for palavra in txt_tokens_min if palavra not in listaStopWords]\n",
    "    saida.append(txt_words_stopped)\n",
    "  # Gerando a saída com o texto tokenizado\n",
    "  return pd.Series(saida)"
   ]
  },
  {
   "cell_type": "markdown",
   "metadata": {},
   "source": [
    "### Validando texto pré-processado"
   ]
  },
  {
   "cell_type": "code",
   "execution_count": 13,
   "metadata": {
    "colab": {
     "base_uri": "https://localhost:8080/"
    },
    "id": "bD9QVGCF4Hds",
    "outputId": "4bac8d44-afe5-4613-b393-80f9b2e42504"
   },
   "outputs": [
    {
     "data": {
      "text/plain": [
       "0         [engineering, systems, analyst, dorking, surre...\n",
       "1         [stress, engineer, glasgow, salary, currently,...\n",
       "2         [mathematical, modeller, simulation, analyst, ...\n",
       "3         [engineering, systems, analyst, mathematical, ...\n",
       "4         [pioneer, miser, engineering, systems, analyst...\n",
       "                                ...                        \n",
       "244763    [position, qualified, teacher, subject, specia...\n",
       "244764    [position, qualified, teacher, nqt, subject, s...\n",
       "244765    [position, qualified, teacher, subject, specia...\n",
       "244766    [position, qualified, teacher, subject, specia...\n",
       "244767    [entrepreneurial, growing, private, equity, ba...\n",
       "Length: 244768, dtype: object"
      ]
     },
     "execution_count": 13,
     "metadata": {},
     "output_type": "execute_result"
    }
   ],
   "source": [
    "data = tokenizaTexto(df_tmp.FullDescription)\n",
    "data"
   ]
  },
  {
   "cell_type": "markdown",
   "metadata": {
    "id": "pN44hgdyBkxm"
   },
   "source": [
    "### Separando dados para treino e variável alvo"
   ]
  },
  {
   "cell_type": "markdown",
   "metadata": {
    "id": "Ah6UsD1qErDb"
   },
   "source": [
    "****Carregando as bibliotecas necessárias para a separação dos dados.****"
   ]
  },
  {
   "cell_type": "code",
   "execution_count": 14,
   "metadata": {
    "id": "7lGaLZeoEuft"
   },
   "outputs": [],
   "source": [
    "from sklearn.model_selection import train_test_split"
   ]
  },
  {
   "cell_type": "markdown",
   "metadata": {
    "id": "6IBIEg2EEW6h"
   },
   "source": [
    "**Alocando a variável alvo a uma variável separada.**"
   ]
  },
  {
   "cell_type": "code",
   "execution_count": 15,
   "metadata": {
    "id": "AVYSAB0bBHJo"
   },
   "outputs": [],
   "source": [
    "target = df_tmp['SalaryNormal'] "
   ]
  },
  {
   "cell_type": "markdown",
   "metadata": {
    "id": "3c2gFutgEee4"
   },
   "source": [
    "**Usando Train_test_split para separação entre dataset de treino e teste, usando os dados do corpus já limpos, também a variável target, com tamanho do dataset de teste com 20% do tamanho total de dados.**"
   ]
  },
  {
   "cell_type": "code",
   "execution_count": 16,
   "metadata": {
    "id": "nFOZB-LQElyI"
   },
   "outputs": [],
   "source": [
    "X_treino, X_teste, y_treino, y_teste = train_test_split(data, target, test_size=0.2, random_state=42)"
   ]
  },
  {
   "cell_type": "markdown",
   "metadata": {
    "id": "0HuOBPV2Folx"
   },
   "source": [
    "### Preparação e Treinamento dos modelos"
   ]
  },
  {
   "cell_type": "markdown",
   "metadata": {},
   "source": [
    "A Biblioteca gensim, é dependente das bilbiotecas numpy e scipy. Caso elas não estejam instaladas a lib gensim não funcionará. As instalações podem ser feitas via terminal com o comando. \n",
    "\n",
    "* pip install numpy\n",
    "* pip install scipy\n",
    "* pip install gensim"
   ]
  },
  {
   "cell_type": "code",
   "execution_count": 17,
   "metadata": {
    "id": "PKh_Gnq2VvkS"
   },
   "outputs": [],
   "source": [
    "# Executando a importação da biblioteca e um de seus modelos o Word2Vec\n",
    "from gensim.models import Word2Vec"
   ]
  },
  {
   "cell_type": "markdown",
   "metadata": {},
   "source": [
    "### Criando um modelo de Word2Vec\n",
    "\n",
    "Utilizando os dados do corpus já pré-processados, também usando os parâmetros 'window','min_count'e'workers', o que faz com que a distância máxima entre a palavra prevista e a palavra atual seja de no máximo dez, também com que a contagem mínima de ocorrências de uma palavra a ser ignorada seja dez e que tenham se quatro threads de trabalho simultâneos o que fará com que o algoritmo seja executado de forma mais rápida, respectivamente . "
   ]
  },
  {
   "cell_type": "code",
   "execution_count": 18,
   "metadata": {
    "id": "mgC0XqIeFECz"
   },
   "outputs": [],
   "source": [
    "w2v_model1 = Word2Vec(data,\n",
    "                window=10,\n",
    "                # frequência mínima de contagem da palavra no corpus.\n",
    "                min_count=10,\n",
    "                workers=4)"
   ]
  },
  {
   "cell_type": "markdown",
   "metadata": {},
   "source": [
    "### Treinando o Word2Vec\n",
    "\n",
    "Treinando o modelo Word2Vec para usar os dados das palavras vetorizados na entrada do modelo preditivo.\n"
   ]
  },
  {
   "cell_type": "code",
   "execution_count": 19,
   "metadata": {
    "id": "gPTa37WTXPdW"
   },
   "outputs": [
    {
     "data": {
      "text/plain": [
       "(175309153, 186936560)"
      ]
     },
     "execution_count": 19,
     "metadata": {},
     "output_type": "execute_result"
    }
   ],
   "source": [
    "w2v_model1.train(data,total_examples=w2v_model1.corpus_count, epochs=5)"
   ]
  },
  {
   "cell_type": "markdown",
   "metadata": {},
   "source": [
    "**Transformando os dados em um dicionário para poder usar no pipeline.**"
   ]
  },
  {
   "cell_type": "code",
   "execution_count": 21,
   "metadata": {
    "id": "aEJeUxxJgkHa"
   },
   "outputs": [],
   "source": [
    "w2v = dict(zip(w2v_model1.wv.index_to_key, w2v_model1.wv.vectors))"
   ]
  },
  {
   "cell_type": "markdown",
   "metadata": {},
   "source": [
    "### Criando uma classe para a incorporação do texto nos vetores "
   ]
  },
  {
   "cell_type": "code",
   "execution_count": 22,
   "metadata": {
    "id": "Pu6w5HMdgv6l"
   },
   "outputs": [],
   "source": [
    "class MeanEmbeddingVectorizer(object):\n",
    "    def __init__(self, word2vec):\n",
    "        self.word2vec = word2vec\n",
    "        self.dim = len(word2vec.values())\n",
    "\n",
    "    def fit(self, X, y):\n",
    "        return self\n",
    "\n",
    "    def transform(self, X):\n",
    "        return np.array([\n",
    "            np.mean([self.word2vec[w] for w in words if w in self.word2vec]\n",
    "                    or [np.zeros(self.dim)], axis=0)\n",
    "            for words in X\n",
    "        ])"
   ]
  },
  {
   "cell_type": "markdown",
   "metadata": {
    "id": "tBL3rHaRxt6W"
   },
   "source": [
    "# Treinando os modelos para o baseline"
   ]
  },
  {
   "cell_type": "markdown",
   "metadata": {},
   "source": [
    "### Importando as bibliotecas\n",
    "\n",
    "Importando as libs que serão usadas, nesta etapa pode-se ter um problema com tempo de treinamento. Pois o vetor de palavras criado pelo modelo Word2Vec tem um tamanho considerável. Neste caso estamos usando para o corpus apenas a coluna 'FullDescription', pois houveram problemas no treinamento do corpus com a concatenação das colunas 'Title','FullDescription','Company' e 'Category', onde o vetor de palavras ficou ainda maior e aumentou muito o custo computacional, o que também há de ser levado em conta em um projeto."
   ]
  },
  {
   "cell_type": "code",
   "execution_count": 40,
   "metadata": {
    "id": "vGM-4SBOhAEv"
   },
   "outputs": [],
   "source": [
    "from xgboost import XGBRegressor\n",
    "from sklearn.ensemble import RandomForestRegressor\n",
    "from sklearn.svm import SVR\n",
    "from sklearn.linear_model import LinearRegression, Ridge, SGDRegressor\n",
    "from sklearn.pipeline import Pipeline\n",
    "from sklearn.model_selection import cross_val_score\n",
    "from sklearn.metrics import mean_absolute_error\n",
    "from sklearn.model_selection import GridSearchCV\n",
    "SEED = 42\n",
    "\n",
    "#Usando Pipeline para os modelos. \n",
    "\n",
    "xgb =  Pipeline([('Word2Vec Vectorizer', MeanEmbeddingVectorizer(w2v)),\n",
    "              ('Gradient Boosting', XGBRegressor(n_estimators=6000,learning_rate=0.01, max_depth=9))])\n",
    "\n",
    "                \n",
    "lr = Pipeline([('Word2Vec Vectorizer', MeanEmbeddingVectorizer(w2v)),\n",
    "              ('Linear Regression', LinearRegression(n_jobs=3))])\n",
    "\n",
    "models = [('Gradient Boosting', xgb),\n",
    "          ('Linear Regression', lr)]\n",
    "\n",
    "# Criando uma variável com o score dos modelos depois de aplicada a Validação Cruzada com três folds.\n",
    "scores = [(name, cross_val_score(model, X_treino, y_treino,cv=3).mean()) for name, model, in models]"
   ]
  },
  {
   "cell_type": "markdown",
   "metadata": {},
   "source": [
    "**Verificando o score dos modelos.**"
   ]
  },
  {
   "cell_type": "code",
   "execution_count": 41,
   "metadata": {
    "id": "60nhZOB5Groq"
   },
   "outputs": [
    {
     "data": {
      "text/plain": [
       "[('Gradient Boosting', 0.6961096568275318),\n",
       " ('Linear Regression', 0.5359049317748663)]"
      ]
     },
     "execution_count": 41,
     "metadata": {},
     "output_type": "execute_result"
    }
   ],
   "source": [
    "scores"
   ]
  },
  {
   "cell_type": "markdown",
   "metadata": {},
   "source": [
    "**Ajustando o modelo aos dados de treino para efetuar as predições.**"
   ]
  },
  {
   "cell_type": "code",
   "execution_count": 42,
   "metadata": {
    "id": "HNDW1K-b4jme"
   },
   "outputs": [
    {
     "data": {
      "text/plain": [
       "Pipeline(steps=[('Word2Vec Vectorizer',\n",
       "                 <__main__.MeanEmbeddingVectorizer object at 0x0000027CD7E97FD0>),\n",
       "                ('Gradient Boosting',\n",
       "                 XGBRegressor(base_score=0.5, booster='gbtree',\n",
       "                              colsample_bylevel=1, colsample_bynode=1,\n",
       "                              colsample_bytree=1, enable_categorical=False,\n",
       "                              gamma=0, gpu_id=-1, importance_type=None,\n",
       "                              interaction_constraints='', learning_rate=0.01,\n",
       "                              max_delta_step=0, max_depth=9, min_child_weight=1,\n",
       "                              missing=nan, monotone_constraints='()',\n",
       "                              n_estimators=6000, n_jobs=8, num_parallel_tree=1,\n",
       "                              predictor='auto', random_state=0, reg_alpha=0,\n",
       "                              reg_lambda=1, scale_pos_weight=1, subsample=1,\n",
       "                              tree_method='exact', validate_parameters=1,\n",
       "                              verbosity=None))])"
      ]
     },
     "execution_count": 42,
     "metadata": {},
     "output_type": "execute_result"
    }
   ],
   "source": [
    "xgb.fit(X_treino,y_treino)"
   ]
  },
  {
   "cell_type": "markdown",
   "metadata": {},
   "source": [
    "### Efetuando as predições e avaliações\n"
   ]
  },
  {
   "cell_type": "markdown",
   "metadata": {},
   "source": [
    "* Efetuando as predições"
   ]
  },
  {
   "cell_type": "code",
   "execution_count": 43,
   "metadata": {
    "id": "sSGmv_rr2vvF"
   },
   "outputs": [],
   "source": [
    "y_pred = xgb.predict(X_teste)"
   ]
  },
  {
   "cell_type": "markdown",
   "metadata": {},
   "source": [
    "**Verificando novamente o score entre as variáveis de teste.**"
   ]
  },
  {
   "cell_type": "code",
   "execution_count": 44,
   "metadata": {},
   "outputs": [
    {
     "data": {
      "text/plain": [
       "0.7182421707014691"
      ]
     },
     "execution_count": 44,
     "metadata": {},
     "output_type": "execute_result"
    }
   ],
   "source": [
    "xgb.score(X_teste,y_teste)"
   ]
  },
  {
   "cell_type": "markdown",
   "metadata": {},
   "source": [
    "Verificando o Erro médio absoluto, porém como a coluna alvo fora normalizada através do logaritmo, ainda será necessário retirar o log. Para que tenhamos os números reais ."
   ]
  },
  {
   "cell_type": "code",
   "execution_count": 45,
   "metadata": {},
   "outputs": [
    {
     "data": {
      "text/plain": [
       "0.187168248392578"
      ]
     },
     "execution_count": 45,
     "metadata": {},
     "output_type": "execute_result"
    }
   ],
   "source": [
    "mean_absolute_error(y_pred,y_teste)"
   ]
  },
  {
   "cell_type": "markdown",
   "metadata": {},
   "source": [
    "**Retirando o logaritmo das predições e dos dados de teste para verificar o Erro médio absoluto.**"
   ]
  },
  {
   "cell_type": "code",
   "execution_count": 46,
   "metadata": {},
   "outputs": [],
   "source": [
    "t_pred = np.exp(y_pred)\n",
    "t_teste = np.exp(y_teste)"
   ]
  },
  {
   "cell_type": "markdown",
   "metadata": {},
   "source": [
    "### Verificando o Erro Médio Absoluto "
   ]
  },
  {
   "cell_type": "code",
   "execution_count": 47,
   "metadata": {},
   "outputs": [
    {
     "data": {
      "text/plain": [
       "6543.925464247207"
      ]
     },
     "execution_count": 47,
     "metadata": {},
     "output_type": "execute_result"
    }
   ],
   "source": [
    "mean_absolute_error(t_pred,t_teste)"
   ]
  },
  {
   "cell_type": "markdown",
   "metadata": {},
   "source": [
    "### Salvando os modelos de Word2Vec e XGBoost em disco para poder usá-los para a predição futuramente.\n",
    "\n",
    "* Importando as bibliotecas necessárias."
   ]
  },
  {
   "cell_type": "code",
   "execution_count": 51,
   "metadata": {},
   "outputs": [],
   "source": [
    "import pickle\n",
    "from joblib import dump, load"
   ]
  },
  {
   "cell_type": "markdown",
   "metadata": {},
   "source": [
    "**Exportando e carregando o modelo já com o pipeline de transformação de dados. Porém ele ainda precisará da chamada da função tokenizaTexto para a tokenização e limpeza do texto da coluna 'FullDescription' para as predições. Portanto vamos exportar também a função para ser usada posteriormente.**\n",
    "\n",
    "* Exportando o modelo e o pipeline de transformação e predição."
   ]
  },
  {
   "cell_type": "code",
   "execution_count": 85,
   "metadata": {},
   "outputs": [],
   "source": [
    "dump(xgb, 'w2v_XGBoost_PredictSalary.joblib')\n",
    "xgbReg = load('w2v_XGBoost_PredictSalary.joblib')"
   ]
  },
  {
   "cell_type": "markdown",
   "metadata": {},
   "source": [
    "* Exportando e carregando a função para a tokenização e limpeza do corpus para alimentação do algoritmo de predição.\n",
    "* Essa exportação é útil para a utilização do modelo em uma página web ou por um service criado. "
   ]
  },
  {
   "cell_type": "code",
   "execution_count": 86,
   "metadata": {},
   "outputs": [],
   "source": [
    "dump(tokenizaTexto, 'tokenizaTexto.joblib')\n",
    "functionToken = load('tokenizaTexto.joblib')"
   ]
  },
  {
   "cell_type": "markdown",
   "metadata": {},
   "source": [
    "### Carregando dataSet de validação para efetuar teste de predição."
   ]
  },
  {
   "cell_type": "code",
   "execution_count": 57,
   "metadata": {},
   "outputs": [],
   "source": [
    "validacao = pd.read_csv('Valid_rev1.csv')"
   ]
  },
  {
   "cell_type": "markdown",
   "metadata": {},
   "source": [
    "**Criando variável para receber a coluna 'FullDescription' do dataframe de validação e tokenizar o texto, para alimentar o modelo preditivo.** "
   ]
  },
  {
   "cell_type": "code",
   "execution_count": 77,
   "metadata": {},
   "outputs": [],
   "source": [
    "x_valid = token(validacao.FullDescription)"
   ]
  },
  {
   "cell_type": "markdown",
   "metadata": {},
   "source": [
    "**Efetuando as predições.**"
   ]
  },
  {
   "cell_type": "code",
   "execution_count": 67,
   "metadata": {},
   "outputs": [],
   "source": [
    "prediction_valid = xgbReg.predict(x_valid)"
   ]
  },
  {
   "cell_type": "markdown",
   "metadata": {},
   "source": [
    "**Transformando os dados e alocando na coluna 'Salary' no dataframe.** "
   ]
  },
  {
   "cell_type": "code",
   "execution_count": 72,
   "metadata": {},
   "outputs": [],
   "source": [
    "validacao['Salary'] = np.exp(prediction_valid)"
   ]
  },
  {
   "cell_type": "markdown",
   "metadata": {},
   "source": [
    "**Conferindo o dataSet.**"
   ]
  },
  {
   "cell_type": "code",
   "execution_count": 78,
   "metadata": {},
   "outputs": [
    {
     "data": {
      "text/html": [
       "<div>\n",
       "<style scoped>\n",
       "    .dataframe tbody tr th:only-of-type {\n",
       "        vertical-align: middle;\n",
       "    }\n",
       "\n",
       "    .dataframe tbody tr th {\n",
       "        vertical-align: top;\n",
       "    }\n",
       "\n",
       "    .dataframe thead th {\n",
       "        text-align: right;\n",
       "    }\n",
       "</style>\n",
       "<table border=\"1\" class=\"dataframe\">\n",
       "  <thead>\n",
       "    <tr style=\"text-align: right;\">\n",
       "      <th></th>\n",
       "      <th>Id</th>\n",
       "      <th>Title</th>\n",
       "      <th>FullDescription</th>\n",
       "      <th>LocationRaw</th>\n",
       "      <th>LocationNormalized</th>\n",
       "      <th>ContractType</th>\n",
       "      <th>ContractTime</th>\n",
       "      <th>Company</th>\n",
       "      <th>Category</th>\n",
       "      <th>SourceName</th>\n",
       "      <th>Salary</th>\n",
       "    </tr>\n",
       "  </thead>\n",
       "  <tbody>\n",
       "    <tr>\n",
       "      <th>0</th>\n",
       "      <td>13656201</td>\n",
       "      <td>Lead Technical Architect, C  Banking</td>\n",
       "      <td>Lead Technical Architect required for a Tier *...</td>\n",
       "      <td>London</td>\n",
       "      <td>London</td>\n",
       "      <td>NaN</td>\n",
       "      <td>permanent</td>\n",
       "      <td>Scope AT Limited</td>\n",
       "      <td>IT Jobs</td>\n",
       "      <td>jobserve.com</td>\n",
       "      <td>72492.570312</td>\n",
       "    </tr>\n",
       "    <tr>\n",
       "      <th>1</th>\n",
       "      <td>14663195</td>\n",
       "      <td>RECRUITMENT CONSULTANT  INDUSTRIAL / COMMERCIA...</td>\n",
       "      <td>THIS IS A LIVE VACANCY NOT A GENERIC ADVERTISE...</td>\n",
       "      <td>LEEDS, West Yorkshire</td>\n",
       "      <td>Leeds</td>\n",
       "      <td>NaN</td>\n",
       "      <td>permanent</td>\n",
       "      <td>Code Blue Recruitment</td>\n",
       "      <td>HR &amp; Recruitment Jobs</td>\n",
       "      <td>cv-library.co.uk</td>\n",
       "      <td>23981.939453</td>\n",
       "    </tr>\n",
       "    <tr>\n",
       "      <th>2</th>\n",
       "      <td>16530664</td>\n",
       "      <td>Mechanical / Chemical / Process Engineer  Cool...</td>\n",
       "      <td>Mechanical / Chemical / Process Engineer  Cool...</td>\n",
       "      <td>Hampshire, South East</td>\n",
       "      <td>Hampshire</td>\n",
       "      <td>NaN</td>\n",
       "      <td>permanent</td>\n",
       "      <td>Gregory Martin International</td>\n",
       "      <td>Engineering Jobs</td>\n",
       "      <td>cv-library.co.uk</td>\n",
       "      <td>40131.023438</td>\n",
       "    </tr>\n",
       "    <tr>\n",
       "      <th>3</th>\n",
       "      <td>19047458</td>\n",
       "      <td>Trainee Mortgage Advisor  West Midlands</td>\n",
       "      <td>Are you a successful, results driven person? A...</td>\n",
       "      <td>West Midlands</td>\n",
       "      <td>West Midlands</td>\n",
       "      <td>NaN</td>\n",
       "      <td>permanent</td>\n",
       "      <td>Brite Recruitment</td>\n",
       "      <td>Accounting &amp; Finance Jobs</td>\n",
       "      <td>cv-library.co.uk</td>\n",
       "      <td>21312.431641</td>\n",
       "    </tr>\n",
       "    <tr>\n",
       "      <th>4</th>\n",
       "      <td>20881907</td>\n",
       "      <td>Mortgage Services Consultant  East Midlands</td>\n",
       "      <td>Are you a successful, results driven person? D...</td>\n",
       "      <td>East Midlands</td>\n",
       "      <td>East Midlands</td>\n",
       "      <td>NaN</td>\n",
       "      <td>permanent</td>\n",
       "      <td>Brite Recruitment</td>\n",
       "      <td>Accounting &amp; Finance Jobs</td>\n",
       "      <td>cv-library.co.uk</td>\n",
       "      <td>24606.042969</td>\n",
       "    </tr>\n",
       "  </tbody>\n",
       "</table>\n",
       "</div>"
      ],
      "text/plain": [
       "         Id                                              Title  \\\n",
       "0  13656201               Lead Technical Architect, C  Banking   \n",
       "1  14663195  RECRUITMENT CONSULTANT  INDUSTRIAL / COMMERCIA...   \n",
       "2  16530664  Mechanical / Chemical / Process Engineer  Cool...   \n",
       "3  19047458            Trainee Mortgage Advisor  West Midlands   \n",
       "4  20881907        Mortgage Services Consultant  East Midlands   \n",
       "\n",
       "                                     FullDescription            LocationRaw  \\\n",
       "0  Lead Technical Architect required for a Tier *...                 London   \n",
       "1  THIS IS A LIVE VACANCY NOT A GENERIC ADVERTISE...  LEEDS, West Yorkshire   \n",
       "2  Mechanical / Chemical / Process Engineer  Cool...  Hampshire, South East   \n",
       "3  Are you a successful, results driven person? A...          West Midlands   \n",
       "4  Are you a successful, results driven person? D...          East Midlands   \n",
       "\n",
       "  LocationNormalized ContractType ContractTime                       Company  \\\n",
       "0             London          NaN    permanent              Scope AT Limited   \n",
       "1              Leeds          NaN    permanent         Code Blue Recruitment   \n",
       "2          Hampshire          NaN    permanent  Gregory Martin International   \n",
       "3      West Midlands          NaN    permanent             Brite Recruitment   \n",
       "4      East Midlands          NaN    permanent             Brite Recruitment   \n",
       "\n",
       "                    Category        SourceName        Salary  \n",
       "0                    IT Jobs      jobserve.com  72492.570312  \n",
       "1      HR & Recruitment Jobs  cv-library.co.uk  23981.939453  \n",
       "2           Engineering Jobs  cv-library.co.uk  40131.023438  \n",
       "3  Accounting & Finance Jobs  cv-library.co.uk  21312.431641  \n",
       "4  Accounting & Finance Jobs  cv-library.co.uk  24606.042969  "
      ]
     },
     "execution_count": 78,
     "metadata": {},
     "output_type": "execute_result"
    }
   ],
   "source": [
    "validacao.head()"
   ]
  },
  {
   "cell_type": "markdown",
   "metadata": {},
   "source": [
    "### Carregando dados do dataset de teste."
   ]
  },
  {
   "cell_type": "code",
   "execution_count": 79,
   "metadata": {},
   "outputs": [],
   "source": [
    "test_df = pd.read_csv('Test_rev1.csv')\n",
    "exit_df = pd.read_csv('test.csv')"
   ]
  },
  {
   "cell_type": "markdown",
   "metadata": {},
   "source": [
    "**Conferindo os dataSets.**\n",
    "\n",
    "Validando se os dados estão corretamente distribuídos entre os datasets . "
   ]
  },
  {
   "cell_type": "code",
   "execution_count": 84,
   "metadata": {},
   "outputs": [
    {
     "data": {
      "text/plain": [
       "(0    11888454\n",
       " 1    11988350\n",
       " 2    12612558\n",
       " 3    12613014\n",
       " 4    22454872\n",
       " 5    22579453\n",
       " 6    25436391\n",
       " 7    25436399\n",
       " 8    25452547\n",
       " 9    26178632\n",
       " Name: Id, dtype: int64,\n",
       "          Id\n",
       " 0  11888454\n",
       " 1  11988350\n",
       " 2  12612558\n",
       " 3  12613014\n",
       " 4  22454872\n",
       " 5  22579453\n",
       " 6  25436391\n",
       " 7  25436399\n",
       " 8  25452547\n",
       " 9  26178632)"
      ]
     },
     "execution_count": 84,
     "metadata": {},
     "output_type": "execute_result"
    }
   ],
   "source": [
    "test_df.Id[:10],exit_df[:10]"
   ]
  },
  {
   "cell_type": "markdown",
   "metadata": {},
   "source": [
    "**Alocando o texto a ser usado na predição em uma variável 'x'.**"
   ]
  },
  {
   "cell_type": "code",
   "execution_count": 87,
   "metadata": {},
   "outputs": [],
   "source": [
    "x = functionToken(test_df.FullDescription)"
   ]
  },
  {
   "cell_type": "markdown",
   "metadata": {},
   "source": [
    "**Efetuando as predições para a submissão.**"
   ]
  },
  {
   "cell_type": "code",
   "execution_count": 88,
   "metadata": {},
   "outputs": [],
   "source": [
    "pred = xgbReg.predict(x)"
   ]
  },
  {
   "cell_type": "markdown",
   "metadata": {},
   "source": [
    "**Retornando as predições a escala sem a aplicação do logaritmo e alocando no dataSet de testes.**"
   ]
  },
  {
   "cell_type": "code",
   "execution_count": 90,
   "metadata": {},
   "outputs": [],
   "source": [
    "test_df['Salary_pred'] = np.exp(pred)"
   ]
  },
  {
   "cell_type": "markdown",
   "metadata": {},
   "source": [
    "**Validando as predições adicionadas ao dataSet de teste.**"
   ]
  },
  {
   "cell_type": "code",
   "execution_count": 91,
   "metadata": {},
   "outputs": [
    {
     "data": {
      "text/html": [
       "<div>\n",
       "<style scoped>\n",
       "    .dataframe tbody tr th:only-of-type {\n",
       "        vertical-align: middle;\n",
       "    }\n",
       "\n",
       "    .dataframe tbody tr th {\n",
       "        vertical-align: top;\n",
       "    }\n",
       "\n",
       "    .dataframe thead th {\n",
       "        text-align: right;\n",
       "    }\n",
       "</style>\n",
       "<table border=\"1\" class=\"dataframe\">\n",
       "  <thead>\n",
       "    <tr style=\"text-align: right;\">\n",
       "      <th></th>\n",
       "      <th>Id</th>\n",
       "      <th>Title</th>\n",
       "      <th>FullDescription</th>\n",
       "      <th>LocationRaw</th>\n",
       "      <th>LocationNormalized</th>\n",
       "      <th>ContractType</th>\n",
       "      <th>ContractTime</th>\n",
       "      <th>Company</th>\n",
       "      <th>Category</th>\n",
       "      <th>SourceName</th>\n",
       "      <th>Salary_pred</th>\n",
       "    </tr>\n",
       "  </thead>\n",
       "  <tbody>\n",
       "    <tr>\n",
       "      <th>0</th>\n",
       "      <td>11888454</td>\n",
       "      <td>Business Development Manager</td>\n",
       "      <td>The Company: Our client is a national training...</td>\n",
       "      <td>Tyne Wear, North East</td>\n",
       "      <td>Newcastle Upon Tyne</td>\n",
       "      <td>NaN</td>\n",
       "      <td>permanent</td>\n",
       "      <td>Asset Appointments</td>\n",
       "      <td>Teaching Jobs</td>\n",
       "      <td>cv-library.co.uk</td>\n",
       "      <td>19934.564453</td>\n",
       "    </tr>\n",
       "    <tr>\n",
       "      <th>1</th>\n",
       "      <td>11988350</td>\n",
       "      <td>Internal Account Manager</td>\n",
       "      <td>The Company: Founded in **** our client is a U...</td>\n",
       "      <td>Tyne and Wear, North East</td>\n",
       "      <td>Newcastle Upon Tyne</td>\n",
       "      <td>NaN</td>\n",
       "      <td>permanent</td>\n",
       "      <td>Asset Appointments</td>\n",
       "      <td>Consultancy Jobs</td>\n",
       "      <td>cv-library.co.uk</td>\n",
       "      <td>32655.896484</td>\n",
       "    </tr>\n",
       "    <tr>\n",
       "      <th>2</th>\n",
       "      <td>12612558</td>\n",
       "      <td>Engineering Systems Analysts</td>\n",
       "      <td>Engineering Systems Analysts Surrey ****K Loca...</td>\n",
       "      <td>Surrey, South East, South East</td>\n",
       "      <td>Surrey</td>\n",
       "      <td>NaN</td>\n",
       "      <td>permanent</td>\n",
       "      <td>Gregory Martin International</td>\n",
       "      <td>Engineering Jobs</td>\n",
       "      <td>cv-library.co.uk</td>\n",
       "      <td>38969.765625</td>\n",
       "    </tr>\n",
       "    <tr>\n",
       "      <th>3</th>\n",
       "      <td>12613014</td>\n",
       "      <td>CIS Systems Engineering Consultant</td>\n",
       "      <td>CIS Systems Engineering Consultant Bristol  So...</td>\n",
       "      <td>Bristol, South West, South West</td>\n",
       "      <td>Bristol</td>\n",
       "      <td>NaN</td>\n",
       "      <td>permanent</td>\n",
       "      <td>Gregory Martin International</td>\n",
       "      <td>Engineering Jobs</td>\n",
       "      <td>cv-library.co.uk</td>\n",
       "      <td>47577.527344</td>\n",
       "    </tr>\n",
       "    <tr>\n",
       "      <th>4</th>\n",
       "      <td>22454872</td>\n",
       "      <td>CNC Miller / Programmer Fanac</td>\n",
       "      <td>CNC Miller / Programmer Fanac Fleet, Hampshire...</td>\n",
       "      <td>Fleet, Hampshire</td>\n",
       "      <td>Fleet</td>\n",
       "      <td>NaN</td>\n",
       "      <td>permanent</td>\n",
       "      <td>Gregory Martin International</td>\n",
       "      <td>Manufacturing Jobs</td>\n",
       "      <td>cv-library.co.uk</td>\n",
       "      <td>24948.523438</td>\n",
       "    </tr>\n",
       "    <tr>\n",
       "      <th>5</th>\n",
       "      <td>22579453</td>\n",
       "      <td>Sales Manager</td>\n",
       "      <td>My client is a leading supplier of precision m...</td>\n",
       "      <td>Tyne Wear, North</td>\n",
       "      <td>Newcastle Upon Tyne</td>\n",
       "      <td>NaN</td>\n",
       "      <td>permanent</td>\n",
       "      <td>Asset Appointments</td>\n",
       "      <td>Engineering Jobs</td>\n",
       "      <td>cv-library.co.uk</td>\n",
       "      <td>35195.203125</td>\n",
       "    </tr>\n",
       "    <tr>\n",
       "      <th>6</th>\n",
       "      <td>25436391</td>\n",
       "      <td>Junior Process Engineer</td>\n",
       "      <td>Junior Process Engineer We are seeking applica...</td>\n",
       "      <td>Berkshire, South East</td>\n",
       "      <td>Berkshire</td>\n",
       "      <td>NaN</td>\n",
       "      <td>permanent</td>\n",
       "      <td>Gregory Martin International</td>\n",
       "      <td>Engineering Jobs</td>\n",
       "      <td>cv-library.co.uk</td>\n",
       "      <td>41983.980469</td>\n",
       "    </tr>\n",
       "    <tr>\n",
       "      <th>7</th>\n",
       "      <td>25436399</td>\n",
       "      <td>Mechanical Engineer  Water</td>\n",
       "      <td>Mechanical Engineer  Water We are currently lo...</td>\n",
       "      <td>Surrey, South East</td>\n",
       "      <td>Surrey</td>\n",
       "      <td>NaN</td>\n",
       "      <td>permanent</td>\n",
       "      <td>Gregory Martin International</td>\n",
       "      <td>Engineering Jobs</td>\n",
       "      <td>cv-library.co.uk</td>\n",
       "      <td>37353.933594</td>\n",
       "    </tr>\n",
       "    <tr>\n",
       "      <th>8</th>\n",
       "      <td>25452547</td>\n",
       "      <td>Chef De Partie needed  **** rosette restaurant...</td>\n",
       "      <td>Chef De Partie needed  **** rosette restaurant...</td>\n",
       "      <td>North East</td>\n",
       "      <td>North East England</td>\n",
       "      <td>NaN</td>\n",
       "      <td>NaN</td>\n",
       "      <td>Clear Selection</td>\n",
       "      <td>Hospitality &amp; Catering Jobs</td>\n",
       "      <td>caterer.com</td>\n",
       "      <td>19326.419922</td>\n",
       "    </tr>\n",
       "    <tr>\n",
       "      <th>9</th>\n",
       "      <td>26178632</td>\n",
       "      <td>Assistant Accountant</td>\n",
       "      <td>Assistant Accountant Up to **** Bath A leading...</td>\n",
       "      <td>Bath</td>\n",
       "      <td>Bath</td>\n",
       "      <td>NaN</td>\n",
       "      <td>permanent</td>\n",
       "      <td>NaN</td>\n",
       "      <td>Accounting &amp; Finance Jobs</td>\n",
       "      <td>hays.co.uk</td>\n",
       "      <td>18477.769531</td>\n",
       "    </tr>\n",
       "  </tbody>\n",
       "</table>\n",
       "</div>"
      ],
      "text/plain": [
       "         Id                                              Title  \\\n",
       "0  11888454                       Business Development Manager   \n",
       "1  11988350                           Internal Account Manager   \n",
       "2  12612558                       Engineering Systems Analysts   \n",
       "3  12613014                 CIS Systems Engineering Consultant   \n",
       "4  22454872                      CNC Miller / Programmer Fanac   \n",
       "5  22579453                                      Sales Manager   \n",
       "6  25436391                            Junior Process Engineer   \n",
       "7  25436399                         Mechanical Engineer  Water   \n",
       "8  25452547  Chef De Partie needed  **** rosette restaurant...   \n",
       "9  26178632                               Assistant Accountant   \n",
       "\n",
       "                                     FullDescription  \\\n",
       "0  The Company: Our client is a national training...   \n",
       "1  The Company: Founded in **** our client is a U...   \n",
       "2  Engineering Systems Analysts Surrey ****K Loca...   \n",
       "3  CIS Systems Engineering Consultant Bristol  So...   \n",
       "4  CNC Miller / Programmer Fanac Fleet, Hampshire...   \n",
       "5  My client is a leading supplier of precision m...   \n",
       "6  Junior Process Engineer We are seeking applica...   \n",
       "7  Mechanical Engineer  Water We are currently lo...   \n",
       "8  Chef De Partie needed  **** rosette restaurant...   \n",
       "9  Assistant Accountant Up to **** Bath A leading...   \n",
       "\n",
       "                       LocationRaw   LocationNormalized ContractType  \\\n",
       "0            Tyne Wear, North East  Newcastle Upon Tyne          NaN   \n",
       "1        Tyne and Wear, North East  Newcastle Upon Tyne          NaN   \n",
       "2   Surrey, South East, South East               Surrey          NaN   \n",
       "3  Bristol, South West, South West              Bristol          NaN   \n",
       "4                 Fleet, Hampshire                Fleet          NaN   \n",
       "5                 Tyne Wear, North  Newcastle Upon Tyne          NaN   \n",
       "6            Berkshire, South East            Berkshire          NaN   \n",
       "7               Surrey, South East               Surrey          NaN   \n",
       "8                       North East   North East England          NaN   \n",
       "9                             Bath                 Bath          NaN   \n",
       "\n",
       "  ContractTime                       Company                     Category  \\\n",
       "0    permanent            Asset Appointments                Teaching Jobs   \n",
       "1    permanent            Asset Appointments             Consultancy Jobs   \n",
       "2    permanent  Gregory Martin International             Engineering Jobs   \n",
       "3    permanent  Gregory Martin International             Engineering Jobs   \n",
       "4    permanent  Gregory Martin International           Manufacturing Jobs   \n",
       "5    permanent            Asset Appointments             Engineering Jobs   \n",
       "6    permanent  Gregory Martin International             Engineering Jobs   \n",
       "7    permanent  Gregory Martin International             Engineering Jobs   \n",
       "8          NaN               Clear Selection  Hospitality & Catering Jobs   \n",
       "9    permanent                           NaN    Accounting & Finance Jobs   \n",
       "\n",
       "         SourceName   Salary_pred  \n",
       "0  cv-library.co.uk  19934.564453  \n",
       "1  cv-library.co.uk  32655.896484  \n",
       "2  cv-library.co.uk  38969.765625  \n",
       "3  cv-library.co.uk  47577.527344  \n",
       "4  cv-library.co.uk  24948.523438  \n",
       "5  cv-library.co.uk  35195.203125  \n",
       "6  cv-library.co.uk  41983.980469  \n",
       "7  cv-library.co.uk  37353.933594  \n",
       "8       caterer.com  19326.419922  \n",
       "9        hays.co.uk  18477.769531  "
      ]
     },
     "execution_count": 91,
     "metadata": {},
     "output_type": "execute_result"
    }
   ],
   "source": [
    "test_df.head(10)"
   ]
  },
  {
   "cell_type": "markdown",
   "metadata": {},
   "source": [
    "### Adicionando as predições ao dataSet de submissão. "
   ]
  },
  {
   "cell_type": "code",
   "execution_count": 92,
   "metadata": {},
   "outputs": [],
   "source": [
    "exit_df['Salary_Prediction'] = test_df.Salary_pred"
   ]
  },
  {
   "cell_type": "markdown",
   "metadata": {},
   "source": [
    "**Exportando para um .csv.**"
   ]
  },
  {
   "cell_type": "code",
   "execution_count": 94,
   "metadata": {},
   "outputs": [],
   "source": [
    "exit_df.to_csv('submission.csv')"
   ]
  }
 ],
 "metadata": {
  "accelerator": "GPU",
  "colab": {
   "collapsed_sections": [],
   "name": "PredictSalary_RegressionProblemExample_Training_Evaluating_Models",
   "provenance": []
  },
  "kernelspec": {
   "display_name": "Python 3 (ipykernel)",
   "language": "python",
   "name": "python3"
  },
  "language_info": {
   "codemirror_mode": {
    "name": "ipython",
    "version": 3
   },
   "file_extension": ".py",
   "mimetype": "text/x-python",
   "name": "python",
   "nbconvert_exporter": "python",
   "pygments_lexer": "ipython3",
   "version": "3.9.7"
  }
 },
 "nbformat": 4,
 "nbformat_minor": 1
}
