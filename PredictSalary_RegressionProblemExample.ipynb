{
  "cells": [
    {
      "cell_type": "markdown",
      "metadata": {
        "id": "view-in-github",
        "colab_type": "text"
      },
      "source": [
        "<a href=\"https://colab.research.google.com/github/NophaieViscente/PredictSalary/blob/main/PredictSalary_RegressionProblemExample.ipynb\" target=\"_parent\"><img src=\"https://colab.research.google.com/assets/colab-badge.svg\" alt=\"Open In Colab\"/></a>"
      ]
    },
    {
      "cell_type": "code",
      "source": [
        "from google.colab import drive\n",
        "drive.mount('/content/drive')"
      ],
      "metadata": {
        "colab": {
          "base_uri": "https://localhost:8080/"
        },
        "id": "Vyw-JxJiXrMR",
        "outputId": "6cdddbf4-072d-4812-dd0d-11517d7d200b"
      },
      "id": "Vyw-JxJiXrMR",
      "execution_count": 198,
      "outputs": [
        {
          "output_type": "stream",
          "name": "stdout",
          "text": [
            "Drive already mounted at /content/drive; to attempt to forcibly remount, call drive.mount(\"/content/drive\", force_remount=True).\n"
          ]
        }
      ]
    },
    {
      "cell_type": "markdown",
      "id": "2ebbe6fc",
      "metadata": {
        "id": "2ebbe6fc"
      },
      "source": [
        "# Predição de Salário - Problema de Regressão\n",
        "* Este projeto tem por objetivo, efetuar uma predição dos salários para determinados empregos, com base em um conjunto de dados pré-definido.\n",
        "* O projeto será totalmente executado dentro deste Notebook."
      ]
    },
    {
      "cell_type": "markdown",
      "id": "95b05c58",
      "metadata": {
        "id": "95b05c58"
      },
      "source": [
        "# Carregando as bibliotecas necessárias.\n",
        "\n",
        "* A seguir será efetuado o carregamento das bibliotecas necessárias para uso no projeto."
      ]
    },
    {
      "cell_type": "code",
      "execution_count": 199,
      "id": "e36099fa",
      "metadata": {
        "id": "e36099fa"
      },
      "outputs": [],
      "source": [
        "import pandas as pd\n",
        "import matplotlib.pyplot as plt\n",
        "import re"
      ]
    },
    {
      "cell_type": "markdown",
      "id": "e24edb35",
      "metadata": {
        "id": "e24edb35"
      },
      "source": [
        "# Carregando os dados.\n",
        "\n",
        "* A seguir é efetuado o carregamento dos dados para uso no projeto."
      ]
    },
    {
      "cell_type": "code",
      "execution_count": 200,
      "id": "50e16f8a",
      "metadata": {
        "id": "50e16f8a"
      },
      "outputs": [],
      "source": [
        "train = pd.read_csv(f'/content/drive/MyDrive/Train_rev1.csv')\n",
        "test = pd.read_csv(f'/content/drive/MyDrive/Test_rev1.csv')\n",
        "valid = pd.read_csv(f'/content/drive/MyDrive/Valid_rev1.csv')\n",
        "location = pd.read_csv(f'/content/drive/MyDrive/Location_Tree.csv',header=None)"
      ]
    },
    {
      "cell_type": "markdown",
      "id": "f506588b",
      "metadata": {
        "id": "f506588b"
      },
      "source": [
        "# AED (Análise Exploratória de Dados)\n",
        "* Esta parte do projeto destina-se a análise exploratória de dados, parte importante de um projeto de DataScience. Através dessa primeira análise poderemos ter noções sobre o conjunto de dados que estamos trabalhando e também aplicar limpeza e transformação de dados.\n",
        " "
      ]
    },
    {
      "cell_type": "markdown",
      "id": "29924e1f",
      "metadata": {
        "id": "29924e1f"
      },
      "source": [
        "### Validando as informações dos dataSets."
      ]
    },
    {
      "cell_type": "code",
      "execution_count": 201,
      "id": "b9d8a5da",
      "metadata": {
        "colab": {
          "base_uri": "https://localhost:8080/"
        },
        "id": "b9d8a5da",
        "outputId": "820fa38c-dc1a-45ca-cf46-b83c5a1440cf"
      },
      "outputs": [
        {
          "output_type": "stream",
          "name": "stdout",
          "text": [
            "<class 'pandas.core.frame.DataFrame'>\n",
            "RangeIndex: 244768 entries, 0 to 244767\n",
            "Data columns (total 12 columns):\n",
            " #   Column              Non-Null Count   Dtype \n",
            "---  ------              --------------   ----- \n",
            " 0   Id                  244768 non-null  int64 \n",
            " 1   Title               244767 non-null  object\n",
            " 2   FullDescription     244768 non-null  object\n",
            " 3   LocationRaw         244768 non-null  object\n",
            " 4   LocationNormalized  244768 non-null  object\n",
            " 5   ContractType        65442 non-null   object\n",
            " 6   ContractTime        180863 non-null  object\n",
            " 7   Company             212338 non-null  object\n",
            " 8   Category            244768 non-null  object\n",
            " 9   SalaryRaw           244768 non-null  object\n",
            " 10  SalaryNormalized    244768 non-null  int64 \n",
            " 11  SourceName          244767 non-null  object\n",
            "dtypes: int64(2), object(10)\n",
            "memory usage: 22.4+ MB\n"
          ]
        }
      ],
      "source": [
        "train.info()"
      ]
    },
    {
      "cell_type": "markdown",
      "id": "d59b561f",
      "metadata": {
        "id": "d59b561f"
      },
      "source": [
        "* Observa-se que existem 244768 linhas nesse dataSet.\n",
        "* Pode-se observar que temos vários dados faltantes em algumas colunas, são elas : ContractType, ContractTime e Company.\n",
        "* Um item faltante em Title."
      ]
    },
    {
      "cell_type": "markdown",
      "id": "2d785a59",
      "metadata": {
        "id": "2d785a59"
      },
      "source": [
        "### Encontrando o item faltante no Cargo.\n",
        "* Encontrar o indice do item faltante para validar se pode ser adicionado manualmente o cargo."
      ]
    },
    {
      "cell_type": "code",
      "execution_count": 202,
      "id": "818e21de",
      "metadata": {
        "colab": {
          "base_uri": "https://localhost:8080/"
        },
        "id": "818e21de",
        "outputId": "fc10dbdf-7d42-45c5-eb2b-2aa249f67ffd"
      },
      "outputs": [
        {
          "output_type": "stream",
          "name": "stdout",
          "text": [
            "1588\n"
          ]
        }
      ],
      "source": [
        "for indice,conteudo in train.Title.items():\n",
        "    if type(conteudo) != str :\n",
        "      print(indice)"
      ]
    },
    {
      "cell_type": "code",
      "execution_count": 203,
      "id": "c97ef013",
      "metadata": {
        "colab": {
          "base_uri": "https://localhost:8080/"
        },
        "id": "c97ef013",
        "outputId": "ea6e2d47-3a3d-4c89-ec22-365b45604a57"
      },
      "outputs": [
        {
          "output_type": "execute_result",
          "data": {
            "text/plain": [
              "Id                                                             48271669\n",
              "Title                                                               NaN\n",
              "FullDescription       Quality Improvement Manager North West England...\n",
              "LocationRaw                                       Liverpool, Merseyside\n",
              "LocationNormalized                                            Liverpool\n",
              "ContractType                                                  full_time\n",
              "ContractTime                                                        NaN\n",
              "Company                                                             NaN\n",
              "Category                                      Healthcare & Nursing Jobs\n",
              "SalaryRaw                                     40,000 to 45,000 per year\n",
              "SalaryNormalized                                                  42500\n",
              "SourceName                                               careworx.co.uk\n",
              "Name: 1588, dtype: object"
            ]
          },
          "metadata": {},
          "execution_count": 203
        }
      ],
      "source": [
        "train.loc[1588]"
      ]
    },
    {
      "cell_type": "markdown",
      "id": "b0ec5b67",
      "metadata": {
        "id": "b0ec5b67"
      },
      "source": [
        "* Verificado o item de indice 1588, onde o cargo é o 'Quality Improvement Manager'"
      ]
    },
    {
      "cell_type": "markdown",
      "id": "3527c424",
      "metadata": {
        "id": "3527c424"
      },
      "source": [
        "* Adicionar dados ao indice 1588 "
      ]
    },
    {
      "cell_type": "code",
      "execution_count": 204,
      "id": "e7049054",
      "metadata": {
        "id": "e7049054"
      },
      "outputs": [],
      "source": [
        "train.loc[[1588],'Title'] = 'Quality Improvement Manager'"
      ]
    },
    {
      "cell_type": "markdown",
      "id": "4a61fa39",
      "metadata": {
        "id": "4a61fa39"
      },
      "source": [
        "* Validar dados adicionados."
      ]
    },
    {
      "cell_type": "code",
      "execution_count": 205,
      "id": "19002d6b",
      "metadata": {
        "colab": {
          "base_uri": "https://localhost:8080/"
        },
        "id": "19002d6b",
        "outputId": "a14e14ee-a6e5-4ee9-ed55-614a96f51147"
      },
      "outputs": [
        {
          "output_type": "stream",
          "name": "stdout",
          "text": [
            "<class 'pandas.core.frame.DataFrame'>\n",
            "RangeIndex: 244768 entries, 0 to 244767\n",
            "Data columns (total 12 columns):\n",
            " #   Column              Non-Null Count   Dtype \n",
            "---  ------              --------------   ----- \n",
            " 0   Id                  244768 non-null  int64 \n",
            " 1   Title               244768 non-null  object\n",
            " 2   FullDescription     244768 non-null  object\n",
            " 3   LocationRaw         244768 non-null  object\n",
            " 4   LocationNormalized  244768 non-null  object\n",
            " 5   ContractType        65442 non-null   object\n",
            " 6   ContractTime        180863 non-null  object\n",
            " 7   Company             212338 non-null  object\n",
            " 8   Category            244768 non-null  object\n",
            " 9   SalaryRaw           244768 non-null  object\n",
            " 10  SalaryNormalized    244768 non-null  int64 \n",
            " 11  SourceName          244767 non-null  object\n",
            "dtypes: int64(2), object(10)\n",
            "memory usage: 22.4+ MB\n"
          ]
        },
        {
          "output_type": "execute_result",
          "data": {
            "text/plain": [
              "(None, Id                                                             48271669\n",
              " Title                                       Quality Improvement Manager\n",
              " FullDescription       Quality Improvement Manager North West England...\n",
              " LocationRaw                                       Liverpool, Merseyside\n",
              " LocationNormalized                                            Liverpool\n",
              " ContractType                                                  full_time\n",
              " ContractTime                                                        NaN\n",
              " Company                                                             NaN\n",
              " Category                                      Healthcare & Nursing Jobs\n",
              " SalaryRaw                                     40,000 to 45,000 per year\n",
              " SalaryNormalized                                                  42500\n",
              " SourceName                                               careworx.co.uk\n",
              " Name: 1588, dtype: object)"
            ]
          },
          "metadata": {},
          "execution_count": 205
        }
      ],
      "source": [
        "train.info(), train.loc[1588]"
      ]
    },
    {
      "cell_type": "markdown",
      "id": "ac38c457",
      "metadata": {
        "id": "ac38c457"
      },
      "source": [
        "* Verifica-se que fora adicionado o dado."
      ]
    },
    {
      "cell_type": "code",
      "execution_count": 206,
      "id": "8c1cd9f5",
      "metadata": {
        "colab": {
          "base_uri": "https://localhost:8080/"
        },
        "id": "8c1cd9f5",
        "outputId": "f523b091-7200-4c49-8ab8-f6119d8bd158"
      },
      "outputs": [
        {
          "output_type": "stream",
          "name": "stdout",
          "text": [
            "<class 'pandas.core.frame.DataFrame'>\n",
            "RangeIndex: 122463 entries, 0 to 122462\n",
            "Data columns (total 10 columns):\n",
            " #   Column              Non-Null Count   Dtype \n",
            "---  ------              --------------   ----- \n",
            " 0   Id                  122463 non-null  int64 \n",
            " 1   Title               122463 non-null  object\n",
            " 2   FullDescription     122463 non-null  object\n",
            " 3   LocationRaw         122463 non-null  object\n",
            " 4   LocationNormalized  122463 non-null  object\n",
            " 5   ContractType        33013 non-null   object\n",
            " 6   ContractTime        90702 non-null   object\n",
            " 7   Company             106202 non-null  object\n",
            " 8   Category            122463 non-null  object\n",
            " 9   SourceName          122463 non-null  object\n",
            "dtypes: int64(1), object(9)\n",
            "memory usage: 9.3+ MB\n"
          ]
        }
      ],
      "source": [
        "test.info()"
      ]
    },
    {
      "cell_type": "markdown",
      "id": "df918472",
      "metadata": {
        "id": "df918472"
      },
      "source": [
        "* Observa-se que existem 122463 linhas nesse dataSet.\n",
        "* Pode-se observar que temos vários dados faltantes em algumas colunas, são elas : ContractType, ContractTime e Company."
      ]
    },
    {
      "cell_type": "code",
      "execution_count": 207,
      "id": "7c5be364",
      "metadata": {
        "colab": {
          "base_uri": "https://localhost:8080/"
        },
        "id": "7c5be364",
        "outputId": "2e8ab971-833a-4dd9-a806-220b404a7821"
      },
      "outputs": [
        {
          "output_type": "stream",
          "name": "stdout",
          "text": [
            "<class 'pandas.core.frame.DataFrame'>\n",
            "RangeIndex: 40663 entries, 0 to 40662\n",
            "Data columns (total 10 columns):\n",
            " #   Column              Non-Null Count  Dtype \n",
            "---  ------              --------------  ----- \n",
            " 0   Id                  40663 non-null  int64 \n",
            " 1   Title               40663 non-null  object\n",
            " 2   FullDescription     40663 non-null  object\n",
            " 3   LocationRaw         40663 non-null  object\n",
            " 4   LocationNormalized  40663 non-null  object\n",
            " 5   ContractType        10968 non-null  object\n",
            " 6   ContractTime        30181 non-null  object\n",
            " 7   Company             35312 non-null  object\n",
            " 8   Category            40663 non-null  object\n",
            " 9   SourceName          40663 non-null  object\n",
            "dtypes: int64(1), object(9)\n",
            "memory usage: 3.1+ MB\n"
          ]
        }
      ],
      "source": [
        "valid.info()"
      ]
    },
    {
      "cell_type": "markdown",
      "id": "82959097",
      "metadata": {
        "id": "82959097"
      },
      "source": [
        "* Observa-se que existem 40663 linhas nesse dataSet.\n",
        "* Pode-se observar que temos vários dados faltantes em algumas colunas, são elas : ContractType, ContractTime e Company."
      ]
    },
    {
      "cell_type": "markdown",
      "id": "535406e2",
      "metadata": {
        "id": "535406e2"
      },
      "source": [
        "### Verificando duplicidade de dados nos DataSets."
      ]
    },
    {
      "cell_type": "code",
      "execution_count": 208,
      "id": "6ea7c622",
      "metadata": {
        "colab": {
          "base_uri": "https://localhost:8080/"
        },
        "id": "6ea7c622",
        "outputId": "bb07b9b4-4740-4985-d6bb-de8d130a207c"
      },
      "outputs": [
        {
          "output_type": "execute_result",
          "data": {
            "text/plain": [
              "(244768, 122463, 40663)"
            ]
          },
          "metadata": {},
          "execution_count": 208
        }
      ],
      "source": [
        "train.Id.unique().size, test.Id.unique().size, valid.Id.unique().size"
      ]
    },
    {
      "cell_type": "markdown",
      "id": "271c8b4f",
      "metadata": {
        "id": "271c8b4f"
      },
      "source": [
        "* Pode-se verificar que o Id é único em todos os datasets."
      ]
    },
    {
      "cell_type": "markdown",
      "id": "b77ab7fa",
      "metadata": {
        "id": "b77ab7fa"
      },
      "source": [
        "### Verificando os dados.\n",
        "* Usando um histograma para validar a distribuição dos dados do Salário Normalizado"
      ]
    },
    {
      "cell_type": "code",
      "execution_count": 209,
      "id": "091f3764",
      "metadata": {
        "colab": {
          "base_uri": "https://localhost:8080/",
          "height": 283
        },
        "id": "091f3764",
        "outputId": "67938005-48b1-4afe-a15e-78f56c8be6f7"
      },
      "outputs": [
        {
          "output_type": "execute_result",
          "data": {
            "text/plain": [
              "<matplotlib.axes._subplots.AxesSubplot at 0x7f3af243e790>"
            ]
          },
          "metadata": {},
          "execution_count": 209
        },
        {
          "output_type": "display_data",
          "data": {
            "image/png": "[encoded data removed]",
            "text/plain": [
              "<Figure size 432x288 with 1 Axes>"
            ]
          },
          "metadata": {
            "needs_background": "light"
          }
        }
      ],
      "source": [
        "train.SalaryNormalized.hist(bins=50)"
      ]
    },
    {
      "cell_type": "markdown",
      "id": "66733a2d",
      "metadata": {
        "id": "66733a2d"
      },
      "source": [
        "# Pré-Processamento de dados.\n",
        "* Nessa fase iremos preparar os dados para a modelagem, com auxílio de algumas análises."
      ]
    },
    {
      "cell_type": "markdown",
      "id": "432a73d5",
      "metadata": {
        "id": "432a73d5"
      },
      "source": [
        "### Utilizando uma cópia do DataSet.\n",
        "* Utilizando essa técnica para se caso ocorra um erro apenas recarreguemos o dataset inicial de treino, retornando desse ponto."
      ]
    },
    {
      "cell_type": "code",
      "execution_count": 210,
      "id": "50745543",
      "metadata": {
        "id": "50745543"
      },
      "outputs": [],
      "source": [
        "df_tmp = train.copy()"
      ]
    },
    {
      "cell_type": "markdown",
      "id": "aa2cb74a",
      "metadata": {
        "id": "aa2cb74a"
      },
      "source": [
        "### Transformando os dados.\n",
        "* Transformando os dados de cargos todos em caracteres minúsculos."
      ]
    },
    {
      "cell_type": "code",
      "execution_count": 211,
      "id": "4699aee5",
      "metadata": {
        "id": "4699aee5"
      },
      "outputs": [],
      "source": [
        "df_tmp.Title = df_tmp.Title.str.lower()"
      ]
    },
    {
      "cell_type": "code",
      "source": [
        "df_tmp.groupby('LocationRaw').count().sort_values(by='SalaryNormalized',ascending=True)"
      ],
      "metadata": {
        "colab": {
          "base_uri": "https://localhost:8080/",
          "height": 551
        },
        "id": "Q_A-g_pSO8ur",
        "outputId": "5e159d6f-fe76-4d5d-b4b9-b2bebe7f00b0"
      },
      "id": "Q_A-g_pSO8ur",
      "execution_count": 212,
      "outputs": [
        {
          "output_type": "execute_result",
          "data": {
            "text/html": [
              "\n",
              "  <div id=\"df-3147bd85-1334-44e6-ad3e-ff1b0823b181\">\n",
              "    <div class=\"colab-df-container\">\n",
              "      <div>\n",
              "<style scoped>\n",
              "    .dataframe tbody tr th:only-of-type {\n",
              "        vertical-align: middle;\n",
              "    }\n",
              "\n",
              "    .dataframe tbody tr th {\n",
              "        vertical-align: top;\n",
              "    }\n",
              "\n",
              "    .dataframe thead th {\n",
              "        text-align: right;\n",
              "    }\n",
              "</style>\n",
              "<table border=\"1\" class=\"dataframe\">\n",
              "  <thead>\n",
              "    <tr style=\"text-align: right;\">\n",
              "      <th></th>\n",
              "      <th>Id</th>\n",
              "      <th>Title</th>\n",
              "      <th>FullDescription</th>\n",
              "      <th>LocationNormalized</th>\n",
              "      <th>ContractType</th>\n",
              "      <th>ContractTime</th>\n",
              "      <th>Company</th>\n",
              "      <th>Category</th>\n",
              "      <th>SalaryRaw</th>\n",
              "      <th>SalaryNormalized</th>\n",
              "      <th>SourceName</th>\n",
              "    </tr>\n",
              "    <tr>\n",
              "      <th>LocationRaw</th>\n",
              "      <th></th>\n",
              "      <th></th>\n",
              "      <th></th>\n",
              "      <th></th>\n",
              "      <th></th>\n",
              "      <th></th>\n",
              "      <th></th>\n",
              "      <th></th>\n",
              "      <th></th>\n",
              "      <th></th>\n",
              "      <th></th>\n",
              "    </tr>\n",
              "  </thead>\n",
              "  <tbody>\n",
              "    <tr>\n",
              "      <th>London, Middlesex, Hertfordshire, Buckinghamshire, Surrey, , Greater London</th>\n",
              "      <td>1</td>\n",
              "      <td>1</td>\n",
              "      <td>1</td>\n",
              "      <td>1</td>\n",
              "      <td>0</td>\n",
              "      <td>0</td>\n",
              "      <td>1</td>\n",
              "      <td>1</td>\n",
              "      <td>1</td>\n",
              "      <td>1</td>\n",
              "      <td>1</td>\n",
              "    </tr>\n",
              "    <tr>\n",
              "      <th>Nass</th>\n",
              "      <td>1</td>\n",
              "      <td>1</td>\n",
              "      <td>1</td>\n",
              "      <td>1</td>\n",
              "      <td>1</td>\n",
              "      <td>0</td>\n",
              "      <td>1</td>\n",
              "      <td>1</td>\n",
              "      <td>1</td>\n",
              "      <td>1</td>\n",
              "      <td>1</td>\n",
              "    </tr>\n",
              "    <tr>\n",
              "      <th>National - Midlands, Home Counties, Thames Valley, South</th>\n",
              "      <td>1</td>\n",
              "      <td>1</td>\n",
              "      <td>1</td>\n",
              "      <td>1</td>\n",
              "      <td>0</td>\n",
              "      <td>1</td>\n",
              "      <td>1</td>\n",
              "      <td>1</td>\n",
              "      <td>1</td>\n",
              "      <td>1</td>\n",
              "      <td>1</td>\n",
              "    </tr>\n",
              "    <tr>\n",
              "      <th>National Role - Preferably Midlands/North West</th>\n",
              "      <td>1</td>\n",
              "      <td>1</td>\n",
              "      <td>1</td>\n",
              "      <td>1</td>\n",
              "      <td>1</td>\n",
              "      <td>1</td>\n",
              "      <td>1</td>\n",
              "      <td>1</td>\n",
              "      <td>1</td>\n",
              "      <td>1</td>\n",
              "      <td>1</td>\n",
              "    </tr>\n",
              "    <tr>\n",
              "      <th>National Role but Ideally based in the North of England</th>\n",
              "      <td>1</td>\n",
              "      <td>1</td>\n",
              "      <td>1</td>\n",
              "      <td>1</td>\n",
              "      <td>1</td>\n",
              "      <td>1</td>\n",
              "      <td>1</td>\n",
              "      <td>1</td>\n",
              "      <td>1</td>\n",
              "      <td>1</td>\n",
              "      <td>1</td>\n",
              "    </tr>\n",
              "    <tr>\n",
              "      <th>...</th>\n",
              "      <td>...</td>\n",
              "      <td>...</td>\n",
              "      <td>...</td>\n",
              "      <td>...</td>\n",
              "      <td>...</td>\n",
              "      <td>...</td>\n",
              "      <td>...</td>\n",
              "      <td>...</td>\n",
              "      <td>...</td>\n",
              "      <td>...</td>\n",
              "      <td>...</td>\n",
              "    </tr>\n",
              "    <tr>\n",
              "      <th>City of London - London</th>\n",
              "      <td>2344</td>\n",
              "      <td>2344</td>\n",
              "      <td>2344</td>\n",
              "      <td>2344</td>\n",
              "      <td>2344</td>\n",
              "      <td>2309</td>\n",
              "      <td>2344</td>\n",
              "      <td>2344</td>\n",
              "      <td>2344</td>\n",
              "      <td>2344</td>\n",
              "      <td>2344</td>\n",
              "    </tr>\n",
              "    <tr>\n",
              "      <th>City London South East</th>\n",
              "      <td>2843</td>\n",
              "      <td>2843</td>\n",
              "      <td>2843</td>\n",
              "      <td>2843</td>\n",
              "      <td>15</td>\n",
              "      <td>2667</td>\n",
              "      <td>2843</td>\n",
              "      <td>2843</td>\n",
              "      <td>2843</td>\n",
              "      <td>2843</td>\n",
              "      <td>2843</td>\n",
              "    </tr>\n",
              "    <tr>\n",
              "      <th>UK</th>\n",
              "      <td>5538</td>\n",
              "      <td>5538</td>\n",
              "      <td>5538</td>\n",
              "      <td>5538</td>\n",
              "      <td>2758</td>\n",
              "      <td>4685</td>\n",
              "      <td>5086</td>\n",
              "      <td>5538</td>\n",
              "      <td>5538</td>\n",
              "      <td>5538</td>\n",
              "      <td>5538</td>\n",
              "    </tr>\n",
              "    <tr>\n",
              "      <th>London South East</th>\n",
              "      <td>8689</td>\n",
              "      <td>8689</td>\n",
              "      <td>8689</td>\n",
              "      <td>8689</td>\n",
              "      <td>34</td>\n",
              "      <td>7759</td>\n",
              "      <td>8688</td>\n",
              "      <td>8689</td>\n",
              "      <td>8689</td>\n",
              "      <td>8689</td>\n",
              "      <td>8689</td>\n",
              "    </tr>\n",
              "    <tr>\n",
              "      <th>London</th>\n",
              "      <td>15605</td>\n",
              "      <td>15605</td>\n",
              "      <td>15605</td>\n",
              "      <td>15605</td>\n",
              "      <td>6362</td>\n",
              "      <td>12623</td>\n",
              "      <td>12819</td>\n",
              "      <td>15605</td>\n",
              "      <td>15605</td>\n",
              "      <td>15605</td>\n",
              "      <td>15605</td>\n",
              "    </tr>\n",
              "  </tbody>\n",
              "</table>\n",
              "<p>20986 rows × 11 columns</p>\n",
              "</div>\n",
              "      <button class=\"colab-df-convert\" onclick=\"convertToInteractive('df-3147bd85-1334-44e6-ad3e-ff1b0823b181')\"\n",
              "              title=\"Convert this dataframe to an interactive table.\"\n",
              "              style=\"display:none;\">\n",
              "        \n",
              "  <svg xmlns=\"http://www.w3.org/2000/svg\" height=\"24px\"viewBox=\"0 0 24 24\"\n",
              "       width=\"24px\">\n",
              "    <path d=\"M0 0h24v24H0V0z\" fill=\"none\"/>\n",
              "    <path d=\"M18.56 5.44l.94 2.06.94-2.06 2.06-.94-2.06-.94-.94-2.06-.94 2.06-2.06.94zm-11 1L8.5 8.5l.94-2.06 2.06-.94-2.06-.94L8.5 2.5l-.94 2.06-2.06.94zm10 10l.94 2.06.94-2.06 2.06-.94-2.06-.94-.94-2.06-.94 2.06-2.06.94z\"/><path d=\"M17.41 7.96l-1.37-1.37c-.4-.4-.92-.59-1.43-.59-.52 0-1.04.2-1.43.59L10.3 9.45l-7.72 7.72c-.78.78-.78 2.05 0 2.83L4 21.41c.39.39.9.59 1.41.59.51 0 1.02-.2 1.41-.59l7.78-7.78 2.81-2.81c.8-.78.8-2.07 0-2.86zM5.41 20L4 18.59l7.72-7.72 1.47 1.35L5.41 20z\"/>\n",
              "  </svg>\n",
              "      </button>\n",
              "      \n",
              "  <style>\n",
              "    .colab-df-container {\n",
              "      display:flex;\n",
              "      flex-wrap:wrap;\n",
              "      gap: 12px;\n",
              "    }\n",
              "\n",
              "    .colab-df-convert {\n",
              "      background-color: #E8F0FE;\n",
              "      border: none;\n",
              "      border-radius: 50%;\n",
              "      cursor: pointer;\n",
              "      display: none;\n",
              "      fill: #1967D2;\n",
              "      height: 32px;\n",
              "      padding: 0 0 0 0;\n",
              "      width: 32px;\n",
              "    }\n",
              "\n",
              "    .colab-df-convert:hover {\n",
              "      background-color: #E2EBFA;\n",
              "      box-shadow: 0px 1px 2px rgba(60, 64, 67, 0.3), 0px 1px 3px 1px rgba(60, 64, 67, 0.15);\n",
              "      fill: #174EA6;\n",
              "    }\n",
              "\n",
              "    [theme=dark] .colab-df-convert {\n",
              "      background-color: #3B4455;\n",
              "      fill: #D2E3FC;\n",
              "    }\n",
              "\n",
              "    [theme=dark] .colab-df-convert:hover {\n",
              "      background-color: #434B5C;\n",
              "      box-shadow: 0px 1px 3px 1px rgba(0, 0, 0, 0.15);\n",
              "      filter: drop-shadow(0px 1px 2px rgba(0, 0, 0, 0.3));\n",
              "      fill: #FFFFFF;\n",
              "    }\n",
              "  </style>\n",
              "\n",
              "      <script>\n",
              "        const buttonEl =\n",
              "          document.querySelector('#df-3147bd85-1334-44e6-ad3e-ff1b0823b181 button.colab-df-convert');\n",
              "        buttonEl.style.display =\n",
              "          google.colab.kernel.accessAllowed ? 'block' : 'none';\n",
              "\n",
              "        async function convertToInteractive(key) {\n",
              "          const element = document.querySelector('#df-3147bd85-1334-44e6-ad3e-ff1b0823b181');\n",
              "          const dataTable =\n",
              "            await google.colab.kernel.invokeFunction('convertToInteractive',\n",
              "                                                     [key], {});\n",
              "          if (!dataTable) return;\n",
              "\n",
              "          const docLinkHtml = 'Like what you see? Visit the ' +\n",
              "            '<a target=\"_blank\" href=https://colab.research.google.com/notebooks/data_table.ipynb>data table notebook</a>'\n",
              "            + ' to learn more about interactive tables.';\n",
              "          element.innerHTML = '';\n",
              "          dataTable['output_type'] = 'display_data';\n",
              "          await google.colab.output.renderOutput(dataTable, element);\n",
              "          const docLink = document.createElement('div');\n",
              "          docLink.innerHTML = docLinkHtml;\n",
              "          element.appendChild(docLink);\n",
              "        }\n",
              "      </script>\n",
              "    </div>\n",
              "  </div>\n",
              "  "
            ],
            "text/plain": [
              "                                                       Id  ...  SourceName\n",
              "LocationRaw                                                ...            \n",
              "London, Middlesex, Hertfordshire, Buckinghamshi...      1  ...           1\n",
              "Nass                                                    1  ...           1\n",
              "National - Midlands, Home Counties, Thames Vall...      1  ...           1\n",
              "National Role - Preferably Midlands/North West          1  ...           1\n",
              "National Role but Ideally based in the North of...      1  ...           1\n",
              "...                                                   ...  ...         ...\n",
              "City of London - London                              2344  ...        2344\n",
              "City London South East                               2843  ...        2843\n",
              "UK                                                   5538  ...        5538\n",
              "London South East                                    8689  ...        8689\n",
              "London                                              15605  ...       15605\n",
              "\n",
              "[20986 rows x 11 columns]"
            ]
          },
          "metadata": {},
          "execution_count": 212
        }
      ]
    },
    {
      "cell_type": "markdown",
      "source": [
        "### Conferindo se a coluna 'SalaryRaw' tem algum valor nulo"
      ],
      "metadata": {
        "id": "gyPwbT5zc7Qd"
      },
      "id": "gyPwbT5zc7Qd"
    },
    {
      "cell_type": "code",
      "source": [
        "df_tmp.SalaryRaw.isna().sum()"
      ],
      "metadata": {
        "colab": {
          "base_uri": "https://localhost:8080/"
        },
        "id": "hRpU5hxUc2qL",
        "outputId": "56945d53-d9db-4888-9f28-69cbc6a9a8b9"
      },
      "id": "hRpU5hxUc2qL",
      "execution_count": 213,
      "outputs": [
        {
          "output_type": "execute_result",
          "data": {
            "text/plain": [
              "0"
            ]
          },
          "metadata": {},
          "execution_count": 213
        }
      ]
    },
    {
      "cell_type": "markdown",
      "source": [
        "### Criação de novas características"
      ],
      "metadata": {
        "id": "vzAPgGizcgX1"
      },
      "id": "vzAPgGizcgX1"
    },
    {
      "cell_type": "markdown",
      "source": [
        "* Criação de lista para alocar os valores únicos de salários"
      ],
      "metadata": {
        "id": "fHj4IugUewHY"
      },
      "id": "fHj4IugUewHY"
    },
    {
      "cell_type": "code",
      "source": [
        "salary_list = df_tmp['SalaryRaw'].unique().tolist()"
      ],
      "metadata": {
        "id": "iJk_ccL2cL_c"
      },
      "id": "iJk_ccL2cL_c",
      "execution_count": 214,
      "outputs": []
    },
    {
      "cell_type": "markdown",
      "source": [
        "* Conferindo a quantidade de registros da lista"
      ],
      "metadata": {
        "id": "2Px0U_UZeFmr"
      },
      "id": "2Px0U_UZeFmr"
    },
    {
      "cell_type": "code",
      "source": [
        "len(salary_list)"
      ],
      "metadata": {
        "colab": {
          "base_uri": "https://localhost:8080/"
        },
        "id": "aQAHGFGld7_u",
        "outputId": "1019a9f5-fe47-4cf1-fbd0-895b60e1f082"
      },
      "id": "aQAHGFGld7_u",
      "execution_count": 215,
      "outputs": [
        {
          "output_type": "execute_result",
          "data": {
            "text/plain": [
              "97286"
            ]
          },
          "metadata": {},
          "execution_count": 215
        }
      ]
    },
    {
      "cell_type": "markdown",
      "source": [
        "* Criação de função para alocar em nova coluna a periodicidade de recebimento salarial"
      ],
      "metadata": {
        "id": "AnvLWAJEe2BJ"
      },
      "id": "AnvLWAJEe2BJ"
    },
    {
      "cell_type": "code",
      "source": [
        "def base_salarial(x):\n",
        "    y=\"\"\n",
        "    if \"year\" in str(x):\n",
        "        y = \"Yearly\"\n",
        "    elif \"annum\" in str(x):\n",
        "        y = \"Yearly\"\n",
        "    elif \"hour\" in str(x):\n",
        "        y = \"Hourly\"\n",
        "    elif \"day\" in str(x):\n",
        "        y = \"Daily\"\n",
        "    elif \"week\" in str(x):\n",
        "        y = \"Weekly\"\n",
        "    \n",
        "    return y"
      ],
      "metadata": {
        "id": "NV4vUDTpeK36"
      },
      "id": "NV4vUDTpeK36",
      "execution_count": 216,
      "outputs": []
    },
    {
      "cell_type": "code",
      "source": [
        "df_tmp['Rate_by'] = df_tmp['SalaryRaw'].apply(base_salarial)"
      ],
      "metadata": {
        "id": "HWYvfq55fmGm"
      },
      "id": "HWYvfq55fmGm",
      "execution_count": 217,
      "outputs": []
    },
    {
      "cell_type": "markdown",
      "source": [
        "* Filtrando os dados que não tinham descrição deduzindo que são com periodicidade anual"
      ],
      "metadata": {
        "id": "8yiUipmCmvPK"
      },
      "id": "8yiUipmCmvPK"
    },
    {
      "cell_type": "code",
      "source": [
        "filtro = df_tmp['Rate_by'] == \"\""
      ],
      "metadata": {
        "id": "HYa2eM00i61X"
      },
      "id": "HYa2eM00i61X",
      "execution_count": 218,
      "outputs": []
    },
    {
      "cell_type": "code",
      "source": [
        "df_tmp.loc[filtro,'Rate_by'] = 'Yearly'"
      ],
      "metadata": {
        "id": "-zdSJcxrgkvF"
      },
      "id": "-zdSJcxrgkvF",
      "execution_count": 219,
      "outputs": []
    },
    {
      "cell_type": "markdown",
      "source": [
        "* Conferindo a quantidade de dados e frequência e periodicidade do cálculo de valor dos salários"
      ],
      "metadata": {
        "id": "8dJeTIRcg_Cb"
      },
      "id": "8dJeTIRcg_Cb"
    },
    {
      "cell_type": "code",
      "source": [
        "df_tmp.groupby('Rate_by').SalaryRaw.count()"
      ],
      "metadata": {
        "colab": {
          "base_uri": "https://localhost:8080/"
        },
        "id": "UG-3eRf8g0qQ",
        "outputId": "9ca71a98-a4f3-44c5-95f0-30b2db06812e"
      },
      "id": "UG-3eRf8g0qQ",
      "execution_count": 220,
      "outputs": [
        {
          "output_type": "execute_result",
          "data": {
            "text/plain": [
              "Rate_by\n",
              "Daily       9195\n",
              "Hourly     27879\n",
              "Weekly      1498\n",
              "Yearly    206196\n",
              "Name: SalaryRaw, dtype: int64"
            ]
          },
          "metadata": {},
          "execution_count": 220
        }
      ]
    },
    {
      "cell_type": "markdown",
      "source": [
        "* Criação de intervalos salariais/categorias"
      ],
      "metadata": {
        "id": "w1R7GW5drUaV"
      },
      "id": "w1R7GW5drUaV"
    },
    {
      "cell_type": "code",
      "source": [
        "intervalosSalariais = [0,25000,50000,70000,90000,120000,300000]"
      ],
      "metadata": {
        "id": "QcBSu4bunX2T"
      },
      "id": "QcBSu4bunX2T",
      "execution_count": 221,
      "outputs": []
    },
    {
      "cell_type": "code",
      "source": [
        "df_tmp['SalaryBin'] = pd.cut(x=df_tmp.SalaryNormalized, bins=intervalosSalariais, labels=False)"
      ],
      "metadata": {
        "id": "x4KBhVbUrazn"
      },
      "id": "x4KBhVbUrazn",
      "execution_count": 222,
      "outputs": []
    },
    {
      "cell_type": "code",
      "source": [
        "plt.figure(figsize=(8,6))\n",
        "df_tmp.groupby('SalaryBin')['LocationNormalized'].count().plot.bar()\n",
        "plt.title(\"Faixas Salariais\")\n",
        "plt.xticks([0,1,2,3,4,5],['0-25K','25K-50K','50K-70K','70K-90K','90K-120K','120K-300K'], rotation=30)\n",
        "plt.show()"
      ],
      "metadata": {
        "colab": {
          "base_uri": "https://localhost:8080/",
          "height": 429
        },
        "id": "-ZMhubd0p_OL",
        "outputId": "b4981efc-c63d-4199-ce8b-7685bf119535"
      },
      "id": "-ZMhubd0p_OL",
      "execution_count": 223,
      "outputs": [
        {
          "output_type": "display_data",
          "data": {
            "image/png": "[encoded data removed]",
            "text/plain": [
              "<Figure size 576x432 with 1 Axes>"
            ]
          },
          "metadata": {
            "needs_background": "light"
          }
        }
      ]
    },
    {
      "cell_type": "markdown",
      "source": [
        "### Usando Vetorização de palavras para verificar a coluna Title - Cargo"
      ],
      "metadata": {
        "id": "26q1evC2pLgH"
      },
      "id": "26q1evC2pLgH"
    },
    {
      "cell_type": "code",
      "source": [
        "from sklearn.feature_extraction.text import CountVectorizer\n",
        "from sklearn.model_selection import train_test_split\n",
        "\n",
        "y = df_tmp['SalaryBin'].astype('category')\n",
        "X_train, X_test, y_train, y_test = train_test_split(df_tmp['Title'], y, test_size=0.2)\n",
        "\n",
        "cv = CountVectorizer(stop_words='english', ngram_range=(1,3), min_df=0.03)"
      ],
      "metadata": {
        "id": "MogA6iVmpK5o"
      },
      "id": "MogA6iVmpK5o",
      "execution_count": 225,
      "outputs": []
    },
    {
      "cell_type": "markdown",
      "source": [
        "* Ajustando o count vectorizer para a coluna Title - Cargo"
      ],
      "metadata": {
        "id": "KUk5FDX0p3bs"
      },
      "id": "KUk5FDX0p3bs"
    },
    {
      "cell_type": "code",
      "source": [
        "cv.fit(X_train)\n",
        "\n",
        "title_words = pd.DataFrame(cv.transform(X_train).todense(), columns=cv.get_feature_names())"
      ],
      "metadata": {
        "colab": {
          "base_uri": "https://localhost:8080/"
        },
        "id": "F_2l4PHGvapK",
        "outputId": "a50b6e1f-d782-4397-b35a-4d836eaef6ff"
      },
      "id": "F_2l4PHGvapK",
      "execution_count": 229,
      "outputs": [
        {
          "output_type": "stream",
          "name": "stderr",
          "text": [
            "/usr/local/lib/python3.7/dist-packages/sklearn/utils/deprecation.py:87: FutureWarning: Function get_feature_names is deprecated; get_feature_names is deprecated in 1.0 and will be removed in 1.2. Please use get_feature_names_out instead.\n",
            "  warnings.warn(msg, category=FutureWarning)\n"
          ]
        }
      ]
    },
    {
      "cell_type": "code",
      "source": [
        "title_words"
      ],
      "metadata": {
        "colab": {
          "base_uri": "https://localhost:8080/",
          "height": 423
        },
        "id": "OzLFf2sovh4Y",
        "outputId": "113c4408-40c1-4b81-e12d-8c029b572210"
      },
      "id": "OzLFf2sovh4Y",
      "execution_count": 230,
      "outputs": [
        {
          "output_type": "execute_result",
          "data": {
            "text/html": [
              "\n",
              "  <div id=\"df-371d60d1-0241-4dc7-adef-b5022b48c919\">\n",
              "    <div class=\"colab-df-container\">\n",
              "      <div>\n",
              "<style scoped>\n",
              "    .dataframe tbody tr th:only-of-type {\n",
              "        vertical-align: middle;\n",
              "    }\n",
              "\n",
              "    .dataframe tbody tr th {\n",
              "        vertical-align: top;\n",
              "    }\n",
              "\n",
              "    .dataframe thead th {\n",
              "        text-align: right;\n",
              "    }\n",
              "</style>\n",
              "<table border=\"1\" class=\"dataframe\">\n",
              "  <thead>\n",
              "    <tr style=\"text-align: right;\">\n",
              "      <th></th>\n",
              "      <th>analyst</th>\n",
              "      <th>assistant</th>\n",
              "      <th>business</th>\n",
              "      <th>consultant</th>\n",
              "      <th>developer</th>\n",
              "      <th>engineer</th>\n",
              "      <th>executive</th>\n",
              "      <th>london</th>\n",
              "      <th>manager</th>\n",
              "      <th>sales</th>\n",
              "      <th>senior</th>\n",
              "      <th>support</th>\n",
              "    </tr>\n",
              "  </thead>\n",
              "  <tbody>\n",
              "    <tr>\n",
              "      <th>0</th>\n",
              "      <td>0</td>\n",
              "      <td>0</td>\n",
              "      <td>0</td>\n",
              "      <td>0</td>\n",
              "      <td>0</td>\n",
              "      <td>0</td>\n",
              "      <td>0</td>\n",
              "      <td>0</td>\n",
              "      <td>0</td>\n",
              "      <td>0</td>\n",
              "      <td>0</td>\n",
              "      <td>0</td>\n",
              "    </tr>\n",
              "    <tr>\n",
              "      <th>1</th>\n",
              "      <td>0</td>\n",
              "      <td>0</td>\n",
              "      <td>0</td>\n",
              "      <td>0</td>\n",
              "      <td>0</td>\n",
              "      <td>0</td>\n",
              "      <td>0</td>\n",
              "      <td>0</td>\n",
              "      <td>0</td>\n",
              "      <td>0</td>\n",
              "      <td>0</td>\n",
              "      <td>0</td>\n",
              "    </tr>\n",
              "    <tr>\n",
              "      <th>2</th>\n",
              "      <td>0</td>\n",
              "      <td>0</td>\n",
              "      <td>0</td>\n",
              "      <td>0</td>\n",
              "      <td>0</td>\n",
              "      <td>0</td>\n",
              "      <td>1</td>\n",
              "      <td>0</td>\n",
              "      <td>0</td>\n",
              "      <td>2</td>\n",
              "      <td>0</td>\n",
              "      <td>0</td>\n",
              "    </tr>\n",
              "    <tr>\n",
              "      <th>3</th>\n",
              "      <td>0</td>\n",
              "      <td>0</td>\n",
              "      <td>0</td>\n",
              "      <td>0</td>\n",
              "      <td>0</td>\n",
              "      <td>0</td>\n",
              "      <td>0</td>\n",
              "      <td>0</td>\n",
              "      <td>0</td>\n",
              "      <td>0</td>\n",
              "      <td>0</td>\n",
              "      <td>0</td>\n",
              "    </tr>\n",
              "    <tr>\n",
              "      <th>4</th>\n",
              "      <td>0</td>\n",
              "      <td>0</td>\n",
              "      <td>0</td>\n",
              "      <td>0</td>\n",
              "      <td>0</td>\n",
              "      <td>0</td>\n",
              "      <td>0</td>\n",
              "      <td>0</td>\n",
              "      <td>0</td>\n",
              "      <td>0</td>\n",
              "      <td>0</td>\n",
              "      <td>0</td>\n",
              "    </tr>\n",
              "    <tr>\n",
              "      <th>...</th>\n",
              "      <td>...</td>\n",
              "      <td>...</td>\n",
              "      <td>...</td>\n",
              "      <td>...</td>\n",
              "      <td>...</td>\n",
              "      <td>...</td>\n",
              "      <td>...</td>\n",
              "      <td>...</td>\n",
              "      <td>...</td>\n",
              "      <td>...</td>\n",
              "      <td>...</td>\n",
              "      <td>...</td>\n",
              "    </tr>\n",
              "    <tr>\n",
              "      <th>195809</th>\n",
              "      <td>0</td>\n",
              "      <td>0</td>\n",
              "      <td>0</td>\n",
              "      <td>0</td>\n",
              "      <td>0</td>\n",
              "      <td>0</td>\n",
              "      <td>0</td>\n",
              "      <td>0</td>\n",
              "      <td>1</td>\n",
              "      <td>0</td>\n",
              "      <td>0</td>\n",
              "      <td>0</td>\n",
              "    </tr>\n",
              "    <tr>\n",
              "      <th>195810</th>\n",
              "      <td>0</td>\n",
              "      <td>0</td>\n",
              "      <td>0</td>\n",
              "      <td>0</td>\n",
              "      <td>0</td>\n",
              "      <td>0</td>\n",
              "      <td>0</td>\n",
              "      <td>0</td>\n",
              "      <td>0</td>\n",
              "      <td>0</td>\n",
              "      <td>0</td>\n",
              "      <td>0</td>\n",
              "    </tr>\n",
              "    <tr>\n",
              "      <th>195811</th>\n",
              "      <td>0</td>\n",
              "      <td>0</td>\n",
              "      <td>0</td>\n",
              "      <td>0</td>\n",
              "      <td>0</td>\n",
              "      <td>0</td>\n",
              "      <td>0</td>\n",
              "      <td>0</td>\n",
              "      <td>0</td>\n",
              "      <td>0</td>\n",
              "      <td>0</td>\n",
              "      <td>0</td>\n",
              "    </tr>\n",
              "    <tr>\n",
              "      <th>195812</th>\n",
              "      <td>0</td>\n",
              "      <td>2</td>\n",
              "      <td>0</td>\n",
              "      <td>0</td>\n",
              "      <td>0</td>\n",
              "      <td>0</td>\n",
              "      <td>0</td>\n",
              "      <td>0</td>\n",
              "      <td>0</td>\n",
              "      <td>0</td>\n",
              "      <td>0</td>\n",
              "      <td>0</td>\n",
              "    </tr>\n",
              "    <tr>\n",
              "      <th>195813</th>\n",
              "      <td>0</td>\n",
              "      <td>0</td>\n",
              "      <td>0</td>\n",
              "      <td>0</td>\n",
              "      <td>0</td>\n",
              "      <td>0</td>\n",
              "      <td>1</td>\n",
              "      <td>0</td>\n",
              "      <td>0</td>\n",
              "      <td>1</td>\n",
              "      <td>0</td>\n",
              "      <td>0</td>\n",
              "    </tr>\n",
              "  </tbody>\n",
              "</table>\n",
              "<p>195814 rows × 12 columns</p>\n",
              "</div>\n",
              "      <button class=\"colab-df-convert\" onclick=\"convertToInteractive('df-371d60d1-0241-4dc7-adef-b5022b48c919')\"\n",
              "              title=\"Convert this dataframe to an interactive table.\"\n",
              "              style=\"display:none;\">\n",
              "        \n",
              "  <svg xmlns=\"http://www.w3.org/2000/svg\" height=\"24px\"viewBox=\"0 0 24 24\"\n",
              "       width=\"24px\">\n",
              "    <path d=\"M0 0h24v24H0V0z\" fill=\"none\"/>\n",
              "    <path d=\"M18.56 5.44l.94 2.06.94-2.06 2.06-.94-2.06-.94-.94-2.06-.94 2.06-2.06.94zm-11 1L8.5 8.5l.94-2.06 2.06-.94-2.06-.94L8.5 2.5l-.94 2.06-2.06.94zm10 10l.94 2.06.94-2.06 2.06-.94-2.06-.94-.94-2.06-.94 2.06-2.06.94z\"/><path d=\"M17.41 7.96l-1.37-1.37c-.4-.4-.92-.59-1.43-.59-.52 0-1.04.2-1.43.59L10.3 9.45l-7.72 7.72c-.78.78-.78 2.05 0 2.83L4 21.41c.39.39.9.59 1.41.59.51 0 1.02-.2 1.41-.59l7.78-7.78 2.81-2.81c.8-.78.8-2.07 0-2.86zM5.41 20L4 18.59l7.72-7.72 1.47 1.35L5.41 20z\"/>\n",
              "  </svg>\n",
              "      </button>\n",
              "      \n",
              "  <style>\n",
              "    .colab-df-container {\n",
              "      display:flex;\n",
              "      flex-wrap:wrap;\n",
              "      gap: 12px;\n",
              "    }\n",
              "\n",
              "    .colab-df-convert {\n",
              "      background-color: #E8F0FE;\n",
              "      border: none;\n",
              "      border-radius: 50%;\n",
              "      cursor: pointer;\n",
              "      display: none;\n",
              "      fill: #1967D2;\n",
              "      height: 32px;\n",
              "      padding: 0 0 0 0;\n",
              "      width: 32px;\n",
              "    }\n",
              "\n",
              "    .colab-df-convert:hover {\n",
              "      background-color: #E2EBFA;\n",
              "      box-shadow: 0px 1px 2px rgba(60, 64, 67, 0.3), 0px 1px 3px 1px rgba(60, 64, 67, 0.15);\n",
              "      fill: #174EA6;\n",
              "    }\n",
              "\n",
              "    [theme=dark] .colab-df-convert {\n",
              "      background-color: #3B4455;\n",
              "      fill: #D2E3FC;\n",
              "    }\n",
              "\n",
              "    [theme=dark] .colab-df-convert:hover {\n",
              "      background-color: #434B5C;\n",
              "      box-shadow: 0px 1px 3px 1px rgba(0, 0, 0, 0.15);\n",
              "      filter: drop-shadow(0px 1px 2px rgba(0, 0, 0, 0.3));\n",
              "      fill: #FFFFFF;\n",
              "    }\n",
              "  </style>\n",
              "\n",
              "      <script>\n",
              "        const buttonEl =\n",
              "          document.querySelector('#df-371d60d1-0241-4dc7-adef-b5022b48c919 button.colab-df-convert');\n",
              "        buttonEl.style.display =\n",
              "          google.colab.kernel.accessAllowed ? 'block' : 'none';\n",
              "\n",
              "        async function convertToInteractive(key) {\n",
              "          const element = document.querySelector('#df-371d60d1-0241-4dc7-adef-b5022b48c919');\n",
              "          const dataTable =\n",
              "            await google.colab.kernel.invokeFunction('convertToInteractive',\n",
              "                                                     [key], {});\n",
              "          if (!dataTable) return;\n",
              "\n",
              "          const docLinkHtml = 'Like what you see? Visit the ' +\n",
              "            '<a target=\"_blank\" href=https://colab.research.google.com/notebooks/data_table.ipynb>data table notebook</a>'\n",
              "            + ' to learn more about interactive tables.';\n",
              "          element.innerHTML = '';\n",
              "          dataTable['output_type'] = 'display_data';\n",
              "          await google.colab.output.renderOutput(dataTable, element);\n",
              "          const docLink = document.createElement('div');\n",
              "          docLink.innerHTML = docLinkHtml;\n",
              "          element.appendChild(docLink);\n",
              "        }\n",
              "      </script>\n",
              "    </div>\n",
              "  </div>\n",
              "  "
            ],
            "text/plain": [
              "        analyst  assistant  business  ...  sales  senior  support\n",
              "0             0          0         0  ...      0       0        0\n",
              "1             0          0         0  ...      0       0        0\n",
              "2             0          0         0  ...      2       0        0\n",
              "3             0          0         0  ...      0       0        0\n",
              "4             0          0         0  ...      0       0        0\n",
              "...         ...        ...       ...  ...    ...     ...      ...\n",
              "195809        0          0         0  ...      0       0        0\n",
              "195810        0          0         0  ...      0       0        0\n",
              "195811        0          0         0  ...      0       0        0\n",
              "195812        0          2         0  ...      0       0        0\n",
              "195813        0          0         0  ...      1       0        0\n",
              "\n",
              "[195814 rows x 12 columns]"
            ]
          },
          "metadata": {},
          "execution_count": 230
        }
      ]
    },
    {
      "cell_type": "code",
      "source": [
        "word_observe = pd.concat([title_words, y_train], axis=1)\n",
        "\n",
        "word_observe.info()"
      ],
      "metadata": {
        "colab": {
          "base_uri": "https://localhost:8080/"
        },
        "id": "JOgojWfPvrDM",
        "outputId": "08d2bfbb-4c0e-48c9-9264-7de9e53503b3"
      },
      "id": "JOgojWfPvrDM",
      "execution_count": 234,
      "outputs": [
        {
          "output_type": "stream",
          "name": "stdout",
          "text": [
            "<class 'pandas.core.frame.DataFrame'>\n",
            "Int64Index: 234992 entries, 0 to 244767\n",
            "Data columns (total 13 columns):\n",
            " #   Column      Non-Null Count   Dtype   \n",
            "---  ------      --------------   -----   \n",
            " 0   analyst     195814 non-null  float64 \n",
            " 1   assistant   195814 non-null  float64 \n",
            " 2   business    195814 non-null  float64 \n",
            " 3   consultant  195814 non-null  float64 \n",
            " 4   developer   195814 non-null  float64 \n",
            " 5   engineer    195814 non-null  float64 \n",
            " 6   executive   195814 non-null  float64 \n",
            " 7   london      195814 non-null  float64 \n",
            " 8   manager     195814 non-null  float64 \n",
            " 9   sales       195814 non-null  float64 \n",
            " 10  senior      195814 non-null  float64 \n",
            " 11  support     195814 non-null  float64 \n",
            " 12  SalaryBin   195814 non-null  category\n",
            "dtypes: category(1), float64(12)\n",
            "memory usage: 23.5 MB\n"
          ]
        }
      ]
    },
    {
      "cell_type": "code",
      "source": [
        "for i in range(0,6) : \n",
        "  contadorPalavras = word_observe[word_observe['SalaryBin']==i].sum(axis=0)\n",
        "  print(f'Faixa Salarial de {intervalosSalariais[i]}K até {intervalosSalariais[i+1]}K anual, ocorrências de palavras: ')\n",
        "  palavrasComuns = contadorPalavras.sort_values(ascending=False)\n",
        "  print(palavrasComuns)"
      ],
      "metadata": {
        "colab": {
          "base_uri": "https://localhost:8080/"
        },
        "id": "N2o-2NIUwJmP",
        "outputId": "28fe9aa4-d752-45d9-d14e-48a130304075"
      },
      "id": "N2o-2NIUwJmP",
      "execution_count": 250,
      "outputs": [
        {
          "output_type": "stream",
          "name": "stdout",
          "text": [
            "Faixa Salarial de 0K até 25000K anual, ocorrências de palavras: \n",
            "manager       12226.0\n",
            "engineer       5707.0\n",
            "sales          4843.0\n",
            "senior         4085.0\n",
            "developer      3310.0\n",
            "assistant      2983.0\n",
            "executive      2600.0\n",
            "business       2383.0\n",
            "london         2360.0\n",
            "analyst        2271.0\n",
            "consultant     2270.0\n",
            "support        2087.0\n",
            "dtype: float64\n",
            "Faixa Salarial de 25000K até 50000K anual, ocorrências de palavras: \n",
            "manager       15396.0\n",
            "engineer       7402.0\n",
            "sales          5949.0\n",
            "senior         5154.0\n",
            "developer      4367.0\n",
            "assistant      3698.0\n",
            "executive      3186.0\n",
            "business       3019.0\n",
            "analyst        2907.0\n",
            "london         2868.0\n",
            "consultant     2811.0\n",
            "support        2599.0\n",
            "dtype: float64\n",
            "Faixa Salarial de 50000K até 70000K anual, ocorrências de palavras: \n",
            "manager       3264.0\n",
            "engineer      1620.0\n",
            "sales         1304.0\n",
            "senior        1137.0\n",
            "developer      836.0\n",
            "assistant      786.0\n",
            "executive      703.0\n",
            "business       669.0\n",
            "consultant     652.0\n",
            "analyst        601.0\n",
            "london         594.0\n",
            "support        563.0\n",
            "dtype: float64\n",
            "Faixa Salarial de 70000K até 90000K anual, ocorrências de palavras: \n",
            "manager       1149.0\n",
            "engineer       554.0\n",
            "sales          483.0\n",
            "senior         387.0\n",
            "developer      323.0\n",
            "assistant      298.0\n",
            "business       249.0\n",
            "executive      246.0\n",
            "consultant     226.0\n",
            "analyst        209.0\n",
            "london         182.0\n",
            "support        172.0\n",
            "dtype: float64\n",
            "Faixa Salarial de 90000K até 120000K anual, ocorrências de palavras: \n",
            "manager       280.0\n",
            "engineer      142.0\n",
            "sales         112.0\n",
            "senior         96.0\n",
            "developer      75.0\n",
            "assistant      68.0\n",
            "executive      59.0\n",
            "consultant     59.0\n",
            "london         52.0\n",
            "business       51.0\n",
            "support        44.0\n",
            "analyst        42.0\n",
            "dtype: float64\n",
            "Faixa Salarial de 120000K até 300000K anual, ocorrências de palavras: \n",
            "manager       24.0\n",
            "sales         14.0\n",
            "executive     11.0\n",
            "senior         8.0\n",
            "consultant     8.0\n",
            "assistant      8.0\n",
            "london         7.0\n",
            "engineer       7.0\n",
            "analyst        7.0\n",
            "business       5.0\n",
            "support        3.0\n",
            "developer      3.0\n",
            "dtype: float64\n"
          ]
        }
      ]
    }
  ],
  "metadata": {
    "kernelspec": {
      "display_name": "Python 3",
      "language": "python",
      "name": "python3"
    },
    "language_info": {
      "codemirror_mode": {
        "name": "ipython",
        "version": 3
      },
      "file_extension": ".py",
      "mimetype": "text/x-python",
      "name": "python",
      "nbconvert_exporter": "python",
      "pygments_lexer": "ipython3",
      "version": "3.8.8"
    },
    "colab": {
      "name": "PredictSalary_RegressionProblemExample.ipynb",
      "provenance": [],
      "collapsed_sections": [],
      "include_colab_link": true
    }
  },
  "nbformat": 4,
  "nbformat_minor": 5
}