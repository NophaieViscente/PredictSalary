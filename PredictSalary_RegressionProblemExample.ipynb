{
  "cells": [
    {
      "cell_type": "markdown",
      "metadata": {
        "id": "view-in-github",
        "colab_type": "text"
      },
      "source": [
        "<a href=\"https://colab.research.google.com/github/NophaieViscente/PredictSalary/blob/main/PredictSalary_RegressionProblemExample.ipynb\" target=\"_parent\"><img src=\"https://colab.research.google.com/assets/colab-badge.svg\" alt=\"Open In Colab\"/></a>"
      ]
    },
    {
      "cell_type": "code",
      "source": [
        "from google.colab import drive\n",
        "drive.mount('/content/drive')"
      ],
      "metadata": {
        "colab": {
          "base_uri": "https://localhost:8080/"
        },
        "id": "Vyw-JxJiXrMR",
        "outputId": "d887f604-e34b-4850-da96-2fe57e5d80db"
      },
      "id": "Vyw-JxJiXrMR",
      "execution_count": 7,
      "outputs": [
        {
          "output_type": "stream",
          "name": "stdout",
          "text": [
            "Drive already mounted at /content/drive; to attempt to forcibly remount, call drive.mount(\"/content/drive\", force_remount=True).\n"
          ]
        }
      ]
    },
    {
      "cell_type": "markdown",
      "id": "2ebbe6fc",
      "metadata": {
        "id": "2ebbe6fc"
      },
      "source": [
        "# Predição de Salário - Problema de Regressão\n",
        "* Este projeto tem por objetivo, efetuar uma predição dos salários para determinados empregos, com base em um conjunto de dados pré-definido.\n",
        "* O projeto será totalmente executado dentro deste Notebook."
      ]
    },
    {
      "cell_type": "markdown",
      "id": "95b05c58",
      "metadata": {
        "id": "95b05c58"
      },
      "source": [
        "# Carregando as bibliotecas necessárias.\n",
        "\n",
        "* A seguir será efetuado o carregamento das bibliotecas necessárias para uso no projeto."
      ]
    },
    {
      "cell_type": "code",
      "execution_count": 8,
      "id": "e36099fa",
      "metadata": {
        "id": "e36099fa"
      },
      "outputs": [],
      "source": [
        "import pandas as pd\n",
        "import matplotlib.pyplot as plt\n",
        "import re"
      ]
    },
    {
      "cell_type": "markdown",
      "id": "e24edb35",
      "metadata": {
        "id": "e24edb35"
      },
      "source": [
        "# Carregando os dados.\n",
        "\n",
        "* A seguir é efetuado o carregamento dos dados para uso no projeto."
      ]
    },
    {
      "cell_type": "code",
      "execution_count": 9,
      "id": "50e16f8a",
      "metadata": {
        "id": "50e16f8a"
      },
      "outputs": [],
      "source": [
        "train = pd.read_csv(f'/content/drive/MyDrive/Train_rev1.csv')\n",
        "test = pd.read_csv(f'/content/drive/MyDrive/Test_rev1.csv')\n",
        "valid = pd.read_csv(f'/content/drive/MyDrive/Valid_rev1.csv')\n",
        "location = pd.read_csv(f'/content/drive/MyDrive/Location_Tree.csv',header=None)"
      ]
    },
    {
      "cell_type": "markdown",
      "id": "f506588b",
      "metadata": {
        "id": "f506588b"
      },
      "source": [
        "# AED (Análise Exploratória de Dados)\n",
        "* Esta parte do projeto destina-se a análise exploratória de dados, parte importante de um projeto de DataScience. Através dessa primeira análise poderemos ter noções sobre o conjunto de dados que estamos trabalhando e possivelmente formular as primeiras hipóteses. "
      ]
    },
    {
      "cell_type": "markdown",
      "id": "29924e1f",
      "metadata": {
        "id": "29924e1f"
      },
      "source": [
        "### Validando as informações dos dataSets."
      ]
    },
    {
      "cell_type": "code",
      "execution_count": 10,
      "id": "b9d8a5da",
      "metadata": {
        "colab": {
          "base_uri": "https://localhost:8080/"
        },
        "id": "b9d8a5da",
        "outputId": "dcc2c842-bab6-4ed3-ce29-d12037c4004d"
      },
      "outputs": [
        {
          "output_type": "stream",
          "name": "stdout",
          "text": [
            "<class 'pandas.core.frame.DataFrame'>\n",
            "RangeIndex: 244768 entries, 0 to 244767\n",
            "Data columns (total 12 columns):\n",
            " #   Column              Non-Null Count   Dtype \n",
            "---  ------              --------------   ----- \n",
            " 0   Id                  244768 non-null  int64 \n",
            " 1   Title               244767 non-null  object\n",
            " 2   FullDescription     244768 non-null  object\n",
            " 3   LocationRaw         244768 non-null  object\n",
            " 4   LocationNormalized  244768 non-null  object\n",
            " 5   ContractType        65442 non-null   object\n",
            " 6   ContractTime        180863 non-null  object\n",
            " 7   Company             212338 non-null  object\n",
            " 8   Category            244768 non-null  object\n",
            " 9   SalaryRaw           244768 non-null  object\n",
            " 10  SalaryNormalized    244768 non-null  int64 \n",
            " 11  SourceName          244767 non-null  object\n",
            "dtypes: int64(2), object(10)\n",
            "memory usage: 22.4+ MB\n"
          ]
        }
      ],
      "source": [
        "train.info()"
      ]
    },
    {
      "cell_type": "markdown",
      "id": "d59b561f",
      "metadata": {
        "id": "d59b561f"
      },
      "source": [
        "* Observa-se que existem 244768 linhas nesse dataSet.\n",
        "* Pode-se observar que temos vários dados faltantes em algumas colunas, são elas : ContractType, ContractTime e Company."
      ]
    },
    {
      "cell_type": "markdown",
      "id": "2d785a59",
      "metadata": {
        "id": "2d785a59"
      },
      "source": [
        "### Encontrando o item faltante no Cargo.\n",
        "* Encontrar o indice do item faltante para validar se pode ser adicionado manualmente o cargo."
      ]
    },
    {
      "cell_type": "code",
      "execution_count": 11,
      "id": "818e21de",
      "metadata": {
        "colab": {
          "base_uri": "https://localhost:8080/"
        },
        "id": "818e21de",
        "outputId": "a67458bf-18cd-4a5e-8c7a-0d2ed79eed21"
      },
      "outputs": [
        {
          "output_type": "stream",
          "name": "stdout",
          "text": [
            "1588\n"
          ]
        }
      ],
      "source": [
        "for indice,conteudo in train.Title.items():\n",
        "    if type(conteudo) == float :\n",
        "        print(indice)"
      ]
    },
    {
      "cell_type": "code",
      "execution_count": 12,
      "id": "c97ef013",
      "metadata": {
        "colab": {
          "base_uri": "https://localhost:8080/"
        },
        "id": "c97ef013",
        "outputId": "520e3d79-b077-4714-d1a5-b68d6a08d929"
      },
      "outputs": [
        {
          "output_type": "execute_result",
          "data": {
            "text/plain": [
              "Id                                                             48271669\n",
              "Title                                                               NaN\n",
              "FullDescription       Quality Improvement Manager North West England...\n",
              "LocationRaw                                       Liverpool, Merseyside\n",
              "LocationNormalized                                            Liverpool\n",
              "ContractType                                                  full_time\n",
              "ContractTime                                                        NaN\n",
              "Company                                                             NaN\n",
              "Category                                      Healthcare & Nursing Jobs\n",
              "SalaryRaw                                     40,000 to 45,000 per year\n",
              "SalaryNormalized                                                  42500\n",
              "SourceName                                               careworx.co.uk\n",
              "Name: 1588, dtype: object"
            ]
          },
          "metadata": {},
          "execution_count": 12
        }
      ],
      "source": [
        "train.loc[1588]"
      ]
    },
    {
      "cell_type": "markdown",
      "id": "b0ec5b67",
      "metadata": {
        "id": "b0ec5b67"
      },
      "source": [
        "* Verificado o item de indice 1588, onde o cargo é o 'Quality Improvement Manager'"
      ]
    },
    {
      "cell_type": "markdown",
      "id": "3527c424",
      "metadata": {
        "id": "3527c424"
      },
      "source": [
        "* Adicionar dados ao indice 1588 "
      ]
    },
    {
      "cell_type": "code",
      "execution_count": 13,
      "id": "e7049054",
      "metadata": {
        "id": "e7049054"
      },
      "outputs": [],
      "source": [
        "train.loc[[1588],'Title'] = 'Quality Improvement Manager'"
      ]
    },
    {
      "cell_type": "markdown",
      "id": "4a61fa39",
      "metadata": {
        "id": "4a61fa39"
      },
      "source": [
        "* Validar dados adicionados."
      ]
    },
    {
      "cell_type": "code",
      "execution_count": 14,
      "id": "19002d6b",
      "metadata": {
        "colab": {
          "base_uri": "https://localhost:8080/"
        },
        "id": "19002d6b",
        "outputId": "31ab60f9-15c7-459b-e9fd-ea9b89493fb2"
      },
      "outputs": [
        {
          "output_type": "stream",
          "name": "stdout",
          "text": [
            "<class 'pandas.core.frame.DataFrame'>\n",
            "RangeIndex: 244768 entries, 0 to 244767\n",
            "Data columns (total 12 columns):\n",
            " #   Column              Non-Null Count   Dtype \n",
            "---  ------              --------------   ----- \n",
            " 0   Id                  244768 non-null  int64 \n",
            " 1   Title               244768 non-null  object\n",
            " 2   FullDescription     244768 non-null  object\n",
            " 3   LocationRaw         244768 non-null  object\n",
            " 4   LocationNormalized  244768 non-null  object\n",
            " 5   ContractType        65442 non-null   object\n",
            " 6   ContractTime        180863 non-null  object\n",
            " 7   Company             212338 non-null  object\n",
            " 8   Category            244768 non-null  object\n",
            " 9   SalaryRaw           244768 non-null  object\n",
            " 10  SalaryNormalized    244768 non-null  int64 \n",
            " 11  SourceName          244767 non-null  object\n",
            "dtypes: int64(2), object(10)\n",
            "memory usage: 22.4+ MB\n"
          ]
        },
        {
          "output_type": "execute_result",
          "data": {
            "text/plain": [
              "(None, Id                                                             48271669\n",
              " Title                                       Quality Improvement Manager\n",
              " FullDescription       Quality Improvement Manager North West England...\n",
              " LocationRaw                                       Liverpool, Merseyside\n",
              " LocationNormalized                                            Liverpool\n",
              " ContractType                                                  full_time\n",
              " ContractTime                                                        NaN\n",
              " Company                                                             NaN\n",
              " Category                                      Healthcare & Nursing Jobs\n",
              " SalaryRaw                                     40,000 to 45,000 per year\n",
              " SalaryNormalized                                                  42500\n",
              " SourceName                                               careworx.co.uk\n",
              " Name: 1588, dtype: object)"
            ]
          },
          "metadata": {},
          "execution_count": 14
        }
      ],
      "source": [
        "train.info(), train.loc[1588]"
      ]
    },
    {
      "cell_type": "markdown",
      "id": "ac38c457",
      "metadata": {
        "id": "ac38c457"
      },
      "source": [
        "* Verifica-se que fora adicionado o dado."
      ]
    },
    {
      "cell_type": "code",
      "execution_count": 15,
      "id": "8c1cd9f5",
      "metadata": {
        "colab": {
          "base_uri": "https://localhost:8080/"
        },
        "id": "8c1cd9f5",
        "outputId": "0640472d-7665-4036-b3e6-c509513b5920"
      },
      "outputs": [
        {
          "output_type": "stream",
          "name": "stdout",
          "text": [
            "<class 'pandas.core.frame.DataFrame'>\n",
            "RangeIndex: 122463 entries, 0 to 122462\n",
            "Data columns (total 10 columns):\n",
            " #   Column              Non-Null Count   Dtype \n",
            "---  ------              --------------   ----- \n",
            " 0   Id                  122463 non-null  int64 \n",
            " 1   Title               122463 non-null  object\n",
            " 2   FullDescription     122463 non-null  object\n",
            " 3   LocationRaw         122463 non-null  object\n",
            " 4   LocationNormalized  122463 non-null  object\n",
            " 5   ContractType        33013 non-null   object\n",
            " 6   ContractTime        90702 non-null   object\n",
            " 7   Company             106202 non-null  object\n",
            " 8   Category            122463 non-null  object\n",
            " 9   SourceName          122463 non-null  object\n",
            "dtypes: int64(1), object(9)\n",
            "memory usage: 9.3+ MB\n"
          ]
        }
      ],
      "source": [
        "test.info()"
      ]
    },
    {
      "cell_type": "markdown",
      "id": "df918472",
      "metadata": {
        "id": "df918472"
      },
      "source": [
        "* Observa-se que existem 122463 linhas nesse dataSet.\n",
        "* Pode-se observar que temos vários dados faltantes em algumas colunas, são elas : ContractType, ContractTime e Company."
      ]
    },
    {
      "cell_type": "code",
      "execution_count": 16,
      "id": "7c5be364",
      "metadata": {
        "colab": {
          "base_uri": "https://localhost:8080/"
        },
        "id": "7c5be364",
        "outputId": "26eb3f62-2e4c-4097-e18a-faa4b98631cc"
      },
      "outputs": [
        {
          "output_type": "stream",
          "name": "stdout",
          "text": [
            "<class 'pandas.core.frame.DataFrame'>\n",
            "RangeIndex: 40663 entries, 0 to 40662\n",
            "Data columns (total 10 columns):\n",
            " #   Column              Non-Null Count  Dtype \n",
            "---  ------              --------------  ----- \n",
            " 0   Id                  40663 non-null  int64 \n",
            " 1   Title               40663 non-null  object\n",
            " 2   FullDescription     40663 non-null  object\n",
            " 3   LocationRaw         40663 non-null  object\n",
            " 4   LocationNormalized  40663 non-null  object\n",
            " 5   ContractType        10968 non-null  object\n",
            " 6   ContractTime        30181 non-null  object\n",
            " 7   Company             35312 non-null  object\n",
            " 8   Category            40663 non-null  object\n",
            " 9   SourceName          40663 non-null  object\n",
            "dtypes: int64(1), object(9)\n",
            "memory usage: 3.1+ MB\n"
          ]
        }
      ],
      "source": [
        "valid.info()"
      ]
    },
    {
      "cell_type": "markdown",
      "id": "82959097",
      "metadata": {
        "id": "82959097"
      },
      "source": [
        "* Observa-se que existem 40663 linhas nesse dataSet.\n",
        "* Pode-se observar que temos vários dados faltantes em algumas colunas, são elas : ContractType, ContractTime e Company."
      ]
    },
    {
      "cell_type": "markdown",
      "id": "535406e2",
      "metadata": {
        "id": "535406e2"
      },
      "source": [
        "### Verificando duplicidade de dados nos DataSets."
      ]
    },
    {
      "cell_type": "code",
      "execution_count": 17,
      "id": "6ea7c622",
      "metadata": {
        "colab": {
          "base_uri": "https://localhost:8080/"
        },
        "id": "6ea7c622",
        "outputId": "b0682fa9-f0fa-4171-f43c-487ad02ab42b"
      },
      "outputs": [
        {
          "output_type": "execute_result",
          "data": {
            "text/plain": [
              "(244768, 122463, 40663)"
            ]
          },
          "metadata": {},
          "execution_count": 17
        }
      ],
      "source": [
        "train.Id.unique().size, test.Id.unique().size, valid.Id.unique().size"
      ]
    },
    {
      "cell_type": "markdown",
      "id": "271c8b4f",
      "metadata": {
        "id": "271c8b4f"
      },
      "source": [
        "* Pode-se verificar que o Id é único em todos os datasets."
      ]
    },
    {
      "cell_type": "markdown",
      "id": "b77ab7fa",
      "metadata": {
        "id": "b77ab7fa"
      },
      "source": [
        "### Verificando os dados.\n",
        "* Usando um histograma para validar a distribuição dos dados do Salário Normalizado"
      ]
    },
    {
      "cell_type": "code",
      "execution_count": 18,
      "id": "091f3764",
      "metadata": {
        "colab": {
          "base_uri": "https://localhost:8080/",
          "height": 283
        },
        "id": "091f3764",
        "outputId": "8867e7d7-dcc1-4e3d-fd46-fa0dce54c2fc"
      },
      "outputs": [
        {
          "output_type": "execute_result",
          "data": {
            "text/plain": [
              "<matplotlib.axes._subplots.AxesSubplot at 0x7f88befd1fd0>"
            ]
          },
          "metadata": {},
          "execution_count": 18
        },
        {
          "output_type": "display_data",
          "data": {
            "image/png": "[encoded data removed]",
            "text/plain": [
              "<Figure size 432x288 with 1 Axes>"
            ]
          },
          "metadata": {
            "needs_background": "light"
          }
        }
      ],
      "source": [
        "train.SalaryNormalized.hist(bins=50)"
      ]
    },
    {
      "cell_type": "markdown",
      "id": "66733a2d",
      "metadata": {
        "id": "66733a2d"
      },
      "source": [
        "# Pré-Processamento de dados.\n",
        "* Nessa fase iremos preparar os dados para a modelagem, com auxílio de algumas análises."
      ]
    },
    {
      "cell_type": "markdown",
      "id": "432a73d5",
      "metadata": {
        "id": "432a73d5"
      },
      "source": [
        "### Utilizando uma cópia do DataSet.\n",
        "* Utilizando essa técnica para se caso ocorra um erro apenas recarreguemos o dataset inicial de treino, retornando desse ponto."
      ]
    },
    {
      "cell_type": "code",
      "execution_count": 19,
      "id": "50745543",
      "metadata": {
        "id": "50745543"
      },
      "outputs": [],
      "source": [
        "df_tmp = train.copy()"
      ]
    },
    {
      "cell_type": "markdown",
      "id": "aa2cb74a",
      "metadata": {
        "id": "aa2cb74a"
      },
      "source": [
        "### Transformando os dados.\n",
        "* Transformando os dados de cargos todos em caracteres minúsculos."
      ]
    },
    {
      "cell_type": "code",
      "execution_count": 20,
      "id": "4699aee5",
      "metadata": {
        "id": "4699aee5"
      },
      "outputs": [],
      "source": [
        "df_tmp.Title = df_tmp.Title.str.lower()"
      ]
    }
  ],
  "metadata": {
    "kernelspec": {
      "display_name": "Python 3",
      "language": "python",
      "name": "python3"
    },
    "language_info": {
      "codemirror_mode": {
        "name": "ipython",
        "version": 3
      },
      "file_extension": ".py",
      "mimetype": "text/x-python",
      "name": "python",
      "nbconvert_exporter": "python",
      "pygments_lexer": "ipython3",
      "version": "3.8.8"
    },
    "colab": {
      "name": "PredictSalary_RegressionProblemExample.ipynb",
      "provenance": [],
      "collapsed_sections": [],
      "include_colab_link": true
    }
  },
  "nbformat": 4,
  "nbformat_minor": 5
}