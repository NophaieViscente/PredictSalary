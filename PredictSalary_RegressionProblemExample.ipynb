{
 "cells": [
  {
   "cell_type": "markdown",
   "id": "2ebbe6fc",
   "metadata": {},
   "source": [
    "# Predição de Salário - Problema de Regressão\n",
    "* Este projeto tem por objetivo, efetuar uma predição dos salários para determinados empregos, com base em um conjunto de dados pré-definido.\n",
    "* O projeto será totalmente executado dentro deste Notebook."
   ]
  },
  {
   "cell_type": "markdown",
   "id": "95b05c58",
   "metadata": {},
   "source": [
    "# Carregando as bibliotecas necessárias.\n",
    "\n",
    "* A seguir será efetuado o carregamento das bibliotecas necessárias para uso no projeto."
   ]
  },
  {
   "cell_type": "code",
   "execution_count": 1,
   "id": "e36099fa",
   "metadata": {},
   "outputs": [],
   "source": [
    "import pandas as pd"
   ]
  },
  {
   "cell_type": "markdown",
   "id": "e24edb35",
   "metadata": {},
   "source": [
    "# Carregando os dados.\n",
    "\n",
    "* A seguir é efetuado o carregamento dos dados para uso no projeto."
   ]
  },
  {
   "cell_type": "code",
   "execution_count": 2,
   "id": "50e16f8a",
   "metadata": {},
   "outputs": [],
   "source": [
    "train = pd.read_csv(f'Train.csv')\n",
    "test = pd.read_csv(f'Test.csv')\n",
    "valid = pd.read_csv(f'Valid.csv')"
   ]
  },
  {
   "cell_type": "markdown",
   "id": "f506588b",
   "metadata": {},
   "source": [
    "# AED (Análise Exploratória de Dados)\n",
    "* Esta parte do projeto destina-se a análise exploratória de dados, parte importante de um projeto de DataScience. Através dessa primeira análise poderemos ter noções sobre o conjunto de dados que estamos trabalhando e possivelmente formular as primeiras hipóteses. "
   ]
  },
  {
   "cell_type": "markdown",
   "id": "29924e1f",
   "metadata": {},
   "source": [
    "### Validando as informações dos dataSets."
   ]
  },
  {
   "cell_type": "code",
   "execution_count": 4,
   "id": "b9d8a5da",
   "metadata": {},
   "outputs": [
    {
     "name": "stdout",
     "output_type": "stream",
     "text": [
      "<class 'pandas.core.frame.DataFrame'>\n",
      "RangeIndex: 244768 entries, 0 to 244767\n",
      "Data columns (total 12 columns):\n",
      " #   Column              Non-Null Count   Dtype \n",
      "---  ------              --------------   ----- \n",
      " 0   Id                  244768 non-null  int64 \n",
      " 1   Title               244767 non-null  object\n",
      " 2   FullDescription     244768 non-null  object\n",
      " 3   LocationRaw         244768 non-null  object\n",
      " 4   LocationNormalized  244768 non-null  object\n",
      " 5   ContractType        65442 non-null   object\n",
      " 6   ContractTime        180863 non-null  object\n",
      " 7   Company             212338 non-null  object\n",
      " 8   Category            244768 non-null  object\n",
      " 9   SalaryRaw           244768 non-null  object\n",
      " 10  SalaryNormalized    244768 non-null  int64 \n",
      " 11  SourceName          244767 non-null  object\n",
      "dtypes: int64(2), object(10)\n",
      "memory usage: 22.4+ MB\n"
     ]
    }
   ],
   "source": [
    "train.info()"
   ]
  },
  {
   "cell_type": "markdown",
   "id": "d59b561f",
   "metadata": {},
   "source": [
    "* Observa-se que existem 244768 linhas nesse dataSet.\n",
    "* Pode-se observar que temos vários dados faltantes em algumas colunas, são elas : ContractType, ContractTime e Company."
   ]
  },
  {
   "cell_type": "code",
   "execution_count": 22,
   "id": "8c1cd9f5",
   "metadata": {},
   "outputs": [
    {
     "name": "stdout",
     "output_type": "stream",
     "text": [
      "<class 'pandas.core.frame.DataFrame'>\n",
      "RangeIndex: 122463 entries, 0 to 122462\n",
      "Data columns (total 10 columns):\n",
      " #   Column              Non-Null Count   Dtype \n",
      "---  ------              --------------   ----- \n",
      " 0   Id                  122463 non-null  int64 \n",
      " 1   Title               122463 non-null  object\n",
      " 2   FullDescription     122463 non-null  object\n",
      " 3   LocationRaw         122463 non-null  object\n",
      " 4   LocationNormalized  122463 non-null  object\n",
      " 5   ContractType        33013 non-null   object\n",
      " 6   ContractTime        90702 non-null   object\n",
      " 7   Company             106202 non-null  object\n",
      " 8   Category            122463 non-null  object\n",
      " 9   SourceName          122463 non-null  object\n",
      "dtypes: int64(1), object(9)\n",
      "memory usage: 9.3+ MB\n"
     ]
    }
   ],
   "source": [
    "test.info()"
   ]
  },
  {
   "cell_type": "markdown",
   "id": "df918472",
   "metadata": {},
   "source": [
    "* Observa-se que existem 122463 linhas nesse dataSet.\n",
    "* Pode-se observar que temos vários dados faltantes em algumas colunas, são elas : ContractType, ContractTime e Company."
   ]
  },
  {
   "cell_type": "code",
   "execution_count": 23,
   "id": "7c5be364",
   "metadata": {},
   "outputs": [
    {
     "name": "stdout",
     "output_type": "stream",
     "text": [
      "<class 'pandas.core.frame.DataFrame'>\n",
      "RangeIndex: 40663 entries, 0 to 40662\n",
      "Data columns (total 10 columns):\n",
      " #   Column              Non-Null Count  Dtype \n",
      "---  ------              --------------  ----- \n",
      " 0   Id                  40663 non-null  int64 \n",
      " 1   Title               40663 non-null  object\n",
      " 2   FullDescription     40663 non-null  object\n",
      " 3   LocationRaw         40663 non-null  object\n",
      " 4   LocationNormalized  40663 non-null  object\n",
      " 5   ContractType        10968 non-null  object\n",
      " 6   ContractTime        30181 non-null  object\n",
      " 7   Company             35312 non-null  object\n",
      " 8   Category            40663 non-null  object\n",
      " 9   SourceName          40663 non-null  object\n",
      "dtypes: int64(1), object(9)\n",
      "memory usage: 3.1+ MB\n"
     ]
    }
   ],
   "source": [
    "valid.info()"
   ]
  },
  {
   "cell_type": "markdown",
   "id": "82959097",
   "metadata": {},
   "source": [
    "* Observa-se que existem 40663 linhas nesse dataSet.\n",
    "* Pode-se observar que temos vários dados faltantes em algumas colunas, são elas : ContractType, ContractTime e Company."
   ]
  },
  {
   "cell_type": "markdown",
   "id": "535406e2",
   "metadata": {},
   "source": [
    "### Verificando duplicidade de dados nos DataSets."
   ]
  },
  {
   "cell_type": "code",
   "execution_count": 19,
   "id": "6ea7c622",
   "metadata": {},
   "outputs": [
    {
     "data": {
      "text/plain": [
       "(244768, 122463, 40663)"
      ]
     },
     "execution_count": 19,
     "metadata": {},
     "output_type": "execute_result"
    }
   ],
   "source": [
    "train.Id.unique().size, test.Id.unique().size, valid.Id.unique().size"
   ]
  },
  {
   "cell_type": "markdown",
   "id": "271c8b4f",
   "metadata": {},
   "source": [
    "* Pode-se verificar que o Id é único em todos os datasets."
   ]
  }
 ],
 "metadata": {
  "kernelspec": {
   "display_name": "Python 3",
   "language": "python",
   "name": "python3"
  },
  "language_info": {
   "codemirror_mode": {
    "name": "ipython",
    "version": 3
   },
   "file_extension": ".py",
   "mimetype": "text/x-python",
   "name": "python",
   "nbconvert_exporter": "python",
   "pygments_lexer": "ipython3",
   "version": "3.8.8"
  }
 },
 "nbformat": 4,
 "nbformat_minor": 5
}
