{
  "cells": [
    {
      "cell_type": "markdown",
      "metadata": {
        "id": "view-in-github",
        "colab_type": "text"
      },
      "source": [
        "<a href=\"https://colab.research.google.com/github/NophaieViscente/PredictSalary/blob/main/PredictSalary_RegressionProblemExample_AED.ipynb\" target=\"_parent\"><img src=\"https://colab.research.google.com/assets/colab-badge.svg\" alt=\"Open In Colab\"/></a>"
      ]
    },
    {
      "cell_type": "code",
      "source": [
        "from google.colab import drive\n",
        "drive.mount('/content/drive')"
      ],
      "metadata": {
        "colab": {
          "base_uri": "https://localhost:8080/"
        },
        "id": "Vyw-JxJiXrMR",
        "outputId": "98873984-015e-4f21-ab86-f2869c82f902"
      },
      "id": "Vyw-JxJiXrMR",
      "execution_count": 1,
      "outputs": [
        {
          "output_type": "stream",
          "name": "stdout",
          "text": [
            "Drive already mounted at /content/drive; to attempt to forcibly remount, call drive.mount(\"/content/drive\", force_remount=True).\n"
          ]
        }
      ]
    },
    {
      "cell_type": "markdown",
      "id": "2ebbe6fc",
      "metadata": {
        "id": "2ebbe6fc"
      },
      "source": [
        "# Predição de Salário - Problema de Regressão\n",
        "* Este projeto tem por objetivo, efetuar uma predição dos salários para determinados empregos, com base em um conjunto de dados usando o seu texto.\n",
        "* O projeto será totalmente executado dentro deste Notebook."
      ]
    },
    {
      "cell_type": "markdown",
      "id": "95b05c58",
      "metadata": {
        "id": "95b05c58"
      },
      "source": [
        "# Carregando as bibliotecas necessárias.\n",
        "\n",
        "* A seguir será efetuado o carregamento das bibliotecas necessárias para uso no projeto."
      ]
    },
    {
      "cell_type": "code",
      "execution_count": 2,
      "id": "e36099fa",
      "metadata": {
        "id": "e36099fa"
      },
      "outputs": [],
      "source": [
        "import pandas as pd\n",
        "import matplotlib.pyplot as plt\n",
        "import re"
      ]
    },
    {
      "cell_type": "markdown",
      "id": "e24edb35",
      "metadata": {
        "id": "e24edb35"
      },
      "source": [
        "# Carregando os dados.\n",
        "\n",
        "* A seguir é efetuado o carregamento dos dados para uso no projeto."
      ]
    },
    {
      "cell_type": "code",
      "execution_count": 3,
      "id": "50e16f8a",
      "metadata": {
        "id": "50e16f8a"
      },
      "outputs": [],
      "source": [
        "train = pd.read_csv(f'/content/drive/MyDrive/Train_rev1.csv')\n",
        "#test = pd.read_csv(f'/content/drive/MyDrive/Test_rev1.csv')\n",
        "#valid = pd.read_csv(f'/content/drive/MyDrive/Valid_rev1.csv')\n",
        "#location = pd.read_csv(f'/content/drive/MyDrive/Location_Tree.csv',header=None)"
      ]
    },
    {
      "cell_type": "markdown",
      "id": "f506588b",
      "metadata": {
        "id": "f506588b"
      },
      "source": [
        "# AED (Análise Exploratória de Dados)\n",
        "* Esta parte do projeto destina-se a análise exploratória de dados, parte importante de um projeto de DataScience. Através dessa primeira análise poderemos ter noções sobre o conjunto de dados que estamos trabalhando e também aplicar limpeza e transformação de dados.\n",
        " "
      ]
    },
    {
      "cell_type": "markdown",
      "id": "29924e1f",
      "metadata": {
        "id": "29924e1f"
      },
      "source": [
        "### Validando as informações dos dataSets."
      ]
    },
    {
      "cell_type": "code",
      "execution_count": 4,
      "id": "b9d8a5da",
      "metadata": {
        "colab": {
          "base_uri": "https://localhost:8080/"
        },
        "id": "b9d8a5da",
        "outputId": "abbcd86b-4c83-404e-9c14-06ad3ac9fc84"
      },
      "outputs": [
        {
          "output_type": "stream",
          "name": "stdout",
          "text": [
            "<class 'pandas.core.frame.DataFrame'>\n",
            "RangeIndex: 244768 entries, 0 to 244767\n",
            "Data columns (total 12 columns):\n",
            " #   Column              Non-Null Count   Dtype \n",
            "---  ------              --------------   ----- \n",
            " 0   Id                  244768 non-null  int64 \n",
            " 1   Title               244767 non-null  object\n",
            " 2   FullDescription     244768 non-null  object\n",
            " 3   LocationRaw         244768 non-null  object\n",
            " 4   LocationNormalized  244768 non-null  object\n",
            " 5   ContractType        65442 non-null   object\n",
            " 6   ContractTime        180863 non-null  object\n",
            " 7   Company             212338 non-null  object\n",
            " 8   Category            244768 non-null  object\n",
            " 9   SalaryRaw           244768 non-null  object\n",
            " 10  SalaryNormalized    244768 non-null  int64 \n",
            " 11  SourceName          244767 non-null  object\n",
            "dtypes: int64(2), object(10)\n",
            "memory usage: 22.4+ MB\n"
          ]
        }
      ],
      "source": [
        "train.info()"
      ]
    },
    {
      "cell_type": "markdown",
      "id": "d59b561f",
      "metadata": {
        "id": "d59b561f"
      },
      "source": [
        "* Observa-se que existem 244768 linhas nesse dataSet.\n",
        "* Pode-se observar que temos vários dados faltantes em algumas colunas, são elas : ContractType, ContractTime e Company.\n",
        "* Um item faltante em Title."
      ]
    },
    {
      "cell_type": "markdown",
      "id": "2d785a59",
      "metadata": {
        "id": "2d785a59"
      },
      "source": [
        "### Encontrando o item faltante no Cargo.\n",
        "* Encontrar o indice do item faltante para validar se pode ser adicionado manualmente o cargo."
      ]
    },
    {
      "cell_type": "code",
      "execution_count": 5,
      "id": "818e21de",
      "metadata": {
        "colab": {
          "base_uri": "https://localhost:8080/"
        },
        "id": "818e21de",
        "outputId": "991ef35a-dbbe-47dd-b435-c272b2b83079"
      },
      "outputs": [
        {
          "output_type": "stream",
          "name": "stdout",
          "text": [
            "1588\n"
          ]
        }
      ],
      "source": [
        "for indice,conteudo in train.Title.items():\n",
        "    if type(conteudo) != str :\n",
        "      print(indice)"
      ]
    },
    {
      "cell_type": "code",
      "execution_count": 6,
      "id": "c97ef013",
      "metadata": {
        "colab": {
          "base_uri": "https://localhost:8080/"
        },
        "id": "c97ef013",
        "outputId": "fc2b5bbd-895a-452e-e7ed-8d0a5b530699"
      },
      "outputs": [
        {
          "output_type": "execute_result",
          "data": {
            "text/plain": [
              "Id                                                             48271669\n",
              "Title                                                               NaN\n",
              "FullDescription       Quality Improvement Manager North West England...\n",
              "LocationRaw                                       Liverpool, Merseyside\n",
              "LocationNormalized                                            Liverpool\n",
              "ContractType                                                  full_time\n",
              "ContractTime                                                        NaN\n",
              "Company                                                             NaN\n",
              "Category                                      Healthcare & Nursing Jobs\n",
              "SalaryRaw                                     40,000 to 45,000 per year\n",
              "SalaryNormalized                                                  42500\n",
              "SourceName                                               careworx.co.uk\n",
              "Name: 1588, dtype: object"
            ]
          },
          "metadata": {},
          "execution_count": 6
        }
      ],
      "source": [
        "train.loc[1588]"
      ]
    },
    {
      "cell_type": "markdown",
      "id": "b0ec5b67",
      "metadata": {
        "id": "b0ec5b67"
      },
      "source": [
        "* Verificado o item de indice 1588, onde o cargo é o 'Quality Improvement Manager'"
      ]
    },
    {
      "cell_type": "markdown",
      "id": "3527c424",
      "metadata": {
        "id": "3527c424"
      },
      "source": [
        "* Adicionar dados ao indice 1588 "
      ]
    },
    {
      "cell_type": "code",
      "execution_count": 7,
      "id": "e7049054",
      "metadata": {
        "id": "e7049054"
      },
      "outputs": [],
      "source": [
        "train.loc[[1588],'Title'] = 'Quality Improvement Manager'"
      ]
    },
    {
      "cell_type": "markdown",
      "id": "4a61fa39",
      "metadata": {
        "id": "4a61fa39"
      },
      "source": [
        "* Validar dados adicionados."
      ]
    },
    {
      "cell_type": "code",
      "execution_count": 8,
      "id": "19002d6b",
      "metadata": {
        "colab": {
          "base_uri": "https://localhost:8080/"
        },
        "id": "19002d6b",
        "outputId": "be428fda-0328-47a2-eaa7-044852b6836f"
      },
      "outputs": [
        {
          "output_type": "stream",
          "name": "stdout",
          "text": [
            "<class 'pandas.core.frame.DataFrame'>\n",
            "RangeIndex: 244768 entries, 0 to 244767\n",
            "Data columns (total 12 columns):\n",
            " #   Column              Non-Null Count   Dtype \n",
            "---  ------              --------------   ----- \n",
            " 0   Id                  244768 non-null  int64 \n",
            " 1   Title               244768 non-null  object\n",
            " 2   FullDescription     244768 non-null  object\n",
            " 3   LocationRaw         244768 non-null  object\n",
            " 4   LocationNormalized  244768 non-null  object\n",
            " 5   ContractType        65442 non-null   object\n",
            " 6   ContractTime        180863 non-null  object\n",
            " 7   Company             212338 non-null  object\n",
            " 8   Category            244768 non-null  object\n",
            " 9   SalaryRaw           244768 non-null  object\n",
            " 10  SalaryNormalized    244768 non-null  int64 \n",
            " 11  SourceName          244767 non-null  object\n",
            "dtypes: int64(2), object(10)\n",
            "memory usage: 22.4+ MB\n"
          ]
        },
        {
          "output_type": "execute_result",
          "data": {
            "text/plain": [
              "(None, Id                                                             48271669\n",
              " Title                                       Quality Improvement Manager\n",
              " FullDescription       Quality Improvement Manager North West England...\n",
              " LocationRaw                                       Liverpool, Merseyside\n",
              " LocationNormalized                                            Liverpool\n",
              " ContractType                                                  full_time\n",
              " ContractTime                                                        NaN\n",
              " Company                                                             NaN\n",
              " Category                                      Healthcare & Nursing Jobs\n",
              " SalaryRaw                                     40,000 to 45,000 per year\n",
              " SalaryNormalized                                                  42500\n",
              " SourceName                                               careworx.co.uk\n",
              " Name: 1588, dtype: object)"
            ]
          },
          "metadata": {},
          "execution_count": 8
        }
      ],
      "source": [
        "train.info(), train.loc[1588]"
      ]
    },
    {
      "cell_type": "markdown",
      "id": "ac38c457",
      "metadata": {
        "id": "ac38c457"
      },
      "source": [
        "* Verifica-se que fora adicionado o dado."
      ]
    },
    {
      "cell_type": "code",
      "execution_count": 9,
      "id": "8c1cd9f5",
      "metadata": {
        "id": "8c1cd9f5"
      },
      "outputs": [],
      "source": [
        "#test.info()"
      ]
    },
    {
      "cell_type": "markdown",
      "id": "df918472",
      "metadata": {
        "id": "df918472"
      },
      "source": [
        "* Observa-se que existem 122463 linhas nesse dataSet.\n",
        "* Pode-se observar que temos vários dados faltantes em algumas colunas, são elas : ContractType, ContractTime e Company."
      ]
    },
    {
      "cell_type": "code",
      "execution_count": 10,
      "id": "7c5be364",
      "metadata": {
        "id": "7c5be364"
      },
      "outputs": [],
      "source": [
        "#valid.info()"
      ]
    },
    {
      "cell_type": "markdown",
      "id": "82959097",
      "metadata": {
        "id": "82959097"
      },
      "source": [
        "* Observa-se que existem 40663 linhas nesse dataSet.\n",
        "* Pode-se observar que temos vários dados faltantes em algumas colunas, são elas : ContractType, ContractTime e Company."
      ]
    },
    {
      "cell_type": "markdown",
      "id": "535406e2",
      "metadata": {
        "id": "535406e2"
      },
      "source": [
        "### Verificando duplicidade de dados nos DataSets."
      ]
    },
    {
      "cell_type": "code",
      "execution_count": 11,
      "id": "6ea7c622",
      "metadata": {
        "id": "6ea7c622"
      },
      "outputs": [],
      "source": [
        "#train.Id.unique().size, test.Id.unique().size, valid.Id.unique().size"
      ]
    },
    {
      "cell_type": "markdown",
      "id": "271c8b4f",
      "metadata": {
        "id": "271c8b4f"
      },
      "source": [
        "* Pode-se verificar que o Id é único em todos os datasets."
      ]
    },
    {
      "cell_type": "markdown",
      "id": "b77ab7fa",
      "metadata": {
        "id": "b77ab7fa"
      },
      "source": [
        "### Verificando os dados.\n",
        "* Usando um histograma para validar a distribuição dos dados do Salário Normalizado"
      ]
    },
    {
      "cell_type": "code",
      "execution_count": 12,
      "id": "091f3764",
      "metadata": {
        "colab": {
          "base_uri": "https://localhost:8080/",
          "height": 283
        },
        "id": "091f3764",
        "outputId": "e8a36dd3-a9fb-4ae6-eef3-d99183ee7c4a"
      },
      "outputs": [
        {
          "output_type": "execute_result",
          "data": {
            "text/plain": [
              "<matplotlib.axes._subplots.AxesSubplot at 0x7f3c26ec2290>"
            ]
          },
          "metadata": {},
          "execution_count": 12
        },
        {
          "output_type": "display_data",
          "data": {
            "image/png": "[encoded data removed]",
            "text/plain": [
              "<Figure size 432x288 with 1 Axes>"
            ]
          },
          "metadata": {
            "needs_background": "light"
          }
        }
      ],
      "source": [
        "train.SalaryNormalized.hist(bins=50)"
      ]
    },
    {
      "cell_type": "markdown",
      "id": "66733a2d",
      "metadata": {
        "id": "66733a2d"
      },
      "source": [
        "# Pré-Processamento de dados.\n",
        "* Nessa fase iremos preparar os dados para a modelagem, com auxílio de algumas análises."
      ]
    },
    {
      "cell_type": "markdown",
      "id": "432a73d5",
      "metadata": {
        "id": "432a73d5"
      },
      "source": [
        "### Utilizando uma cópia do DataSet.\n",
        "* Utilizando essa técnica para se caso ocorra um erro apenas recarreguemos o dataset inicial de treino, retornando desse ponto."
      ]
    },
    {
      "cell_type": "code",
      "execution_count": 13,
      "id": "50745543",
      "metadata": {
        "id": "50745543"
      },
      "outputs": [],
      "source": [
        "df_tmp = train.copy()"
      ]
    },
    {
      "cell_type": "markdown",
      "id": "aa2cb74a",
      "metadata": {
        "id": "aa2cb74a"
      },
      "source": [
        "### Transformando os dados.\n",
        "* Transformando os dados de cargos todos em caracteres minúsculos."
      ]
    },
    {
      "cell_type": "code",
      "execution_count": 14,
      "id": "4699aee5",
      "metadata": {
        "id": "4699aee5"
      },
      "outputs": [],
      "source": [
        "#df_tmp.Title = df_tmp.Title.str.lower()"
      ]
    },
    {
      "cell_type": "code",
      "source": [
        "df_tmp.groupby('LocationRaw').count().sort_values(by='SalaryNormalized',ascending=True)"
      ],
      "metadata": {
        "colab": {
          "base_uri": "https://localhost:8080/",
          "height": 551
        },
        "id": "Q_A-g_pSO8ur",
        "outputId": "40b835d4-3948-47df-bd1b-c51b1b56ace1"
      },
      "id": "Q_A-g_pSO8ur",
      "execution_count": 15,
      "outputs": [
        {
          "output_type": "execute_result",
          "data": {
            "text/html": [
              "\n",
              "  <div id=\"df-38e5ec1f-c788-4d4e-91d0-b53304d3f0df\">\n",
              "    <div class=\"colab-df-container\">\n",
              "      <div>\n",
              "<style scoped>\n",
              "    .dataframe tbody tr th:only-of-type {\n",
              "        vertical-align: middle;\n",
              "    }\n",
              "\n",
              "    .dataframe tbody tr th {\n",
              "        vertical-align: top;\n",
              "    }\n",
              "\n",
              "    .dataframe thead th {\n",
              "        text-align: right;\n",
              "    }\n",
              "</style>\n",
              "<table border=\"1\" class=\"dataframe\">\n",
              "  <thead>\n",
              "    <tr style=\"text-align: right;\">\n",
              "      <th></th>\n",
              "      <th>Id</th>\n",
              "      <th>Title</th>\n",
              "      <th>FullDescription</th>\n",
              "      <th>LocationNormalized</th>\n",
              "      <th>ContractType</th>\n",
              "      <th>ContractTime</th>\n",
              "      <th>Company</th>\n",
              "      <th>Category</th>\n",
              "      <th>SalaryRaw</th>\n",
              "      <th>SalaryNormalized</th>\n",
              "      <th>SourceName</th>\n",
              "    </tr>\n",
              "    <tr>\n",
              "      <th>LocationRaw</th>\n",
              "      <th></th>\n",
              "      <th></th>\n",
              "      <th></th>\n",
              "      <th></th>\n",
              "      <th></th>\n",
              "      <th></th>\n",
              "      <th></th>\n",
              "      <th></th>\n",
              "      <th></th>\n",
              "      <th></th>\n",
              "      <th></th>\n",
              "    </tr>\n",
              "  </thead>\n",
              "  <tbody>\n",
              "    <tr>\n",
              "      <th>London, Middlesex, Hertfordshire, Buckinghamshire, Surrey, , Greater London</th>\n",
              "      <td>1</td>\n",
              "      <td>1</td>\n",
              "      <td>1</td>\n",
              "      <td>1</td>\n",
              "      <td>0</td>\n",
              "      <td>0</td>\n",
              "      <td>1</td>\n",
              "      <td>1</td>\n",
              "      <td>1</td>\n",
              "      <td>1</td>\n",
              "      <td>1</td>\n",
              "    </tr>\n",
              "    <tr>\n",
              "      <th>Nass</th>\n",
              "      <td>1</td>\n",
              "      <td>1</td>\n",
              "      <td>1</td>\n",
              "      <td>1</td>\n",
              "      <td>1</td>\n",
              "      <td>0</td>\n",
              "      <td>1</td>\n",
              "      <td>1</td>\n",
              "      <td>1</td>\n",
              "      <td>1</td>\n",
              "      <td>1</td>\n",
              "    </tr>\n",
              "    <tr>\n",
              "      <th>National - Midlands, Home Counties, Thames Valley, South</th>\n",
              "      <td>1</td>\n",
              "      <td>1</td>\n",
              "      <td>1</td>\n",
              "      <td>1</td>\n",
              "      <td>0</td>\n",
              "      <td>1</td>\n",
              "      <td>1</td>\n",
              "      <td>1</td>\n",
              "      <td>1</td>\n",
              "      <td>1</td>\n",
              "      <td>1</td>\n",
              "    </tr>\n",
              "    <tr>\n",
              "      <th>National Role - Preferably Midlands/North West</th>\n",
              "      <td>1</td>\n",
              "      <td>1</td>\n",
              "      <td>1</td>\n",
              "      <td>1</td>\n",
              "      <td>1</td>\n",
              "      <td>1</td>\n",
              "      <td>1</td>\n",
              "      <td>1</td>\n",
              "      <td>1</td>\n",
              "      <td>1</td>\n",
              "      <td>1</td>\n",
              "    </tr>\n",
              "    <tr>\n",
              "      <th>National Role but Ideally based in the North of England</th>\n",
              "      <td>1</td>\n",
              "      <td>1</td>\n",
              "      <td>1</td>\n",
              "      <td>1</td>\n",
              "      <td>1</td>\n",
              "      <td>1</td>\n",
              "      <td>1</td>\n",
              "      <td>1</td>\n",
              "      <td>1</td>\n",
              "      <td>1</td>\n",
              "      <td>1</td>\n",
              "    </tr>\n",
              "    <tr>\n",
              "      <th>...</th>\n",
              "      <td>...</td>\n",
              "      <td>...</td>\n",
              "      <td>...</td>\n",
              "      <td>...</td>\n",
              "      <td>...</td>\n",
              "      <td>...</td>\n",
              "      <td>...</td>\n",
              "      <td>...</td>\n",
              "      <td>...</td>\n",
              "      <td>...</td>\n",
              "      <td>...</td>\n",
              "    </tr>\n",
              "    <tr>\n",
              "      <th>City of London - London</th>\n",
              "      <td>2344</td>\n",
              "      <td>2344</td>\n",
              "      <td>2344</td>\n",
              "      <td>2344</td>\n",
              "      <td>2344</td>\n",
              "      <td>2309</td>\n",
              "      <td>2344</td>\n",
              "      <td>2344</td>\n",
              "      <td>2344</td>\n",
              "      <td>2344</td>\n",
              "      <td>2344</td>\n",
              "    </tr>\n",
              "    <tr>\n",
              "      <th>City London South East</th>\n",
              "      <td>2843</td>\n",
              "      <td>2843</td>\n",
              "      <td>2843</td>\n",
              "      <td>2843</td>\n",
              "      <td>15</td>\n",
              "      <td>2667</td>\n",
              "      <td>2843</td>\n",
              "      <td>2843</td>\n",
              "      <td>2843</td>\n",
              "      <td>2843</td>\n",
              "      <td>2843</td>\n",
              "    </tr>\n",
              "    <tr>\n",
              "      <th>UK</th>\n",
              "      <td>5538</td>\n",
              "      <td>5538</td>\n",
              "      <td>5538</td>\n",
              "      <td>5538</td>\n",
              "      <td>2758</td>\n",
              "      <td>4685</td>\n",
              "      <td>5086</td>\n",
              "      <td>5538</td>\n",
              "      <td>5538</td>\n",
              "      <td>5538</td>\n",
              "      <td>5538</td>\n",
              "    </tr>\n",
              "    <tr>\n",
              "      <th>London South East</th>\n",
              "      <td>8689</td>\n",
              "      <td>8689</td>\n",
              "      <td>8689</td>\n",
              "      <td>8689</td>\n",
              "      <td>34</td>\n",
              "      <td>7759</td>\n",
              "      <td>8688</td>\n",
              "      <td>8689</td>\n",
              "      <td>8689</td>\n",
              "      <td>8689</td>\n",
              "      <td>8689</td>\n",
              "    </tr>\n",
              "    <tr>\n",
              "      <th>London</th>\n",
              "      <td>15605</td>\n",
              "      <td>15605</td>\n",
              "      <td>15605</td>\n",
              "      <td>15605</td>\n",
              "      <td>6362</td>\n",
              "      <td>12623</td>\n",
              "      <td>12819</td>\n",
              "      <td>15605</td>\n",
              "      <td>15605</td>\n",
              "      <td>15605</td>\n",
              "      <td>15605</td>\n",
              "    </tr>\n",
              "  </tbody>\n",
              "</table>\n",
              "<p>20986 rows × 11 columns</p>\n",
              "</div>\n",
              "      <button class=\"colab-df-convert\" onclick=\"convertToInteractive('df-38e5ec1f-c788-4d4e-91d0-b53304d3f0df')\"\n",
              "              title=\"Convert this dataframe to an interactive table.\"\n",
              "              style=\"display:none;\">\n",
              "        \n",
              "  <svg xmlns=\"http://www.w3.org/2000/svg\" height=\"24px\"viewBox=\"0 0 24 24\"\n",
              "       width=\"24px\">\n",
              "    <path d=\"M0 0h24v24H0V0z\" fill=\"none\"/>\n",
              "    <path d=\"M18.56 5.44l.94 2.06.94-2.06 2.06-.94-2.06-.94-.94-2.06-.94 2.06-2.06.94zm-11 1L8.5 8.5l.94-2.06 2.06-.94-2.06-.94L8.5 2.5l-.94 2.06-2.06.94zm10 10l.94 2.06.94-2.06 2.06-.94-2.06-.94-.94-2.06-.94 2.06-2.06.94z\"/><path d=\"M17.41 7.96l-1.37-1.37c-.4-.4-.92-.59-1.43-.59-.52 0-1.04.2-1.43.59L10.3 9.45l-7.72 7.72c-.78.78-.78 2.05 0 2.83L4 21.41c.39.39.9.59 1.41.59.51 0 1.02-.2 1.41-.59l7.78-7.78 2.81-2.81c.8-.78.8-2.07 0-2.86zM5.41 20L4 18.59l7.72-7.72 1.47 1.35L5.41 20z\"/>\n",
              "  </svg>\n",
              "      </button>\n",
              "      \n",
              "  <style>\n",
              "    .colab-df-container {\n",
              "      display:flex;\n",
              "      flex-wrap:wrap;\n",
              "      gap: 12px;\n",
              "    }\n",
              "\n",
              "    .colab-df-convert {\n",
              "      background-color: #E8F0FE;\n",
              "      border: none;\n",
              "      border-radius: 50%;\n",
              "      cursor: pointer;\n",
              "      display: none;\n",
              "      fill: #1967D2;\n",
              "      height: 32px;\n",
              "      padding: 0 0 0 0;\n",
              "      width: 32px;\n",
              "    }\n",
              "\n",
              "    .colab-df-convert:hover {\n",
              "      background-color: #E2EBFA;\n",
              "      box-shadow: 0px 1px 2px rgba(60, 64, 67, 0.3), 0px 1px 3px 1px rgba(60, 64, 67, 0.15);\n",
              "      fill: #174EA6;\n",
              "    }\n",
              "\n",
              "    [theme=dark] .colab-df-convert {\n",
              "      background-color: #3B4455;\n",
              "      fill: #D2E3FC;\n",
              "    }\n",
              "\n",
              "    [theme=dark] .colab-df-convert:hover {\n",
              "      background-color: #434B5C;\n",
              "      box-shadow: 0px 1px 3px 1px rgba(0, 0, 0, 0.15);\n",
              "      filter: drop-shadow(0px 1px 2px rgba(0, 0, 0, 0.3));\n",
              "      fill: #FFFFFF;\n",
              "    }\n",
              "  </style>\n",
              "\n",
              "      <script>\n",
              "        const buttonEl =\n",
              "          document.querySelector('#df-38e5ec1f-c788-4d4e-91d0-b53304d3f0df button.colab-df-convert');\n",
              "        buttonEl.style.display =\n",
              "          google.colab.kernel.accessAllowed ? 'block' : 'none';\n",
              "\n",
              "        async function convertToInteractive(key) {\n",
              "          const element = document.querySelector('#df-38e5ec1f-c788-4d4e-91d0-b53304d3f0df');\n",
              "          const dataTable =\n",
              "            await google.colab.kernel.invokeFunction('convertToInteractive',\n",
              "                                                     [key], {});\n",
              "          if (!dataTable) return;\n",
              "\n",
              "          const docLinkHtml = 'Like what you see? Visit the ' +\n",
              "            '<a target=\"_blank\" href=https://colab.research.google.com/notebooks/data_table.ipynb>data table notebook</a>'\n",
              "            + ' to learn more about interactive tables.';\n",
              "          element.innerHTML = '';\n",
              "          dataTable['output_type'] = 'display_data';\n",
              "          await google.colab.output.renderOutput(dataTable, element);\n",
              "          const docLink = document.createElement('div');\n",
              "          docLink.innerHTML = docLinkHtml;\n",
              "          element.appendChild(docLink);\n",
              "        }\n",
              "      </script>\n",
              "    </div>\n",
              "  </div>\n",
              "  "
            ],
            "text/plain": [
              "                                                       Id  ...  SourceName\n",
              "LocationRaw                                                ...            \n",
              "London, Middlesex, Hertfordshire, Buckinghamshi...      1  ...           1\n",
              "Nass                                                    1  ...           1\n",
              "National - Midlands, Home Counties, Thames Vall...      1  ...           1\n",
              "National Role - Preferably Midlands/North West          1  ...           1\n",
              "National Role but Ideally based in the North of...      1  ...           1\n",
              "...                                                   ...  ...         ...\n",
              "City of London - London                              2344  ...        2344\n",
              "City London South East                               2843  ...        2843\n",
              "UK                                                   5538  ...        5538\n",
              "London South East                                    8689  ...        8689\n",
              "London                                              15605  ...       15605\n",
              "\n",
              "[20986 rows x 11 columns]"
            ]
          },
          "metadata": {},
          "execution_count": 15
        }
      ]
    },
    {
      "cell_type": "markdown",
      "source": [
        "### Conferindo se a coluna 'SalaryRaw' tem algum valor nulo"
      ],
      "metadata": {
        "id": "gyPwbT5zc7Qd"
      },
      "id": "gyPwbT5zc7Qd"
    },
    {
      "cell_type": "code",
      "source": [
        "df_tmp.SalaryRaw.isna().sum()"
      ],
      "metadata": {
        "colab": {
          "base_uri": "https://localhost:8080/"
        },
        "id": "hRpU5hxUc2qL",
        "outputId": "4f2b8bc3-80f9-4914-8ec7-5a502934974c"
      },
      "id": "hRpU5hxUc2qL",
      "execution_count": 16,
      "outputs": [
        {
          "output_type": "execute_result",
          "data": {
            "text/plain": [
              "0"
            ]
          },
          "metadata": {},
          "execution_count": 16
        }
      ]
    },
    {
      "cell_type": "markdown",
      "source": [
        "### Criação de novas características"
      ],
      "metadata": {
        "id": "vzAPgGizcgX1"
      },
      "id": "vzAPgGizcgX1"
    },
    {
      "cell_type": "markdown",
      "source": [
        "* Criação de lista para alocar os valores de salários. Onde os valores dos salários serão usados para criação de uma possível feature a faixa salarial."
      ],
      "metadata": {
        "id": "fHj4IugUewHY"
      },
      "id": "fHj4IugUewHY"
    },
    {
      "cell_type": "code",
      "source": [
        "def listasSalaryRange (x) :\n",
        "  salary_full_list = x.tolist()\n",
        "  pattern = '[0-9]{1,3}[,.]?[0-9]*'\n",
        "  p = re.compile(pattern)\n",
        "  # Criando uma lista apenas com os números.\n",
        "  onlyDigitSalary = [p.findall(numero) for numero in salary_full_list]\n",
        "  # Alocando a faixa salarial nas uma listas.\n",
        "  LowSalaryRange = [salario[:1] for salario in onlyDigitSalary]\n",
        "  HighSalaryRange = [salario[1:2] for salario in onlyDigitSalary]\n",
        "  # Validando o tamanho da lista ela deve conter o tamanho do DataSet no eixo y.\n",
        "  print(len(LowSalaryRange),len(HighSalaryRange) )\n",
        "  return LowSalaryRange, HighSalaryRange"
      ],
      "metadata": {
        "id": "2N-0v9PQEGml"
      },
      "id": "2N-0v9PQEGml",
      "execution_count": 17,
      "outputs": []
    },
    {
      "cell_type": "code",
      "source": [
        "low, high = listasSalaryRange(df_tmp.SalaryRaw)"
      ],
      "metadata": {
        "colab": {
          "base_uri": "https://localhost:8080/"
        },
        "id": "n0V1E0_iElAS",
        "outputId": "2be00e93-b26e-4fec-de8b-85e9d9f9d2e5"
      },
      "id": "n0V1E0_iElAS",
      "execution_count": 18,
      "outputs": [
        {
          "output_type": "stream",
          "name": "stdout",
          "text": [
            "244768 244768\n"
          ]
        }
      ]
    },
    {
      "cell_type": "markdown",
      "source": [
        "* Verificando o formato da lista de faixa salarial"
      ],
      "metadata": {
        "id": "X3uBvRHLtMmB"
      },
      "id": "X3uBvRHLtMmB"
    },
    {
      "cell_type": "code",
      "source": [
        "low[:10],high[:10]"
      ],
      "metadata": {
        "colab": {
          "base_uri": "https://localhost:8080/"
        },
        "id": "LDG103vMn9UZ",
        "outputId": "cfd037c2-70a3-4b3d-c878-8648c9dab52a"
      },
      "id": "LDG103vMn9UZ",
      "execution_count": 19,
      "outputs": [
        {
          "output_type": "execute_result",
          "data": {
            "text/plain": [
              "([['20000'],\n",
              "  ['25000'],\n",
              "  ['20000'],\n",
              "  ['25000'],\n",
              "  ['20000'],\n",
              "  ['20000'],\n",
              "  ['50000'],\n",
              "  ['18000'],\n",
              "  ['18000'],\n",
              "  ['70000']],\n",
              " [['30000'],\n",
              "  ['35000'],\n",
              "  ['40000'],\n",
              "  ['30000'],\n",
              "  ['30000'],\n",
              "  ['30000'],\n",
              "  ['100000'],\n",
              "  ['26000'],\n",
              "  ['28000'],\n",
              "  ['100000']])"
            ]
          },
          "metadata": {},
          "execution_count": 19
        }
      ]
    },
    {
      "cell_type": "markdown",
      "source": [
        "* Ajustando a lista de Faixa Salarial"
      ],
      "metadata": {
        "id": "ItDwxM2d04H7"
      },
      "id": "ItDwxM2d04H7"
    },
    {
      "cell_type": "code",
      "source": [
        "# Alocando a faixa salarial nas colunas\n",
        "df_tmp['LowSalaryRange'] = low\n",
        "df_tmp['HighSalaryRange'] = high\n",
        "# Retirando os colchetes que vieram com a string\n",
        "df_tmp['LowSalaryRange'] = df_tmp['LowSalaryRange'].str.get(0)\n",
        "df_tmp['HighSalaryRange'] = df_tmp['HighSalaryRange'].str.get(0)"
      ],
      "metadata": {
        "id": "ZeyT2b84-9Yj"
      },
      "id": "ZeyT2b84-9Yj",
      "execution_count": 20,
      "outputs": []
    },
    {
      "cell_type": "code",
      "source": [
        "df_tmp.head()"
      ],
      "metadata": {
        "colab": {
          "base_uri": "https://localhost:8080/",
          "height": 548
        },
        "id": "c6Jxx0mtJf04",
        "outputId": "df5f5b0e-ec7f-446b-823b-141e83798edc"
      },
      "id": "c6Jxx0mtJf04",
      "execution_count": 21,
      "outputs": [
        {
          "output_type": "execute_result",
          "data": {
            "text/html": [
              "\n",
              "  <div id=\"df-d39c6c4f-5e7e-46c4-8757-eb3152e2c804\">\n",
              "    <div class=\"colab-df-container\">\n",
              "      <div>\n",
              "<style scoped>\n",
              "    .dataframe tbody tr th:only-of-type {\n",
              "        vertical-align: middle;\n",
              "    }\n",
              "\n",
              "    .dataframe tbody tr th {\n",
              "        vertical-align: top;\n",
              "    }\n",
              "\n",
              "    .dataframe thead th {\n",
              "        text-align: right;\n",
              "    }\n",
              "</style>\n",
              "<table border=\"1\" class=\"dataframe\">\n",
              "  <thead>\n",
              "    <tr style=\"text-align: right;\">\n",
              "      <th></th>\n",
              "      <th>Id</th>\n",
              "      <th>Title</th>\n",
              "      <th>FullDescription</th>\n",
              "      <th>LocationRaw</th>\n",
              "      <th>LocationNormalized</th>\n",
              "      <th>ContractType</th>\n",
              "      <th>ContractTime</th>\n",
              "      <th>Company</th>\n",
              "      <th>Category</th>\n",
              "      <th>SalaryRaw</th>\n",
              "      <th>SalaryNormalized</th>\n",
              "      <th>SourceName</th>\n",
              "      <th>LowSalaryRange</th>\n",
              "      <th>HighSalaryRange</th>\n",
              "    </tr>\n",
              "  </thead>\n",
              "  <tbody>\n",
              "    <tr>\n",
              "      <th>0</th>\n",
              "      <td>12612628</td>\n",
              "      <td>Engineering Systems Analyst</td>\n",
              "      <td>Engineering Systems Analyst Dorking Surrey Sal...</td>\n",
              "      <td>Dorking, Surrey, Surrey</td>\n",
              "      <td>Dorking</td>\n",
              "      <td>NaN</td>\n",
              "      <td>permanent</td>\n",
              "      <td>Gregory Martin International</td>\n",
              "      <td>Engineering Jobs</td>\n",
              "      <td>20000 - 30000/annum 20-30K</td>\n",
              "      <td>25000</td>\n",
              "      <td>cv-library.co.uk</td>\n",
              "      <td>20000</td>\n",
              "      <td>30000</td>\n",
              "    </tr>\n",
              "    <tr>\n",
              "      <th>1</th>\n",
              "      <td>12612830</td>\n",
              "      <td>Stress Engineer Glasgow</td>\n",
              "      <td>Stress Engineer Glasgow Salary **** to **** We...</td>\n",
              "      <td>Glasgow, Scotland, Scotland</td>\n",
              "      <td>Glasgow</td>\n",
              "      <td>NaN</td>\n",
              "      <td>permanent</td>\n",
              "      <td>Gregory Martin International</td>\n",
              "      <td>Engineering Jobs</td>\n",
              "      <td>25000 - 35000/annum 25-35K</td>\n",
              "      <td>30000</td>\n",
              "      <td>cv-library.co.uk</td>\n",
              "      <td>25000</td>\n",
              "      <td>35000</td>\n",
              "    </tr>\n",
              "    <tr>\n",
              "      <th>2</th>\n",
              "      <td>12612844</td>\n",
              "      <td>Modelling and simulation analyst</td>\n",
              "      <td>Mathematical Modeller / Simulation Analyst / O...</td>\n",
              "      <td>Hampshire, South East, South East</td>\n",
              "      <td>Hampshire</td>\n",
              "      <td>NaN</td>\n",
              "      <td>permanent</td>\n",
              "      <td>Gregory Martin International</td>\n",
              "      <td>Engineering Jobs</td>\n",
              "      <td>20000 - 40000/annum 20-40K</td>\n",
              "      <td>30000</td>\n",
              "      <td>cv-library.co.uk</td>\n",
              "      <td>20000</td>\n",
              "      <td>40000</td>\n",
              "    </tr>\n",
              "    <tr>\n",
              "      <th>3</th>\n",
              "      <td>12613049</td>\n",
              "      <td>Engineering Systems Analyst / Mathematical Mod...</td>\n",
              "      <td>Engineering Systems Analyst / Mathematical Mod...</td>\n",
              "      <td>Surrey, South East, South East</td>\n",
              "      <td>Surrey</td>\n",
              "      <td>NaN</td>\n",
              "      <td>permanent</td>\n",
              "      <td>Gregory Martin International</td>\n",
              "      <td>Engineering Jobs</td>\n",
              "      <td>25000 - 30000/annum 25K-30K negotiable</td>\n",
              "      <td>27500</td>\n",
              "      <td>cv-library.co.uk</td>\n",
              "      <td>25000</td>\n",
              "      <td>30000</td>\n",
              "    </tr>\n",
              "    <tr>\n",
              "      <th>4</th>\n",
              "      <td>12613647</td>\n",
              "      <td>Pioneer, Miser Engineering Systems Analyst</td>\n",
              "      <td>Pioneer, Miser  Engineering Systems Analyst Do...</td>\n",
              "      <td>Surrey, South East, South East</td>\n",
              "      <td>Surrey</td>\n",
              "      <td>NaN</td>\n",
              "      <td>permanent</td>\n",
              "      <td>Gregory Martin International</td>\n",
              "      <td>Engineering Jobs</td>\n",
              "      <td>20000 - 30000/annum 20-30K</td>\n",
              "      <td>25000</td>\n",
              "      <td>cv-library.co.uk</td>\n",
              "      <td>20000</td>\n",
              "      <td>30000</td>\n",
              "    </tr>\n",
              "  </tbody>\n",
              "</table>\n",
              "</div>\n",
              "      <button class=\"colab-df-convert\" onclick=\"convertToInteractive('df-d39c6c4f-5e7e-46c4-8757-eb3152e2c804')\"\n",
              "              title=\"Convert this dataframe to an interactive table.\"\n",
              "              style=\"display:none;\">\n",
              "        \n",
              "  <svg xmlns=\"http://www.w3.org/2000/svg\" height=\"24px\"viewBox=\"0 0 24 24\"\n",
              "       width=\"24px\">\n",
              "    <path d=\"M0 0h24v24H0V0z\" fill=\"none\"/>\n",
              "    <path d=\"M18.56 5.44l.94 2.06.94-2.06 2.06-.94-2.06-.94-.94-2.06-.94 2.06-2.06.94zm-11 1L8.5 8.5l.94-2.06 2.06-.94-2.06-.94L8.5 2.5l-.94 2.06-2.06.94zm10 10l.94 2.06.94-2.06 2.06-.94-2.06-.94-.94-2.06-.94 2.06-2.06.94z\"/><path d=\"M17.41 7.96l-1.37-1.37c-.4-.4-.92-.59-1.43-.59-.52 0-1.04.2-1.43.59L10.3 9.45l-7.72 7.72c-.78.78-.78 2.05 0 2.83L4 21.41c.39.39.9.59 1.41.59.51 0 1.02-.2 1.41-.59l7.78-7.78 2.81-2.81c.8-.78.8-2.07 0-2.86zM5.41 20L4 18.59l7.72-7.72 1.47 1.35L5.41 20z\"/>\n",
              "  </svg>\n",
              "      </button>\n",
              "      \n",
              "  <style>\n",
              "    .colab-df-container {\n",
              "      display:flex;\n",
              "      flex-wrap:wrap;\n",
              "      gap: 12px;\n",
              "    }\n",
              "\n",
              "    .colab-df-convert {\n",
              "      background-color: #E8F0FE;\n",
              "      border: none;\n",
              "      border-radius: 50%;\n",
              "      cursor: pointer;\n",
              "      display: none;\n",
              "      fill: #1967D2;\n",
              "      height: 32px;\n",
              "      padding: 0 0 0 0;\n",
              "      width: 32px;\n",
              "    }\n",
              "\n",
              "    .colab-df-convert:hover {\n",
              "      background-color: #E2EBFA;\n",
              "      box-shadow: 0px 1px 2px rgba(60, 64, 67, 0.3), 0px 1px 3px 1px rgba(60, 64, 67, 0.15);\n",
              "      fill: #174EA6;\n",
              "    }\n",
              "\n",
              "    [theme=dark] .colab-df-convert {\n",
              "      background-color: #3B4455;\n",
              "      fill: #D2E3FC;\n",
              "    }\n",
              "\n",
              "    [theme=dark] .colab-df-convert:hover {\n",
              "      background-color: #434B5C;\n",
              "      box-shadow: 0px 1px 3px 1px rgba(0, 0, 0, 0.15);\n",
              "      filter: drop-shadow(0px 1px 2px rgba(0, 0, 0, 0.3));\n",
              "      fill: #FFFFFF;\n",
              "    }\n",
              "  </style>\n",
              "\n",
              "      <script>\n",
              "        const buttonEl =\n",
              "          document.querySelector('#df-d39c6c4f-5e7e-46c4-8757-eb3152e2c804 button.colab-df-convert');\n",
              "        buttonEl.style.display =\n",
              "          google.colab.kernel.accessAllowed ? 'block' : 'none';\n",
              "\n",
              "        async function convertToInteractive(key) {\n",
              "          const element = document.querySelector('#df-d39c6c4f-5e7e-46c4-8757-eb3152e2c804');\n",
              "          const dataTable =\n",
              "            await google.colab.kernel.invokeFunction('convertToInteractive',\n",
              "                                                     [key], {});\n",
              "          if (!dataTable) return;\n",
              "\n",
              "          const docLinkHtml = 'Like what you see? Visit the ' +\n",
              "            '<a target=\"_blank\" href=https://colab.research.google.com/notebooks/data_table.ipynb>data table notebook</a>'\n",
              "            + ' to learn more about interactive tables.';\n",
              "          element.innerHTML = '';\n",
              "          dataTable['output_type'] = 'display_data';\n",
              "          await google.colab.output.renderOutput(dataTable, element);\n",
              "          const docLink = document.createElement('div');\n",
              "          docLink.innerHTML = docLinkHtml;\n",
              "          element.appendChild(docLink);\n",
              "        }\n",
              "      </script>\n",
              "    </div>\n",
              "  </div>\n",
              "  "
            ],
            "text/plain": [
              "         Id  ... HighSalaryRange\n",
              "0  12612628  ...           30000\n",
              "1  12612830  ...           35000\n",
              "2  12612844  ...           40000\n",
              "3  12613049  ...           30000\n",
              "4  12613647  ...           30000\n",
              "\n",
              "[5 rows x 14 columns]"
            ]
          },
          "metadata": {},
          "execution_count": 21
        }
      ]
    },
    {
      "cell_type": "markdown",
      "source": [
        "### Criando novas características"
      ],
      "metadata": {
        "id": "fNifDePG3M1H"
      },
      "id": "fNifDePG3M1H"
    },
    {
      "cell_type": "markdown",
      "source": [
        "* Criação de função para alocar em nova coluna a base de cálculo para o salário anual"
      ],
      "metadata": {
        "id": "AnvLWAJEe2BJ"
      },
      "id": "AnvLWAJEe2BJ"
    },
    {
      "cell_type": "code",
      "source": [
        "def base_calculo_salarial(x):\n",
        "    y=\"\"\n",
        "    if \"year\" in str(x):\n",
        "      y = \"Yearly\"\n",
        "    elif \"py\" in str(x):\n",
        "      y = \"Yearly\"\n",
        "    elif \"annum\" in str(x):\n",
        "      y = \"Yearly\"\n",
        "    elif \"pa\" in str(x):\n",
        "      y = \"Yearly\"\n",
        "    elif \"p.a\" in str(x):\n",
        "      y = \"Yearly\"\n",
        "    elif \"hour\" in str(x):\n",
        "      y = \"Hourly\"\n",
        "    elif \"p.h\" in str(x):\n",
        "      y = 'Hourly'\n",
        "    elif \"ph\" in str(x):\n",
        "      y = 'Hourly'   \n",
        "    elif \"day\" in str(x):\n",
        "      y = \"Daily\"\n",
        "    elif \"pd\" in str(x):\n",
        "      y = \"Daily\"\n",
        "    elif \"p.d\" in str(x):\n",
        "      y = \"Daily\"\n",
        "    elif \"week\" in str(x):\n",
        "      y = \"Weekly\"\n",
        "    elif \"pw\" in str(x):\n",
        "      y = \"Weekly\"\n",
        "    elif \"p.w\" in str(x):\n",
        "      y = \"Weekly\"\n",
        "    \n",
        "    return y"
      ],
      "metadata": {
        "id": "NV4vUDTpeK36"
      },
      "id": "NV4vUDTpeK36",
      "execution_count": 22,
      "outputs": []
    },
    {
      "cell_type": "code",
      "source": [
        "df_tmp['Rate_by'] = df_tmp['SalaryRaw'].apply(base_calculo_salarial)"
      ],
      "metadata": {
        "id": "HWYvfq55fmGm"
      },
      "id": "HWYvfq55fmGm",
      "execution_count": 23,
      "outputs": []
    },
    {
      "cell_type": "markdown",
      "source": [
        "* Filtrando os dados que não tinham descrição de base de cálculo salarial"
      ],
      "metadata": {
        "id": "8yiUipmCmvPK"
      },
      "id": "8yiUipmCmvPK"
    },
    {
      "cell_type": "code",
      "source": [
        "filtroBaseCalculo = df_tmp['Rate_by'] == \"\"\n",
        "df_tmp[filtroBaseCalculo]"
      ],
      "metadata": {
        "id": "HYa2eM00i61X",
        "colab": {
          "base_uri": "https://localhost:8080/",
          "height": 938
        },
        "outputId": "5324466d-5ec0-4cb1-fc9b-d47ad624a680"
      },
      "id": "HYa2eM00i61X",
      "execution_count": 24,
      "outputs": [
        {
          "output_type": "execute_result",
          "data": {
            "text/html": [
              "\n",
              "  <div id=\"df-23a4474a-1de1-438c-b8d9-6624096a8b9e\">\n",
              "    <div class=\"colab-df-container\">\n",
              "      <div>\n",
              "<style scoped>\n",
              "    .dataframe tbody tr th:only-of-type {\n",
              "        vertical-align: middle;\n",
              "    }\n",
              "\n",
              "    .dataframe tbody tr th {\n",
              "        vertical-align: top;\n",
              "    }\n",
              "\n",
              "    .dataframe thead th {\n",
              "        text-align: right;\n",
              "    }\n",
              "</style>\n",
              "<table border=\"1\" class=\"dataframe\">\n",
              "  <thead>\n",
              "    <tr style=\"text-align: right;\">\n",
              "      <th></th>\n",
              "      <th>Id</th>\n",
              "      <th>Title</th>\n",
              "      <th>FullDescription</th>\n",
              "      <th>LocationRaw</th>\n",
              "      <th>LocationNormalized</th>\n",
              "      <th>ContractType</th>\n",
              "      <th>ContractTime</th>\n",
              "      <th>Company</th>\n",
              "      <th>Category</th>\n",
              "      <th>SalaryRaw</th>\n",
              "      <th>SalaryNormalized</th>\n",
              "      <th>SourceName</th>\n",
              "      <th>LowSalaryRange</th>\n",
              "      <th>HighSalaryRange</th>\n",
              "      <th>Rate_by</th>\n",
              "    </tr>\n",
              "  </thead>\n",
              "  <tbody>\n",
              "    <tr>\n",
              "      <th>65</th>\n",
              "      <td>31794403</td>\n",
              "      <td>Senior **** IT Recruitment Consulltant</td>\n",
              "      <td>Inspire is a leading IT services company speci...</td>\n",
              "      <td>Lingfield, Surrey ,</td>\n",
              "      <td>Lingfield</td>\n",
              "      <td>full_time</td>\n",
              "      <td>NaN</td>\n",
              "      <td>Inspire Corporation</td>\n",
              "      <td>Other/General Jobs</td>\n",
              "      <td>20 - 25k Basic,  70 - 75K OTE+++</td>\n",
              "      <td>22500</td>\n",
              "      <td>zartis.com</td>\n",
              "      <td>20</td>\n",
              "      <td>25</td>\n",
              "      <td></td>\n",
              "    </tr>\n",
              "    <tr>\n",
              "      <th>66</th>\n",
              "      <td>31935432</td>\n",
              "      <td>Chef de Partie  Sutton Hall, Macclesfield</td>\n",
              "      <td>We're looking for an ambitious and committed c...</td>\n",
              "      <td>Gurnett, Cheshire</td>\n",
              "      <td>UK</td>\n",
              "      <td>NaN</td>\n",
              "      <td>permanent</td>\n",
              "      <td>Brunning &amp; Price</td>\n",
              "      <td>Travel Jobs</td>\n",
              "      <td>16,500 to 18,000</td>\n",
              "      <td>17250</td>\n",
              "      <td>leisurejobs.com</td>\n",
              "      <td>16,500</td>\n",
              "      <td>18,000</td>\n",
              "      <td></td>\n",
              "    </tr>\n",
              "    <tr>\n",
              "      <th>113</th>\n",
              "      <td>38209887</td>\n",
              "      <td>Transaction Services Executive</td>\n",
              "      <td>Transaction Services Executive ****  **** plus...</td>\n",
              "      <td>Bristol</td>\n",
              "      <td>Bristol</td>\n",
              "      <td>NaN</td>\n",
              "      <td>permanent</td>\n",
              "      <td>NaN</td>\n",
              "      <td>Accounting &amp; Finance Jobs</td>\n",
              "      <td>35,000 - 40,000</td>\n",
              "      <td>37500</td>\n",
              "      <td>hays.co.uk</td>\n",
              "      <td>35,000</td>\n",
              "      <td>40,000</td>\n",
              "      <td></td>\n",
              "    </tr>\n",
              "    <tr>\n",
              "      <th>114</th>\n",
              "      <td>38209888</td>\n",
              "      <td>Audit Executive</td>\n",
              "      <td>Audit Senior **** Bristol My client, a reputab...</td>\n",
              "      <td>Bristol</td>\n",
              "      <td>Bristol</td>\n",
              "      <td>NaN</td>\n",
              "      <td>permanent</td>\n",
              "      <td>NaN</td>\n",
              "      <td>Accounting &amp; Finance Jobs</td>\n",
              "      <td>34,000</td>\n",
              "      <td>34000</td>\n",
              "      <td>hays.co.uk</td>\n",
              "      <td>34,000</td>\n",
              "      <td>NaN</td>\n",
              "      <td></td>\n",
              "    </tr>\n",
              "    <tr>\n",
              "      <th>115</th>\n",
              "      <td>38209893</td>\n",
              "      <td>Audit Assistant Manager</td>\n",
              "      <td>Audit Assistant Manager Bristol **** **** This...</td>\n",
              "      <td>Bristol</td>\n",
              "      <td>Bristol</td>\n",
              "      <td>NaN</td>\n",
              "      <td>permanent</td>\n",
              "      <td>NaN</td>\n",
              "      <td>Accounting &amp; Finance Jobs</td>\n",
              "      <td>32,000 – 38,000</td>\n",
              "      <td>35000</td>\n",
              "      <td>hays.co.uk</td>\n",
              "      <td>32,000</td>\n",
              "      <td>38,000</td>\n",
              "      <td></td>\n",
              "    </tr>\n",
              "    <tr>\n",
              "      <th>...</th>\n",
              "      <td>...</td>\n",
              "      <td>...</td>\n",
              "      <td>...</td>\n",
              "      <td>...</td>\n",
              "      <td>...</td>\n",
              "      <td>...</td>\n",
              "      <td>...</td>\n",
              "      <td>...</td>\n",
              "      <td>...</td>\n",
              "      <td>...</td>\n",
              "      <td>...</td>\n",
              "      <td>...</td>\n",
              "      <td>...</td>\n",
              "      <td>...</td>\n",
              "      <td>...</td>\n",
              "    </tr>\n",
              "    <tr>\n",
              "      <th>244743</th>\n",
              "      <td>72703415</td>\n",
              "      <td>Postroom Operator</td>\n",
              "      <td>A prestigious chambers (Law firm) in the City ...</td>\n",
              "      <td>Temple</td>\n",
              "      <td>Temple</td>\n",
              "      <td>NaN</td>\n",
              "      <td>permanent</td>\n",
              "      <td>NaN</td>\n",
              "      <td>Legal Jobs</td>\n",
              "      <td>19,000</td>\n",
              "      <td>19000</td>\n",
              "      <td>hays.co.uk</td>\n",
              "      <td>19,000</td>\n",
              "      <td>NaN</td>\n",
              "      <td></td>\n",
              "    </tr>\n",
              "    <tr>\n",
              "      <th>244751</th>\n",
              "      <td>72703748</td>\n",
              "      <td>Data Architect</td>\n",
              "      <td>A vibrant charitable institute based in Kensin...</td>\n",
              "      <td>London</td>\n",
              "      <td>London</td>\n",
              "      <td>NaN</td>\n",
              "      <td>permanent</td>\n",
              "      <td>NaN</td>\n",
              "      <td>Charity &amp; Voluntary Jobs</td>\n",
              "      <td>Up to 40k</td>\n",
              "      <td>40000</td>\n",
              "      <td>hays.co.uk</td>\n",
              "      <td>40</td>\n",
              "      <td>NaN</td>\n",
              "      <td></td>\n",
              "    </tr>\n",
              "    <tr>\n",
              "      <th>244752</th>\n",
              "      <td>72705197</td>\n",
              "      <td>Curriculum Leader  Mathematics</td>\n",
              "      <td>Curriculum Leader Mathematics TLR 1 **** Requi...</td>\n",
              "      <td>Wrexham</td>\n",
              "      <td>Wrexham</td>\n",
              "      <td>NaN</td>\n",
              "      <td>permanent</td>\n",
              "      <td>NaN</td>\n",
              "      <td>Teaching Jobs</td>\n",
              "      <td>MPS plus TLR 1 9,013</td>\n",
              "      <td>5006</td>\n",
              "      <td>hays.co.uk</td>\n",
              "      <td>1</td>\n",
              "      <td>9,013</td>\n",
              "      <td></td>\n",
              "    </tr>\n",
              "    <tr>\n",
              "      <th>244754</th>\n",
              "      <td>72705200</td>\n",
              "      <td>Marketing Officer Job</td>\n",
              "      <td>Marketing Officer Job Use a broad range of Mar...</td>\n",
              "      <td>Southampton</td>\n",
              "      <td>Southampton</td>\n",
              "      <td>NaN</td>\n",
              "      <td>permanent</td>\n",
              "      <td>NaN</td>\n",
              "      <td>Teaching Jobs</td>\n",
              "      <td>27,000 - 33,000 DoE plus attractive benefits</td>\n",
              "      <td>30000</td>\n",
              "      <td>hays.co.uk</td>\n",
              "      <td>27,000</td>\n",
              "      <td>33,000</td>\n",
              "      <td></td>\n",
              "    </tr>\n",
              "    <tr>\n",
              "      <th>244767</th>\n",
              "      <td>72705235</td>\n",
              "      <td>Accountant</td>\n",
              "      <td>This entrepreneurial and growing private equit...</td>\n",
              "      <td>Hitchin</td>\n",
              "      <td>Hitchin</td>\n",
              "      <td>NaN</td>\n",
              "      <td>permanent</td>\n",
              "      <td>NaN</td>\n",
              "      <td>Teaching Jobs</td>\n",
              "      <td>40-45,000</td>\n",
              "      <td>42500</td>\n",
              "      <td>hays.co.uk</td>\n",
              "      <td>40</td>\n",
              "      <td>45,000</td>\n",
              "      <td></td>\n",
              "    </tr>\n",
              "  </tbody>\n",
              "</table>\n",
              "<p>72954 rows × 15 columns</p>\n",
              "</div>\n",
              "      <button class=\"colab-df-convert\" onclick=\"convertToInteractive('df-23a4474a-1de1-438c-b8d9-6624096a8b9e')\"\n",
              "              title=\"Convert this dataframe to an interactive table.\"\n",
              "              style=\"display:none;\">\n",
              "        \n",
              "  <svg xmlns=\"http://www.w3.org/2000/svg\" height=\"24px\"viewBox=\"0 0 24 24\"\n",
              "       width=\"24px\">\n",
              "    <path d=\"M0 0h24v24H0V0z\" fill=\"none\"/>\n",
              "    <path d=\"M18.56 5.44l.94 2.06.94-2.06 2.06-.94-2.06-.94-.94-2.06-.94 2.06-2.06.94zm-11 1L8.5 8.5l.94-2.06 2.06-.94-2.06-.94L8.5 2.5l-.94 2.06-2.06.94zm10 10l.94 2.06.94-2.06 2.06-.94-2.06-.94-.94-2.06-.94 2.06-2.06.94z\"/><path d=\"M17.41 7.96l-1.37-1.37c-.4-.4-.92-.59-1.43-.59-.52 0-1.04.2-1.43.59L10.3 9.45l-7.72 7.72c-.78.78-.78 2.05 0 2.83L4 21.41c.39.39.9.59 1.41.59.51 0 1.02-.2 1.41-.59l7.78-7.78 2.81-2.81c.8-.78.8-2.07 0-2.86zM5.41 20L4 18.59l7.72-7.72 1.47 1.35L5.41 20z\"/>\n",
              "  </svg>\n",
              "      </button>\n",
              "      \n",
              "  <style>\n",
              "    .colab-df-container {\n",
              "      display:flex;\n",
              "      flex-wrap:wrap;\n",
              "      gap: 12px;\n",
              "    }\n",
              "\n",
              "    .colab-df-convert {\n",
              "      background-color: #E8F0FE;\n",
              "      border: none;\n",
              "      border-radius: 50%;\n",
              "      cursor: pointer;\n",
              "      display: none;\n",
              "      fill: #1967D2;\n",
              "      height: 32px;\n",
              "      padding: 0 0 0 0;\n",
              "      width: 32px;\n",
              "    }\n",
              "\n",
              "    .colab-df-convert:hover {\n",
              "      background-color: #E2EBFA;\n",
              "      box-shadow: 0px 1px 2px rgba(60, 64, 67, 0.3), 0px 1px 3px 1px rgba(60, 64, 67, 0.15);\n",
              "      fill: #174EA6;\n",
              "    }\n",
              "\n",
              "    [theme=dark] .colab-df-convert {\n",
              "      background-color: #3B4455;\n",
              "      fill: #D2E3FC;\n",
              "    }\n",
              "\n",
              "    [theme=dark] .colab-df-convert:hover {\n",
              "      background-color: #434B5C;\n",
              "      box-shadow: 0px 1px 3px 1px rgba(0, 0, 0, 0.15);\n",
              "      filter: drop-shadow(0px 1px 2px rgba(0, 0, 0, 0.3));\n",
              "      fill: #FFFFFF;\n",
              "    }\n",
              "  </style>\n",
              "\n",
              "      <script>\n",
              "        const buttonEl =\n",
              "          document.querySelector('#df-23a4474a-1de1-438c-b8d9-6624096a8b9e button.colab-df-convert');\n",
              "        buttonEl.style.display =\n",
              "          google.colab.kernel.accessAllowed ? 'block' : 'none';\n",
              "\n",
              "        async function convertToInteractive(key) {\n",
              "          const element = document.querySelector('#df-23a4474a-1de1-438c-b8d9-6624096a8b9e');\n",
              "          const dataTable =\n",
              "            await google.colab.kernel.invokeFunction('convertToInteractive',\n",
              "                                                     [key], {});\n",
              "          if (!dataTable) return;\n",
              "\n",
              "          const docLinkHtml = 'Like what you see? Visit the ' +\n",
              "            '<a target=\"_blank\" href=https://colab.research.google.com/notebooks/data_table.ipynb>data table notebook</a>'\n",
              "            + ' to learn more about interactive tables.';\n",
              "          element.innerHTML = '';\n",
              "          dataTable['output_type'] = 'display_data';\n",
              "          await google.colab.output.renderOutput(dataTable, element);\n",
              "          const docLink = document.createElement('div');\n",
              "          docLink.innerHTML = docLinkHtml;\n",
              "          element.appendChild(docLink);\n",
              "        }\n",
              "      </script>\n",
              "    </div>\n",
              "  </div>\n",
              "  "
            ],
            "text/plain": [
              "              Id  ... Rate_by\n",
              "65      31794403  ...        \n",
              "66      31935432  ...        \n",
              "113     38209887  ...        \n",
              "114     38209888  ...        \n",
              "115     38209893  ...        \n",
              "...          ...  ...     ...\n",
              "244743  72703415  ...        \n",
              "244751  72703748  ...        \n",
              "244752  72705197  ...        \n",
              "244754  72705200  ...        \n",
              "244767  72705235  ...        \n",
              "\n",
              "[72954 rows x 15 columns]"
            ]
          },
          "metadata": {},
          "execution_count": 24
        }
      ]
    },
    {
      "cell_type": "markdown",
      "source": [
        "* Alocando os dados como anual na coluna Rate_by"
      ],
      "metadata": {
        "id": "4xWL1g1m9W7V"
      },
      "id": "4xWL1g1m9W7V"
    },
    {
      "cell_type": "code",
      "source": [
        "df_tmp.loc[filtroBaseCalculo,'Rate_by'] = 'Yearly'"
      ],
      "metadata": {
        "id": "-zdSJcxrgkvF"
      },
      "id": "-zdSJcxrgkvF",
      "execution_count": 25,
      "outputs": []
    },
    {
      "cell_type": "markdown",
      "source": [
        "* Conferindo a quantidade de dados,frequência e periodicidade do cálculo de valor dos salários"
      ],
      "metadata": {
        "id": "8dJeTIRcg_Cb"
      },
      "id": "8dJeTIRcg_Cb"
    },
    {
      "cell_type": "code",
      "source": [
        "df_tmp.groupby('Rate_by').SalaryRaw.count()"
      ],
      "metadata": {
        "id": "UG-3eRf8g0qQ",
        "colab": {
          "base_uri": "https://localhost:8080/"
        },
        "outputId": "2eb9212b-cc32-4159-be7b-e0c384b85c0a"
      },
      "id": "UG-3eRf8g0qQ",
      "execution_count": 26,
      "outputs": [
        {
          "output_type": "execute_result",
          "data": {
            "text/plain": [
              "Rate_by\n",
              "Daily       9018\n",
              "Hourly     28271\n",
              "Weekly      1612\n",
              "Yearly    205867\n",
              "Name: SalaryRaw, dtype: int64"
            ]
          },
          "metadata": {},
          "execution_count": 26
        }
      ]
    },
    {
      "cell_type": "markdown",
      "source": [
        "* Criação de intervalos salariais/categorias"
      ],
      "metadata": {
        "id": "w1R7GW5drUaV"
      },
      "id": "w1R7GW5drUaV"
    },
    {
      "cell_type": "code",
      "source": [
        "intervalosSalariais = [0,25000,50000,70000,90000,120000,300000]"
      ],
      "metadata": {
        "id": "QcBSu4bunX2T"
      },
      "id": "QcBSu4bunX2T",
      "execution_count": 27,
      "outputs": []
    },
    {
      "cell_type": "code",
      "source": [
        "# Alocando na coluna SalaryBin os intervalos de salários\n",
        "df_tmp['SalaryBin'] = pd.cut(x=df_tmp.SalaryNormalized, bins=intervalosSalariais, labels=False)"
      ],
      "metadata": {
        "id": "x4KBhVbUrazn"
      },
      "id": "x4KBhVbUrazn",
      "execution_count": 28,
      "outputs": []
    },
    {
      "cell_type": "markdown",
      "source": [
        "### Plotando gráfico com as faixas salariais olhando por localidade "
      ],
      "metadata": {
        "id": "702pr9-48djE"
      },
      "id": "702pr9-48djE"
    },
    {
      "cell_type": "code",
      "source": [
        "plt.figure(figsize=(8,6))\n",
        "df_tmp.groupby('SalaryBin')['LocationNormalized'].count().plot.bar()\n",
        "plt.title(\"Faixas Salariais\")\n",
        "plt.xticks([0,1,2,3,4,5,6],['0-25K','25K-50K','50K-70K','70K-90K','90K-120K','120K-300K'], rotation=30)\n",
        "plt.show()"
      ],
      "metadata": {
        "id": "-ZMhubd0p_OL",
        "colab": {
          "base_uri": "https://localhost:8080/",
          "height": 429
        },
        "outputId": "996ef92b-75b0-4759-8e4b-2fb50c17cf4c"
      },
      "id": "-ZMhubd0p_OL",
      "execution_count": 29,
      "outputs": [
        {
          "output_type": "display_data",
          "data": {
            "image/png": "[encoded data removed]",
            "text/plain": [
              "<Figure size 576x432 with 1 Axes>"
            ]
          },
          "metadata": {
            "needs_background": "light"
          }
        }
      ]
    },
    {
      "cell_type": "markdown",
      "source": [
        "### Usando Vetorização de palavras para verificar a coluna Title - Cargo"
      ],
      "metadata": {
        "id": "26q1evC2pLgH"
      },
      "id": "26q1evC2pLgH"
    },
    {
      "cell_type": "markdown",
      "source": [
        "* Criando um vetorizador de palavras e aplicando na coluna Title."
      ],
      "metadata": {
        "id": "KUk5FDX0p3bs"
      },
      "id": "KUk5FDX0p3bs"
    },
    {
      "cell_type": "code",
      "source": [
        "# Importando as bibliotecas\n",
        "from sklearn.feature_extraction.text import CountVectorizer\n",
        "from sklearn.model_selection import train_test_split\n",
        "\n",
        "# Criando o vetorizador com n-gram de 1 a 3\n",
        "cv = CountVectorizer(stop_words='english', ngram_range=(1,3),min_df=0.03)\n",
        "\n",
        "cv.fit(df_tmp.Title)"
      ],
      "metadata": {
        "id": "MogA6iVmpK5o",
        "colab": {
          "base_uri": "https://localhost:8080/"
        },
        "outputId": "bac1d5a6-e121-4c24-b857-492cf9a83c45"
      },
      "id": "MogA6iVmpK5o",
      "execution_count": 30,
      "outputs": [
        {
          "output_type": "execute_result",
          "data": {
            "text/plain": [
              "CountVectorizer(min_df=0.03, ngram_range=(1, 3), stop_words='english')"
            ]
          },
          "metadata": {},
          "execution_count": 30
        }
      ]
    },
    {
      "cell_type": "markdown",
      "source": [
        "* Criando um DataFrame com os dados para melhor visualização"
      ],
      "metadata": {
        "id": "r0snlXzljjQp"
      },
      "id": "r0snlXzljjQp"
    },
    {
      "cell_type": "code",
      "source": [
        "cargos = pd.DataFrame(cv.transform(df_tmp.Title).todense(), columns=cv.get_feature_names())"
      ],
      "metadata": {
        "id": "Yt5ixttx8tuF",
        "colab": {
          "base_uri": "https://localhost:8080/"
        },
        "outputId": "e12ba164-0eba-4b6d-fc4a-7fa0c40073e2"
      },
      "id": "Yt5ixttx8tuF",
      "execution_count": 31,
      "outputs": [
        {
          "output_type": "stream",
          "name": "stderr",
          "text": [
            "/usr/local/lib/python3.7/dist-packages/sklearn/utils/deprecation.py:87: FutureWarning: Function get_feature_names is deprecated; get_feature_names is deprecated in 1.0 and will be removed in 1.2. Please use get_feature_names_out instead.\n",
            "  warnings.warn(msg, category=FutureWarning)\n"
          ]
        }
      ]
    },
    {
      "cell_type": "code",
      "source": [
        "cargos"
      ],
      "metadata": {
        "id": "OzLFf2sovh4Y",
        "colab": {
          "base_uri": "https://localhost:8080/",
          "height": 423
        },
        "outputId": "4a87ec77-eadb-4826-8ec4-e4e3721a8c42"
      },
      "id": "OzLFf2sovh4Y",
      "execution_count": 32,
      "outputs": [
        {
          "output_type": "execute_result",
          "data": {
            "text/html": [
              "\n",
              "  <div id=\"df-6223a286-a329-40a0-b088-835325521925\">\n",
              "    <div class=\"colab-df-container\">\n",
              "      <div>\n",
              "<style scoped>\n",
              "    .dataframe tbody tr th:only-of-type {\n",
              "        vertical-align: middle;\n",
              "    }\n",
              "\n",
              "    .dataframe tbody tr th {\n",
              "        vertical-align: top;\n",
              "    }\n",
              "\n",
              "    .dataframe thead th {\n",
              "        text-align: right;\n",
              "    }\n",
              "</style>\n",
              "<table border=\"1\" class=\"dataframe\">\n",
              "  <thead>\n",
              "    <tr style=\"text-align: right;\">\n",
              "      <th></th>\n",
              "      <th>analyst</th>\n",
              "      <th>assistant</th>\n",
              "      <th>business</th>\n",
              "      <th>consultant</th>\n",
              "      <th>developer</th>\n",
              "      <th>engineer</th>\n",
              "      <th>executive</th>\n",
              "      <th>london</th>\n",
              "      <th>manager</th>\n",
              "      <th>sales</th>\n",
              "      <th>senior</th>\n",
              "      <th>support</th>\n",
              "    </tr>\n",
              "  </thead>\n",
              "  <tbody>\n",
              "    <tr>\n",
              "      <th>0</th>\n",
              "      <td>1</td>\n",
              "      <td>0</td>\n",
              "      <td>0</td>\n",
              "      <td>0</td>\n",
              "      <td>0</td>\n",
              "      <td>0</td>\n",
              "      <td>0</td>\n",
              "      <td>0</td>\n",
              "      <td>0</td>\n",
              "      <td>0</td>\n",
              "      <td>0</td>\n",
              "      <td>0</td>\n",
              "    </tr>\n",
              "    <tr>\n",
              "      <th>1</th>\n",
              "      <td>0</td>\n",
              "      <td>0</td>\n",
              "      <td>0</td>\n",
              "      <td>0</td>\n",
              "      <td>0</td>\n",
              "      <td>1</td>\n",
              "      <td>0</td>\n",
              "      <td>0</td>\n",
              "      <td>0</td>\n",
              "      <td>0</td>\n",
              "      <td>0</td>\n",
              "      <td>0</td>\n",
              "    </tr>\n",
              "    <tr>\n",
              "      <th>2</th>\n",
              "      <td>1</td>\n",
              "      <td>0</td>\n",
              "      <td>0</td>\n",
              "      <td>0</td>\n",
              "      <td>0</td>\n",
              "      <td>0</td>\n",
              "      <td>0</td>\n",
              "      <td>0</td>\n",
              "      <td>0</td>\n",
              "      <td>0</td>\n",
              "      <td>0</td>\n",
              "      <td>0</td>\n",
              "    </tr>\n",
              "    <tr>\n",
              "      <th>3</th>\n",
              "      <td>1</td>\n",
              "      <td>0</td>\n",
              "      <td>0</td>\n",
              "      <td>0</td>\n",
              "      <td>0</td>\n",
              "      <td>0</td>\n",
              "      <td>0</td>\n",
              "      <td>0</td>\n",
              "      <td>0</td>\n",
              "      <td>0</td>\n",
              "      <td>0</td>\n",
              "      <td>0</td>\n",
              "    </tr>\n",
              "    <tr>\n",
              "      <th>4</th>\n",
              "      <td>1</td>\n",
              "      <td>0</td>\n",
              "      <td>0</td>\n",
              "      <td>0</td>\n",
              "      <td>0</td>\n",
              "      <td>0</td>\n",
              "      <td>0</td>\n",
              "      <td>0</td>\n",
              "      <td>0</td>\n",
              "      <td>0</td>\n",
              "      <td>0</td>\n",
              "      <td>0</td>\n",
              "    </tr>\n",
              "    <tr>\n",
              "      <th>...</th>\n",
              "      <td>...</td>\n",
              "      <td>...</td>\n",
              "      <td>...</td>\n",
              "      <td>...</td>\n",
              "      <td>...</td>\n",
              "      <td>...</td>\n",
              "      <td>...</td>\n",
              "      <td>...</td>\n",
              "      <td>...</td>\n",
              "      <td>...</td>\n",
              "      <td>...</td>\n",
              "      <td>...</td>\n",
              "    </tr>\n",
              "    <tr>\n",
              "      <th>244763</th>\n",
              "      <td>0</td>\n",
              "      <td>0</td>\n",
              "      <td>0</td>\n",
              "      <td>0</td>\n",
              "      <td>0</td>\n",
              "      <td>0</td>\n",
              "      <td>0</td>\n",
              "      <td>0</td>\n",
              "      <td>0</td>\n",
              "      <td>0</td>\n",
              "      <td>0</td>\n",
              "      <td>0</td>\n",
              "    </tr>\n",
              "    <tr>\n",
              "      <th>244764</th>\n",
              "      <td>0</td>\n",
              "      <td>0</td>\n",
              "      <td>1</td>\n",
              "      <td>0</td>\n",
              "      <td>0</td>\n",
              "      <td>0</td>\n",
              "      <td>0</td>\n",
              "      <td>0</td>\n",
              "      <td>0</td>\n",
              "      <td>0</td>\n",
              "      <td>0</td>\n",
              "      <td>0</td>\n",
              "    </tr>\n",
              "    <tr>\n",
              "      <th>244765</th>\n",
              "      <td>0</td>\n",
              "      <td>0</td>\n",
              "      <td>0</td>\n",
              "      <td>0</td>\n",
              "      <td>0</td>\n",
              "      <td>0</td>\n",
              "      <td>0</td>\n",
              "      <td>0</td>\n",
              "      <td>0</td>\n",
              "      <td>0</td>\n",
              "      <td>0</td>\n",
              "      <td>0</td>\n",
              "    </tr>\n",
              "    <tr>\n",
              "      <th>244766</th>\n",
              "      <td>0</td>\n",
              "      <td>0</td>\n",
              "      <td>0</td>\n",
              "      <td>0</td>\n",
              "      <td>0</td>\n",
              "      <td>0</td>\n",
              "      <td>0</td>\n",
              "      <td>0</td>\n",
              "      <td>0</td>\n",
              "      <td>0</td>\n",
              "      <td>0</td>\n",
              "      <td>0</td>\n",
              "    </tr>\n",
              "    <tr>\n",
              "      <th>244767</th>\n",
              "      <td>0</td>\n",
              "      <td>0</td>\n",
              "      <td>0</td>\n",
              "      <td>0</td>\n",
              "      <td>0</td>\n",
              "      <td>0</td>\n",
              "      <td>0</td>\n",
              "      <td>0</td>\n",
              "      <td>0</td>\n",
              "      <td>0</td>\n",
              "      <td>0</td>\n",
              "      <td>0</td>\n",
              "    </tr>\n",
              "  </tbody>\n",
              "</table>\n",
              "<p>244768 rows × 12 columns</p>\n",
              "</div>\n",
              "      <button class=\"colab-df-convert\" onclick=\"convertToInteractive('df-6223a286-a329-40a0-b088-835325521925')\"\n",
              "              title=\"Convert this dataframe to an interactive table.\"\n",
              "              style=\"display:none;\">\n",
              "        \n",
              "  <svg xmlns=\"http://www.w3.org/2000/svg\" height=\"24px\"viewBox=\"0 0 24 24\"\n",
              "       width=\"24px\">\n",
              "    <path d=\"M0 0h24v24H0V0z\" fill=\"none\"/>\n",
              "    <path d=\"M18.56 5.44l.94 2.06.94-2.06 2.06-.94-2.06-.94-.94-2.06-.94 2.06-2.06.94zm-11 1L8.5 8.5l.94-2.06 2.06-.94-2.06-.94L8.5 2.5l-.94 2.06-2.06.94zm10 10l.94 2.06.94-2.06 2.06-.94-2.06-.94-.94-2.06-.94 2.06-2.06.94z\"/><path d=\"M17.41 7.96l-1.37-1.37c-.4-.4-.92-.59-1.43-.59-.52 0-1.04.2-1.43.59L10.3 9.45l-7.72 7.72c-.78.78-.78 2.05 0 2.83L4 21.41c.39.39.9.59 1.41.59.51 0 1.02-.2 1.41-.59l7.78-7.78 2.81-2.81c.8-.78.8-2.07 0-2.86zM5.41 20L4 18.59l7.72-7.72 1.47 1.35L5.41 20z\"/>\n",
              "  </svg>\n",
              "      </button>\n",
              "      \n",
              "  <style>\n",
              "    .colab-df-container {\n",
              "      display:flex;\n",
              "      flex-wrap:wrap;\n",
              "      gap: 12px;\n",
              "    }\n",
              "\n",
              "    .colab-df-convert {\n",
              "      background-color: #E8F0FE;\n",
              "      border: none;\n",
              "      border-radius: 50%;\n",
              "      cursor: pointer;\n",
              "      display: none;\n",
              "      fill: #1967D2;\n",
              "      height: 32px;\n",
              "      padding: 0 0 0 0;\n",
              "      width: 32px;\n",
              "    }\n",
              "\n",
              "    .colab-df-convert:hover {\n",
              "      background-color: #E2EBFA;\n",
              "      box-shadow: 0px 1px 2px rgba(60, 64, 67, 0.3), 0px 1px 3px 1px rgba(60, 64, 67, 0.15);\n",
              "      fill: #174EA6;\n",
              "    }\n",
              "\n",
              "    [theme=dark] .colab-df-convert {\n",
              "      background-color: #3B4455;\n",
              "      fill: #D2E3FC;\n",
              "    }\n",
              "\n",
              "    [theme=dark] .colab-df-convert:hover {\n",
              "      background-color: #434B5C;\n",
              "      box-shadow: 0px 1px 3px 1px rgba(0, 0, 0, 0.15);\n",
              "      filter: drop-shadow(0px 1px 2px rgba(0, 0, 0, 0.3));\n",
              "      fill: #FFFFFF;\n",
              "    }\n",
              "  </style>\n",
              "\n",
              "      <script>\n",
              "        const buttonEl =\n",
              "          document.querySelector('#df-6223a286-a329-40a0-b088-835325521925 button.colab-df-convert');\n",
              "        buttonEl.style.display =\n",
              "          google.colab.kernel.accessAllowed ? 'block' : 'none';\n",
              "\n",
              "        async function convertToInteractive(key) {\n",
              "          const element = document.querySelector('#df-6223a286-a329-40a0-b088-835325521925');\n",
              "          const dataTable =\n",
              "            await google.colab.kernel.invokeFunction('convertToInteractive',\n",
              "                                                     [key], {});\n",
              "          if (!dataTable) return;\n",
              "\n",
              "          const docLinkHtml = 'Like what you see? Visit the ' +\n",
              "            '<a target=\"_blank\" href=https://colab.research.google.com/notebooks/data_table.ipynb>data table notebook</a>'\n",
              "            + ' to learn more about interactive tables.';\n",
              "          element.innerHTML = '';\n",
              "          dataTable['output_type'] = 'display_data';\n",
              "          await google.colab.output.renderOutput(dataTable, element);\n",
              "          const docLink = document.createElement('div');\n",
              "          docLink.innerHTML = docLinkHtml;\n",
              "          element.appendChild(docLink);\n",
              "        }\n",
              "      </script>\n",
              "    </div>\n",
              "  </div>\n",
              "  "
            ],
            "text/plain": [
              "        analyst  assistant  business  ...  sales  senior  support\n",
              "0             1          0         0  ...      0       0        0\n",
              "1             0          0         0  ...      0       0        0\n",
              "2             1          0         0  ...      0       0        0\n",
              "3             1          0         0  ...      0       0        0\n",
              "4             1          0         0  ...      0       0        0\n",
              "...         ...        ...       ...  ...    ...     ...      ...\n",
              "244763        0          0         0  ...      0       0        0\n",
              "244764        0          0         1  ...      0       0        0\n",
              "244765        0          0         0  ...      0       0        0\n",
              "244766        0          0         0  ...      0       0        0\n",
              "244767        0          0         0  ...      0       0        0\n",
              "\n",
              "[244768 rows x 12 columns]"
            ]
          },
          "metadata": {},
          "execution_count": 32
        }
      ]
    },
    {
      "cell_type": "code",
      "source": [
        "obs_palavras = pd.concat([cargos, df_tmp.SalaryBin], axis=1)\n",
        "\n",
        "obs_palavras.head()"
      ],
      "metadata": {
        "id": "JOgojWfPvrDM",
        "colab": {
          "base_uri": "https://localhost:8080/",
          "height": 206
        },
        "outputId": "527aad08-eba5-4f69-cbc5-094245407e68"
      },
      "id": "JOgojWfPvrDM",
      "execution_count": 33,
      "outputs": [
        {
          "output_type": "execute_result",
          "data": {
            "text/html": [
              "\n",
              "  <div id=\"df-0dc507fd-4647-4f26-bf74-be7bc74da062\">\n",
              "    <div class=\"colab-df-container\">\n",
              "      <div>\n",
              "<style scoped>\n",
              "    .dataframe tbody tr th:only-of-type {\n",
              "        vertical-align: middle;\n",
              "    }\n",
              "\n",
              "    .dataframe tbody tr th {\n",
              "        vertical-align: top;\n",
              "    }\n",
              "\n",
              "    .dataframe thead th {\n",
              "        text-align: right;\n",
              "    }\n",
              "</style>\n",
              "<table border=\"1\" class=\"dataframe\">\n",
              "  <thead>\n",
              "    <tr style=\"text-align: right;\">\n",
              "      <th></th>\n",
              "      <th>analyst</th>\n",
              "      <th>assistant</th>\n",
              "      <th>business</th>\n",
              "      <th>consultant</th>\n",
              "      <th>developer</th>\n",
              "      <th>engineer</th>\n",
              "      <th>executive</th>\n",
              "      <th>london</th>\n",
              "      <th>manager</th>\n",
              "      <th>sales</th>\n",
              "      <th>senior</th>\n",
              "      <th>support</th>\n",
              "      <th>SalaryBin</th>\n",
              "    </tr>\n",
              "  </thead>\n",
              "  <tbody>\n",
              "    <tr>\n",
              "      <th>0</th>\n",
              "      <td>1</td>\n",
              "      <td>0</td>\n",
              "      <td>0</td>\n",
              "      <td>0</td>\n",
              "      <td>0</td>\n",
              "      <td>0</td>\n",
              "      <td>0</td>\n",
              "      <td>0</td>\n",
              "      <td>0</td>\n",
              "      <td>0</td>\n",
              "      <td>0</td>\n",
              "      <td>0</td>\n",
              "      <td>0</td>\n",
              "    </tr>\n",
              "    <tr>\n",
              "      <th>1</th>\n",
              "      <td>0</td>\n",
              "      <td>0</td>\n",
              "      <td>0</td>\n",
              "      <td>0</td>\n",
              "      <td>0</td>\n",
              "      <td>1</td>\n",
              "      <td>0</td>\n",
              "      <td>0</td>\n",
              "      <td>0</td>\n",
              "      <td>0</td>\n",
              "      <td>0</td>\n",
              "      <td>0</td>\n",
              "      <td>1</td>\n",
              "    </tr>\n",
              "    <tr>\n",
              "      <th>2</th>\n",
              "      <td>1</td>\n",
              "      <td>0</td>\n",
              "      <td>0</td>\n",
              "      <td>0</td>\n",
              "      <td>0</td>\n",
              "      <td>0</td>\n",
              "      <td>0</td>\n",
              "      <td>0</td>\n",
              "      <td>0</td>\n",
              "      <td>0</td>\n",
              "      <td>0</td>\n",
              "      <td>0</td>\n",
              "      <td>1</td>\n",
              "    </tr>\n",
              "    <tr>\n",
              "      <th>3</th>\n",
              "      <td>1</td>\n",
              "      <td>0</td>\n",
              "      <td>0</td>\n",
              "      <td>0</td>\n",
              "      <td>0</td>\n",
              "      <td>0</td>\n",
              "      <td>0</td>\n",
              "      <td>0</td>\n",
              "      <td>0</td>\n",
              "      <td>0</td>\n",
              "      <td>0</td>\n",
              "      <td>0</td>\n",
              "      <td>1</td>\n",
              "    </tr>\n",
              "    <tr>\n",
              "      <th>4</th>\n",
              "      <td>1</td>\n",
              "      <td>0</td>\n",
              "      <td>0</td>\n",
              "      <td>0</td>\n",
              "      <td>0</td>\n",
              "      <td>0</td>\n",
              "      <td>0</td>\n",
              "      <td>0</td>\n",
              "      <td>0</td>\n",
              "      <td>0</td>\n",
              "      <td>0</td>\n",
              "      <td>0</td>\n",
              "      <td>0</td>\n",
              "    </tr>\n",
              "  </tbody>\n",
              "</table>\n",
              "</div>\n",
              "      <button class=\"colab-df-convert\" onclick=\"convertToInteractive('df-0dc507fd-4647-4f26-bf74-be7bc74da062')\"\n",
              "              title=\"Convert this dataframe to an interactive table.\"\n",
              "              style=\"display:none;\">\n",
              "        \n",
              "  <svg xmlns=\"http://www.w3.org/2000/svg\" height=\"24px\"viewBox=\"0 0 24 24\"\n",
              "       width=\"24px\">\n",
              "    <path d=\"M0 0h24v24H0V0z\" fill=\"none\"/>\n",
              "    <path d=\"M18.56 5.44l.94 2.06.94-2.06 2.06-.94-2.06-.94-.94-2.06-.94 2.06-2.06.94zm-11 1L8.5 8.5l.94-2.06 2.06-.94-2.06-.94L8.5 2.5l-.94 2.06-2.06.94zm10 10l.94 2.06.94-2.06 2.06-.94-2.06-.94-.94-2.06-.94 2.06-2.06.94z\"/><path d=\"M17.41 7.96l-1.37-1.37c-.4-.4-.92-.59-1.43-.59-.52 0-1.04.2-1.43.59L10.3 9.45l-7.72 7.72c-.78.78-.78 2.05 0 2.83L4 21.41c.39.39.9.59 1.41.59.51 0 1.02-.2 1.41-.59l7.78-7.78 2.81-2.81c.8-.78.8-2.07 0-2.86zM5.41 20L4 18.59l7.72-7.72 1.47 1.35L5.41 20z\"/>\n",
              "  </svg>\n",
              "      </button>\n",
              "      \n",
              "  <style>\n",
              "    .colab-df-container {\n",
              "      display:flex;\n",
              "      flex-wrap:wrap;\n",
              "      gap: 12px;\n",
              "    }\n",
              "\n",
              "    .colab-df-convert {\n",
              "      background-color: #E8F0FE;\n",
              "      border: none;\n",
              "      border-radius: 50%;\n",
              "      cursor: pointer;\n",
              "      display: none;\n",
              "      fill: #1967D2;\n",
              "      height: 32px;\n",
              "      padding: 0 0 0 0;\n",
              "      width: 32px;\n",
              "    }\n",
              "\n",
              "    .colab-df-convert:hover {\n",
              "      background-color: #E2EBFA;\n",
              "      box-shadow: 0px 1px 2px rgba(60, 64, 67, 0.3), 0px 1px 3px 1px rgba(60, 64, 67, 0.15);\n",
              "      fill: #174EA6;\n",
              "    }\n",
              "\n",
              "    [theme=dark] .colab-df-convert {\n",
              "      background-color: #3B4455;\n",
              "      fill: #D2E3FC;\n",
              "    }\n",
              "\n",
              "    [theme=dark] .colab-df-convert:hover {\n",
              "      background-color: #434B5C;\n",
              "      box-shadow: 0px 1px 3px 1px rgba(0, 0, 0, 0.15);\n",
              "      filter: drop-shadow(0px 1px 2px rgba(0, 0, 0, 0.3));\n",
              "      fill: #FFFFFF;\n",
              "    }\n",
              "  </style>\n",
              "\n",
              "      <script>\n",
              "        const buttonEl =\n",
              "          document.querySelector('#df-0dc507fd-4647-4f26-bf74-be7bc74da062 button.colab-df-convert');\n",
              "        buttonEl.style.display =\n",
              "          google.colab.kernel.accessAllowed ? 'block' : 'none';\n",
              "\n",
              "        async function convertToInteractive(key) {\n",
              "          const element = document.querySelector('#df-0dc507fd-4647-4f26-bf74-be7bc74da062');\n",
              "          const dataTable =\n",
              "            await google.colab.kernel.invokeFunction('convertToInteractive',\n",
              "                                                     [key], {});\n",
              "          if (!dataTable) return;\n",
              "\n",
              "          const docLinkHtml = 'Like what you see? Visit the ' +\n",
              "            '<a target=\"_blank\" href=https://colab.research.google.com/notebooks/data_table.ipynb>data table notebook</a>'\n",
              "            + ' to learn more about interactive tables.';\n",
              "          element.innerHTML = '';\n",
              "          dataTable['output_type'] = 'display_data';\n",
              "          await google.colab.output.renderOutput(dataTable, element);\n",
              "          const docLink = document.createElement('div');\n",
              "          docLink.innerHTML = docLinkHtml;\n",
              "          element.appendChild(docLink);\n",
              "        }\n",
              "      </script>\n",
              "    </div>\n",
              "  </div>\n",
              "  "
            ],
            "text/plain": [
              "   analyst  assistant  business  consultant  ...  sales  senior  support  SalaryBin\n",
              "0        1          0         0           0  ...      0       0        0          0\n",
              "1        0          0         0           0  ...      0       0        0          1\n",
              "2        1          0         0           0  ...      0       0        0          1\n",
              "3        1          0         0           0  ...      0       0        0          1\n",
              "4        1          0         0           0  ...      0       0        0          0\n",
              "\n",
              "[5 rows x 13 columns]"
            ]
          },
          "metadata": {},
          "execution_count": 33
        }
      ]
    },
    {
      "cell_type": "code",
      "source": [
        "for i in range(0,6) : \n",
        "  contadorPalavras = obs_palavras[obs_palavras['SalaryBin']==i].sum(axis=0)\n",
        "  print(f'Faixa Salarial de {intervalosSalariais[i]}K até {intervalosSalariais[i+1]}K anual, ocorrências de palavras: ')\n",
        "  palavrasComuns = contadorPalavras.sort_values(ascending=False)\n",
        "  print(palavrasComuns)"
      ],
      "metadata": {
        "id": "N2o-2NIUwJmP",
        "colab": {
          "base_uri": "https://localhost:8080/"
        },
        "outputId": "1a3e2dc2-7389-43b8-99a9-edc22f8d255d"
      },
      "id": "N2o-2NIUwJmP",
      "execution_count": 34,
      "outputs": [
        {
          "output_type": "stream",
          "name": "stdout",
          "text": [
            "Faixa Salarial de 0K até 25000K anual, ocorrências de palavras: \n",
            "assistant     10158\n",
            "sales          9615\n",
            "manager        9226\n",
            "executive      5482\n",
            "support        5160\n",
            "consultant     3665\n",
            "engineer       3438\n",
            "business       1969\n",
            "senior         1885\n",
            "analyst        1671\n",
            "london         1610\n",
            "developer      1449\n",
            "SalaryBin         0\n",
            "dtype: int64\n",
            "Faixa Salarial de 25000K até 50000K anual, ocorrências de palavras: \n",
            "SalaryBin     117918\n",
            "manager        30429\n",
            "engineer       17307\n",
            "senior          9893\n",
            "developer       9206\n",
            "sales           8367\n",
            "analyst         5569\n",
            "london          5429\n",
            "business        5378\n",
            "executive       4498\n",
            "consultant      3840\n",
            "support         2865\n",
            "assistant       1878\n",
            "dtype: int64\n",
            "Faixa Salarial de 50000K até 70000K anual, ocorrências de palavras: \n",
            "SalaryBin     50558\n",
            "manager        8176\n",
            "senior         3841\n",
            "engineer       2442\n",
            "developer      2115\n",
            "business       1805\n",
            "london         1696\n",
            "consultant     1435\n",
            "analyst        1371\n",
            "sales          1313\n",
            "executive       496\n",
            "support         343\n",
            "assistant       111\n",
            "dtype: int64\n",
            "Faixa Salarial de 70000K até 90000K anual, ocorrências de palavras: \n",
            "SalaryBin     26592\n",
            "manager        1910\n",
            "senior         1080\n",
            "developer       897\n",
            "engineer        844\n",
            "business        657\n",
            "london          587\n",
            "analyst         555\n",
            "consultant      445\n",
            "sales           359\n",
            "executive       132\n",
            "support         125\n",
            "assistant        25\n",
            "dtype: int64\n",
            "Faixa Salarial de 90000K até 120000K anual, ocorrências de palavras: \n",
            "SalaryBin     8236\n",
            "manager        401\n",
            "senior         269\n",
            "developer      224\n",
            "business       176\n",
            "london         152\n",
            "engineer       152\n",
            "analyst        147\n",
            "sales          112\n",
            "consultant      94\n",
            "executive       23\n",
            "support         19\n",
            "assistant        7\n",
            "dtype: int64\n",
            "Faixa Salarial de 120000K até 300000K anual, ocorrências de palavras: \n",
            "SalaryBin     1000\n",
            "manager         21\n",
            "london          19\n",
            "consultant      16\n",
            "engineer         9\n",
            "senior           8\n",
            "developer        4\n",
            "sales            3\n",
            "business         3\n",
            "analyst          3\n",
            "support          0\n",
            "executive        0\n",
            "assistant        0\n",
            "dtype: int64\n"
          ]
        }
      ]
    },
    {
      "cell_type": "markdown",
      "source": [
        "### Processamento do texto \n",
        "\n",
        "* Primeiramente importaremos as bibliotecas usadas"
      ],
      "metadata": {
        "id": "su27adpS_OY_"
      },
      "id": "su27adpS_OY_"
    },
    {
      "cell_type": "code",
      "source": [
        "import nltk\n",
        "nltk.download('stopwords')\n",
        "from nltk import word_tokenize, FreqDist\n",
        "from nltk.corpus import stopwords\n",
        "import string\n",
        "from nltk.probability import FreqDist"
      ],
      "metadata": {
        "id": "NBK_mkbnAGtk",
        "colab": {
          "base_uri": "https://localhost:8080/"
        },
        "outputId": "d3d9a7a6-1dae-4f5d-b665-36daf26a1372"
      },
      "id": "NBK_mkbnAGtk",
      "execution_count": 35,
      "outputs": [
        {
          "output_type": "stream",
          "name": "stdout",
          "text": [
            "[nltk_data] Downloading package stopwords to /root/nltk_data...\n",
            "[nltk_data]   Package stopwords is already up-to-date!\n"
          ]
        }
      ]
    },
    {
      "cell_type": "markdown",
      "source": [
        "* Criando funções para a limpeza do texto"
      ],
      "metadata": {
        "id": "F41P-v0E_ZGi"
      },
      "id": "F41P-v0E_ZGi"
    },
    {
      "cell_type": "code",
      "source": [
        "# criando a função para tokenizar texto\n",
        "def tokenizaTexto(x) :\n",
        "  # Criando uma lista para receber a saida com o texto já 'tokenizado'\n",
        "  saida = []\n",
        "  # Gerando um padrão para a expressão regular ser aplicada\n",
        "  padrao = \"([a-zA-Z]+(?:'[a-z]+)?)\"\n",
        "  # Criando uma lista com as Stop Words, números e pontos\n",
        "  listaStopWords = stopwords.words('english')\n",
        "  listaStopWords += list(string.punctuation)\n",
        "  listaStopWords += ['0','1','2','3','4','5','6','8','9']\n",
        "\n",
        "  # Percorrendo o texto passado.\n",
        "  for txt in x:\n",
        "    # Alocando o texto com a primeira filtragem.\n",
        "    txt_tokens_raw = nltk.regexp_tokenize(txt, padrao)\n",
        "    # Padronizando o texto\n",
        "    txt_tokens_min =[palavra.lower() for palavra in txt_tokens_raw]\n",
        "    # Retirando simbolos e números.\n",
        "    txt_words_stopped = [palavra for palavra in txt_tokens_min if palavra not in listaStopWords]\n",
        "    saida.append(txt_words_stopped)\n",
        "  # Gerando a saída com o texto tokenizado\n",
        "  return pd.Series(saida)"
      ],
      "metadata": {
        "id": "UyWvGXNr_Mj0"
      },
      "id": "UyWvGXNr_Mj0",
      "execution_count": 36,
      "outputs": []
    },
    {
      "cell_type": "markdown",
      "source": [
        "* Tokenizando o texto as colunas Title e FullDescription"
      ],
      "metadata": {
        "id": "QwscGhKAEquU"
      },
      "id": "QwscGhKAEquU"
    },
    {
      "cell_type": "code",
      "source": [
        "cargo_tokens = tokenizaTexto(df_tmp['Title'])\n",
        "desc_tokens = tokenizaTexto(df_tmp['FullDescription'])"
      ],
      "metadata": {
        "id": "rRhxUw2IC9XR"
      },
      "id": "rRhxUw2IC9XR",
      "execution_count": 37,
      "outputs": []
    },
    {
      "cell_type": "code",
      "source": [
        "cargo_tokens"
      ],
      "metadata": {
        "colab": {
          "base_uri": "https://localhost:8080/"
        },
        "id": "xaLWdaaeXy4w",
        "outputId": "a6174a13-f836-4a6f-919d-b9ebd5cfa16f"
      },
      "id": "xaLWdaaeXy4w",
      "execution_count": 38,
      "outputs": [
        {
          "output_type": "execute_result",
          "data": {
            "text/plain": [
              "0                           [engineering, systems, analyst]\n",
              "1                               [stress, engineer, glasgow]\n",
              "2                          [modelling, simulation, analyst]\n",
              "3         [engineering, systems, analyst, mathematical, ...\n",
              "4           [pioneer, miser, engineering, systems, analyst]\n",
              "                                ...                        \n",
              "244763                                   [teacher, science]\n",
              "244764                    [teacher, business, studies, ict]\n",
              "244765                                   [english, teacher]\n",
              "244766                                   [supply, teachers]\n",
              "244767                                         [accountant]\n",
              "Length: 244768, dtype: object"
            ]
          },
          "metadata": {},
          "execution_count": 38
        }
      ]
    },
    {
      "cell_type": "markdown",
      "source": [
        "* Colocando os tokens em uma lista para verificar a frequência de cada um."
      ],
      "metadata": {
        "id": "jW3ZtokEi-6c"
      },
      "id": "jW3ZtokEi-6c"
    },
    {
      "cell_type": "code",
      "source": [
        "cargo_tokens = [palavra for trabalho in cargo_tokens for palavra in trabalho]"
      ],
      "metadata": {
        "id": "oTmK8d2qEl3y"
      },
      "id": "oTmK8d2qEl3y",
      "execution_count": 39,
      "outputs": []
    },
    {
      "cell_type": "code",
      "source": [
        "desc_tokens = [palavra for descricao in desc_tokens for palavra in descricao]"
      ],
      "metadata": {
        "id": "P1fjpttmjEnw"
      },
      "id": "P1fjpttmjEnw",
      "execution_count": 40,
      "outputs": []
    },
    {
      "cell_type": "markdown",
      "source": [
        "* Verificando as frequências de cada palavra na coluna Title e FullDescription"
      ],
      "metadata": {
        "id": "042xQWtLjVHM"
      },
      "id": "042xQWtLjVHM"
    },
    {
      "cell_type": "code",
      "source": [
        "cargo_tokens_freq = FreqDist(cargo_tokens)\n",
        "cargo_tokens_freq.most_common(100)"
      ],
      "metadata": {
        "id": "gwLQJWDhF2qH",
        "colab": {
          "base_uri": "https://localhost:8080/"
        },
        "outputId": "5631eb5e-d45a-476f-82ed-8c4792a558a5"
      },
      "id": "gwLQJWDhF2qH",
      "execution_count": 41,
      "outputs": [
        {
          "output_type": "execute_result",
          "data": {
            "text/plain": [
              "[('manager', 50162),\n",
              " ('engineer', 24190),\n",
              " ('sales', 19769),\n",
              " ('senior', 16976),\n",
              " ('developer', 13896),\n",
              " ('assistant', 12179),\n",
              " ('k', 11060),\n",
              " ('executive', 10629),\n",
              " ('business', 9988),\n",
              " ('consultant', 9497),\n",
              " ('london', 9488),\n",
              " ('analyst', 9316),\n",
              " ('support', 8512),\n",
              " ('project', 7229),\n",
              " ('nurse', 7103),\n",
              " ('development', 6874),\n",
              " ('account', 6519),\n",
              " ('administrator', 6374),\n",
              " ('service', 6296),\n",
              " ('c', 6054),\n",
              " ('software', 5505),\n",
              " ('teacher', 5489),\n",
              " ('marketing', 5002),\n",
              " ('chef', 5000),\n",
              " ('care', 4917),\n",
              " ('design', 4791),\n",
              " ('recruitment', 4568),\n",
              " ('advisor', 4465),\n",
              " ('technical', 4246),\n",
              " ('worker', 3984),\n",
              " ('customer', 3885),\n",
              " ('head', 3765),\n",
              " ('graduate', 3754),\n",
              " ('accountant', 3744),\n",
              " ('team', 3704),\n",
              " ('officer', 3680),\n",
              " ('home', 3595),\n",
              " ('technician', 3580),\n",
              " ('finance', 3459),\n",
              " ('mechanical', 3360),\n",
              " ('services', 3320),\n",
              " ('web', 3278),\n",
              " ('financial', 3251),\n",
              " ('rgn', 3169),\n",
              " ('systems', 3117),\n",
              " ('management', 3106),\n",
              " ('coordinator', 3076),\n",
              " ('lead', 3056),\n",
              " ('commercial', 2952),\n",
              " ('hr', 2888),\n",
              " ('director', 2847),\n",
              " ('sql', 2803),\n",
              " ('general', 2678),\n",
              " ('net', 2658),\n",
              " ('electrical', 2604),\n",
              " ('quality', 2587),\n",
              " ('specialist', 2546),\n",
              " ('leader', 2545),\n",
              " ('java', 2484),\n",
              " ('digital', 2481),\n",
              " ('field', 2468),\n",
              " ('maintenance', 2437),\n",
              " ('surveyor', 2332),\n",
              " ('staff', 2301),\n",
              " ('health', 2286),\n",
              " ('social', 2270),\n",
              " ('west', 2204),\n",
              " ('trainee', 2197),\n",
              " ('contract', 2188),\n",
              " ('supervisor', 2186),\n",
              " ('controller', 2174),\n",
              " ('junior', 2159),\n",
              " ('job', 2091),\n",
              " ('time', 2067),\n",
              " ('data', 2034),\n",
              " ('jobs', 2027),\n",
              " ('restaurant', 2024),\n",
              " ('registered', 2007),\n",
              " ('new', 1996),\n",
              " ('required', 1989),\n",
              " ('accounts', 1980),\n",
              " ('aspnet', 1930),\n",
              " ('designer', 1917),\n",
              " ('deputy', 1906),\n",
              " ('operations', 1853),\n",
              " ('de', 1817),\n",
              " ('uk', 1800),\n",
              " ('part', 1796),\n",
              " ('retail', 1795),\n",
              " ('south', 1728),\n",
              " ('engineering', 1722),\n",
              " ('motor', 1683),\n",
              " ('product', 1677),\n",
              " ('test', 1675),\n",
              " ('area', 1673),\n",
              " ('production', 1624),\n",
              " ('partie', 1618),\n",
              " ('driver', 1613),\n",
              " ('architect', 1606),\n",
              " ('php', 1588)]"
            ]
          },
          "metadata": {},
          "execution_count": 41
        }
      ]
    },
    {
      "cell_type": "markdown",
      "source": [
        "* Quantidade total de palavras em todos os anúncios"
      ],
      "metadata": {
        "id": "e7--7o1XI-p3"
      },
      "id": "e7--7o1XI-p3"
    },
    {
      "cell_type": "code",
      "source": [
        "len(cargo_tokens_freq)"
      ],
      "metadata": {
        "id": "vlUNWReQJD26",
        "colab": {
          "base_uri": "https://localhost:8080/"
        },
        "outputId": "0e9d837e-71c6-476c-a44b-e5f9adea32a2"
      },
      "id": "vlUNWReQJD26",
      "execution_count": 42,
      "outputs": [
        {
          "output_type": "execute_result",
          "data": {
            "text/plain": [
              "18150"
            ]
          },
          "metadata": {},
          "execution_count": 42
        }
      ]
    },
    {
      "cell_type": "markdown",
      "source": [
        "* **Normalização da Frequência de palavras** : Divide-se a frequência de cada palavra pelo número total de palavras."
      ],
      "metadata": {
        "id": "co4RNnclJQgq"
      },
      "id": "co4RNnclJQgq"
    },
    {
      "cell_type": "code",
      "source": [
        "totalPalavras = sum(cargo_tokens_freq.values())\n",
        "top100_cargos = cargo_tokens_freq.most_common(100)"
      ],
      "metadata": {
        "id": "ZcWzDdreJPeG"
      },
      "id": "ZcWzDdreJPeG",
      "execution_count": 43,
      "outputs": []
    },
    {
      "cell_type": "code",
      "source": [
        "print(f'Palavra               Frequencia Normalizada')\n",
        "for palavra in top100_cargos : \n",
        "  freqNormal = palavra[1]/totalPalavras\n",
        "  print(f'{palavra[0]}   ------------   {freqNormal:.4}')"
      ],
      "metadata": {
        "id": "YUnpLmh8J13G",
        "colab": {
          "base_uri": "https://localhost:8080/"
        },
        "outputId": "b041316e-4475-490a-dd61-c41cc3647794"
      },
      "id": "YUnpLmh8J13G",
      "execution_count": 44,
      "outputs": [
        {
          "output_type": "stream",
          "name": "stdout",
          "text": [
            "Palavra               Frequencia Normalizada\n",
            "manager   ------------   0.05213\n",
            "engineer   ------------   0.02514\n",
            "sales   ------------   0.02055\n",
            "senior   ------------   0.01764\n",
            "developer   ------------   0.01444\n",
            "assistant   ------------   0.01266\n",
            "k   ------------   0.01149\n",
            "executive   ------------   0.01105\n",
            "business   ------------   0.01038\n",
            "consultant   ------------   0.00987\n",
            "london   ------------   0.009861\n",
            "analyst   ------------   0.009682\n",
            "support   ------------   0.008847\n",
            "project   ------------   0.007513\n",
            "nurse   ------------   0.007382\n",
            "development   ------------   0.007144\n",
            "account   ------------   0.006775\n",
            "administrator   ------------   0.006625\n",
            "service   ------------   0.006544\n",
            "c   ------------   0.006292\n",
            "software   ------------   0.005721\n",
            "teacher   ------------   0.005705\n",
            "marketing   ------------   0.005199\n",
            "chef   ------------   0.005197\n",
            "care   ------------   0.00511\n",
            "design   ------------   0.004979\n",
            "recruitment   ------------   0.004748\n",
            "advisor   ------------   0.004641\n",
            "technical   ------------   0.004413\n",
            "worker   ------------   0.004141\n",
            "customer   ------------   0.004038\n",
            "head   ------------   0.003913\n",
            "graduate   ------------   0.003902\n",
            "accountant   ------------   0.003891\n",
            "team   ------------   0.00385\n",
            "officer   ------------   0.003825\n",
            "home   ------------   0.003736\n",
            "technician   ------------   0.003721\n",
            "finance   ------------   0.003595\n",
            "mechanical   ------------   0.003492\n",
            "services   ------------   0.003451\n",
            "web   ------------   0.003407\n",
            "financial   ------------   0.003379\n",
            "rgn   ------------   0.003294\n",
            "systems   ------------   0.00324\n",
            "management   ------------   0.003228\n",
            "coordinator   ------------   0.003197\n",
            "lead   ------------   0.003176\n",
            "commercial   ------------   0.003068\n",
            "hr   ------------   0.003002\n",
            "director   ------------   0.002959\n",
            "sql   ------------   0.002913\n",
            "general   ------------   0.002783\n",
            "net   ------------   0.002763\n",
            "electrical   ------------   0.002706\n",
            "quality   ------------   0.002689\n",
            "specialist   ------------   0.002646\n",
            "leader   ------------   0.002645\n",
            "java   ------------   0.002582\n",
            "digital   ------------   0.002579\n",
            "field   ------------   0.002565\n",
            "maintenance   ------------   0.002533\n",
            "surveyor   ------------   0.002424\n",
            "staff   ------------   0.002391\n",
            "health   ------------   0.002376\n",
            "social   ------------   0.002359\n",
            "west   ------------   0.002291\n",
            "trainee   ------------   0.002283\n",
            "contract   ------------   0.002274\n",
            "supervisor   ------------   0.002272\n",
            "controller   ------------   0.002259\n",
            "junior   ------------   0.002244\n",
            "job   ------------   0.002173\n",
            "time   ------------   0.002148\n",
            "data   ------------   0.002114\n",
            "jobs   ------------   0.002107\n",
            "restaurant   ------------   0.002104\n",
            "registered   ------------   0.002086\n",
            "new   ------------   0.002074\n",
            "required   ------------   0.002067\n",
            "accounts   ------------   0.002058\n",
            "aspnet   ------------   0.002006\n",
            "designer   ------------   0.001992\n",
            "deputy   ------------   0.001981\n",
            "operations   ------------   0.001926\n",
            "de   ------------   0.001888\n",
            "uk   ------------   0.001871\n",
            "part   ------------   0.001867\n",
            "retail   ------------   0.001866\n",
            "south   ------------   0.001796\n",
            "engineering   ------------   0.00179\n",
            "motor   ------------   0.001749\n",
            "product   ------------   0.001743\n",
            "test   ------------   0.001741\n",
            "area   ------------   0.001739\n",
            "production   ------------   0.001688\n",
            "partie   ------------   0.001682\n",
            "driver   ------------   0.001676\n",
            "architect   ------------   0.001669\n",
            "php   ------------   0.00165\n"
          ]
        }
      ]
    },
    {
      "cell_type": "markdown",
      "source": [
        "* Pode-se observar que com o N-gram com uma única palavra não ficou bom seu aproveitamento, portanto será partido para a criação de um bi-grama ou tri-grama."
      ],
      "metadata": {
        "id": "3_xM4z6EL9_Y"
      },
      "id": "3_xM4z6EL9_Y"
    },
    {
      "cell_type": "markdown",
      "source": [
        "### Criando Tri-gramas para validação no texto da coluna Title\n",
        "\n",
        "* Importando bibliotecas necessárias"
      ],
      "metadata": {
        "id": "ytWCWTwFM7Ja"
      },
      "id": "ytWCWTwFM7Ja"
    },
    {
      "cell_type": "code",
      "source": [
        "from nltk.collocations import *\n",
        "from nltk import ngrams"
      ],
      "metadata": {
        "id": "MZ80OVHmNSMA"
      },
      "id": "MZ80OVHmNSMA",
      "execution_count": 45,
      "outputs": []
    },
    {
      "cell_type": "code",
      "source": [
        "trigram_ = nltk.collocations.TrigramAssocMeasures()\n",
        "finder = TrigramCollocationFinder.from_words(cargo_tokens)\n",
        "score = finder.score_ngrams(trigram_.raw_freq)"
      ],
      "metadata": {
        "id": "bvjfQiOJOq14"
      },
      "id": "bvjfQiOJOq14",
      "execution_count": 46,
      "outputs": []
    },
    {
      "cell_type": "code",
      "source": [
        "score[0:30]"
      ],
      "metadata": {
        "id": "AIhlCAoUQSVh",
        "colab": {
          "base_uri": "https://localhost:8080/"
        },
        "outputId": "66d0fb5e-3dd9-4c50-be3a-0ffcf27a7856"
      },
      "id": "AIhlCAoUQSVh",
      "execution_count": 47,
      "outputs": [
        {
          "output_type": "execute_result",
          "data": {
            "text/plain": [
              "[(('business', 'development', 'manager'), 0.0025400995877015112),\n",
              " (('chef', 'de', 'partie'), 0.001673306193207624),\n",
              " (('mechanical', 'design', 'engineer'), 0.0010289274107301539),\n",
              " (('motor', 'trade', 'job'), 0.0010091803190090702),\n",
              " (('qualified', 'social', 'worker'), 0.0006183957670549915),\n",
              " (('business', 'development', 'executive'), 0.000608002560886),\n",
              " (('graduate', 'sales', 'executive'), 0.0005643510949762359),\n",
              " (('field', 'service', 'engineer'), 0.0005435646826382531),\n",
              " (('trainee', 'recruitment', 'consultant'), 0.0005404467207875556),\n",
              " (('field', 'sales', 'executive'), 0.0005342107970861608),\n",
              " (('manager', 'business', 'development'), 0.0005248569115340684),\n",
              " (('area', 'sales', 'manager'), 0.0004967952548777915),\n",
              " (('staff', 'nurse', 'rgn'), 0.0004947166136439932),\n",
              " (('customer', 'service', 'advisor'), 0.0004697729188384137),\n",
              " (('registered', 'general', 'nurse'), 0.0004583403920525231),\n",
              " (('manager', 'sales', 'executive'), 0.0004406719415652376),\n",
              " (('senior', 'quantity', 'surveyor'), 0.0004333966972469436),\n",
              " (('hr', 'business', 'partner'), 0.00042923941477934703),\n",
              " (('sales', 'account', 'manager'), 0.00042300349107795215),\n",
              " (('electrical', 'design', 'engineer'), 0.00040533504059066667),\n",
              " (('nursing', 'home', 'manager'), 0.00040429571997376755),\n",
              " (('car', 'sales', 'executive'), 0.00039805979627237267),\n",
              " (('senior', 'account', 'manager'), 0.0003616835746809026),\n",
              " (('business', 'travel', 'consultant'), 0.0003606442540640034),\n",
              " (('sales', 'executive', 'sales'), 0.0003564869715964069),\n",
              " (('care', 'home', 'manager'), 0.0003346612386415248),\n",
              " (('sales', 'executive', 'graduate'), 0.00033362191802462565),\n",
              " (('allied', 'health', 'care'), 0.00032842531494012994),\n",
              " (('health', 'care', 'professional'), 0.00032842531494012994),\n",
              " (('purchase', 'ledger', 'clerk'), 0.00031179618506974364)]"
            ]
          },
          "metadata": {},
          "execution_count": 47
        }
      ]
    },
    {
      "cell_type": "markdown",
      "source": [
        "### Criando uma núvem de palavras com os Cargos\n",
        "* Importando as bibliotecas necessárias"
      ],
      "metadata": {
        "id": "xO8b_lgheXKz"
      },
      "id": "xO8b_lgheXKz"
    },
    {
      "cell_type": "code",
      "source": [
        "from wordcloud import WordCloud, STOPWORDS, ImageColorGenerator"
      ],
      "metadata": {
        "id": "lsURg8NPd9IW"
      },
      "id": "lsURg8NPd9IW",
      "execution_count": 48,
      "outputs": []
    },
    {
      "cell_type": "code",
      "source": [
        "#Alocando o texto da coluna Title em uma variável\n",
        "text = \" \".join(descricao for descricao in df_tmp['Title'])\n",
        "\n",
        "#Criando uma lista de stopwords.\n",
        "stopwords = set(STOPWORDS)\n",
        "\n",
        "# Criando a núvem de palavras\n",
        "wordcloud = WordCloud(stopwords = stopwords,max_font_size=50, max_words=100, background_color='white').generate(text)\n",
        "plt.figure(figsize=(15,8))\n",
        "plt.imshow(wordcloud, interpolation='bilinear')\n",
        "plt.axis('off')\n",
        "plt.show()"
      ],
      "metadata": {
        "id": "hIFSgOE1dsAQ",
        "colab": {
          "base_uri": "https://localhost:8080/",
          "height": 449
        },
        "outputId": "dde1cc71-7250-4357-bf25-2537e02be6e4"
      },
      "id": "hIFSgOE1dsAQ",
      "execution_count": 49,
      "outputs": [
        {
          "output_type": "display_data",
          "data": {
            "image/png": "[encoded data removed]",
            "text/plain": [
              "<Figure size 1080x576 with 1 Axes>"
            ]
          },
          "metadata": {
            "needs_background": "light"
          }
        }
      ]
    }
  ],
  "metadata": {
    "kernelspec": {
      "display_name": "Python 3",
      "language": "python",
      "name": "python3"
    },
    "language_info": {
      "codemirror_mode": {
        "name": "ipython",
        "version": 3
      },
      "file_extension": ".py",
      "mimetype": "text/x-python",
      "name": "python",
      "nbconvert_exporter": "python",
      "pygments_lexer": "ipython3",
      "version": "3.8.8"
    },
    "colab": {
      "name": "PredictSalary_RegressionProblemExample_AED.ipynb",
      "provenance": [],
      "collapsed_sections": [],
      "include_colab_link": true
    }
  },
  "nbformat": 4,
  "nbformat_minor": 5
}