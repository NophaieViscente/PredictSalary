{
 "cells": [
  {
   "cell_type": "code",
   "execution_count": null,
   "id": "Vyw-JxJiXrMR",
   "metadata": {
    "colab": {
     "base_uri": "https://localhost:8080/"
    },
    "id": "Vyw-JxJiXrMR",
    "outputId": "6ce5e223-76c5-4e7d-cdaa-b8a39a0a43ed"
   },
   "outputs": [
    {
     "name": "stdout",
     "output_type": "stream",
     "text": [
      "Drive already mounted at /content/drive; to attempt to forcibly remount, call drive.mount(\"/content/drive\", force_remount=True).\n"
     ]
    }
   ],
   "source": [
    "from google.colab import drive\n",
    "drive.mount('/content/drive')"
   ]
  },
  {
   "cell_type": "markdown",
   "id": "2ebbe6fc",
   "metadata": {
    "id": "2ebbe6fc"
   },
   "source": [
    "# Predição de Salário - Problema de Regressão\n",
    "* Este projeto tem por objetivo, efetuar uma predição dos salários para determinados empregos, com base em um conjunto de dados usando o seu texto.\n",
    "\n",
    "* Este notebook contém a Análise Exploratória dos dados e também adição de novas características aos dataSets."
   ]
  },
  {
   "cell_type": "markdown",
   "id": "95b05c58",
   "metadata": {
    "id": "95b05c58"
   },
   "source": [
    "# Carregando as bibliotecas necessárias.\n",
    "\n",
    "* A seguir será efetuado o carregamento das bibliotecas necessárias para uso no projeto."
   ]
  },
  {
   "cell_type": "code",
   "execution_count": null,
   "id": "e36099fa",
   "metadata": {
    "id": "e36099fa"
   },
   "outputs": [],
   "source": [
    "import pandas as pd\n",
    "import matplotlib.pyplot as plt\n",
    "import re\n",
    "import numpy as np"
   ]
  },
  {
   "cell_type": "markdown",
   "id": "e24edb35",
   "metadata": {
    "id": "e24edb35"
   },
   "source": [
    "# Carregando os dados.\n",
    "\n",
    "* A seguir é efetuado o carregamento dos dados para uso na análise. Dentro do parenteses o caminho deve ser alterado para o caminho de onde está alocado o .csv do dataSet de treino."
   ]
  },
  {
   "cell_type": "code",
   "execution_count": null,
   "id": "50e16f8a",
   "metadata": {
    "id": "50e16f8a"
   },
   "outputs": [],
   "source": [
    "train = pd.read_csv(f'Train_rev1.csv')\n",
    "#test = pd.read_csv(f'/content/drive/MyDrive/Test_rev1.csv')\n",
    "#valid = pd.read_csv(f'/content/drive/MyDrive/Valid_rev1.csv')\n",
    "#location = pd.read_csv(f'/content/drive/MyDrive/Location_Tree.csv',header=None)"
   ]
  },
  {
   "cell_type": "markdown",
   "id": "f506588b",
   "metadata": {
    "id": "f506588b"
   },
   "source": [
    "# AED (Análise Exploratória de Dados)\n",
    "* Esta parte do projeto destina-se a análise exploratória de dados, parte importante de um projeto de DataScience. Através dessa primeira análise poderemos ter noções sobre o conjunto de dados que estamos trabalhando e também aplicar limpeza e transformação de dados.\n",
    " "
   ]
  },
  {
   "cell_type": "markdown",
   "id": "29924e1f",
   "metadata": {
    "id": "29924e1f"
   },
   "source": [
    "### Validando as informações dos dataSets."
   ]
  },
  {
   "cell_type": "code",
   "execution_count": null,
   "id": "b9d8a5da",
   "metadata": {
    "colab": {
     "base_uri": "https://localhost:8080/"
    },
    "id": "b9d8a5da",
    "outputId": "6df5e1ee-da91-49d1-9caa-6ff53265aea7"
   },
   "outputs": [
    {
     "name": "stdout",
     "output_type": "stream",
     "text": [
      "<class 'pandas.core.frame.DataFrame'>\n",
      "RangeIndex: 244768 entries, 0 to 244767\n",
      "Data columns (total 12 columns):\n",
      " #   Column              Non-Null Count   Dtype \n",
      "---  ------              --------------   ----- \n",
      " 0   Id                  244768 non-null  int64 \n",
      " 1   Title               244767 non-null  object\n",
      " 2   FullDescription     244768 non-null  object\n",
      " 3   LocationRaw         244768 non-null  object\n",
      " 4   LocationNormalized  244768 non-null  object\n",
      " 5   ContractType        65442 non-null   object\n",
      " 6   ContractTime        180863 non-null  object\n",
      " 7   Company             212338 non-null  object\n",
      " 8   Category            244768 non-null  object\n",
      " 9   SalaryRaw           244768 non-null  object\n",
      " 10  SalaryNormalized    244768 non-null  int64 \n",
      " 11  SourceName          244767 non-null  object\n",
      "dtypes: int64(2), object(10)\n",
      "memory usage: 22.4+ MB\n"
     ]
    }
   ],
   "source": [
    "train.info()"
   ]
  },
  {
   "cell_type": "markdown",
   "id": "d59b561f",
   "metadata": {
    "id": "d59b561f"
   },
   "source": [
    "* Observa-se que existem 244768 linhas nesse dataSet.\n",
    "* Pode-se observar que temos vários dados faltantes em algumas colunas, são elas : ContractType, ContractTime e Company.\n",
    "* Um item faltante em Title."
   ]
  },
  {
   "cell_type": "markdown",
   "id": "2d785a59",
   "metadata": {
    "id": "2d785a59"
   },
   "source": [
    "### Encontrando o item faltante no Cargo.\n",
    "* Encontrar o indice do item faltante para validar se pode ser adicionado manualmente o cargo."
   ]
  },
  {
   "cell_type": "code",
   "execution_count": null,
   "id": "818e21de",
   "metadata": {
    "colab": {
     "base_uri": "https://localhost:8080/"
    },
    "id": "818e21de",
    "outputId": "bddc1d80-5ee6-421f-eec2-a5ec7c350f87"
   },
   "outputs": [
    {
     "name": "stdout",
     "output_type": "stream",
     "text": [
      "1588\n"
     ]
    }
   ],
   "source": [
    "for indice,conteudo in train.Title.items():\n",
    "    if type(conteudo) != str :\n",
    "      print(indice)"
   ]
  },
  {
   "cell_type": "code",
   "execution_count": null,
   "id": "c97ef013",
   "metadata": {
    "colab": {
     "base_uri": "https://localhost:8080/"
    },
    "id": "c97ef013",
    "outputId": "a41ab9af-efbd-482d-913e-1b61943f4ae3"
   },
   "outputs": [
    {
     "data": {
      "text/plain": [
       "Id                                                             48271669\n",
       "Title                                                               NaN\n",
       "FullDescription       Quality Improvement Manager North West England...\n",
       "LocationRaw                                       Liverpool, Merseyside\n",
       "LocationNormalized                                            Liverpool\n",
       "ContractType                                                  full_time\n",
       "ContractTime                                                        NaN\n",
       "Company                                                             NaN\n",
       "Category                                      Healthcare & Nursing Jobs\n",
       "SalaryRaw                                     40,000 to 45,000 per year\n",
       "SalaryNormalized                                                  42500\n",
       "SourceName                                               careworx.co.uk\n",
       "Name: 1588, dtype: object"
      ]
     },
     "execution_count": 6,
     "metadata": {},
     "output_type": "execute_result"
    }
   ],
   "source": [
    "train.loc[1588]"
   ]
  },
  {
   "cell_type": "markdown",
   "id": "b0ec5b67",
   "metadata": {
    "id": "b0ec5b67"
   },
   "source": [
    "* Verificado o item de indice 1588, onde o cargo é o 'Quality Improvement Manager'"
   ]
  },
  {
   "cell_type": "markdown",
   "id": "3527c424",
   "metadata": {
    "id": "3527c424"
   },
   "source": [
    "* Adicionar dados ao indice 1588 "
   ]
  },
  {
   "cell_type": "code",
   "execution_count": null,
   "id": "e7049054",
   "metadata": {
    "id": "e7049054"
   },
   "outputs": [],
   "source": [
    "train.loc[[1588],'Title'] = 'Quality Improvement Manager'"
   ]
  },
  {
   "cell_type": "markdown",
   "id": "4a61fa39",
   "metadata": {
    "id": "4a61fa39"
   },
   "source": [
    "* Validar dados adicionados."
   ]
  },
  {
   "cell_type": "code",
   "execution_count": null,
   "id": "19002d6b",
   "metadata": {
    "colab": {
     "base_uri": "https://localhost:8080/"
    },
    "id": "19002d6b",
    "outputId": "4e569e5d-ba8e-4864-bf2b-759a608ffbbb"
   },
   "outputs": [
    {
     "name": "stdout",
     "output_type": "stream",
     "text": [
      "<class 'pandas.core.frame.DataFrame'>\n",
      "RangeIndex: 244768 entries, 0 to 244767\n",
      "Data columns (total 12 columns):\n",
      " #   Column              Non-Null Count   Dtype \n",
      "---  ------              --------------   ----- \n",
      " 0   Id                  244768 non-null  int64 \n",
      " 1   Title               244768 non-null  object\n",
      " 2   FullDescription     244768 non-null  object\n",
      " 3   LocationRaw         244768 non-null  object\n",
      " 4   LocationNormalized  244768 non-null  object\n",
      " 5   ContractType        65442 non-null   object\n",
      " 6   ContractTime        180863 non-null  object\n",
      " 7   Company             212338 non-null  object\n",
      " 8   Category            244768 non-null  object\n",
      " 9   SalaryRaw           244768 non-null  object\n",
      " 10  SalaryNormalized    244768 non-null  int64 \n",
      " 11  SourceName          244767 non-null  object\n",
      "dtypes: int64(2), object(10)\n",
      "memory usage: 22.4+ MB\n"
     ]
    },
    {
     "data": {
      "text/plain": [
       "(None, Id                                                             48271669\n",
       " Title                                       Quality Improvement Manager\n",
       " FullDescription       Quality Improvement Manager North West England...\n",
       " LocationRaw                                       Liverpool, Merseyside\n",
       " LocationNormalized                                            Liverpool\n",
       " ContractType                                                  full_time\n",
       " ContractTime                                                        NaN\n",
       " Company                                                             NaN\n",
       " Category                                      Healthcare & Nursing Jobs\n",
       " SalaryRaw                                     40,000 to 45,000 per year\n",
       " SalaryNormalized                                                  42500\n",
       " SourceName                                               careworx.co.uk\n",
       " Name: 1588, dtype: object)"
      ]
     },
     "execution_count": 8,
     "metadata": {},
     "output_type": "execute_result"
    }
   ],
   "source": [
    "train.info(), train.loc[1588]"
   ]
  },
  {
   "cell_type": "markdown",
   "id": "ac38c457",
   "metadata": {
    "id": "ac38c457"
   },
   "source": [
    "* Verifica-se que fora adicionado o dado."
   ]
  },
  {
   "cell_type": "code",
   "execution_count": null,
   "id": "8c1cd9f5",
   "metadata": {
    "id": "8c1cd9f5"
   },
   "outputs": [],
   "source": [
    "#test.info()"
   ]
  },
  {
   "cell_type": "markdown",
   "id": "df918472",
   "metadata": {
    "id": "df918472"
   },
   "source": [
    "* Observa-se que existem 122463 linhas nesse dataSet.\n",
    "* Pode-se observar que temos vários dados faltantes em algumas colunas, são elas : ContractType, ContractTime e Company."
   ]
  },
  {
   "cell_type": "code",
   "execution_count": null,
   "id": "7c5be364",
   "metadata": {
    "id": "7c5be364"
   },
   "outputs": [],
   "source": [
    "#valid.info()"
   ]
  },
  {
   "cell_type": "markdown",
   "id": "82959097",
   "metadata": {
    "id": "82959097"
   },
   "source": [
    "* Observa-se que existem 40663 linhas nesse dataSet.\n",
    "* Pode-se observar que temos vários dados faltantes em algumas colunas, são elas : ContractType, ContractTime e Company."
   ]
  },
  {
   "cell_type": "markdown",
   "id": "535406e2",
   "metadata": {
    "id": "535406e2"
   },
   "source": [
    "### Verificando duplicidade de dados nos DataSets."
   ]
  },
  {
   "cell_type": "code",
   "execution_count": null,
   "id": "6ea7c622",
   "metadata": {
    "id": "6ea7c622"
   },
   "outputs": [],
   "source": [
    "#train.Id.unique().size, test.Id.unique().size, valid.Id.unique().size"
   ]
  },
  {
   "cell_type": "markdown",
   "id": "271c8b4f",
   "metadata": {
    "id": "271c8b4f"
   },
   "source": [
    "* Pode-se verificar que o Id é único em todos os datasets."
   ]
  },
  {
   "cell_type": "markdown",
   "id": "b77ab7fa",
   "metadata": {
    "id": "b77ab7fa"
   },
   "source": [
    "### Verificando os dados.\n",
    "* Usando um histogramas para validar a distribuição dos dados da coluna SalaryNormalized"
   ]
  },
  {
   "cell_type": "code",
   "execution_count": null,
   "id": "091f3764",
   "metadata": {
    "colab": {
     "base_uri": "https://localhost:8080/",
     "height": 545
    },
    "id": "091f3764",
    "outputId": "1542a63d-7b14-49dd-efdd-239620c30d97"
   },
   "outputs": [
    {
     "data": {
      "image/png": "[encoded data removed]",
      "text/plain": [
       "<Figure size 720x288 with 1 Axes>"
      ]
     },
     "metadata": {
      "needs_background": "light"
     },
     "output_type": "display_data"
    },
    {
     "data": {
      "image/png": "[encoded data removed]",
      "text/plain": [
       "<Figure size 720x288 with 1 Axes>"
      ]
     },
     "metadata": {
      "needs_background": "light"
     },
     "output_type": "display_data"
    }
   ],
   "source": [
    "plt.figure(figsize=(10,4))\n",
    "plt.subplot(1,2,1)\n",
    "plt.hist(train.SalaryNormalized)\n",
    "plt.title('Histograma Salários Não Normalizado')\n",
    "plt.figure(figsize=(10,4))\n",
    "plt.subplot(1, 2, 2) \n",
    "plt.hist(np.log(train.SalaryNormalized))\n",
    "plt.title('Histogramas Salários Normalizado')\n",
    "plt.show()"
   ]
  },
  {
   "cell_type": "markdown",
   "id": "66733a2d",
   "metadata": {
    "id": "66733a2d"
   },
   "source": [
    "# Pré-Processamento de dados.\n",
    "* Nessa fase iremos preparar os dados para a modelagem, com auxílio de algumas análises."
   ]
  },
  {
   "cell_type": "markdown",
   "id": "432a73d5",
   "metadata": {
    "id": "432a73d5"
   },
   "source": [
    "### Utilizando uma cópia do DataSet.\n",
    "* Utilizando essa técnica para se caso ocorra um erro apenas recarreguemos o dataset inicial de treino, retornando desse ponto."
   ]
  },
  {
   "cell_type": "code",
   "execution_count": null,
   "id": "50745543",
   "metadata": {
    "id": "50745543"
   },
   "outputs": [],
   "source": [
    "df_tmp = train.copy()"
   ]
  },
  {
   "cell_type": "markdown",
   "id": "aa2cb74a",
   "metadata": {
    "id": "aa2cb74a"
   },
   "source": [
    "### Transformando os dados.\n",
    "* Transformando os dados de cargos todos em caracteres minúsculos."
   ]
  },
  {
   "cell_type": "code",
   "execution_count": null,
   "id": "4699aee5",
   "metadata": {
    "id": "4699aee5"
   },
   "outputs": [],
   "source": [
    "#df_tmp.Title = df_tmp.Title.str.lower()"
   ]
  },
  {
   "cell_type": "code",
   "execution_count": null,
   "id": "Q_A-g_pSO8ur",
   "metadata": {
    "colab": {
     "base_uri": "https://localhost:8080/",
     "height": 551
    },
    "id": "Q_A-g_pSO8ur",
    "outputId": "cf92969a-70fa-43f1-a8c9-1b62454e8bef"
   },
   "outputs": [
    {
     "data": {
      "text/html": [
       "\n",
       "  <div id=\"df-5fd21f48-0be9-4a1e-aad4-265251ec015a\">\n",
       "    <div class=\"colab-df-container\">\n",
       "      <div>\n",
       "<style scoped>\n",
       "    .dataframe tbody tr th:only-of-type {\n",
       "        vertical-align: middle;\n",
       "    }\n",
       "\n",
       "    .dataframe tbody tr th {\n",
       "        vertical-align: top;\n",
       "    }\n",
       "\n",
       "    .dataframe thead th {\n",
       "        text-align: right;\n",
       "    }\n",
       "</style>\n",
       "<table border=\"1\" class=\"dataframe\">\n",
       "  <thead>\n",
       "    <tr style=\"text-align: right;\">\n",
       "      <th></th>\n",
       "      <th>Id</th>\n",
       "      <th>Title</th>\n",
       "      <th>FullDescription</th>\n",
       "      <th>LocationNormalized</th>\n",
       "      <th>ContractType</th>\n",
       "      <th>ContractTime</th>\n",
       "      <th>Company</th>\n",
       "      <th>Category</th>\n",
       "      <th>SalaryRaw</th>\n",
       "      <th>SalaryNormalized</th>\n",
       "      <th>SourceName</th>\n",
       "    </tr>\n",
       "    <tr>\n",
       "      <th>LocationRaw</th>\n",
       "      <th></th>\n",
       "      <th></th>\n",
       "      <th></th>\n",
       "      <th></th>\n",
       "      <th></th>\n",
       "      <th></th>\n",
       "      <th></th>\n",
       "      <th></th>\n",
       "      <th></th>\n",
       "      <th></th>\n",
       "      <th></th>\n",
       "    </tr>\n",
       "  </thead>\n",
       "  <tbody>\n",
       "    <tr>\n",
       "      <th>London, Middlesex, Hertfordshire, Buckinghamshire, Surrey, , Greater London</th>\n",
       "      <td>1</td>\n",
       "      <td>1</td>\n",
       "      <td>1</td>\n",
       "      <td>1</td>\n",
       "      <td>0</td>\n",
       "      <td>0</td>\n",
       "      <td>1</td>\n",
       "      <td>1</td>\n",
       "      <td>1</td>\n",
       "      <td>1</td>\n",
       "      <td>1</td>\n",
       "    </tr>\n",
       "    <tr>\n",
       "      <th>Nass</th>\n",
       "      <td>1</td>\n",
       "      <td>1</td>\n",
       "      <td>1</td>\n",
       "      <td>1</td>\n",
       "      <td>1</td>\n",
       "      <td>0</td>\n",
       "      <td>1</td>\n",
       "      <td>1</td>\n",
       "      <td>1</td>\n",
       "      <td>1</td>\n",
       "      <td>1</td>\n",
       "    </tr>\n",
       "    <tr>\n",
       "      <th>National - Midlands, Home Counties, Thames Valley, South</th>\n",
       "      <td>1</td>\n",
       "      <td>1</td>\n",
       "      <td>1</td>\n",
       "      <td>1</td>\n",
       "      <td>0</td>\n",
       "      <td>1</td>\n",
       "      <td>1</td>\n",
       "      <td>1</td>\n",
       "      <td>1</td>\n",
       "      <td>1</td>\n",
       "      <td>1</td>\n",
       "    </tr>\n",
       "    <tr>\n",
       "      <th>National Role - Preferably Midlands/North West</th>\n",
       "      <td>1</td>\n",
       "      <td>1</td>\n",
       "      <td>1</td>\n",
       "      <td>1</td>\n",
       "      <td>1</td>\n",
       "      <td>1</td>\n",
       "      <td>1</td>\n",
       "      <td>1</td>\n",
       "      <td>1</td>\n",
       "      <td>1</td>\n",
       "      <td>1</td>\n",
       "    </tr>\n",
       "    <tr>\n",
       "      <th>National Role but Ideally based in the North of England</th>\n",
       "      <td>1</td>\n",
       "      <td>1</td>\n",
       "      <td>1</td>\n",
       "      <td>1</td>\n",
       "      <td>1</td>\n",
       "      <td>1</td>\n",
       "      <td>1</td>\n",
       "      <td>1</td>\n",
       "      <td>1</td>\n",
       "      <td>1</td>\n",
       "      <td>1</td>\n",
       "    </tr>\n",
       "    <tr>\n",
       "      <th>...</th>\n",
       "      <td>...</td>\n",
       "      <td>...</td>\n",
       "      <td>...</td>\n",
       "      <td>...</td>\n",
       "      <td>...</td>\n",
       "      <td>...</td>\n",
       "      <td>...</td>\n",
       "      <td>...</td>\n",
       "      <td>...</td>\n",
       "      <td>...</td>\n",
       "      <td>...</td>\n",
       "    </tr>\n",
       "    <tr>\n",
       "      <th>City of London - London</th>\n",
       "      <td>2344</td>\n",
       "      <td>2344</td>\n",
       "      <td>2344</td>\n",
       "      <td>2344</td>\n",
       "      <td>2344</td>\n",
       "      <td>2309</td>\n",
       "      <td>2344</td>\n",
       "      <td>2344</td>\n",
       "      <td>2344</td>\n",
       "      <td>2344</td>\n",
       "      <td>2344</td>\n",
       "    </tr>\n",
       "    <tr>\n",
       "      <th>City London South East</th>\n",
       "      <td>2843</td>\n",
       "      <td>2843</td>\n",
       "      <td>2843</td>\n",
       "      <td>2843</td>\n",
       "      <td>15</td>\n",
       "      <td>2667</td>\n",
       "      <td>2843</td>\n",
       "      <td>2843</td>\n",
       "      <td>2843</td>\n",
       "      <td>2843</td>\n",
       "      <td>2843</td>\n",
       "    </tr>\n",
       "    <tr>\n",
       "      <th>UK</th>\n",
       "      <td>5538</td>\n",
       "      <td>5538</td>\n",
       "      <td>5538</td>\n",
       "      <td>5538</td>\n",
       "      <td>2758</td>\n",
       "      <td>4685</td>\n",
       "      <td>5086</td>\n",
       "      <td>5538</td>\n",
       "      <td>5538</td>\n",
       "      <td>5538</td>\n",
       "      <td>5538</td>\n",
       "    </tr>\n",
       "    <tr>\n",
       "      <th>London South East</th>\n",
       "      <td>8689</td>\n",
       "      <td>8689</td>\n",
       "      <td>8689</td>\n",
       "      <td>8689</td>\n",
       "      <td>34</td>\n",
       "      <td>7759</td>\n",
       "      <td>8688</td>\n",
       "      <td>8689</td>\n",
       "      <td>8689</td>\n",
       "      <td>8689</td>\n",
       "      <td>8689</td>\n",
       "    </tr>\n",
       "    <tr>\n",
       "      <th>London</th>\n",
       "      <td>15605</td>\n",
       "      <td>15605</td>\n",
       "      <td>15605</td>\n",
       "      <td>15605</td>\n",
       "      <td>6362</td>\n",
       "      <td>12623</td>\n",
       "      <td>12819</td>\n",
       "      <td>15605</td>\n",
       "      <td>15605</td>\n",
       "      <td>15605</td>\n",
       "      <td>15605</td>\n",
       "    </tr>\n",
       "  </tbody>\n",
       "</table>\n",
       "<p>20986 rows × 11 columns</p>\n",
       "</div>\n",
       "      <button class=\"colab-df-convert\" onclick=\"convertToInteractive('df-5fd21f48-0be9-4a1e-aad4-265251ec015a')\"\n",
       "              title=\"Convert this dataframe to an interactive table.\"\n",
       "              style=\"display:none;\">\n",
       "        \n",
       "  <svg xmlns=\"http://www.w3.org/2000/svg\" height=\"24px\"viewBox=\"0 0 24 24\"\n",
       "       width=\"24px\">\n",
       "    <path d=\"M0 0h24v24H0V0z\" fill=\"none\"/>\n",
       "    <path d=\"M18.56 5.44l.94 2.06.94-2.06 2.06-.94-2.06-.94-.94-2.06-.94 2.06-2.06.94zm-11 1L8.5 8.5l.94-2.06 2.06-.94-2.06-.94L8.5 2.5l-.94 2.06-2.06.94zm10 10l.94 2.06.94-2.06 2.06-.94-2.06-.94-.94-2.06-.94 2.06-2.06.94z\"/><path d=\"M17.41 7.96l-1.37-1.37c-.4-.4-.92-.59-1.43-.59-.52 0-1.04.2-1.43.59L10.3 9.45l-7.72 7.72c-.78.78-.78 2.05 0 2.83L4 21.41c.39.39.9.59 1.41.59.51 0 1.02-.2 1.41-.59l7.78-7.78 2.81-2.81c.8-.78.8-2.07 0-2.86zM5.41 20L4 18.59l7.72-7.72 1.47 1.35L5.41 20z\"/>\n",
       "  </svg>\n",
       "      </button>\n",
       "      \n",
       "  <style>\n",
       "    .colab-df-container {\n",
       "      display:flex;\n",
       "      flex-wrap:wrap;\n",
       "      gap: 12px;\n",
       "    }\n",
       "\n",
       "    .colab-df-convert {\n",
       "      background-color: #E8F0FE;\n",
       "      border: none;\n",
       "      border-radius: 50%;\n",
       "      cursor: pointer;\n",
       "      display: none;\n",
       "      fill: #1967D2;\n",
       "      height: 32px;\n",
       "      padding: 0 0 0 0;\n",
       "      width: 32px;\n",
       "    }\n",
       "\n",
       "    .colab-df-convert:hover {\n",
       "      background-color: #E2EBFA;\n",
       "      box-shadow: 0px 1px 2px rgba(60, 64, 67, 0.3), 0px 1px 3px 1px rgba(60, 64, 67, 0.15);\n",
       "      fill: #174EA6;\n",
       "    }\n",
       "\n",
       "    [theme=dark] .colab-df-convert {\n",
       "      background-color: #3B4455;\n",
       "      fill: #D2E3FC;\n",
       "    }\n",
       "\n",
       "    [theme=dark] .colab-df-convert:hover {\n",
       "      background-color: #434B5C;\n",
       "      box-shadow: 0px 1px 3px 1px rgba(0, 0, 0, 0.15);\n",
       "      filter: drop-shadow(0px 1px 2px rgba(0, 0, 0, 0.3));\n",
       "      fill: #FFFFFF;\n",
       "    }\n",
       "  </style>\n",
       "\n",
       "      <script>\n",
       "        const buttonEl =\n",
       "          document.querySelector('#df-5fd21f48-0be9-4a1e-aad4-265251ec015a button.colab-df-convert');\n",
       "        buttonEl.style.display =\n",
       "          google.colab.kernel.accessAllowed ? 'block' : 'none';\n",
       "\n",
       "        async function convertToInteractive(key) {\n",
       "          const element = document.querySelector('#df-5fd21f48-0be9-4a1e-aad4-265251ec015a');\n",
       "          const dataTable =\n",
       "            await google.colab.kernel.invokeFunction('convertToInteractive',\n",
       "                                                     [key], {});\n",
       "          if (!dataTable) return;\n",
       "\n",
       "          const docLinkHtml = 'Like what you see? Visit the ' +\n",
       "            '<a target=\"_blank\" href=https://colab.research.google.com/notebooks/data_table.ipynb>data table notebook</a>'\n",
       "            + ' to learn more about interactive tables.';\n",
       "          element.innerHTML = '';\n",
       "          dataTable['output_type'] = 'display_data';\n",
       "          await google.colab.output.renderOutput(dataTable, element);\n",
       "          const docLink = document.createElement('div');\n",
       "          docLink.innerHTML = docLinkHtml;\n",
       "          element.appendChild(docLink);\n",
       "        }\n",
       "      </script>\n",
       "    </div>\n",
       "  </div>\n",
       "  "
      ],
      "text/plain": [
       "                                                       Id  ...  SourceName\n",
       "LocationRaw                                                ...            \n",
       "London, Middlesex, Hertfordshire, Buckinghamshi...      1  ...           1\n",
       "Nass                                                    1  ...           1\n",
       "National - Midlands, Home Counties, Thames Vall...      1  ...           1\n",
       "National Role - Preferably Midlands/North West          1  ...           1\n",
       "National Role but Ideally based in the North of...      1  ...           1\n",
       "...                                                   ...  ...         ...\n",
       "City of London - London                              2344  ...        2344\n",
       "City London South East                               2843  ...        2843\n",
       "UK                                                   5538  ...        5538\n",
       "London South East                                    8689  ...        8689\n",
       "London                                              15605  ...       15605\n",
       "\n",
       "[20986 rows x 11 columns]"
      ]
     },
     "execution_count": 15,
     "metadata": {},
     "output_type": "execute_result"
    }
   ],
   "source": [
    "df_tmp.groupby('LocationRaw').count().sort_values(by='SalaryNormalized',ascending=True)"
   ]
  },
  {
   "cell_type": "markdown",
   "id": "gyPwbT5zc7Qd",
   "metadata": {
    "id": "gyPwbT5zc7Qd"
   },
   "source": [
    "### Conferindo se a coluna 'SalaryRaw' tem algum valor nulo"
   ]
  },
  {
   "cell_type": "code",
   "execution_count": null,
   "id": "hRpU5hxUc2qL",
   "metadata": {
    "colab": {
     "base_uri": "https://localhost:8080/"
    },
    "id": "hRpU5hxUc2qL",
    "outputId": "7332d5d4-7757-46f0-bfc7-62e3a735919c"
   },
   "outputs": [
    {
     "data": {
      "text/plain": [
       "0"
      ]
     },
     "execution_count": 16,
     "metadata": {},
     "output_type": "execute_result"
    }
   ],
   "source": [
    "df_tmp.SalaryRaw.isna().sum()"
   ]
  },
  {
   "cell_type": "markdown",
   "id": "vzAPgGizcgX1",
   "metadata": {
    "id": "vzAPgGizcgX1"
   },
   "source": [
    "### Criação de novas características"
   ]
  },
  {
   "cell_type": "markdown",
   "id": "fHj4IugUewHY",
   "metadata": {
    "id": "fHj4IugUewHY"
   },
   "source": [
    "* Criação de lista para alocar os valores de salários. Onde os valores dos salários serão usados para criação de uma possível feature a faixa salarial."
   ]
  },
  {
   "cell_type": "code",
   "execution_count": null,
   "id": "2N-0v9PQEGml",
   "metadata": {
    "id": "2N-0v9PQEGml"
   },
   "outputs": [],
   "source": [
    "def listasSalaryRange (x) :\n",
    "  salary_full_list = x.tolist()\n",
    "  pattern = '[0-9]{1,3}[,.]?[0-9]*'\n",
    "  p = re.compile(pattern)\n",
    "  # Criando uma lista apenas com os números.\n",
    "  onlyDigitSalary = [p.findall(numero) for numero in salary_full_list]\n",
    "  # Alocando a faixa salarial nas uma listas.\n",
    "  LowSalaryRange = [salario[:1] for salario in onlyDigitSalary]\n",
    "  HighSalaryRange = [salario[1:2] for salario in onlyDigitSalary]\n",
    "  # Validando o tamanho da lista ela deve conter o tamanho do DataSet no eixo y.\n",
    "  print(len(LowSalaryRange),len(HighSalaryRange) )\n",
    "  return LowSalaryRange, HighSalaryRange"
   ]
  },
  {
   "cell_type": "code",
   "execution_count": null,
   "id": "n0V1E0_iElAS",
   "metadata": {
    "colab": {
     "base_uri": "https://localhost:8080/"
    },
    "id": "n0V1E0_iElAS",
    "outputId": "bdfb52b2-b17b-4736-abb1-84713f14ecba"
   },
   "outputs": [
    {
     "name": "stdout",
     "output_type": "stream",
     "text": [
      "244768 244768\n"
     ]
    }
   ],
   "source": [
    "low, high = listasSalaryRange(df_tmp.SalaryRaw)"
   ]
  },
  {
   "cell_type": "markdown",
   "id": "X3uBvRHLtMmB",
   "metadata": {
    "id": "X3uBvRHLtMmB"
   },
   "source": [
    "* Verificando o formato da lista de faixa salarial"
   ]
  },
  {
   "cell_type": "code",
   "execution_count": null,
   "id": "LDG103vMn9UZ",
   "metadata": {
    "colab": {
     "base_uri": "https://localhost:8080/"
    },
    "id": "LDG103vMn9UZ",
    "outputId": "0f11e9e7-6246-4d46-c6cd-c0fd163016d5"
   },
   "outputs": [
    {
     "data": {
      "text/plain": [
       "([['20000'],\n",
       "  ['25000'],\n",
       "  ['20000'],\n",
       "  ['25000'],\n",
       "  ['20000'],\n",
       "  ['20000'],\n",
       "  ['50000'],\n",
       "  ['18000'],\n",
       "  ['18000'],\n",
       "  ['70000']],\n",
       " [['30000'],\n",
       "  ['35000'],\n",
       "  ['40000'],\n",
       "  ['30000'],\n",
       "  ['30000'],\n",
       "  ['30000'],\n",
       "  ['100000'],\n",
       "  ['26000'],\n",
       "  ['28000'],\n",
       "  ['100000']])"
      ]
     },
     "execution_count": 19,
     "metadata": {},
     "output_type": "execute_result"
    }
   ],
   "source": [
    "low[:10],high[:10]"
   ]
  },
  {
   "cell_type": "markdown",
   "id": "ItDwxM2d04H7",
   "metadata": {
    "id": "ItDwxM2d04H7"
   },
   "source": [
    "* Ajustando a lista de Faixa Salarial"
   ]
  },
  {
   "cell_type": "code",
   "execution_count": null,
   "id": "ZeyT2b84-9Yj",
   "metadata": {
    "id": "ZeyT2b84-9Yj"
   },
   "outputs": [],
   "source": [
    "# Alocando a faixa salarial nas colunas\n",
    "df_tmp['LowSalaryRange'] = low\n",
    "df_tmp['HighSalaryRange'] = high\n",
    "# Retirando os colchetes que vieram com a string\n",
    "df_tmp['LowSalaryRange'] = df_tmp['LowSalaryRange'].str.get(0)\n",
    "df_tmp['HighSalaryRange'] = df_tmp['HighSalaryRange'].str.get(0)"
   ]
  },
  {
   "cell_type": "code",
   "execution_count": null,
   "id": "c6Jxx0mtJf04",
   "metadata": {
    "colab": {
     "base_uri": "https://localhost:8080/",
     "height": 548
    },
    "id": "c6Jxx0mtJf04",
    "outputId": "bb0b961c-871c-466e-c2b5-b2b1716a1cc6"
   },
   "outputs": [
    {
     "data": {
      "text/html": [
       "\n",
       "  <div id=\"df-b4476b84-b693-4198-b695-cd9e58fdb510\">\n",
       "    <div class=\"colab-df-container\">\n",
       "      <div>\n",
       "<style scoped>\n",
       "    .dataframe tbody tr th:only-of-type {\n",
       "        vertical-align: middle;\n",
       "    }\n",
       "\n",
       "    .dataframe tbody tr th {\n",
       "        vertical-align: top;\n",
       "    }\n",
       "\n",
       "    .dataframe thead th {\n",
       "        text-align: right;\n",
       "    }\n",
       "</style>\n",
       "<table border=\"1\" class=\"dataframe\">\n",
       "  <thead>\n",
       "    <tr style=\"text-align: right;\">\n",
       "      <th></th>\n",
       "      <th>Id</th>\n",
       "      <th>Title</th>\n",
       "      <th>FullDescription</th>\n",
       "      <th>LocationRaw</th>\n",
       "      <th>LocationNormalized</th>\n",
       "      <th>ContractType</th>\n",
       "      <th>ContractTime</th>\n",
       "      <th>Company</th>\n",
       "      <th>Category</th>\n",
       "      <th>SalaryRaw</th>\n",
       "      <th>SalaryNormalized</th>\n",
       "      <th>SourceName</th>\n",
       "      <th>LowSalaryRange</th>\n",
       "      <th>HighSalaryRange</th>\n",
       "    </tr>\n",
       "  </thead>\n",
       "  <tbody>\n",
       "    <tr>\n",
       "      <th>0</th>\n",
       "      <td>12612628</td>\n",
       "      <td>Engineering Systems Analyst</td>\n",
       "      <td>Engineering Systems Analyst Dorking Surrey Sal...</td>\n",
       "      <td>Dorking, Surrey, Surrey</td>\n",
       "      <td>Dorking</td>\n",
       "      <td>NaN</td>\n",
       "      <td>permanent</td>\n",
       "      <td>Gregory Martin International</td>\n",
       "      <td>Engineering Jobs</td>\n",
       "      <td>20000 - 30000/annum 20-30K</td>\n",
       "      <td>25000</td>\n",
       "      <td>cv-library.co.uk</td>\n",
       "      <td>20000</td>\n",
       "      <td>30000</td>\n",
       "    </tr>\n",
       "    <tr>\n",
       "      <th>1</th>\n",
       "      <td>12612830</td>\n",
       "      <td>Stress Engineer Glasgow</td>\n",
       "      <td>Stress Engineer Glasgow Salary **** to **** We...</td>\n",
       "      <td>Glasgow, Scotland, Scotland</td>\n",
       "      <td>Glasgow</td>\n",
       "      <td>NaN</td>\n",
       "      <td>permanent</td>\n",
       "      <td>Gregory Martin International</td>\n",
       "      <td>Engineering Jobs</td>\n",
       "      <td>25000 - 35000/annum 25-35K</td>\n",
       "      <td>30000</td>\n",
       "      <td>cv-library.co.uk</td>\n",
       "      <td>25000</td>\n",
       "      <td>35000</td>\n",
       "    </tr>\n",
       "    <tr>\n",
       "      <th>2</th>\n",
       "      <td>12612844</td>\n",
       "      <td>Modelling and simulation analyst</td>\n",
       "      <td>Mathematical Modeller / Simulation Analyst / O...</td>\n",
       "      <td>Hampshire, South East, South East</td>\n",
       "      <td>Hampshire</td>\n",
       "      <td>NaN</td>\n",
       "      <td>permanent</td>\n",
       "      <td>Gregory Martin International</td>\n",
       "      <td>Engineering Jobs</td>\n",
       "      <td>20000 - 40000/annum 20-40K</td>\n",
       "      <td>30000</td>\n",
       "      <td>cv-library.co.uk</td>\n",
       "      <td>20000</td>\n",
       "      <td>40000</td>\n",
       "    </tr>\n",
       "    <tr>\n",
       "      <th>3</th>\n",
       "      <td>12613049</td>\n",
       "      <td>Engineering Systems Analyst / Mathematical Mod...</td>\n",
       "      <td>Engineering Systems Analyst / Mathematical Mod...</td>\n",
       "      <td>Surrey, South East, South East</td>\n",
       "      <td>Surrey</td>\n",
       "      <td>NaN</td>\n",
       "      <td>permanent</td>\n",
       "      <td>Gregory Martin International</td>\n",
       "      <td>Engineering Jobs</td>\n",
       "      <td>25000 - 30000/annum 25K-30K negotiable</td>\n",
       "      <td>27500</td>\n",
       "      <td>cv-library.co.uk</td>\n",
       "      <td>25000</td>\n",
       "      <td>30000</td>\n",
       "    </tr>\n",
       "    <tr>\n",
       "      <th>4</th>\n",
       "      <td>12613647</td>\n",
       "      <td>Pioneer, Miser Engineering Systems Analyst</td>\n",
       "      <td>Pioneer, Miser  Engineering Systems Analyst Do...</td>\n",
       "      <td>Surrey, South East, South East</td>\n",
       "      <td>Surrey</td>\n",
       "      <td>NaN</td>\n",
       "      <td>permanent</td>\n",
       "      <td>Gregory Martin International</td>\n",
       "      <td>Engineering Jobs</td>\n",
       "      <td>20000 - 30000/annum 20-30K</td>\n",
       "      <td>25000</td>\n",
       "      <td>cv-library.co.uk</td>\n",
       "      <td>20000</td>\n",
       "      <td>30000</td>\n",
       "    </tr>\n",
       "  </tbody>\n",
       "</table>\n",
       "</div>\n",
       "      <button class=\"colab-df-convert\" onclick=\"convertToInteractive('df-b4476b84-b693-4198-b695-cd9e58fdb510')\"\n",
       "              title=\"Convert this dataframe to an interactive table.\"\n",
       "              style=\"display:none;\">\n",
       "        \n",
       "  <svg xmlns=\"http://www.w3.org/2000/svg\" height=\"24px\"viewBox=\"0 0 24 24\"\n",
       "       width=\"24px\">\n",
       "    <path d=\"M0 0h24v24H0V0z\" fill=\"none\"/>\n",
       "    <path d=\"M18.56 5.44l.94 2.06.94-2.06 2.06-.94-2.06-.94-.94-2.06-.94 2.06-2.06.94zm-11 1L8.5 8.5l.94-2.06 2.06-.94-2.06-.94L8.5 2.5l-.94 2.06-2.06.94zm10 10l.94 2.06.94-2.06 2.06-.94-2.06-.94-.94-2.06-.94 2.06-2.06.94z\"/><path d=\"M17.41 7.96l-1.37-1.37c-.4-.4-.92-.59-1.43-.59-.52 0-1.04.2-1.43.59L10.3 9.45l-7.72 7.72c-.78.78-.78 2.05 0 2.83L4 21.41c.39.39.9.59 1.41.59.51 0 1.02-.2 1.41-.59l7.78-7.78 2.81-2.81c.8-.78.8-2.07 0-2.86zM5.41 20L4 18.59l7.72-7.72 1.47 1.35L5.41 20z\"/>\n",
       "  </svg>\n",
       "      </button>\n",
       "      \n",
       "  <style>\n",
       "    .colab-df-container {\n",
       "      display:flex;\n",
       "      flex-wrap:wrap;\n",
       "      gap: 12px;\n",
       "    }\n",
       "\n",
       "    .colab-df-convert {\n",
       "      background-color: #E8F0FE;\n",
       "      border: none;\n",
       "      border-radius: 50%;\n",
       "      cursor: pointer;\n",
       "      display: none;\n",
       "      fill: #1967D2;\n",
       "      height: 32px;\n",
       "      padding: 0 0 0 0;\n",
       "      width: 32px;\n",
       "    }\n",
       "\n",
       "    .colab-df-convert:hover {\n",
       "      background-color: #E2EBFA;\n",
       "      box-shadow: 0px 1px 2px rgba(60, 64, 67, 0.3), 0px 1px 3px 1px rgba(60, 64, 67, 0.15);\n",
       "      fill: #174EA6;\n",
       "    }\n",
       "\n",
       "    [theme=dark] .colab-df-convert {\n",
       "      background-color: #3B4455;\n",
       "      fill: #D2E3FC;\n",
       "    }\n",
       "\n",
       "    [theme=dark] .colab-df-convert:hover {\n",
       "      background-color: #434B5C;\n",
       "      box-shadow: 0px 1px 3px 1px rgba(0, 0, 0, 0.15);\n",
       "      filter: drop-shadow(0px 1px 2px rgba(0, 0, 0, 0.3));\n",
       "      fill: #FFFFFF;\n",
       "    }\n",
       "  </style>\n",
       "\n",
       "      <script>\n",
       "        const buttonEl =\n",
       "          document.querySelector('#df-b4476b84-b693-4198-b695-cd9e58fdb510 button.colab-df-convert');\n",
       "        buttonEl.style.display =\n",
       "          google.colab.kernel.accessAllowed ? 'block' : 'none';\n",
       "\n",
       "        async function convertToInteractive(key) {\n",
       "          const element = document.querySelector('#df-b4476b84-b693-4198-b695-cd9e58fdb510');\n",
       "          const dataTable =\n",
       "            await google.colab.kernel.invokeFunction('convertToInteractive',\n",
       "                                                     [key], {});\n",
       "          if (!dataTable) return;\n",
       "\n",
       "          const docLinkHtml = 'Like what you see? Visit the ' +\n",
       "            '<a target=\"_blank\" href=https://colab.research.google.com/notebooks/data_table.ipynb>data table notebook</a>'\n",
       "            + ' to learn more about interactive tables.';\n",
       "          element.innerHTML = '';\n",
       "          dataTable['output_type'] = 'display_data';\n",
       "          await google.colab.output.renderOutput(dataTable, element);\n",
       "          const docLink = document.createElement('div');\n",
       "          docLink.innerHTML = docLinkHtml;\n",
       "          element.appendChild(docLink);\n",
       "        }\n",
       "      </script>\n",
       "    </div>\n",
       "  </div>\n",
       "  "
      ],
      "text/plain": [
       "         Id  ... HighSalaryRange\n",
       "0  12612628  ...           30000\n",
       "1  12612830  ...           35000\n",
       "2  12612844  ...           40000\n",
       "3  12613049  ...           30000\n",
       "4  12613647  ...           30000\n",
       "\n",
       "[5 rows x 14 columns]"
      ]
     },
     "execution_count": 21,
     "metadata": {},
     "output_type": "execute_result"
    }
   ],
   "source": [
    "df_tmp.head()"
   ]
  },
  {
   "cell_type": "markdown",
   "id": "fNifDePG3M1H",
   "metadata": {
    "id": "fNifDePG3M1H"
   },
   "source": [
    "### Criando novas características"
   ]
  },
  {
   "cell_type": "markdown",
   "id": "AnvLWAJEe2BJ",
   "metadata": {
    "id": "AnvLWAJEe2BJ"
   },
   "source": [
    "* Criação de função para alocar em nova coluna a base de cálculo para o salário anual"
   ]
  },
  {
   "cell_type": "code",
   "execution_count": null,
   "id": "NV4vUDTpeK36",
   "metadata": {
    "id": "NV4vUDTpeK36"
   },
   "outputs": [],
   "source": [
    "def base_calculo_salarial(x):\n",
    "    y=\"\"\n",
    "    if \"year\" in str(x):\n",
    "      y = \"Yearly\"\n",
    "    elif \"py\" in str(x):\n",
    "      y = \"Yearly\"\n",
    "    elif \"annum\" in str(x):\n",
    "      y = \"Yearly\"\n",
    "    elif \"pa\" in str(x):\n",
    "      y = \"Yearly\"\n",
    "    elif \"p.a\" in str(x):\n",
    "      y = \"Yearly\"\n",
    "    elif \"hour\" in str(x):\n",
    "      y = \"Hourly\"\n",
    "    elif \"p.h\" in str(x):\n",
    "      y = 'Hourly'\n",
    "    elif \"ph\" in str(x):\n",
    "      y = 'Hourly'   \n",
    "    elif \"day\" in str(x):\n",
    "      y = \"Daily\"\n",
    "    elif \"pd\" in str(x):\n",
    "      y = \"Daily\"\n",
    "    elif \"p.d\" in str(x):\n",
    "      y = \"Daily\"\n",
    "    elif \"week\" in str(x):\n",
    "      y = \"Weekly\"\n",
    "    elif \"pw\" in str(x):\n",
    "      y = \"Weekly\"\n",
    "    elif \"p.w\" in str(x):\n",
    "      y = \"Weekly\"\n",
    "    \n",
    "    return y"
   ]
  },
  {
   "cell_type": "code",
   "execution_count": null,
   "id": "HWYvfq55fmGm",
   "metadata": {
    "id": "HWYvfq55fmGm"
   },
   "outputs": [],
   "source": [
    "df_tmp['Rate_by'] = df_tmp['SalaryRaw'].apply(base_calculo_salarial)"
   ]
  },
  {
   "cell_type": "markdown",
   "id": "8yiUipmCmvPK",
   "metadata": {
    "id": "8yiUipmCmvPK"
   },
   "source": [
    "* Filtrando os dados que não tinham descrição de base de cálculo salarial"
   ]
  },
  {
   "cell_type": "code",
   "execution_count": null,
   "id": "HYa2eM00i61X",
   "metadata": {
    "colab": {
     "base_uri": "https://localhost:8080/",
     "height": 938
    },
    "id": "HYa2eM00i61X",
    "outputId": "0eb5eb21-ac4c-413e-e114-baf8bdfb4bf3"
   },
   "outputs": [
    {
     "data": {
      "text/html": [
       "\n",
       "  <div id=\"df-f21ab279-f3ff-47d1-9ed0-b071a1deb13f\">\n",
       "    <div class=\"colab-df-container\">\n",
       "      <div>\n",
       "<style scoped>\n",
       "    .dataframe tbody tr th:only-of-type {\n",
       "        vertical-align: middle;\n",
       "    }\n",
       "\n",
       "    .dataframe tbody tr th {\n",
       "        vertical-align: top;\n",
       "    }\n",
       "\n",
       "    .dataframe thead th {\n",
       "        text-align: right;\n",
       "    }\n",
       "</style>\n",
       "<table border=\"1\" class=\"dataframe\">\n",
       "  <thead>\n",
       "    <tr style=\"text-align: right;\">\n",
       "      <th></th>\n",
       "      <th>Id</th>\n",
       "      <th>Title</th>\n",
       "      <th>FullDescription</th>\n",
       "      <th>LocationRaw</th>\n",
       "      <th>LocationNormalized</th>\n",
       "      <th>ContractType</th>\n",
       "      <th>ContractTime</th>\n",
       "      <th>Company</th>\n",
       "      <th>Category</th>\n",
       "      <th>SalaryRaw</th>\n",
       "      <th>SalaryNormalized</th>\n",
       "      <th>SourceName</th>\n",
       "      <th>LowSalaryRange</th>\n",
       "      <th>HighSalaryRange</th>\n",
       "      <th>Rate_by</th>\n",
       "    </tr>\n",
       "  </thead>\n",
       "  <tbody>\n",
       "    <tr>\n",
       "      <th>65</th>\n",
       "      <td>31794403</td>\n",
       "      <td>Senior **** IT Recruitment Consulltant</td>\n",
       "      <td>Inspire is a leading IT services company speci...</td>\n",
       "      <td>Lingfield, Surrey ,</td>\n",
       "      <td>Lingfield</td>\n",
       "      <td>full_time</td>\n",
       "      <td>NaN</td>\n",
       "      <td>Inspire Corporation</td>\n",
       "      <td>Other/General Jobs</td>\n",
       "      <td>20 - 25k Basic,  70 - 75K OTE+++</td>\n",
       "      <td>22500</td>\n",
       "      <td>zartis.com</td>\n",
       "      <td>20</td>\n",
       "      <td>25</td>\n",
       "      <td></td>\n",
       "    </tr>\n",
       "    <tr>\n",
       "      <th>66</th>\n",
       "      <td>31935432</td>\n",
       "      <td>Chef de Partie  Sutton Hall, Macclesfield</td>\n",
       "      <td>We're looking for an ambitious and committed c...</td>\n",
       "      <td>Gurnett, Cheshire</td>\n",
       "      <td>UK</td>\n",
       "      <td>NaN</td>\n",
       "      <td>permanent</td>\n",
       "      <td>Brunning &amp; Price</td>\n",
       "      <td>Travel Jobs</td>\n",
       "      <td>16,500 to 18,000</td>\n",
       "      <td>17250</td>\n",
       "      <td>leisurejobs.com</td>\n",
       "      <td>16,500</td>\n",
       "      <td>18,000</td>\n",
       "      <td></td>\n",
       "    </tr>\n",
       "    <tr>\n",
       "      <th>113</th>\n",
       "      <td>38209887</td>\n",
       "      <td>Transaction Services Executive</td>\n",
       "      <td>Transaction Services Executive ****  **** plus...</td>\n",
       "      <td>Bristol</td>\n",
       "      <td>Bristol</td>\n",
       "      <td>NaN</td>\n",
       "      <td>permanent</td>\n",
       "      <td>NaN</td>\n",
       "      <td>Accounting &amp; Finance Jobs</td>\n",
       "      <td>35,000 - 40,000</td>\n",
       "      <td>37500</td>\n",
       "      <td>hays.co.uk</td>\n",
       "      <td>35,000</td>\n",
       "      <td>40,000</td>\n",
       "      <td></td>\n",
       "    </tr>\n",
       "    <tr>\n",
       "      <th>114</th>\n",
       "      <td>38209888</td>\n",
       "      <td>Audit Executive</td>\n",
       "      <td>Audit Senior **** Bristol My client, a reputab...</td>\n",
       "      <td>Bristol</td>\n",
       "      <td>Bristol</td>\n",
       "      <td>NaN</td>\n",
       "      <td>permanent</td>\n",
       "      <td>NaN</td>\n",
       "      <td>Accounting &amp; Finance Jobs</td>\n",
       "      <td>34,000</td>\n",
       "      <td>34000</td>\n",
       "      <td>hays.co.uk</td>\n",
       "      <td>34,000</td>\n",
       "      <td>NaN</td>\n",
       "      <td></td>\n",
       "    </tr>\n",
       "    <tr>\n",
       "      <th>115</th>\n",
       "      <td>38209893</td>\n",
       "      <td>Audit Assistant Manager</td>\n",
       "      <td>Audit Assistant Manager Bristol **** **** This...</td>\n",
       "      <td>Bristol</td>\n",
       "      <td>Bristol</td>\n",
       "      <td>NaN</td>\n",
       "      <td>permanent</td>\n",
       "      <td>NaN</td>\n",
       "      <td>Accounting &amp; Finance Jobs</td>\n",
       "      <td>32,000 – 38,000</td>\n",
       "      <td>35000</td>\n",
       "      <td>hays.co.uk</td>\n",
       "      <td>32,000</td>\n",
       "      <td>38,000</td>\n",
       "      <td></td>\n",
       "    </tr>\n",
       "    <tr>\n",
       "      <th>...</th>\n",
       "      <td>...</td>\n",
       "      <td>...</td>\n",
       "      <td>...</td>\n",
       "      <td>...</td>\n",
       "      <td>...</td>\n",
       "      <td>...</td>\n",
       "      <td>...</td>\n",
       "      <td>...</td>\n",
       "      <td>...</td>\n",
       "      <td>...</td>\n",
       "      <td>...</td>\n",
       "      <td>...</td>\n",
       "      <td>...</td>\n",
       "      <td>...</td>\n",
       "      <td>...</td>\n",
       "    </tr>\n",
       "    <tr>\n",
       "      <th>244743</th>\n",
       "      <td>72703415</td>\n",
       "      <td>Postroom Operator</td>\n",
       "      <td>A prestigious chambers (Law firm) in the City ...</td>\n",
       "      <td>Temple</td>\n",
       "      <td>Temple</td>\n",
       "      <td>NaN</td>\n",
       "      <td>permanent</td>\n",
       "      <td>NaN</td>\n",
       "      <td>Legal Jobs</td>\n",
       "      <td>19,000</td>\n",
       "      <td>19000</td>\n",
       "      <td>hays.co.uk</td>\n",
       "      <td>19,000</td>\n",
       "      <td>NaN</td>\n",
       "      <td></td>\n",
       "    </tr>\n",
       "    <tr>\n",
       "      <th>244751</th>\n",
       "      <td>72703748</td>\n",
       "      <td>Data Architect</td>\n",
       "      <td>A vibrant charitable institute based in Kensin...</td>\n",
       "      <td>London</td>\n",
       "      <td>London</td>\n",
       "      <td>NaN</td>\n",
       "      <td>permanent</td>\n",
       "      <td>NaN</td>\n",
       "      <td>Charity &amp; Voluntary Jobs</td>\n",
       "      <td>Up to 40k</td>\n",
       "      <td>40000</td>\n",
       "      <td>hays.co.uk</td>\n",
       "      <td>40</td>\n",
       "      <td>NaN</td>\n",
       "      <td></td>\n",
       "    </tr>\n",
       "    <tr>\n",
       "      <th>244752</th>\n",
       "      <td>72705197</td>\n",
       "      <td>Curriculum Leader  Mathematics</td>\n",
       "      <td>Curriculum Leader Mathematics TLR 1 **** Requi...</td>\n",
       "      <td>Wrexham</td>\n",
       "      <td>Wrexham</td>\n",
       "      <td>NaN</td>\n",
       "      <td>permanent</td>\n",
       "      <td>NaN</td>\n",
       "      <td>Teaching Jobs</td>\n",
       "      <td>MPS plus TLR 1 9,013</td>\n",
       "      <td>5006</td>\n",
       "      <td>hays.co.uk</td>\n",
       "      <td>1</td>\n",
       "      <td>9,013</td>\n",
       "      <td></td>\n",
       "    </tr>\n",
       "    <tr>\n",
       "      <th>244754</th>\n",
       "      <td>72705200</td>\n",
       "      <td>Marketing Officer Job</td>\n",
       "      <td>Marketing Officer Job Use a broad range of Mar...</td>\n",
       "      <td>Southampton</td>\n",
       "      <td>Southampton</td>\n",
       "      <td>NaN</td>\n",
       "      <td>permanent</td>\n",
       "      <td>NaN</td>\n",
       "      <td>Teaching Jobs</td>\n",
       "      <td>27,000 - 33,000 DoE plus attractive benefits</td>\n",
       "      <td>30000</td>\n",
       "      <td>hays.co.uk</td>\n",
       "      <td>27,000</td>\n",
       "      <td>33,000</td>\n",
       "      <td></td>\n",
       "    </tr>\n",
       "    <tr>\n",
       "      <th>244767</th>\n",
       "      <td>72705235</td>\n",
       "      <td>Accountant</td>\n",
       "      <td>This entrepreneurial and growing private equit...</td>\n",
       "      <td>Hitchin</td>\n",
       "      <td>Hitchin</td>\n",
       "      <td>NaN</td>\n",
       "      <td>permanent</td>\n",
       "      <td>NaN</td>\n",
       "      <td>Teaching Jobs</td>\n",
       "      <td>40-45,000</td>\n",
       "      <td>42500</td>\n",
       "      <td>hays.co.uk</td>\n",
       "      <td>40</td>\n",
       "      <td>45,000</td>\n",
       "      <td></td>\n",
       "    </tr>\n",
       "  </tbody>\n",
       "</table>\n",
       "<p>72954 rows × 15 columns</p>\n",
       "</div>\n",
       "      <button class=\"colab-df-convert\" onclick=\"convertToInteractive('df-f21ab279-f3ff-47d1-9ed0-b071a1deb13f')\"\n",
       "              title=\"Convert this dataframe to an interactive table.\"\n",
       "              style=\"display:none;\">\n",
       "        \n",
       "  <svg xmlns=\"http://www.w3.org/2000/svg\" height=\"24px\"viewBox=\"0 0 24 24\"\n",
       "       width=\"24px\">\n",
       "    <path d=\"M0 0h24v24H0V0z\" fill=\"none\"/>\n",
       "    <path d=\"M18.56 5.44l.94 2.06.94-2.06 2.06-.94-2.06-.94-.94-2.06-.94 2.06-2.06.94zm-11 1L8.5 8.5l.94-2.06 2.06-.94-2.06-.94L8.5 2.5l-.94 2.06-2.06.94zm10 10l.94 2.06.94-2.06 2.06-.94-2.06-.94-.94-2.06-.94 2.06-2.06.94z\"/><path d=\"M17.41 7.96l-1.37-1.37c-.4-.4-.92-.59-1.43-.59-.52 0-1.04.2-1.43.59L10.3 9.45l-7.72 7.72c-.78.78-.78 2.05 0 2.83L4 21.41c.39.39.9.59 1.41.59.51 0 1.02-.2 1.41-.59l7.78-7.78 2.81-2.81c.8-.78.8-2.07 0-2.86zM5.41 20L4 18.59l7.72-7.72 1.47 1.35L5.41 20z\"/>\n",
       "  </svg>\n",
       "      </button>\n",
       "      \n",
       "  <style>\n",
       "    .colab-df-container {\n",
       "      display:flex;\n",
       "      flex-wrap:wrap;\n",
       "      gap: 12px;\n",
       "    }\n",
       "\n",
       "    .colab-df-convert {\n",
       "      background-color: #E8F0FE;\n",
       "      border: none;\n",
       "      border-radius: 50%;\n",
       "      cursor: pointer;\n",
       "      display: none;\n",
       "      fill: #1967D2;\n",
       "      height: 32px;\n",
       "      padding: 0 0 0 0;\n",
       "      width: 32px;\n",
       "    }\n",
       "\n",
       "    .colab-df-convert:hover {\n",
       "      background-color: #E2EBFA;\n",
       "      box-shadow: 0px 1px 2px rgba(60, 64, 67, 0.3), 0px 1px 3px 1px rgba(60, 64, 67, 0.15);\n",
       "      fill: #174EA6;\n",
       "    }\n",
       "\n",
       "    [theme=dark] .colab-df-convert {\n",
       "      background-color: #3B4455;\n",
       "      fill: #D2E3FC;\n",
       "    }\n",
       "\n",
       "    [theme=dark] .colab-df-convert:hover {\n",
       "      background-color: #434B5C;\n",
       "      box-shadow: 0px 1px 3px 1px rgba(0, 0, 0, 0.15);\n",
       "      filter: drop-shadow(0px 1px 2px rgba(0, 0, 0, 0.3));\n",
       "      fill: #FFFFFF;\n",
       "    }\n",
       "  </style>\n",
       "\n",
       "      <script>\n",
       "        const buttonEl =\n",
       "          document.querySelector('#df-f21ab279-f3ff-47d1-9ed0-b071a1deb13f button.colab-df-convert');\n",
       "        buttonEl.style.display =\n",
       "          google.colab.kernel.accessAllowed ? 'block' : 'none';\n",
       "\n",
       "        async function convertToInteractive(key) {\n",
       "          const element = document.querySelector('#df-f21ab279-f3ff-47d1-9ed0-b071a1deb13f');\n",
       "          const dataTable =\n",
       "            await google.colab.kernel.invokeFunction('convertToInteractive',\n",
       "                                                     [key], {});\n",
       "          if (!dataTable) return;\n",
       "\n",
       "          const docLinkHtml = 'Like what you see? Visit the ' +\n",
       "            '<a target=\"_blank\" href=https://colab.research.google.com/notebooks/data_table.ipynb>data table notebook</a>'\n",
       "            + ' to learn more about interactive tables.';\n",
       "          element.innerHTML = '';\n",
       "          dataTable['output_type'] = 'display_data';\n",
       "          await google.colab.output.renderOutput(dataTable, element);\n",
       "          const docLink = document.createElement('div');\n",
       "          docLink.innerHTML = docLinkHtml;\n",
       "          element.appendChild(docLink);\n",
       "        }\n",
       "      </script>\n",
       "    </div>\n",
       "  </div>\n",
       "  "
      ],
      "text/plain": [
       "              Id  ... Rate_by\n",
       "65      31794403  ...        \n",
       "66      31935432  ...        \n",
       "113     38209887  ...        \n",
       "114     38209888  ...        \n",
       "115     38209893  ...        \n",
       "...          ...  ...     ...\n",
       "244743  72703415  ...        \n",
       "244751  72703748  ...        \n",
       "244752  72705197  ...        \n",
       "244754  72705200  ...        \n",
       "244767  72705235  ...        \n",
       "\n",
       "[72954 rows x 15 columns]"
      ]
     },
     "execution_count": 24,
     "metadata": {},
     "output_type": "execute_result"
    }
   ],
   "source": [
    "filtroBaseCalculo = df_tmp['Rate_by'] == \"\"\n",
    "df_tmp[filtroBaseCalculo]"
   ]
  },
  {
   "cell_type": "markdown",
   "id": "4xWL1g1m9W7V",
   "metadata": {
    "id": "4xWL1g1m9W7V"
   },
   "source": [
    "* Alocando os dados como anual na coluna Rate_by"
   ]
  },
  {
   "cell_type": "code",
   "execution_count": null,
   "id": "-zdSJcxrgkvF",
   "metadata": {
    "id": "-zdSJcxrgkvF"
   },
   "outputs": [],
   "source": [
    "df_tmp.loc[filtroBaseCalculo,'Rate_by'] = 'Yearly'"
   ]
  },
  {
   "cell_type": "markdown",
   "id": "8dJeTIRcg_Cb",
   "metadata": {
    "id": "8dJeTIRcg_Cb"
   },
   "source": [
    "### Plotando Gráfico com a quantidade de dados por base de cálculo salarial"
   ]
  },
  {
   "cell_type": "code",
   "execution_count": null,
   "id": "UG-3eRf8g0qQ",
   "metadata": {
    "colab": {
     "base_uri": "https://localhost:8080/",
     "height": 313
    },
    "id": "UG-3eRf8g0qQ",
    "outputId": "2e36f4ce-8a89-419a-8bac-4fecd45c5346"
   },
   "outputs": [
    {
     "data": {
      "image/png": "[encoded data removed]",
      "text/plain": [
       "<Figure size 432x288 with 1 Axes>"
      ]
     },
     "metadata": {
      "needs_background": "light"
     },
     "output_type": "display_data"
    }
   ],
   "source": [
    "df_tmp.groupby('Rate_by').SalaryRaw.count().plot(kind='bar')\n",
    "plt.title('Base de Cálculo Salarial')\n",
    "plt.xticks(rotation=30)\n",
    "plt.show()"
   ]
  },
  {
   "cell_type": "markdown",
   "id": "w1R7GW5drUaV",
   "metadata": {
    "id": "w1R7GW5drUaV"
   },
   "source": [
    "### Criação de intervalos salariais/categorias"
   ]
  },
  {
   "cell_type": "code",
   "execution_count": null,
   "id": "QcBSu4bunX2T",
   "metadata": {
    "id": "QcBSu4bunX2T"
   },
   "outputs": [],
   "source": [
    "intervalosSalariais = [0,25000,50000,70000,90000,120000,300000]"
   ]
  },
  {
   "cell_type": "code",
   "execution_count": null,
   "id": "x4KBhVbUrazn",
   "metadata": {
    "id": "x4KBhVbUrazn"
   },
   "outputs": [],
   "source": [
    "# Alocando na coluna SalaryBin os intervalos de salários\n",
    "df_tmp['SalaryBin'] = pd.cut(x=df_tmp.SalaryNormalized, bins=intervalosSalariais, labels=False)"
   ]
  },
  {
   "cell_type": "markdown",
   "id": "702pr9-48djE",
   "metadata": {
    "id": "702pr9-48djE"
   },
   "source": [
    "### Plotando gráfico com as faixas salariais."
   ]
  },
  {
   "cell_type": "code",
   "execution_count": null,
   "id": "-ZMhubd0p_OL",
   "metadata": {
    "colab": {
     "base_uri": "https://localhost:8080/",
     "height": 429
    },
    "id": "-ZMhubd0p_OL",
    "outputId": "85bbaf1b-0ca7-4ca0-f5b1-4e9f9d9bbca5"
   },
   "outputs": [
    {
     "data": {
      "image/png": "[encoded data removed]",
      "text/plain": [
       "<Figure size 576x432 with 1 Axes>"
      ]
     },
     "metadata": {
      "needs_background": "light"
     },
     "output_type": "display_data"
    }
   ],
   "source": [
    "plt.figure(figsize=(8,6))\n",
    "df_tmp.groupby('SalaryBin')['LocationNormalized'].count().plot.bar()\n",
    "plt.title(\"Faixas Salariais\")\n",
    "plt.xticks([0,1,2,3,4,5,6],['0-25K','25K-50K','50K-70K','70K-90K','90K-120K','120K-300K'], rotation=30)\n",
    "plt.show()"
   ]
  },
  {
   "cell_type": "markdown",
   "id": "26q1evC2pLgH",
   "metadata": {
    "id": "26q1evC2pLgH"
   },
   "source": [
    "### Usando Vetorização de palavras para verificar a coluna Title - Cargo"
   ]
  },
  {
   "cell_type": "markdown",
   "id": "KUk5FDX0p3bs",
   "metadata": {
    "id": "KUk5FDX0p3bs"
   },
   "source": [
    "* Criando um vetorizador de palavras e aplicando na coluna Title."
   ]
  },
  {
   "cell_type": "code",
   "execution_count": null,
   "id": "MogA6iVmpK5o",
   "metadata": {
    "colab": {
     "base_uri": "https://localhost:8080/"
    },
    "id": "MogA6iVmpK5o",
    "outputId": "3708ee0d-1172-4015-c889-4a0592499e51"
   },
   "outputs": [
    {
     "data": {
      "text/plain": [
       "CountVectorizer(min_df=0.03, ngram_range=(1, 3), stop_words='english')"
      ]
     },
     "execution_count": 30,
     "metadata": {},
     "output_type": "execute_result"
    }
   ],
   "source": [
    "# Importando as bibliotecas\n",
    "from sklearn.feature_extraction.text import CountVectorizer\n",
    "from sklearn.model_selection import train_test_split\n",
    "\n",
    "# Criando o vetorizador com n-gram de 1 a 3\n",
    "cv = CountVectorizer(stop_words='english', ngram_range=(1,3),min_df=0.03)\n",
    "\n",
    "cv.fit(df_tmp.Title)"
   ]
  },
  {
   "cell_type": "markdown",
   "id": "r0snlXzljjQp",
   "metadata": {
    "id": "r0snlXzljjQp"
   },
   "source": [
    "* Criando um DataFrame com os dados para melhor visualização da ocorrência de palavras."
   ]
  },
  {
   "cell_type": "code",
   "execution_count": null,
   "id": "Yt5ixttx8tuF",
   "metadata": {
    "colab": {
     "base_uri": "https://localhost:8080/",
     "height": 478
    },
    "id": "Yt5ixttx8tuF",
    "outputId": "db1184f9-0eda-4dfd-9068-157d7ffa385f"
   },
   "outputs": [
    {
     "name": "stderr",
     "output_type": "stream",
     "text": [
      "/usr/local/lib/python3.7/dist-packages/sklearn/utils/deprecation.py:87: FutureWarning: Function get_feature_names is deprecated; get_feature_names is deprecated in 1.0 and will be removed in 1.2. Please use get_feature_names_out instead.\n",
      "  warnings.warn(msg, category=FutureWarning)\n"
     ]
    },
    {
     "data": {
      "text/html": [
       "\n",
       "  <div id=\"df-b5a4df4a-3004-46fc-ad05-0b82757e96bc\">\n",
       "    <div class=\"colab-df-container\">\n",
       "      <div>\n",
       "<style scoped>\n",
       "    .dataframe tbody tr th:only-of-type {\n",
       "        vertical-align: middle;\n",
       "    }\n",
       "\n",
       "    .dataframe tbody tr th {\n",
       "        vertical-align: top;\n",
       "    }\n",
       "\n",
       "    .dataframe thead th {\n",
       "        text-align: right;\n",
       "    }\n",
       "</style>\n",
       "<table border=\"1\" class=\"dataframe\">\n",
       "  <thead>\n",
       "    <tr style=\"text-align: right;\">\n",
       "      <th></th>\n",
       "      <th>analyst</th>\n",
       "      <th>assistant</th>\n",
       "      <th>business</th>\n",
       "      <th>consultant</th>\n",
       "      <th>developer</th>\n",
       "      <th>engineer</th>\n",
       "      <th>executive</th>\n",
       "      <th>london</th>\n",
       "      <th>manager</th>\n",
       "      <th>sales</th>\n",
       "      <th>senior</th>\n",
       "      <th>support</th>\n",
       "    </tr>\n",
       "  </thead>\n",
       "  <tbody>\n",
       "    <tr>\n",
       "      <th>0</th>\n",
       "      <td>1</td>\n",
       "      <td>0</td>\n",
       "      <td>0</td>\n",
       "      <td>0</td>\n",
       "      <td>0</td>\n",
       "      <td>0</td>\n",
       "      <td>0</td>\n",
       "      <td>0</td>\n",
       "      <td>0</td>\n",
       "      <td>0</td>\n",
       "      <td>0</td>\n",
       "      <td>0</td>\n",
       "    </tr>\n",
       "    <tr>\n",
       "      <th>1</th>\n",
       "      <td>0</td>\n",
       "      <td>0</td>\n",
       "      <td>0</td>\n",
       "      <td>0</td>\n",
       "      <td>0</td>\n",
       "      <td>1</td>\n",
       "      <td>0</td>\n",
       "      <td>0</td>\n",
       "      <td>0</td>\n",
       "      <td>0</td>\n",
       "      <td>0</td>\n",
       "      <td>0</td>\n",
       "    </tr>\n",
       "    <tr>\n",
       "      <th>2</th>\n",
       "      <td>1</td>\n",
       "      <td>0</td>\n",
       "      <td>0</td>\n",
       "      <td>0</td>\n",
       "      <td>0</td>\n",
       "      <td>0</td>\n",
       "      <td>0</td>\n",
       "      <td>0</td>\n",
       "      <td>0</td>\n",
       "      <td>0</td>\n",
       "      <td>0</td>\n",
       "      <td>0</td>\n",
       "    </tr>\n",
       "    <tr>\n",
       "      <th>3</th>\n",
       "      <td>1</td>\n",
       "      <td>0</td>\n",
       "      <td>0</td>\n",
       "      <td>0</td>\n",
       "      <td>0</td>\n",
       "      <td>0</td>\n",
       "      <td>0</td>\n",
       "      <td>0</td>\n",
       "      <td>0</td>\n",
       "      <td>0</td>\n",
       "      <td>0</td>\n",
       "      <td>0</td>\n",
       "    </tr>\n",
       "    <tr>\n",
       "      <th>4</th>\n",
       "      <td>1</td>\n",
       "      <td>0</td>\n",
       "      <td>0</td>\n",
       "      <td>0</td>\n",
       "      <td>0</td>\n",
       "      <td>0</td>\n",
       "      <td>0</td>\n",
       "      <td>0</td>\n",
       "      <td>0</td>\n",
       "      <td>0</td>\n",
       "      <td>0</td>\n",
       "      <td>0</td>\n",
       "    </tr>\n",
       "    <tr>\n",
       "      <th>...</th>\n",
       "      <td>...</td>\n",
       "      <td>...</td>\n",
       "      <td>...</td>\n",
       "      <td>...</td>\n",
       "      <td>...</td>\n",
       "      <td>...</td>\n",
       "      <td>...</td>\n",
       "      <td>...</td>\n",
       "      <td>...</td>\n",
       "      <td>...</td>\n",
       "      <td>...</td>\n",
       "      <td>...</td>\n",
       "    </tr>\n",
       "    <tr>\n",
       "      <th>244763</th>\n",
       "      <td>0</td>\n",
       "      <td>0</td>\n",
       "      <td>0</td>\n",
       "      <td>0</td>\n",
       "      <td>0</td>\n",
       "      <td>0</td>\n",
       "      <td>0</td>\n",
       "      <td>0</td>\n",
       "      <td>0</td>\n",
       "      <td>0</td>\n",
       "      <td>0</td>\n",
       "      <td>0</td>\n",
       "    </tr>\n",
       "    <tr>\n",
       "      <th>244764</th>\n",
       "      <td>0</td>\n",
       "      <td>0</td>\n",
       "      <td>1</td>\n",
       "      <td>0</td>\n",
       "      <td>0</td>\n",
       "      <td>0</td>\n",
       "      <td>0</td>\n",
       "      <td>0</td>\n",
       "      <td>0</td>\n",
       "      <td>0</td>\n",
       "      <td>0</td>\n",
       "      <td>0</td>\n",
       "    </tr>\n",
       "    <tr>\n",
       "      <th>244765</th>\n",
       "      <td>0</td>\n",
       "      <td>0</td>\n",
       "      <td>0</td>\n",
       "      <td>0</td>\n",
       "      <td>0</td>\n",
       "      <td>0</td>\n",
       "      <td>0</td>\n",
       "      <td>0</td>\n",
       "      <td>0</td>\n",
       "      <td>0</td>\n",
       "      <td>0</td>\n",
       "      <td>0</td>\n",
       "    </tr>\n",
       "    <tr>\n",
       "      <th>244766</th>\n",
       "      <td>0</td>\n",
       "      <td>0</td>\n",
       "      <td>0</td>\n",
       "      <td>0</td>\n",
       "      <td>0</td>\n",
       "      <td>0</td>\n",
       "      <td>0</td>\n",
       "      <td>0</td>\n",
       "      <td>0</td>\n",
       "      <td>0</td>\n",
       "      <td>0</td>\n",
       "      <td>0</td>\n",
       "    </tr>\n",
       "    <tr>\n",
       "      <th>244767</th>\n",
       "      <td>0</td>\n",
       "      <td>0</td>\n",
       "      <td>0</td>\n",
       "      <td>0</td>\n",
       "      <td>0</td>\n",
       "      <td>0</td>\n",
       "      <td>0</td>\n",
       "      <td>0</td>\n",
       "      <td>0</td>\n",
       "      <td>0</td>\n",
       "      <td>0</td>\n",
       "      <td>0</td>\n",
       "    </tr>\n",
       "  </tbody>\n",
       "</table>\n",
       "<p>244768 rows × 12 columns</p>\n",
       "</div>\n",
       "      <button class=\"colab-df-convert\" onclick=\"convertToInteractive('df-b5a4df4a-3004-46fc-ad05-0b82757e96bc')\"\n",
       "              title=\"Convert this dataframe to an interactive table.\"\n",
       "              style=\"display:none;\">\n",
       "        \n",
       "  <svg xmlns=\"http://www.w3.org/2000/svg\" height=\"24px\"viewBox=\"0 0 24 24\"\n",
       "       width=\"24px\">\n",
       "    <path d=\"M0 0h24v24H0V0z\" fill=\"none\"/>\n",
       "    <path d=\"M18.56 5.44l.94 2.06.94-2.06 2.06-.94-2.06-.94-.94-2.06-.94 2.06-2.06.94zm-11 1L8.5 8.5l.94-2.06 2.06-.94-2.06-.94L8.5 2.5l-.94 2.06-2.06.94zm10 10l.94 2.06.94-2.06 2.06-.94-2.06-.94-.94-2.06-.94 2.06-2.06.94z\"/><path d=\"M17.41 7.96l-1.37-1.37c-.4-.4-.92-.59-1.43-.59-.52 0-1.04.2-1.43.59L10.3 9.45l-7.72 7.72c-.78.78-.78 2.05 0 2.83L4 21.41c.39.39.9.59 1.41.59.51 0 1.02-.2 1.41-.59l7.78-7.78 2.81-2.81c.8-.78.8-2.07 0-2.86zM5.41 20L4 18.59l7.72-7.72 1.47 1.35L5.41 20z\"/>\n",
       "  </svg>\n",
       "      </button>\n",
       "      \n",
       "  <style>\n",
       "    .colab-df-container {\n",
       "      display:flex;\n",
       "      flex-wrap:wrap;\n",
       "      gap: 12px;\n",
       "    }\n",
       "\n",
       "    .colab-df-convert {\n",
       "      background-color: #E8F0FE;\n",
       "      border: none;\n",
       "      border-radius: 50%;\n",
       "      cursor: pointer;\n",
       "      display: none;\n",
       "      fill: #1967D2;\n",
       "      height: 32px;\n",
       "      padding: 0 0 0 0;\n",
       "      width: 32px;\n",
       "    }\n",
       "\n",
       "    .colab-df-convert:hover {\n",
       "      background-color: #E2EBFA;\n",
       "      box-shadow: 0px 1px 2px rgba(60, 64, 67, 0.3), 0px 1px 3px 1px rgba(60, 64, 67, 0.15);\n",
       "      fill: #174EA6;\n",
       "    }\n",
       "\n",
       "    [theme=dark] .colab-df-convert {\n",
       "      background-color: #3B4455;\n",
       "      fill: #D2E3FC;\n",
       "    }\n",
       "\n",
       "    [theme=dark] .colab-df-convert:hover {\n",
       "      background-color: #434B5C;\n",
       "      box-shadow: 0px 1px 3px 1px rgba(0, 0, 0, 0.15);\n",
       "      filter: drop-shadow(0px 1px 2px rgba(0, 0, 0, 0.3));\n",
       "      fill: #FFFFFF;\n",
       "    }\n",
       "  </style>\n",
       "\n",
       "      <script>\n",
       "        const buttonEl =\n",
       "          document.querySelector('#df-b5a4df4a-3004-46fc-ad05-0b82757e96bc button.colab-df-convert');\n",
       "        buttonEl.style.display =\n",
       "          google.colab.kernel.accessAllowed ? 'block' : 'none';\n",
       "\n",
       "        async function convertToInteractive(key) {\n",
       "          const element = document.querySelector('#df-b5a4df4a-3004-46fc-ad05-0b82757e96bc');\n",
       "          const dataTable =\n",
       "            await google.colab.kernel.invokeFunction('convertToInteractive',\n",
       "                                                     [key], {});\n",
       "          if (!dataTable) return;\n",
       "\n",
       "          const docLinkHtml = 'Like what you see? Visit the ' +\n",
       "            '<a target=\"_blank\" href=https://colab.research.google.com/notebooks/data_table.ipynb>data table notebook</a>'\n",
       "            + ' to learn more about interactive tables.';\n",
       "          element.innerHTML = '';\n",
       "          dataTable['output_type'] = 'display_data';\n",
       "          await google.colab.output.renderOutput(dataTable, element);\n",
       "          const docLink = document.createElement('div');\n",
       "          docLink.innerHTML = docLinkHtml;\n",
       "          element.appendChild(docLink);\n",
       "        }\n",
       "      </script>\n",
       "    </div>\n",
       "  </div>\n",
       "  "
      ],
      "text/plain": [
       "        analyst  assistant  business  ...  sales  senior  support\n",
       "0             1          0         0  ...      0       0        0\n",
       "1             0          0         0  ...      0       0        0\n",
       "2             1          0         0  ...      0       0        0\n",
       "3             1          0         0  ...      0       0        0\n",
       "4             1          0         0  ...      0       0        0\n",
       "...         ...        ...       ...  ...    ...     ...      ...\n",
       "244763        0          0         0  ...      0       0        0\n",
       "244764        0          0         1  ...      0       0        0\n",
       "244765        0          0         0  ...      0       0        0\n",
       "244766        0          0         0  ...      0       0        0\n",
       "244767        0          0         0  ...      0       0        0\n",
       "\n",
       "[244768 rows x 12 columns]"
      ]
     },
     "execution_count": 31,
     "metadata": {},
     "output_type": "execute_result"
    }
   ],
   "source": [
    "cargos = pd.DataFrame(cv.transform(df_tmp.Title).todense(), columns=cv.get_feature_names())\n",
    "cargos"
   ]
  },
  {
   "cell_type": "code",
   "execution_count": null,
   "id": "JOgojWfPvrDM",
   "metadata": {
    "colab": {
     "base_uri": "https://localhost:8080/",
     "height": 206
    },
    "id": "JOgojWfPvrDM",
    "outputId": "e4199956-2153-49eb-fafd-7115b2c4fed3"
   },
   "outputs": [
    {
     "data": {
      "text/html": [
       "\n",
       "  <div id=\"df-b0a82755-9406-4683-896e-717403539af3\">\n",
       "    <div class=\"colab-df-container\">\n",
       "      <div>\n",
       "<style scoped>\n",
       "    .dataframe tbody tr th:only-of-type {\n",
       "        vertical-align: middle;\n",
       "    }\n",
       "\n",
       "    .dataframe tbody tr th {\n",
       "        vertical-align: top;\n",
       "    }\n",
       "\n",
       "    .dataframe thead th {\n",
       "        text-align: right;\n",
       "    }\n",
       "</style>\n",
       "<table border=\"1\" class=\"dataframe\">\n",
       "  <thead>\n",
       "    <tr style=\"text-align: right;\">\n",
       "      <th></th>\n",
       "      <th>analyst</th>\n",
       "      <th>assistant</th>\n",
       "      <th>business</th>\n",
       "      <th>consultant</th>\n",
       "      <th>developer</th>\n",
       "      <th>engineer</th>\n",
       "      <th>executive</th>\n",
       "      <th>london</th>\n",
       "      <th>manager</th>\n",
       "      <th>sales</th>\n",
       "      <th>senior</th>\n",
       "      <th>support</th>\n",
       "      <th>SalaryBin</th>\n",
       "    </tr>\n",
       "  </thead>\n",
       "  <tbody>\n",
       "    <tr>\n",
       "      <th>0</th>\n",
       "      <td>1</td>\n",
       "      <td>0</td>\n",
       "      <td>0</td>\n",
       "      <td>0</td>\n",
       "      <td>0</td>\n",
       "      <td>0</td>\n",
       "      <td>0</td>\n",
       "      <td>0</td>\n",
       "      <td>0</td>\n",
       "      <td>0</td>\n",
       "      <td>0</td>\n",
       "      <td>0</td>\n",
       "      <td>0</td>\n",
       "    </tr>\n",
       "    <tr>\n",
       "      <th>1</th>\n",
       "      <td>0</td>\n",
       "      <td>0</td>\n",
       "      <td>0</td>\n",
       "      <td>0</td>\n",
       "      <td>0</td>\n",
       "      <td>1</td>\n",
       "      <td>0</td>\n",
       "      <td>0</td>\n",
       "      <td>0</td>\n",
       "      <td>0</td>\n",
       "      <td>0</td>\n",
       "      <td>0</td>\n",
       "      <td>1</td>\n",
       "    </tr>\n",
       "    <tr>\n",
       "      <th>2</th>\n",
       "      <td>1</td>\n",
       "      <td>0</td>\n",
       "      <td>0</td>\n",
       "      <td>0</td>\n",
       "      <td>0</td>\n",
       "      <td>0</td>\n",
       "      <td>0</td>\n",
       "      <td>0</td>\n",
       "      <td>0</td>\n",
       "      <td>0</td>\n",
       "      <td>0</td>\n",
       "      <td>0</td>\n",
       "      <td>1</td>\n",
       "    </tr>\n",
       "    <tr>\n",
       "      <th>3</th>\n",
       "      <td>1</td>\n",
       "      <td>0</td>\n",
       "      <td>0</td>\n",
       "      <td>0</td>\n",
       "      <td>0</td>\n",
       "      <td>0</td>\n",
       "      <td>0</td>\n",
       "      <td>0</td>\n",
       "      <td>0</td>\n",
       "      <td>0</td>\n",
       "      <td>0</td>\n",
       "      <td>0</td>\n",
       "      <td>1</td>\n",
       "    </tr>\n",
       "    <tr>\n",
       "      <th>4</th>\n",
       "      <td>1</td>\n",
       "      <td>0</td>\n",
       "      <td>0</td>\n",
       "      <td>0</td>\n",
       "      <td>0</td>\n",
       "      <td>0</td>\n",
       "      <td>0</td>\n",
       "      <td>0</td>\n",
       "      <td>0</td>\n",
       "      <td>0</td>\n",
       "      <td>0</td>\n",
       "      <td>0</td>\n",
       "      <td>0</td>\n",
       "    </tr>\n",
       "  </tbody>\n",
       "</table>\n",
       "</div>\n",
       "      <button class=\"colab-df-convert\" onclick=\"convertToInteractive('df-b0a82755-9406-4683-896e-717403539af3')\"\n",
       "              title=\"Convert this dataframe to an interactive table.\"\n",
       "              style=\"display:none;\">\n",
       "        \n",
       "  <svg xmlns=\"http://www.w3.org/2000/svg\" height=\"24px\"viewBox=\"0 0 24 24\"\n",
       "       width=\"24px\">\n",
       "    <path d=\"M0 0h24v24H0V0z\" fill=\"none\"/>\n",
       "    <path d=\"M18.56 5.44l.94 2.06.94-2.06 2.06-.94-2.06-.94-.94-2.06-.94 2.06-2.06.94zm-11 1L8.5 8.5l.94-2.06 2.06-.94-2.06-.94L8.5 2.5l-.94 2.06-2.06.94zm10 10l.94 2.06.94-2.06 2.06-.94-2.06-.94-.94-2.06-.94 2.06-2.06.94z\"/><path d=\"M17.41 7.96l-1.37-1.37c-.4-.4-.92-.59-1.43-.59-.52 0-1.04.2-1.43.59L10.3 9.45l-7.72 7.72c-.78.78-.78 2.05 0 2.83L4 21.41c.39.39.9.59 1.41.59.51 0 1.02-.2 1.41-.59l7.78-7.78 2.81-2.81c.8-.78.8-2.07 0-2.86zM5.41 20L4 18.59l7.72-7.72 1.47 1.35L5.41 20z\"/>\n",
       "  </svg>\n",
       "      </button>\n",
       "      \n",
       "  <style>\n",
       "    .colab-df-container {\n",
       "      display:flex;\n",
       "      flex-wrap:wrap;\n",
       "      gap: 12px;\n",
       "    }\n",
       "\n",
       "    .colab-df-convert {\n",
       "      background-color: #E8F0FE;\n",
       "      border: none;\n",
       "      border-radius: 50%;\n",
       "      cursor: pointer;\n",
       "      display: none;\n",
       "      fill: #1967D2;\n",
       "      height: 32px;\n",
       "      padding: 0 0 0 0;\n",
       "      width: 32px;\n",
       "    }\n",
       "\n",
       "    .colab-df-convert:hover {\n",
       "      background-color: #E2EBFA;\n",
       "      box-shadow: 0px 1px 2px rgba(60, 64, 67, 0.3), 0px 1px 3px 1px rgba(60, 64, 67, 0.15);\n",
       "      fill: #174EA6;\n",
       "    }\n",
       "\n",
       "    [theme=dark] .colab-df-convert {\n",
       "      background-color: #3B4455;\n",
       "      fill: #D2E3FC;\n",
       "    }\n",
       "\n",
       "    [theme=dark] .colab-df-convert:hover {\n",
       "      background-color: #434B5C;\n",
       "      box-shadow: 0px 1px 3px 1px rgba(0, 0, 0, 0.15);\n",
       "      filter: drop-shadow(0px 1px 2px rgba(0, 0, 0, 0.3));\n",
       "      fill: #FFFFFF;\n",
       "    }\n",
       "  </style>\n",
       "\n",
       "      <script>\n",
       "        const buttonEl =\n",
       "          document.querySelector('#df-b0a82755-9406-4683-896e-717403539af3 button.colab-df-convert');\n",
       "        buttonEl.style.display =\n",
       "          google.colab.kernel.accessAllowed ? 'block' : 'none';\n",
       "\n",
       "        async function convertToInteractive(key) {\n",
       "          const element = document.querySelector('#df-b0a82755-9406-4683-896e-717403539af3');\n",
       "          const dataTable =\n",
       "            await google.colab.kernel.invokeFunction('convertToInteractive',\n",
       "                                                     [key], {});\n",
       "          if (!dataTable) return;\n",
       "\n",
       "          const docLinkHtml = 'Like what you see? Visit the ' +\n",
       "            '<a target=\"_blank\" href=https://colab.research.google.com/notebooks/data_table.ipynb>data table notebook</a>'\n",
       "            + ' to learn more about interactive tables.';\n",
       "          element.innerHTML = '';\n",
       "          dataTable['output_type'] = 'display_data';\n",
       "          await google.colab.output.renderOutput(dataTable, element);\n",
       "          const docLink = document.createElement('div');\n",
       "          docLink.innerHTML = docLinkHtml;\n",
       "          element.appendChild(docLink);\n",
       "        }\n",
       "      </script>\n",
       "    </div>\n",
       "  </div>\n",
       "  "
      ],
      "text/plain": [
       "   analyst  assistant  business  consultant  ...  sales  senior  support  SalaryBin\n",
       "0        1          0         0           0  ...      0       0        0          0\n",
       "1        0          0         0           0  ...      0       0        0          1\n",
       "2        1          0         0           0  ...      0       0        0          1\n",
       "3        1          0         0           0  ...      0       0        0          1\n",
       "4        1          0         0           0  ...      0       0        0          0\n",
       "\n",
       "[5 rows x 13 columns]"
      ]
     },
     "execution_count": 32,
     "metadata": {},
     "output_type": "execute_result"
    }
   ],
   "source": [
    "# Criando um novo dataframe com a adição da coluna Faixa Salarial\n",
    "obs_palavras = pd.concat([cargos, df_tmp.SalaryBin], axis=1)\n",
    "# Visualizando o DataFrame\n",
    "obs_palavras.head()"
   ]
  },
  {
   "cell_type": "code",
   "execution_count": null,
   "id": "N2o-2NIUwJmP",
   "metadata": {
    "colab": {
     "base_uri": "https://localhost:8080/"
    },
    "id": "N2o-2NIUwJmP",
    "outputId": "4cbfe15e-1a39-4e8d-f20e-1f511c169adf"
   },
   "outputs": [
    {
     "name": "stdout",
     "output_type": "stream",
     "text": [
      "Faixa Salarial de 0K até 25000K anual, ocorrências de palavras: \n",
      "assistant     10158\n",
      "sales          9615\n",
      "manager        9226\n",
      "executive      5482\n",
      "support        5160\n",
      "consultant     3665\n",
      "engineer       3438\n",
      "business       1969\n",
      "senior         1885\n",
      "analyst        1671\n",
      "london         1610\n",
      "developer      1449\n",
      "SalaryBin         0\n",
      "dtype: int64\n",
      "Faixa Salarial de 25000K até 50000K anual, ocorrências de palavras: \n",
      "SalaryBin     117918\n",
      "manager        30429\n",
      "engineer       17307\n",
      "senior          9893\n",
      "developer       9206\n",
      "sales           8367\n",
      "analyst         5569\n",
      "london          5429\n",
      "business        5378\n",
      "executive       4498\n",
      "consultant      3840\n",
      "support         2865\n",
      "assistant       1878\n",
      "dtype: int64\n",
      "Faixa Salarial de 50000K até 70000K anual, ocorrências de palavras: \n",
      "SalaryBin     50558\n",
      "manager        8176\n",
      "senior         3841\n",
      "engineer       2442\n",
      "developer      2115\n",
      "business       1805\n",
      "london         1696\n",
      "consultant     1435\n",
      "analyst        1371\n",
      "sales          1313\n",
      "executive       496\n",
      "support         343\n",
      "assistant       111\n",
      "dtype: int64\n",
      "Faixa Salarial de 70000K até 90000K anual, ocorrências de palavras: \n",
      "SalaryBin     26592\n",
      "manager        1910\n",
      "senior         1080\n",
      "developer       897\n",
      "engineer        844\n",
      "business        657\n",
      "london          587\n",
      "analyst         555\n",
      "consultant      445\n",
      "sales           359\n",
      "executive       132\n",
      "support         125\n",
      "assistant        25\n",
      "dtype: int64\n",
      "Faixa Salarial de 90000K até 120000K anual, ocorrências de palavras: \n",
      "SalaryBin     8236\n",
      "manager        401\n",
      "senior         269\n",
      "developer      224\n",
      "business       176\n",
      "london         152\n",
      "engineer       152\n",
      "analyst        147\n",
      "sales          112\n",
      "consultant      94\n",
      "executive       23\n",
      "support         19\n",
      "assistant        7\n",
      "dtype: int64\n",
      "Faixa Salarial de 120000K até 300000K anual, ocorrências de palavras: \n",
      "SalaryBin     1000\n",
      "manager         21\n",
      "london          19\n",
      "consultant      16\n",
      "engineer         9\n",
      "senior           8\n",
      "developer        4\n",
      "sales            3\n",
      "business         3\n",
      "analyst          3\n",
      "support          0\n",
      "executive        0\n",
      "assistant        0\n",
      "dtype: int64\n"
     ]
    }
   ],
   "source": [
    "# Criando um contador de palavras para verificar quais mais aparecem olhando por faixa salarial\n",
    "for i in range(0,6) : \n",
    "  contadorPalavras = obs_palavras[obs_palavras['SalaryBin']==i].sum(axis=0)\n",
    "  print(f'Faixa Salarial de {intervalosSalariais[i]}K até {intervalosSalariais[i+1]}K anual, ocorrências de palavras: ')\n",
    "  palavrasComuns = contadorPalavras.sort_values(ascending=False)\n",
    "  print(palavrasComuns)"
   ]
  },
  {
   "cell_type": "markdown",
   "id": "su27adpS_OY_",
   "metadata": {
    "id": "su27adpS_OY_"
   },
   "source": [
    "### Processamento do texto \n",
    "\n",
    "* Primeiramente importaremos as bibliotecas usadas"
   ]
  },
  {
   "cell_type": "code",
   "execution_count": null,
   "id": "NBK_mkbnAGtk",
   "metadata": {
    "colab": {
     "base_uri": "https://localhost:8080/"
    },
    "id": "NBK_mkbnAGtk",
    "outputId": "7819d976-68cc-424f-c6ef-762e5d429309"
   },
   "outputs": [
    {
     "name": "stdout",
     "output_type": "stream",
     "text": [
      "[nltk_data] Downloading package stopwords to /root/nltk_data...\n",
      "[nltk_data]   Package stopwords is already up-to-date!\n"
     ]
    }
   ],
   "source": [
    "import nltk\n",
    "nltk.download('stopwords')\n",
    "from nltk import word_tokenize, FreqDist\n",
    "from nltk.corpus import stopwords\n",
    "import string\n",
    "from nltk.probability import FreqDist"
   ]
  },
  {
   "cell_type": "markdown",
   "id": "F41P-v0E_ZGi",
   "metadata": {
    "id": "F41P-v0E_ZGi"
   },
   "source": [
    "* Criando função para a limpeza do texto"
   ]
  },
  {
   "cell_type": "code",
   "execution_count": null,
   "id": "UyWvGXNr_Mj0",
   "metadata": {
    "id": "UyWvGXNr_Mj0"
   },
   "outputs": [],
   "source": [
    "# criando a função para tokenizar texto\n",
    "def tokenizaTexto(x) :\n",
    "  # Criando uma lista para receber a saida com o texto já 'tokenizado'\n",
    "  saida = []\n",
    "  # Gerando um padrão para a expressão regular ser aplicada\n",
    "  padrao = \"([a-zA-Z]+(?:'[a-z]+)?)\"\n",
    "  # Criando uma lista com as Stop Words, números e pontos\n",
    "  listaStopWords = stopwords.words('english')\n",
    "  listaStopWords += list(string.punctuation)\n",
    "  listaStopWords += ['0','1','2','3','4','5','6','8','9']\n",
    "\n",
    "  # Percorrendo o texto passado.\n",
    "  for txt in x:\n",
    "    # Alocando o texto com a primeira filtragem.\n",
    "    txt_tokens_raw = nltk.regexp_tokenize(txt, padrao)\n",
    "    # Padronizando o texto\n",
    "    txt_tokens_min =[palavra.lower() for palavra in txt_tokens_raw]\n",
    "    # Retirando simbolos e números.\n",
    "    txt_words_stopped = [palavra for palavra in txt_tokens_min if palavra not in listaStopWords]\n",
    "    saida.append(txt_words_stopped)\n",
    "  # Gerando a saída com o texto tokenizado\n",
    "  return pd.Series(saida)"
   ]
  },
  {
   "cell_type": "markdown",
   "id": "QwscGhKAEquU",
   "metadata": {
    "id": "QwscGhKAEquU"
   },
   "source": [
    "### Tokenizando o texto as colunas Title e FullDescription"
   ]
  },
  {
   "cell_type": "code",
   "execution_count": null,
   "id": "rRhxUw2IC9XR",
   "metadata": {
    "id": "rRhxUw2IC9XR"
   },
   "outputs": [],
   "source": [
    "cargo_tokens = tokenizaTexto(df_tmp['Title'])"
   ]
  },
  {
   "cell_type": "code",
   "execution_count": null,
   "id": "Po6YC1qsE8xU",
   "metadata": {
    "id": "Po6YC1qsE8xU"
   },
   "outputs": [],
   "source": [
    "desc_tokens = tokenizaTexto(df_tmp['FullDescription'])"
   ]
  },
  {
   "cell_type": "code",
   "execution_count": null,
   "id": "xaLWdaaeXy4w",
   "metadata": {
    "colab": {
     "base_uri": "https://localhost:8080/"
    },
    "id": "xaLWdaaeXy4w",
    "outputId": "1ac06558-6475-4110-d8a8-5e7ce6192828"
   },
   "outputs": [
    {
     "data": {
      "text/plain": [
       "0                           [engineering, systems, analyst]\n",
       "1                               [stress, engineer, glasgow]\n",
       "2                          [modelling, simulation, analyst]\n",
       "3         [engineering, systems, analyst, mathematical, ...\n",
       "4           [pioneer, miser, engineering, systems, analyst]\n",
       "                                ...                        \n",
       "244763                                   [teacher, science]\n",
       "244764                    [teacher, business, studies, ict]\n",
       "244765                                   [english, teacher]\n",
       "244766                                   [supply, teachers]\n",
       "244767                                         [accountant]\n",
       "Length: 244768, dtype: object"
      ]
     },
     "execution_count": 38,
     "metadata": {},
     "output_type": "execute_result"
    }
   ],
   "source": [
    "cargo_tokens"
   ]
  },
  {
   "cell_type": "markdown",
   "id": "jW3ZtokEi-6c",
   "metadata": {
    "id": "jW3ZtokEi-6c"
   },
   "source": [
    "* Colocando os tokens em uma lista para verificar a frequência de cada um."
   ]
  },
  {
   "cell_type": "code",
   "execution_count": null,
   "id": "oTmK8d2qEl3y",
   "metadata": {
    "id": "oTmK8d2qEl3y"
   },
   "outputs": [],
   "source": [
    "cargo_tokens = [palavra for trabalho in cargo_tokens for palavra in trabalho]"
   ]
  },
  {
   "cell_type": "code",
   "execution_count": null,
   "id": "P1fjpttmjEnw",
   "metadata": {
    "id": "P1fjpttmjEnw"
   },
   "outputs": [],
   "source": [
    "desc_tokens = [palavra for descricao in desc_tokens for palavra in descricao]"
   ]
  },
  {
   "cell_type": "markdown",
   "id": "042xQWtLjVHM",
   "metadata": {
    "id": "042xQWtLjVHM"
   },
   "source": [
    "* Verificando as frequências de cada palavra na coluna Title e FullDescription"
   ]
  },
  {
   "cell_type": "code",
   "execution_count": null,
   "id": "gwLQJWDhF2qH",
   "metadata": {
    "colab": {
     "base_uri": "https://localhost:8080/"
    },
    "id": "gwLQJWDhF2qH",
    "outputId": "0e3c9854-3599-412f-e113-5b5b6543d5fe"
   },
   "outputs": [
    {
     "data": {
      "text/plain": [
       "[('manager', 50162),\n",
       " ('engineer', 24190),\n",
       " ('sales', 19769),\n",
       " ('senior', 16976),\n",
       " ('developer', 13896),\n",
       " ('assistant', 12179),\n",
       " ('k', 11060),\n",
       " ('executive', 10629),\n",
       " ('business', 9988),\n",
       " ('consultant', 9497),\n",
       " ('london', 9488),\n",
       " ('analyst', 9316),\n",
       " ('support', 8512),\n",
       " ('project', 7229),\n",
       " ('nurse', 7103),\n",
       " ('development', 6874),\n",
       " ('account', 6519),\n",
       " ('administrator', 6374),\n",
       " ('service', 6296),\n",
       " ('c', 6054),\n",
       " ('software', 5505),\n",
       " ('teacher', 5489),\n",
       " ('marketing', 5002),\n",
       " ('chef', 5000),\n",
       " ('care', 4917),\n",
       " ('design', 4791),\n",
       " ('recruitment', 4568),\n",
       " ('advisor', 4465),\n",
       " ('technical', 4246),\n",
       " ('worker', 3984),\n",
       " ('customer', 3885),\n",
       " ('head', 3765),\n",
       " ('graduate', 3754),\n",
       " ('accountant', 3744),\n",
       " ('team', 3704),\n",
       " ('officer', 3680),\n",
       " ('home', 3595),\n",
       " ('technician', 3580),\n",
       " ('finance', 3459),\n",
       " ('mechanical', 3360),\n",
       " ('services', 3320),\n",
       " ('web', 3278),\n",
       " ('financial', 3251),\n",
       " ('rgn', 3169),\n",
       " ('systems', 3117),\n",
       " ('management', 3106),\n",
       " ('coordinator', 3076),\n",
       " ('lead', 3056),\n",
       " ('commercial', 2952),\n",
       " ('hr', 2888),\n",
       " ('director', 2847),\n",
       " ('sql', 2803),\n",
       " ('general', 2678),\n",
       " ('net', 2658),\n",
       " ('electrical', 2604),\n",
       " ('quality', 2587),\n",
       " ('specialist', 2546),\n",
       " ('leader', 2545),\n",
       " ('java', 2484),\n",
       " ('digital', 2481),\n",
       " ('field', 2468),\n",
       " ('maintenance', 2437),\n",
       " ('surveyor', 2332),\n",
       " ('staff', 2301),\n",
       " ('health', 2286),\n",
       " ('social', 2270),\n",
       " ('west', 2204),\n",
       " ('trainee', 2197),\n",
       " ('contract', 2188),\n",
       " ('supervisor', 2186),\n",
       " ('controller', 2174),\n",
       " ('junior', 2159),\n",
       " ('job', 2091),\n",
       " ('time', 2067),\n",
       " ('data', 2034),\n",
       " ('jobs', 2027),\n",
       " ('restaurant', 2024),\n",
       " ('registered', 2007),\n",
       " ('new', 1996),\n",
       " ('required', 1989),\n",
       " ('accounts', 1980),\n",
       " ('aspnet', 1930),\n",
       " ('designer', 1917),\n",
       " ('deputy', 1906),\n",
       " ('operations', 1853),\n",
       " ('de', 1817),\n",
       " ('uk', 1800),\n",
       " ('part', 1796),\n",
       " ('retail', 1795),\n",
       " ('south', 1728),\n",
       " ('engineering', 1722),\n",
       " ('motor', 1683),\n",
       " ('product', 1677),\n",
       " ('test', 1675),\n",
       " ('area', 1673),\n",
       " ('production', 1624),\n",
       " ('partie', 1618),\n",
       " ('driver', 1613),\n",
       " ('architect', 1606),\n",
       " ('php', 1588)]"
      ]
     },
     "execution_count": 41,
     "metadata": {},
     "output_type": "execute_result"
    }
   ],
   "source": [
    "cargo_tokens_freq = FreqDist(cargo_tokens)\n",
    "cargo_tokens_freq.most_common(100)"
   ]
  },
  {
   "cell_type": "code",
   "execution_count": null,
   "id": "Yx4ol_6dGC6b",
   "metadata": {
    "colab": {
     "base_uri": "https://localhost:8080/"
    },
    "id": "Yx4ol_6dGC6b",
    "outputId": "80ba6947-6392-4a4f-f709-06aabdc3cbab"
   },
   "outputs": [
    {
     "data": {
      "text/plain": [
       "[('experience', 428066),\n",
       " ('role', 292086),\n",
       " ('work', 279820),\n",
       " ('team', 267792),\n",
       " ('business', 265851),\n",
       " ('skills', 235951),\n",
       " ('working', 222673),\n",
       " ('job', 220377),\n",
       " ('within', 217339),\n",
       " ('sales', 209320),\n",
       " ('client', 193591),\n",
       " ('management', 187235),\n",
       " ('manager', 184774),\n",
       " ('company', 172578),\n",
       " ('please', 171876),\n",
       " ('development', 162067),\n",
       " ('uk', 156638),\n",
       " ('looking', 155625),\n",
       " ('support', 153141),\n",
       " ('excellent', 144519),\n",
       " ('service', 139144),\n",
       " ('required', 135916),\n",
       " ('opportunity', 130941),\n",
       " ('new', 127934),\n",
       " ('must', 125053),\n",
       " ('recruitment', 118692),\n",
       " ('successful', 116629),\n",
       " ('knowledge', 113386),\n",
       " ('apply', 113001),\n",
       " ('customer', 110370),\n",
       " ('based', 107684),\n",
       " ('services', 105075),\n",
       " ('ability', 103776),\n",
       " ('strong', 100521),\n",
       " ('ensure', 97374),\n",
       " ('candidate', 96079),\n",
       " ('project', 95673),\n",
       " ('high', 94305),\n",
       " ('join', 93975),\n",
       " ('salary', 93254),\n",
       " ('environment', 92447),\n",
       " ('training', 91363),\n",
       " ('design', 91297),\n",
       " ('good', 90528),\n",
       " ('including', 90156),\n",
       " ('leading', 89706),\n",
       " ('care', 89686),\n",
       " ('clients', 89140),\n",
       " ('able', 88709),\n",
       " ('also', 88117),\n",
       " ('com', 87746),\n",
       " ('www', 87637),\n",
       " ('technical', 87236),\n",
       " ('cv', 86763),\n",
       " ('position', 85643),\n",
       " ('well', 85079),\n",
       " ('key', 82959),\n",
       " ('candidates', 82273),\n",
       " ('employment', 81678),\n",
       " ('would', 78809),\n",
       " ('quality', 78679),\n",
       " ('provide', 78219),\n",
       " ('essential', 76431),\n",
       " ('contact', 75596),\n",
       " ('level', 74516),\n",
       " ('full', 74127),\n",
       " ('opportunities', 74049),\n",
       " ('career', 74011),\n",
       " ('systems', 73956),\n",
       " ('time', 71816),\n",
       " ('requirements', 71798),\n",
       " ('information', 71447),\n",
       " ('benefits', 71226),\n",
       " ('k', 70541),\n",
       " ('senior', 70539),\n",
       " ('engineer', 70306),\n",
       " ('experienced', 70273),\n",
       " ('agency', 69585),\n",
       " ('software', 69401),\n",
       " ('projects', 68896),\n",
       " ('staff', 67863),\n",
       " ('posted', 67055),\n",
       " ('responsible', 66978),\n",
       " ('jobseeking', 66875),\n",
       " ('engineering', 66841),\n",
       " ('develop', 66698),\n",
       " ('originally', 66286),\n",
       " ('one', 66151),\n",
       " ('part', 64680),\n",
       " ('marketing', 64599),\n",
       " ('communication', 64534),\n",
       " ('london', 64291),\n",
       " ('people', 64172),\n",
       " ('applications', 62306),\n",
       " ('include', 61842),\n",
       " ('across', 61678),\n",
       " ('years', 60233),\n",
       " ('industry', 59208),\n",
       " ('customers', 59205),\n",
       " ('need', 58837)]"
      ]
     },
     "execution_count": 42,
     "metadata": {},
     "output_type": "execute_result"
    }
   ],
   "source": [
    "desc_tokens_freq = FreqDist(desc_tokens)\n",
    "desc_tokens_freq.most_common(100)"
   ]
  },
  {
   "cell_type": "markdown",
   "id": "e7--7o1XI-p3",
   "metadata": {
    "id": "e7--7o1XI-p3"
   },
   "source": [
    "* Quantidade total de palavras em todos os anúncios"
   ]
  },
  {
   "cell_type": "code",
   "execution_count": null,
   "id": "vlUNWReQJD26",
   "metadata": {
    "colab": {
     "base_uri": "https://localhost:8080/"
    },
    "id": "vlUNWReQJD26",
    "outputId": "6662cd91-ae3b-4dfc-dde2-382875d66e5e"
   },
   "outputs": [
    {
     "data": {
      "text/plain": [
       "(18150, 192142)"
      ]
     },
     "execution_count": 43,
     "metadata": {},
     "output_type": "execute_result"
    }
   ],
   "source": [
    "len(cargo_tokens_freq), len(desc_tokens_freq)"
   ]
  },
  {
   "cell_type": "markdown",
   "id": "co4RNnclJQgq",
   "metadata": {
    "id": "co4RNnclJQgq"
   },
   "source": [
    "### **Normalização da Frequência de palavras** \n"
   ]
  },
  {
   "cell_type": "markdown",
   "id": "TnPZGPlHIINK",
   "metadata": {
    "id": "TnPZGPlHIINK"
   },
   "source": [
    "* Criando Função para a normalização das 50 palavras com maior ocorrência"
   ]
  },
  {
   "cell_type": "code",
   "execution_count": null,
   "id": "w5iBteU9Gr7Z",
   "metadata": {
    "id": "w5iBteU9Gr7Z"
   },
   "outputs": [],
   "source": [
    "# Criando a função\n",
    "def normalizeFreqWords(x) :\n",
    "  # Alocando o número total de palavras\n",
    "  totalPalavras = sum(x.values())\n",
    "  # Alocando as 100 com maior ocorrência\n",
    "  top50Palavras = x.most_common(50)\n",
    "  # Printando o cabeçalho\n",
    "  print (f'Palavra                Frequencia Normalizada\\n')\n",
    "  # Percorrendo a lista com as 50 com maior ocorrência\n",
    "  for palavra in top50Palavras :\n",
    "    # Efetuando a normalização, onde divide-se a frequência de cada palavra pelo número total de palavras. \n",
    "    normalizedFreq = palavra[1]/totalPalavras\n",
    "    # Efetuando a saída\n",
    "    print(f'{palavra[0]}    ----------    {normalizedFreq:.4}')"
   ]
  },
  {
   "cell_type": "code",
   "execution_count": null,
   "id": "3QZdA_UuHrC9",
   "metadata": {
    "colab": {
     "base_uri": "https://localhost:8080/"
    },
    "id": "3QZdA_UuHrC9",
    "outputId": "4c9fb246-a981-4f57-f889-481cf943b64a"
   },
   "outputs": [
    {
     "name": "stdout",
     "output_type": "stream",
     "text": [
      "Palavra                Frequencia Normalizada\n",
      "\n",
      "manager    ----------    0.05213\n",
      "engineer    ----------    0.02514\n",
      "sales    ----------    0.02055\n",
      "senior    ----------    0.01764\n",
      "developer    ----------    0.01444\n",
      "assistant    ----------    0.01266\n",
      "k    ----------    0.01149\n",
      "executive    ----------    0.01105\n",
      "business    ----------    0.01038\n",
      "consultant    ----------    0.00987\n",
      "london    ----------    0.009861\n",
      "analyst    ----------    0.009682\n",
      "support    ----------    0.008847\n",
      "project    ----------    0.007513\n",
      "nurse    ----------    0.007382\n",
      "development    ----------    0.007144\n",
      "account    ----------    0.006775\n",
      "administrator    ----------    0.006625\n",
      "service    ----------    0.006544\n",
      "c    ----------    0.006292\n",
      "software    ----------    0.005721\n",
      "teacher    ----------    0.005705\n",
      "marketing    ----------    0.005199\n",
      "chef    ----------    0.005197\n",
      "care    ----------    0.00511\n",
      "design    ----------    0.004979\n",
      "recruitment    ----------    0.004748\n",
      "advisor    ----------    0.004641\n",
      "technical    ----------    0.004413\n",
      "worker    ----------    0.004141\n",
      "customer    ----------    0.004038\n",
      "head    ----------    0.003913\n",
      "graduate    ----------    0.003902\n",
      "accountant    ----------    0.003891\n",
      "team    ----------    0.00385\n",
      "officer    ----------    0.003825\n",
      "home    ----------    0.003736\n",
      "technician    ----------    0.003721\n",
      "finance    ----------    0.003595\n",
      "mechanical    ----------    0.003492\n",
      "services    ----------    0.003451\n",
      "web    ----------    0.003407\n",
      "financial    ----------    0.003379\n",
      "rgn    ----------    0.003294\n",
      "systems    ----------    0.00324\n",
      "management    ----------    0.003228\n",
      "coordinator    ----------    0.003197\n",
      "lead    ----------    0.003176\n",
      "commercial    ----------    0.003068\n",
      "hr    ----------    0.003002\n"
     ]
    }
   ],
   "source": [
    "normalizeFreqWords(cargo_tokens_freq)"
   ]
  },
  {
   "cell_type": "code",
   "execution_count": null,
   "id": "cemzuT3AITf4",
   "metadata": {
    "colab": {
     "base_uri": "https://localhost:8080/"
    },
    "id": "cemzuT3AITf4",
    "outputId": "49b0a292-8bf4-4a19-f9d7-1c482b06a958"
   },
   "outputs": [
    {
     "name": "stdout",
     "output_type": "stream",
     "text": [
      "Palavra                Frequencia Normalizada\n",
      "\n",
      "experience    ----------    0.01145\n",
      "role    ----------    0.007812\n",
      "work    ----------    0.007484\n",
      "team    ----------    0.007163\n",
      "business    ----------    0.007111\n",
      "skills    ----------    0.006311\n",
      "working    ----------    0.005956\n",
      "job    ----------    0.005894\n",
      "within    ----------    0.005813\n",
      "sales    ----------    0.005599\n",
      "client    ----------    0.005178\n",
      "management    ----------    0.005008\n",
      "manager    ----------    0.004942\n",
      "company    ----------    0.004616\n",
      "please    ----------    0.004597\n",
      "development    ----------    0.004335\n",
      "uk    ----------    0.00419\n",
      "looking    ----------    0.004163\n",
      "support    ----------    0.004096\n",
      "excellent    ----------    0.003865\n",
      "service    ----------    0.003722\n",
      "required    ----------    0.003635\n",
      "opportunity    ----------    0.003502\n",
      "new    ----------    0.003422\n",
      "must    ----------    0.003345\n",
      "recruitment    ----------    0.003175\n",
      "successful    ----------    0.003119\n",
      "knowledge    ----------    0.003033\n",
      "apply    ----------    0.003022\n",
      "customer    ----------    0.002952\n",
      "based    ----------    0.00288\n",
      "services    ----------    0.00281\n",
      "ability    ----------    0.002776\n",
      "strong    ----------    0.002689\n",
      "ensure    ----------    0.002604\n",
      "candidate    ----------    0.00257\n",
      "project    ----------    0.002559\n",
      "high    ----------    0.002522\n",
      "join    ----------    0.002514\n",
      "salary    ----------    0.002494\n",
      "environment    ----------    0.002473\n",
      "training    ----------    0.002444\n",
      "design    ----------    0.002442\n",
      "good    ----------    0.002421\n",
      "including    ----------    0.002411\n",
      "leading    ----------    0.002399\n",
      "care    ----------    0.002399\n",
      "clients    ----------    0.002384\n",
      "able    ----------    0.002373\n",
      "also    ----------    0.002357\n"
     ]
    }
   ],
   "source": [
    "normalizeFreqWords(desc_tokens_freq)"
   ]
  },
  {
   "cell_type": "markdown",
   "id": "ytWCWTwFM7Ja",
   "metadata": {
    "id": "ytWCWTwFM7Ja"
   },
   "source": [
    "### Criando Tri-gramas para validação no texto da coluna Title\n",
    "\n",
    "* Importando bibliotecas necessárias"
   ]
  },
  {
   "cell_type": "code",
   "execution_count": null,
   "id": "MZ80OVHmNSMA",
   "metadata": {
    "id": "MZ80OVHmNSMA"
   },
   "outputs": [],
   "source": [
    "from nltk.collocations import *\n",
    "from nltk import ngrams"
   ]
  },
  {
   "cell_type": "code",
   "execution_count": null,
   "id": "bvjfQiOJOq14",
   "metadata": {
    "id": "bvjfQiOJOq14"
   },
   "outputs": [],
   "source": [
    "trigram_ = nltk.collocations.TrigramAssocMeasures()\n",
    "finder = TrigramCollocationFinder.from_words(cargo_tokens)\n",
    "score = finder.score_ngrams(trigram_.raw_freq)"
   ]
  },
  {
   "cell_type": "code",
   "execution_count": null,
   "id": "AIhlCAoUQSVh",
   "metadata": {
    "colab": {
     "base_uri": "https://localhost:8080/"
    },
    "id": "AIhlCAoUQSVh",
    "outputId": "dab9b076-84eb-4433-f01f-4719077c64ad"
   },
   "outputs": [
    {
     "data": {
      "text/plain": [
       "[(('business', 'development', 'manager'), 0.0025400995877015112),\n",
       " (('chef', 'de', 'partie'), 0.001673306193207624),\n",
       " (('mechanical', 'design', 'engineer'), 0.0010289274107301539),\n",
       " (('motor', 'trade', 'job'), 0.0010091803190090702),\n",
       " (('qualified', 'social', 'worker'), 0.0006183957670549915),\n",
       " (('business', 'development', 'executive'), 0.000608002560886),\n",
       " (('graduate', 'sales', 'executive'), 0.0005643510949762359),\n",
       " (('field', 'service', 'engineer'), 0.0005435646826382531),\n",
       " (('trainee', 'recruitment', 'consultant'), 0.0005404467207875556),\n",
       " (('field', 'sales', 'executive'), 0.0005342107970861608),\n",
       " (('manager', 'business', 'development'), 0.0005248569115340684),\n",
       " (('area', 'sales', 'manager'), 0.0004967952548777915),\n",
       " (('staff', 'nurse', 'rgn'), 0.0004947166136439932),\n",
       " (('customer', 'service', 'advisor'), 0.0004697729188384137),\n",
       " (('registered', 'general', 'nurse'), 0.0004583403920525231),\n",
       " (('manager', 'sales', 'executive'), 0.0004406719415652376),\n",
       " (('senior', 'quantity', 'surveyor'), 0.0004333966972469436),\n",
       " (('hr', 'business', 'partner'), 0.00042923941477934703),\n",
       " (('sales', 'account', 'manager'), 0.00042300349107795215),\n",
       " (('electrical', 'design', 'engineer'), 0.00040533504059066667),\n",
       " (('nursing', 'home', 'manager'), 0.00040429571997376755),\n",
       " (('car', 'sales', 'executive'), 0.00039805979627237267),\n",
       " (('senior', 'account', 'manager'), 0.0003616835746809026),\n",
       " (('business', 'travel', 'consultant'), 0.0003606442540640034),\n",
       " (('sales', 'executive', 'sales'), 0.0003564869715964069),\n",
       " (('care', 'home', 'manager'), 0.0003346612386415248),\n",
       " (('sales', 'executive', 'graduate'), 0.00033362191802462565),\n",
       " (('allied', 'health', 'care'), 0.00032842531494012994),\n",
       " (('health', 'care', 'professional'), 0.00032842531494012994),\n",
       " (('purchase', 'ledger', 'clerk'), 0.00031179618506974364),\n",
       " (('account', 'manager', 'sales'), 0.00030971754383594534),\n",
       " (('software', 'engineer', 'c'), 0.00030971754383594534),\n",
       " (('senior', 'project', 'manager'), 0.00030763890260214705),\n",
       " (('developer', 'c', 'aspnet'), 0.00030140297890075216),\n",
       " (('nurse', 'rgn', 'rmn'), 0.00030140297890075216),\n",
       " (('national', 'account', 'manager'), 0.0002982850170500547),\n",
       " (('embedded', 'software', 'engineer'), 0.0002878918108810633),\n",
       " (('manager', 'project', 'manager'), 0.0002826952077965675),\n",
       " (('sales', 'customer', 'service'), 0.0002774986047120718),\n",
       " (('key', 'account', 'manager'), 0.0002723020016275761),\n",
       " (('front', 'end', 'developer'), 0.0002681447191599795),\n",
       " (('senior', 'recruitment', 'consultant'), 0.0002681447191599795),\n",
       " (('executive', 'business', 'development'), 0.0002608694748416855),\n",
       " (('electrical', 'maintenance', 'engineer'), 0.0002525549099064923),\n",
       " (('nd', 'line', 'support'), 0.00024839762743889573),\n",
       " (('senior', 'software', 'engineer'), 0.00024424034497129915),\n",
       " (('manager', 'assistant', 'manager'), 0.00024216170373750088),\n",
       " (('software', 'developer', 'c'), 0.00024008306250370258),\n",
       " (('manager', 'account', 'manager'), 0.00023904374188680344),\n",
       " (('sales', 'executive', 'business'), 0.00023904374188680344)]"
      ]
     },
     "execution_count": 52,
     "metadata": {},
     "output_type": "execute_result"
    }
   ],
   "source": [
    "score[0:50]"
   ]
  },
  {
   "cell_type": "markdown",
   "id": "xO8b_lgheXKz",
   "metadata": {
    "id": "xO8b_lgheXKz"
   },
   "source": [
    "### Criando uma núvem de palavras com os Cargos\n",
    "* Importando as bibliotecas necessárias"
   ]
  },
  {
   "cell_type": "code",
   "execution_count": null,
   "id": "lsURg8NPd9IW",
   "metadata": {
    "id": "lsURg8NPd9IW"
   },
   "outputs": [],
   "source": [
    "from wordcloud import WordCloud, STOPWORDS, ImageColorGenerator"
   ]
  },
  {
   "cell_type": "markdown",
   "id": "rk3WZf1KEoaZ",
   "metadata": {
    "id": "rk3WZf1KEoaZ"
   },
   "source": [
    "* Criando uma núvem de palavras para a melhor visualização de quais cargos mais ocorrem"
   ]
  },
  {
   "cell_type": "code",
   "execution_count": null,
   "id": "hIFSgOE1dsAQ",
   "metadata": {
    "colab": {
     "base_uri": "https://localhost:8080/",
     "height": 449
    },
    "id": "hIFSgOE1dsAQ",
    "outputId": "949b35ac-09b9-4aee-9560-aec3f632f97a"
   },
   "outputs": [
    {
     "data": {
      "image/png": "[encoded data removed]",
      "text/plain": [
       "<Figure size 1080x576 with 1 Axes>"
      ]
     },
     "metadata": {
      "needs_background": "light"
     },
     "output_type": "display_data"
    }
   ],
   "source": [
    "#Alocando o texto da coluna Title em uma variável\n",
    "text = \" \".join(descricao for descricao in df_tmp['Title'])\n",
    "\n",
    "#Criando uma lista de stopwords.\n",
    "stopwords = set(STOPWORDS)\n",
    "\n",
    "# Criando a núvem de palavras\n",
    "wordcloud = WordCloud(stopwords = stopwords,max_font_size=50, max_words=100, background_color='white').generate(text)\n",
    "plt.figure(figsize=(15,8))\n",
    "plt.imshow(wordcloud, interpolation='bilinear')\n",
    "plt.axis('off')\n",
    "plt.show()"
   ]
  },
  {
   "cell_type": "code",
   "execution_count": null,
   "id": "yYHCNPNaLLL7",
   "metadata": {
    "colab": {
     "base_uri": "https://localhost:8080/",
     "height": 956
    },
    "id": "yYHCNPNaLLL7",
    "outputId": "d8c29235-62b2-4edd-ed5b-a7795906faa9"
   },
   "outputs": [
    {
     "data": {
      "text/html": [
       "\n",
       "  <div id=\"df-dd8c9239-9d07-479c-91e5-1ab41c68cf55\">\n",
       "    <div class=\"colab-df-container\">\n",
       "      <div>\n",
       "<style scoped>\n",
       "    .dataframe tbody tr th:only-of-type {\n",
       "        vertical-align: middle;\n",
       "    }\n",
       "\n",
       "    .dataframe tbody tr th {\n",
       "        vertical-align: top;\n",
       "    }\n",
       "\n",
       "    .dataframe thead th {\n",
       "        text-align: right;\n",
       "    }\n",
       "</style>\n",
       "<table border=\"1\" class=\"dataframe\">\n",
       "  <thead>\n",
       "    <tr style=\"text-align: right;\">\n",
       "      <th></th>\n",
       "      <th>Id</th>\n",
       "      <th>Title</th>\n",
       "      <th>FullDescription</th>\n",
       "      <th>LocationRaw</th>\n",
       "      <th>LocationNormalized</th>\n",
       "      <th>ContractType</th>\n",
       "      <th>ContractTime</th>\n",
       "      <th>Company</th>\n",
       "      <th>Category</th>\n",
       "      <th>SalaryRaw</th>\n",
       "      <th>SalaryNormalized</th>\n",
       "      <th>SourceName</th>\n",
       "      <th>LowSalaryRange</th>\n",
       "      <th>HighSalaryRange</th>\n",
       "      <th>Rate_by</th>\n",
       "      <th>SalaryBin</th>\n",
       "    </tr>\n",
       "  </thead>\n",
       "  <tbody>\n",
       "    <tr>\n",
       "      <th>0</th>\n",
       "      <td>12612628</td>\n",
       "      <td>Engineering Systems Analyst</td>\n",
       "      <td>Engineering Systems Analyst Dorking Surrey Sal...</td>\n",
       "      <td>Dorking, Surrey, Surrey</td>\n",
       "      <td>Dorking</td>\n",
       "      <td>NaN</td>\n",
       "      <td>permanent</td>\n",
       "      <td>Gregory Martin International</td>\n",
       "      <td>Engineering Jobs</td>\n",
       "      <td>20000 - 30000/annum 20-30K</td>\n",
       "      <td>25000</td>\n",
       "      <td>cv-library.co.uk</td>\n",
       "      <td>20000</td>\n",
       "      <td>30000</td>\n",
       "      <td>Yearly</td>\n",
       "      <td>0</td>\n",
       "    </tr>\n",
       "    <tr>\n",
       "      <th>1</th>\n",
       "      <td>12612830</td>\n",
       "      <td>Stress Engineer Glasgow</td>\n",
       "      <td>Stress Engineer Glasgow Salary **** to **** We...</td>\n",
       "      <td>Glasgow, Scotland, Scotland</td>\n",
       "      <td>Glasgow</td>\n",
       "      <td>NaN</td>\n",
       "      <td>permanent</td>\n",
       "      <td>Gregory Martin International</td>\n",
       "      <td>Engineering Jobs</td>\n",
       "      <td>25000 - 35000/annum 25-35K</td>\n",
       "      <td>30000</td>\n",
       "      <td>cv-library.co.uk</td>\n",
       "      <td>25000</td>\n",
       "      <td>35000</td>\n",
       "      <td>Yearly</td>\n",
       "      <td>1</td>\n",
       "    </tr>\n",
       "    <tr>\n",
       "      <th>2</th>\n",
       "      <td>12612844</td>\n",
       "      <td>Modelling and simulation analyst</td>\n",
       "      <td>Mathematical Modeller / Simulation Analyst / O...</td>\n",
       "      <td>Hampshire, South East, South East</td>\n",
       "      <td>Hampshire</td>\n",
       "      <td>NaN</td>\n",
       "      <td>permanent</td>\n",
       "      <td>Gregory Martin International</td>\n",
       "      <td>Engineering Jobs</td>\n",
       "      <td>20000 - 40000/annum 20-40K</td>\n",
       "      <td>30000</td>\n",
       "      <td>cv-library.co.uk</td>\n",
       "      <td>20000</td>\n",
       "      <td>40000</td>\n",
       "      <td>Yearly</td>\n",
       "      <td>1</td>\n",
       "    </tr>\n",
       "    <tr>\n",
       "      <th>3</th>\n",
       "      <td>12613049</td>\n",
       "      <td>Engineering Systems Analyst / Mathematical Mod...</td>\n",
       "      <td>Engineering Systems Analyst / Mathematical Mod...</td>\n",
       "      <td>Surrey, South East, South East</td>\n",
       "      <td>Surrey</td>\n",
       "      <td>NaN</td>\n",
       "      <td>permanent</td>\n",
       "      <td>Gregory Martin International</td>\n",
       "      <td>Engineering Jobs</td>\n",
       "      <td>25000 - 30000/annum 25K-30K negotiable</td>\n",
       "      <td>27500</td>\n",
       "      <td>cv-library.co.uk</td>\n",
       "      <td>25000</td>\n",
       "      <td>30000</td>\n",
       "      <td>Yearly</td>\n",
       "      <td>1</td>\n",
       "    </tr>\n",
       "    <tr>\n",
       "      <th>4</th>\n",
       "      <td>12613647</td>\n",
       "      <td>Pioneer, Miser Engineering Systems Analyst</td>\n",
       "      <td>Pioneer, Miser  Engineering Systems Analyst Do...</td>\n",
       "      <td>Surrey, South East, South East</td>\n",
       "      <td>Surrey</td>\n",
       "      <td>NaN</td>\n",
       "      <td>permanent</td>\n",
       "      <td>Gregory Martin International</td>\n",
       "      <td>Engineering Jobs</td>\n",
       "      <td>20000 - 30000/annum 20-30K</td>\n",
       "      <td>25000</td>\n",
       "      <td>cv-library.co.uk</td>\n",
       "      <td>20000</td>\n",
       "      <td>30000</td>\n",
       "      <td>Yearly</td>\n",
       "      <td>0</td>\n",
       "    </tr>\n",
       "    <tr>\n",
       "      <th>...</th>\n",
       "      <td>...</td>\n",
       "      <td>...</td>\n",
       "      <td>...</td>\n",
       "      <td>...</td>\n",
       "      <td>...</td>\n",
       "      <td>...</td>\n",
       "      <td>...</td>\n",
       "      <td>...</td>\n",
       "      <td>...</td>\n",
       "      <td>...</td>\n",
       "      <td>...</td>\n",
       "      <td>...</td>\n",
       "      <td>...</td>\n",
       "      <td>...</td>\n",
       "      <td>...</td>\n",
       "      <td>...</td>\n",
       "    </tr>\n",
       "    <tr>\n",
       "      <th>244763</th>\n",
       "      <td>72705211</td>\n",
       "      <td>TEACHER OF SCIENCE</td>\n",
       "      <td>Position: Qualified Teacher Subject/Specialism...</td>\n",
       "      <td>Swindon</td>\n",
       "      <td>Swindon</td>\n",
       "      <td>NaN</td>\n",
       "      <td>contract</td>\n",
       "      <td>NaN</td>\n",
       "      <td>Teaching Jobs</td>\n",
       "      <td>450 - 500 per week</td>\n",
       "      <td>22800</td>\n",
       "      <td>hays.co.uk</td>\n",
       "      <td>450</td>\n",
       "      <td>500</td>\n",
       "      <td>Weekly</td>\n",
       "      <td>0</td>\n",
       "    </tr>\n",
       "    <tr>\n",
       "      <th>244764</th>\n",
       "      <td>72705212</td>\n",
       "      <td>TEACHER OF BUSINESS STUDIES AND ICT</td>\n",
       "      <td>Position: Qualified Teacher or NQT Subject/Spe...</td>\n",
       "      <td>Swindon</td>\n",
       "      <td>Swindon</td>\n",
       "      <td>NaN</td>\n",
       "      <td>contract</td>\n",
       "      <td>NaN</td>\n",
       "      <td>Teaching Jobs</td>\n",
       "      <td>450 - 500 per week</td>\n",
       "      <td>22800</td>\n",
       "      <td>hays.co.uk</td>\n",
       "      <td>450</td>\n",
       "      <td>500</td>\n",
       "      <td>Weekly</td>\n",
       "      <td>0</td>\n",
       "    </tr>\n",
       "    <tr>\n",
       "      <th>244765</th>\n",
       "      <td>72705213</td>\n",
       "      <td>ENGLISH TEACHER</td>\n",
       "      <td>Position: Qualified Teacher Subject/Specialism...</td>\n",
       "      <td>Swindon</td>\n",
       "      <td>Swindon</td>\n",
       "      <td>NaN</td>\n",
       "      <td>contract</td>\n",
       "      <td>NaN</td>\n",
       "      <td>Teaching Jobs</td>\n",
       "      <td>450 - 500 per week</td>\n",
       "      <td>22800</td>\n",
       "      <td>hays.co.uk</td>\n",
       "      <td>450</td>\n",
       "      <td>500</td>\n",
       "      <td>Weekly</td>\n",
       "      <td>0</td>\n",
       "    </tr>\n",
       "    <tr>\n",
       "      <th>244766</th>\n",
       "      <td>72705216</td>\n",
       "      <td>SUPPLY TEACHERS</td>\n",
       "      <td>Position: Qualified Teacher Subject/Specialism...</td>\n",
       "      <td>Wiltshire</td>\n",
       "      <td>Wiltshire</td>\n",
       "      <td>NaN</td>\n",
       "      <td>contract</td>\n",
       "      <td>NaN</td>\n",
       "      <td>Teaching Jobs</td>\n",
       "      <td>450 to 500 per week</td>\n",
       "      <td>22800</td>\n",
       "      <td>hays.co.uk</td>\n",
       "      <td>450</td>\n",
       "      <td>500</td>\n",
       "      <td>Weekly</td>\n",
       "      <td>0</td>\n",
       "    </tr>\n",
       "    <tr>\n",
       "      <th>244767</th>\n",
       "      <td>72705235</td>\n",
       "      <td>Accountant</td>\n",
       "      <td>This entrepreneurial and growing private equit...</td>\n",
       "      <td>Hitchin</td>\n",
       "      <td>Hitchin</td>\n",
       "      <td>NaN</td>\n",
       "      <td>permanent</td>\n",
       "      <td>NaN</td>\n",
       "      <td>Teaching Jobs</td>\n",
       "      <td>40-45,000</td>\n",
       "      <td>42500</td>\n",
       "      <td>hays.co.uk</td>\n",
       "      <td>40</td>\n",
       "      <td>45,000</td>\n",
       "      <td>Yearly</td>\n",
       "      <td>1</td>\n",
       "    </tr>\n",
       "  </tbody>\n",
       "</table>\n",
       "<p>244768 rows × 16 columns</p>\n",
       "</div>\n",
       "      <button class=\"colab-df-convert\" onclick=\"convertToInteractive('df-dd8c9239-9d07-479c-91e5-1ab41c68cf55')\"\n",
       "              title=\"Convert this dataframe to an interactive table.\"\n",
       "              style=\"display:none;\">\n",
       "        \n",
       "  <svg xmlns=\"http://www.w3.org/2000/svg\" height=\"24px\"viewBox=\"0 0 24 24\"\n",
       "       width=\"24px\">\n",
       "    <path d=\"M0 0h24v24H0V0z\" fill=\"none\"/>\n",
       "    <path d=\"M18.56 5.44l.94 2.06.94-2.06 2.06-.94-2.06-.94-.94-2.06-.94 2.06-2.06.94zm-11 1L8.5 8.5l.94-2.06 2.06-.94-2.06-.94L8.5 2.5l-.94 2.06-2.06.94zm10 10l.94 2.06.94-2.06 2.06-.94-2.06-.94-.94-2.06-.94 2.06-2.06.94z\"/><path d=\"M17.41 7.96l-1.37-1.37c-.4-.4-.92-.59-1.43-.59-.52 0-1.04.2-1.43.59L10.3 9.45l-7.72 7.72c-.78.78-.78 2.05 0 2.83L4 21.41c.39.39.9.59 1.41.59.51 0 1.02-.2 1.41-.59l7.78-7.78 2.81-2.81c.8-.78.8-2.07 0-2.86zM5.41 20L4 18.59l7.72-7.72 1.47 1.35L5.41 20z\"/>\n",
       "  </svg>\n",
       "      </button>\n",
       "      \n",
       "  <style>\n",
       "    .colab-df-container {\n",
       "      display:flex;\n",
       "      flex-wrap:wrap;\n",
       "      gap: 12px;\n",
       "    }\n",
       "\n",
       "    .colab-df-convert {\n",
       "      background-color: #E8F0FE;\n",
       "      border: none;\n",
       "      border-radius: 50%;\n",
       "      cursor: pointer;\n",
       "      display: none;\n",
       "      fill: #1967D2;\n",
       "      height: 32px;\n",
       "      padding: 0 0 0 0;\n",
       "      width: 32px;\n",
       "    }\n",
       "\n",
       "    .colab-df-convert:hover {\n",
       "      background-color: #E2EBFA;\n",
       "      box-shadow: 0px 1px 2px rgba(60, 64, 67, 0.3), 0px 1px 3px 1px rgba(60, 64, 67, 0.15);\n",
       "      fill: #174EA6;\n",
       "    }\n",
       "\n",
       "    [theme=dark] .colab-df-convert {\n",
       "      background-color: #3B4455;\n",
       "      fill: #D2E3FC;\n",
       "    }\n",
       "\n",
       "    [theme=dark] .colab-df-convert:hover {\n",
       "      background-color: #434B5C;\n",
       "      box-shadow: 0px 1px 3px 1px rgba(0, 0, 0, 0.15);\n",
       "      filter: drop-shadow(0px 1px 2px rgba(0, 0, 0, 0.3));\n",
       "      fill: #FFFFFF;\n",
       "    }\n",
       "  </style>\n",
       "\n",
       "      <script>\n",
       "        const buttonEl =\n",
       "          document.querySelector('#df-dd8c9239-9d07-479c-91e5-1ab41c68cf55 button.colab-df-convert');\n",
       "        buttonEl.style.display =\n",
       "          google.colab.kernel.accessAllowed ? 'block' : 'none';\n",
       "\n",
       "        async function convertToInteractive(key) {\n",
       "          const element = document.querySelector('#df-dd8c9239-9d07-479c-91e5-1ab41c68cf55');\n",
       "          const dataTable =\n",
       "            await google.colab.kernel.invokeFunction('convertToInteractive',\n",
       "                                                     [key], {});\n",
       "          if (!dataTable) return;\n",
       "\n",
       "          const docLinkHtml = 'Like what you see? Visit the ' +\n",
       "            '<a target=\"_blank\" href=https://colab.research.google.com/notebooks/data_table.ipynb>data table notebook</a>'\n",
       "            + ' to learn more about interactive tables.';\n",
       "          element.innerHTML = '';\n",
       "          dataTable['output_type'] = 'display_data';\n",
       "          await google.colab.output.renderOutput(dataTable, element);\n",
       "          const docLink = document.createElement('div');\n",
       "          docLink.innerHTML = docLinkHtml;\n",
       "          element.appendChild(docLink);\n",
       "        }\n",
       "      </script>\n",
       "    </div>\n",
       "  </div>\n",
       "  "
      ],
      "text/plain": [
       "              Id  ... SalaryBin\n",
       "0       12612628  ...         0\n",
       "1       12612830  ...         1\n",
       "2       12612844  ...         1\n",
       "3       12613049  ...         1\n",
       "4       12613647  ...         0\n",
       "...          ...  ...       ...\n",
       "244763  72705211  ...         0\n",
       "244764  72705212  ...         0\n",
       "244765  72705213  ...         0\n",
       "244766  72705216  ...         0\n",
       "244767  72705235  ...         1\n",
       "\n",
       "[244768 rows x 16 columns]"
      ]
     },
     "execution_count": 53,
     "metadata": {},
     "output_type": "execute_result"
    }
   ],
   "source": [
    "df_tmp"
   ]
  }
 ],
 "metadata": {
  "colab": {
   "collapsed_sections": [],
   "name": "PredictSalary_RegressionProblemExample_AED.ipynb",
   "provenance": []
  },
  "kernelspec": {
   "display_name": "Python 3 (ipykernel)",
   "language": "python",
   "name": "python3"
  },
  "language_info": {
   "codemirror_mode": {
    "name": "ipython",
    "version": 3
   },
   "file_extension": ".py",
   "mimetype": "text/x-python",
   "name": "python",
   "nbconvert_exporter": "python",
   "pygments_lexer": "ipython3",
   "version": "3.9.7"
  }
 },
 "nbformat": 4,
 "nbformat_minor": 5
}
