{
  "cells": [
    {
      "cell_type": "markdown",
      "metadata": {
        "id": "view-in-github",
        "colab_type": "text"
      },
      "source": [
        "<a href=\"https://colab.research.google.com/github/NophaieViscente/PredictSalary/blob/main/PredictSalary_RegressionProblemExample_AED.ipynb\" target=\"_parent\"><img src=\"https://colab.research.google.com/assets/colab-badge.svg\" alt=\"Open In Colab\"/></a>"
      ]
    },
    {
      "cell_type": "code",
      "source": [
        "from google.colab import drive\n",
        "drive.mount('/content/drive')"
      ],
      "metadata": {
        "colab": {
          "base_uri": "https://localhost:8080/"
        },
        "id": "Vyw-JxJiXrMR",
        "outputId": "2fd404d0-57bc-481c-c1fc-5d18b29aa936"
      },
      "id": "Vyw-JxJiXrMR",
      "execution_count": 1,
      "outputs": [
        {
          "output_type": "stream",
          "name": "stdout",
          "text": [
            "Drive already mounted at /content/drive; to attempt to forcibly remount, call drive.mount(\"/content/drive\", force_remount=True).\n"
          ]
        }
      ]
    },
    {
      "cell_type": "markdown",
      "id": "2ebbe6fc",
      "metadata": {
        "id": "2ebbe6fc"
      },
      "source": [
        "# Predição de Salário - Problema de Regressão\n",
        "* Este projeto tem por objetivo, efetuar uma predição dos salários para determinados empregos, com base em um conjunto de dados pré-definido.\n",
        "* O projeto será totalmente executado dentro deste Notebook."
      ]
    },
    {
      "cell_type": "markdown",
      "id": "95b05c58",
      "metadata": {
        "id": "95b05c58"
      },
      "source": [
        "# Carregando as bibliotecas necessárias.\n",
        "\n",
        "* A seguir será efetuado o carregamento das bibliotecas necessárias para uso no projeto."
      ]
    },
    {
      "cell_type": "code",
      "execution_count": 2,
      "id": "e36099fa",
      "metadata": {
        "id": "e36099fa"
      },
      "outputs": [],
      "source": [
        "import pandas as pd\n",
        "import matplotlib.pyplot as plt\n",
        "import re"
      ]
    },
    {
      "cell_type": "markdown",
      "id": "e24edb35",
      "metadata": {
        "id": "e24edb35"
      },
      "source": [
        "# Carregando os dados.\n",
        "\n",
        "* A seguir é efetuado o carregamento dos dados para uso no projeto."
      ]
    },
    {
      "cell_type": "code",
      "execution_count": 3,
      "id": "50e16f8a",
      "metadata": {
        "id": "50e16f8a"
      },
      "outputs": [],
      "source": [
        "train = pd.read_csv(f'/content/drive/MyDrive/Train_rev1.csv')\n",
        "#test = pd.read_csv(f'/content/drive/MyDrive/Test_rev1.csv')\n",
        "#valid = pd.read_csv(f'/content/drive/MyDrive/Valid_rev1.csv')\n",
        "#location = pd.read_csv(f'/content/drive/MyDrive/Location_Tree.csv',header=None)"
      ]
    },
    {
      "cell_type": "markdown",
      "id": "f506588b",
      "metadata": {
        "id": "f506588b"
      },
      "source": [
        "# AED (Análise Exploratória de Dados)\n",
        "* Esta parte do projeto destina-se a análise exploratória de dados, parte importante de um projeto de DataScience. Através dessa primeira análise poderemos ter noções sobre o conjunto de dados que estamos trabalhando e também aplicar limpeza e transformação de dados.\n",
        " "
      ]
    },
    {
      "cell_type": "markdown",
      "id": "29924e1f",
      "metadata": {
        "id": "29924e1f"
      },
      "source": [
        "### Validando as informações dos dataSets."
      ]
    },
    {
      "cell_type": "code",
      "execution_count": 4,
      "id": "b9d8a5da",
      "metadata": {
        "colab": {
          "base_uri": "https://localhost:8080/"
        },
        "id": "b9d8a5da",
        "outputId": "cf2e4b3c-6038-4106-e8fd-c7b22b31d45d"
      },
      "outputs": [
        {
          "output_type": "stream",
          "name": "stdout",
          "text": [
            "<class 'pandas.core.frame.DataFrame'>\n",
            "RangeIndex: 244768 entries, 0 to 244767\n",
            "Data columns (total 12 columns):\n",
            " #   Column              Non-Null Count   Dtype \n",
            "---  ------              --------------   ----- \n",
            " 0   Id                  244768 non-null  int64 \n",
            " 1   Title               244767 non-null  object\n",
            " 2   FullDescription     244768 non-null  object\n",
            " 3   LocationRaw         244768 non-null  object\n",
            " 4   LocationNormalized  244768 non-null  object\n",
            " 5   ContractType        65442 non-null   object\n",
            " 6   ContractTime        180863 non-null  object\n",
            " 7   Company             212338 non-null  object\n",
            " 8   Category            244768 non-null  object\n",
            " 9   SalaryRaw           244768 non-null  object\n",
            " 10  SalaryNormalized    244768 non-null  int64 \n",
            " 11  SourceName          244767 non-null  object\n",
            "dtypes: int64(2), object(10)\n",
            "memory usage: 22.4+ MB\n"
          ]
        }
      ],
      "source": [
        "train.info()"
      ]
    },
    {
      "cell_type": "markdown",
      "id": "d59b561f",
      "metadata": {
        "id": "d59b561f"
      },
      "source": [
        "* Observa-se que existem 244768 linhas nesse dataSet.\n",
        "* Pode-se observar que temos vários dados faltantes em algumas colunas, são elas : ContractType, ContractTime e Company.\n",
        "* Um item faltante em Title."
      ]
    },
    {
      "cell_type": "markdown",
      "id": "2d785a59",
      "metadata": {
        "id": "2d785a59"
      },
      "source": [
        "### Encontrando o item faltante no Cargo.\n",
        "* Encontrar o indice do item faltante para validar se pode ser adicionado manualmente o cargo."
      ]
    },
    {
      "cell_type": "code",
      "execution_count": 5,
      "id": "818e21de",
      "metadata": {
        "colab": {
          "base_uri": "https://localhost:8080/"
        },
        "id": "818e21de",
        "outputId": "7ff3aec4-51fc-409f-e4cb-dae1b2f16a93"
      },
      "outputs": [
        {
          "output_type": "stream",
          "name": "stdout",
          "text": [
            "1588\n"
          ]
        }
      ],
      "source": [
        "for indice,conteudo in train.Title.items():\n",
        "    if type(conteudo) != str :\n",
        "      print(indice)"
      ]
    },
    {
      "cell_type": "code",
      "execution_count": 6,
      "id": "c97ef013",
      "metadata": {
        "colab": {
          "base_uri": "https://localhost:8080/"
        },
        "id": "c97ef013",
        "outputId": "5d2b6809-e478-4cdb-e4cc-dd80e87f8517"
      },
      "outputs": [
        {
          "output_type": "execute_result",
          "data": {
            "text/plain": [
              "Id                                                             48271669\n",
              "Title                                                               NaN\n",
              "FullDescription       Quality Improvement Manager North West England...\n",
              "LocationRaw                                       Liverpool, Merseyside\n",
              "LocationNormalized                                            Liverpool\n",
              "ContractType                                                  full_time\n",
              "ContractTime                                                        NaN\n",
              "Company                                                             NaN\n",
              "Category                                      Healthcare & Nursing Jobs\n",
              "SalaryRaw                                     40,000 to 45,000 per year\n",
              "SalaryNormalized                                                  42500\n",
              "SourceName                                               careworx.co.uk\n",
              "Name: 1588, dtype: object"
            ]
          },
          "metadata": {},
          "execution_count": 6
        }
      ],
      "source": [
        "train.loc[1588]"
      ]
    },
    {
      "cell_type": "markdown",
      "id": "b0ec5b67",
      "metadata": {
        "id": "b0ec5b67"
      },
      "source": [
        "* Verificado o item de indice 1588, onde o cargo é o 'Quality Improvement Manager'"
      ]
    },
    {
      "cell_type": "markdown",
      "id": "3527c424",
      "metadata": {
        "id": "3527c424"
      },
      "source": [
        "* Adicionar dados ao indice 1588 "
      ]
    },
    {
      "cell_type": "code",
      "execution_count": 7,
      "id": "e7049054",
      "metadata": {
        "id": "e7049054"
      },
      "outputs": [],
      "source": [
        "train.loc[[1588],'Title'] = 'Quality Improvement Manager'"
      ]
    },
    {
      "cell_type": "markdown",
      "id": "4a61fa39",
      "metadata": {
        "id": "4a61fa39"
      },
      "source": [
        "* Validar dados adicionados."
      ]
    },
    {
      "cell_type": "code",
      "execution_count": 8,
      "id": "19002d6b",
      "metadata": {
        "colab": {
          "base_uri": "https://localhost:8080/"
        },
        "id": "19002d6b",
        "outputId": "57171725-a85c-4140-cbb4-1566fe775692"
      },
      "outputs": [
        {
          "output_type": "stream",
          "name": "stdout",
          "text": [
            "<class 'pandas.core.frame.DataFrame'>\n",
            "RangeIndex: 244768 entries, 0 to 244767\n",
            "Data columns (total 12 columns):\n",
            " #   Column              Non-Null Count   Dtype \n",
            "---  ------              --------------   ----- \n",
            " 0   Id                  244768 non-null  int64 \n",
            " 1   Title               244768 non-null  object\n",
            " 2   FullDescription     244768 non-null  object\n",
            " 3   LocationRaw         244768 non-null  object\n",
            " 4   LocationNormalized  244768 non-null  object\n",
            " 5   ContractType        65442 non-null   object\n",
            " 6   ContractTime        180863 non-null  object\n",
            " 7   Company             212338 non-null  object\n",
            " 8   Category            244768 non-null  object\n",
            " 9   SalaryRaw           244768 non-null  object\n",
            " 10  SalaryNormalized    244768 non-null  int64 \n",
            " 11  SourceName          244767 non-null  object\n",
            "dtypes: int64(2), object(10)\n",
            "memory usage: 22.4+ MB\n"
          ]
        },
        {
          "output_type": "execute_result",
          "data": {
            "text/plain": [
              "(None, Id                                                             48271669\n",
              " Title                                       Quality Improvement Manager\n",
              " FullDescription       Quality Improvement Manager North West England...\n",
              " LocationRaw                                       Liverpool, Merseyside\n",
              " LocationNormalized                                            Liverpool\n",
              " ContractType                                                  full_time\n",
              " ContractTime                                                        NaN\n",
              " Company                                                             NaN\n",
              " Category                                      Healthcare & Nursing Jobs\n",
              " SalaryRaw                                     40,000 to 45,000 per year\n",
              " SalaryNormalized                                                  42500\n",
              " SourceName                                               careworx.co.uk\n",
              " Name: 1588, dtype: object)"
            ]
          },
          "metadata": {},
          "execution_count": 8
        }
      ],
      "source": [
        "train.info(), train.loc[1588]"
      ]
    },
    {
      "cell_type": "markdown",
      "id": "ac38c457",
      "metadata": {
        "id": "ac38c457"
      },
      "source": [
        "* Verifica-se que fora adicionado o dado."
      ]
    },
    {
      "cell_type": "code",
      "execution_count": 9,
      "id": "8c1cd9f5",
      "metadata": {
        "id": "8c1cd9f5"
      },
      "outputs": [],
      "source": [
        "#test.info()"
      ]
    },
    {
      "cell_type": "markdown",
      "id": "df918472",
      "metadata": {
        "id": "df918472"
      },
      "source": [
        "* Observa-se que existem 122463 linhas nesse dataSet.\n",
        "* Pode-se observar que temos vários dados faltantes em algumas colunas, são elas : ContractType, ContractTime e Company."
      ]
    },
    {
      "cell_type": "code",
      "execution_count": 10,
      "id": "7c5be364",
      "metadata": {
        "id": "7c5be364"
      },
      "outputs": [],
      "source": [
        "#valid.info()"
      ]
    },
    {
      "cell_type": "markdown",
      "id": "82959097",
      "metadata": {
        "id": "82959097"
      },
      "source": [
        "* Observa-se que existem 40663 linhas nesse dataSet.\n",
        "* Pode-se observar que temos vários dados faltantes em algumas colunas, são elas : ContractType, ContractTime e Company."
      ]
    },
    {
      "cell_type": "markdown",
      "id": "535406e2",
      "metadata": {
        "id": "535406e2"
      },
      "source": [
        "### Verificando duplicidade de dados nos DataSets."
      ]
    },
    {
      "cell_type": "code",
      "execution_count": 11,
      "id": "6ea7c622",
      "metadata": {
        "id": "6ea7c622"
      },
      "outputs": [],
      "source": [
        "#train.Id.unique().size, test.Id.unique().size, valid.Id.unique().size"
      ]
    },
    {
      "cell_type": "markdown",
      "id": "271c8b4f",
      "metadata": {
        "id": "271c8b4f"
      },
      "source": [
        "* Pode-se verificar que o Id é único em todos os datasets."
      ]
    },
    {
      "cell_type": "markdown",
      "id": "b77ab7fa",
      "metadata": {
        "id": "b77ab7fa"
      },
      "source": [
        "### Verificando os dados.\n",
        "* Usando um histograma para validar a distribuição dos dados do Salário Normalizado"
      ]
    },
    {
      "cell_type": "code",
      "execution_count": 12,
      "id": "091f3764",
      "metadata": {
        "colab": {
          "base_uri": "https://localhost:8080/",
          "height": 283
        },
        "id": "091f3764",
        "outputId": "fa90c175-81ad-4751-978d-a2af5e8dc7df"
      },
      "outputs": [
        {
          "output_type": "execute_result",
          "data": {
            "text/plain": [
              "<matplotlib.axes._subplots.AxesSubplot at 0x7f11e5398490>"
            ]
          },
          "metadata": {},
          "execution_count": 12
        },
        {
          "output_type": "display_data",
          "data": {
            "image/png": "[encoded data removed]",
            "text/plain": [
              "<Figure size 432x288 with 1 Axes>"
            ]
          },
          "metadata": {
            "needs_background": "light"
          }
        }
      ],
      "source": [
        "train.SalaryNormalized.hist(bins=50)"
      ]
    },
    {
      "cell_type": "markdown",
      "id": "66733a2d",
      "metadata": {
        "id": "66733a2d"
      },
      "source": [
        "# Pré-Processamento de dados.\n",
        "* Nessa fase iremos preparar os dados para a modelagem, com auxílio de algumas análises."
      ]
    },
    {
      "cell_type": "markdown",
      "id": "432a73d5",
      "metadata": {
        "id": "432a73d5"
      },
      "source": [
        "### Utilizando uma cópia do DataSet.\n",
        "* Utilizando essa técnica para se caso ocorra um erro apenas recarreguemos o dataset inicial de treino, retornando desse ponto."
      ]
    },
    {
      "cell_type": "code",
      "execution_count": 13,
      "id": "50745543",
      "metadata": {
        "id": "50745543"
      },
      "outputs": [],
      "source": [
        "df_tmp = train.copy()"
      ]
    },
    {
      "cell_type": "markdown",
      "id": "aa2cb74a",
      "metadata": {
        "id": "aa2cb74a"
      },
      "source": [
        "### Transformando os dados.\n",
        "* Transformando os dados de cargos todos em caracteres minúsculos."
      ]
    },
    {
      "cell_type": "code",
      "execution_count": 14,
      "id": "4699aee5",
      "metadata": {
        "id": "4699aee5"
      },
      "outputs": [],
      "source": [
        "df_tmp.Title = df_tmp.Title.str.lower()"
      ]
    },
    {
      "cell_type": "code",
      "source": [
        "df_tmp.groupby('LocationRaw').count().sort_values(by='SalaryNormalized',ascending=True)"
      ],
      "metadata": {
        "colab": {
          "base_uri": "https://localhost:8080/",
          "height": 551
        },
        "id": "Q_A-g_pSO8ur",
        "outputId": "5d8c700f-3b67-4437-959f-c025765ee3b6"
      },
      "id": "Q_A-g_pSO8ur",
      "execution_count": 15,
      "outputs": [
        {
          "output_type": "execute_result",
          "data": {
            "text/html": [
              "\n",
              "  <div id=\"df-8c620001-4e03-4378-a57c-965e78296564\">\n",
              "    <div class=\"colab-df-container\">\n",
              "      <div>\n",
              "<style scoped>\n",
              "    .dataframe tbody tr th:only-of-type {\n",
              "        vertical-align: middle;\n",
              "    }\n",
              "\n",
              "    .dataframe tbody tr th {\n",
              "        vertical-align: top;\n",
              "    }\n",
              "\n",
              "    .dataframe thead th {\n",
              "        text-align: right;\n",
              "    }\n",
              "</style>\n",
              "<table border=\"1\" class=\"dataframe\">\n",
              "  <thead>\n",
              "    <tr style=\"text-align: right;\">\n",
              "      <th></th>\n",
              "      <th>Id</th>\n",
              "      <th>Title</th>\n",
              "      <th>FullDescription</th>\n",
              "      <th>LocationNormalized</th>\n",
              "      <th>ContractType</th>\n",
              "      <th>ContractTime</th>\n",
              "      <th>Company</th>\n",
              "      <th>Category</th>\n",
              "      <th>SalaryRaw</th>\n",
              "      <th>SalaryNormalized</th>\n",
              "      <th>SourceName</th>\n",
              "    </tr>\n",
              "    <tr>\n",
              "      <th>LocationRaw</th>\n",
              "      <th></th>\n",
              "      <th></th>\n",
              "      <th></th>\n",
              "      <th></th>\n",
              "      <th></th>\n",
              "      <th></th>\n",
              "      <th></th>\n",
              "      <th></th>\n",
              "      <th></th>\n",
              "      <th></th>\n",
              "      <th></th>\n",
              "    </tr>\n",
              "  </thead>\n",
              "  <tbody>\n",
              "    <tr>\n",
              "      <th>London, Middlesex, Hertfordshire, Buckinghamshire, Surrey, , Greater London</th>\n",
              "      <td>1</td>\n",
              "      <td>1</td>\n",
              "      <td>1</td>\n",
              "      <td>1</td>\n",
              "      <td>0</td>\n",
              "      <td>0</td>\n",
              "      <td>1</td>\n",
              "      <td>1</td>\n",
              "      <td>1</td>\n",
              "      <td>1</td>\n",
              "      <td>1</td>\n",
              "    </tr>\n",
              "    <tr>\n",
              "      <th>Nass</th>\n",
              "      <td>1</td>\n",
              "      <td>1</td>\n",
              "      <td>1</td>\n",
              "      <td>1</td>\n",
              "      <td>1</td>\n",
              "      <td>0</td>\n",
              "      <td>1</td>\n",
              "      <td>1</td>\n",
              "      <td>1</td>\n",
              "      <td>1</td>\n",
              "      <td>1</td>\n",
              "    </tr>\n",
              "    <tr>\n",
              "      <th>National - Midlands, Home Counties, Thames Valley, South</th>\n",
              "      <td>1</td>\n",
              "      <td>1</td>\n",
              "      <td>1</td>\n",
              "      <td>1</td>\n",
              "      <td>0</td>\n",
              "      <td>1</td>\n",
              "      <td>1</td>\n",
              "      <td>1</td>\n",
              "      <td>1</td>\n",
              "      <td>1</td>\n",
              "      <td>1</td>\n",
              "    </tr>\n",
              "    <tr>\n",
              "      <th>National Role - Preferably Midlands/North West</th>\n",
              "      <td>1</td>\n",
              "      <td>1</td>\n",
              "      <td>1</td>\n",
              "      <td>1</td>\n",
              "      <td>1</td>\n",
              "      <td>1</td>\n",
              "      <td>1</td>\n",
              "      <td>1</td>\n",
              "      <td>1</td>\n",
              "      <td>1</td>\n",
              "      <td>1</td>\n",
              "    </tr>\n",
              "    <tr>\n",
              "      <th>National Role but Ideally based in the North of England</th>\n",
              "      <td>1</td>\n",
              "      <td>1</td>\n",
              "      <td>1</td>\n",
              "      <td>1</td>\n",
              "      <td>1</td>\n",
              "      <td>1</td>\n",
              "      <td>1</td>\n",
              "      <td>1</td>\n",
              "      <td>1</td>\n",
              "      <td>1</td>\n",
              "      <td>1</td>\n",
              "    </tr>\n",
              "    <tr>\n",
              "      <th>...</th>\n",
              "      <td>...</td>\n",
              "      <td>...</td>\n",
              "      <td>...</td>\n",
              "      <td>...</td>\n",
              "      <td>...</td>\n",
              "      <td>...</td>\n",
              "      <td>...</td>\n",
              "      <td>...</td>\n",
              "      <td>...</td>\n",
              "      <td>...</td>\n",
              "      <td>...</td>\n",
              "    </tr>\n",
              "    <tr>\n",
              "      <th>City of London - London</th>\n",
              "      <td>2344</td>\n",
              "      <td>2344</td>\n",
              "      <td>2344</td>\n",
              "      <td>2344</td>\n",
              "      <td>2344</td>\n",
              "      <td>2309</td>\n",
              "      <td>2344</td>\n",
              "      <td>2344</td>\n",
              "      <td>2344</td>\n",
              "      <td>2344</td>\n",
              "      <td>2344</td>\n",
              "    </tr>\n",
              "    <tr>\n",
              "      <th>City London South East</th>\n",
              "      <td>2843</td>\n",
              "      <td>2843</td>\n",
              "      <td>2843</td>\n",
              "      <td>2843</td>\n",
              "      <td>15</td>\n",
              "      <td>2667</td>\n",
              "      <td>2843</td>\n",
              "      <td>2843</td>\n",
              "      <td>2843</td>\n",
              "      <td>2843</td>\n",
              "      <td>2843</td>\n",
              "    </tr>\n",
              "    <tr>\n",
              "      <th>UK</th>\n",
              "      <td>5538</td>\n",
              "      <td>5538</td>\n",
              "      <td>5538</td>\n",
              "      <td>5538</td>\n",
              "      <td>2758</td>\n",
              "      <td>4685</td>\n",
              "      <td>5086</td>\n",
              "      <td>5538</td>\n",
              "      <td>5538</td>\n",
              "      <td>5538</td>\n",
              "      <td>5538</td>\n",
              "    </tr>\n",
              "    <tr>\n",
              "      <th>London South East</th>\n",
              "      <td>8689</td>\n",
              "      <td>8689</td>\n",
              "      <td>8689</td>\n",
              "      <td>8689</td>\n",
              "      <td>34</td>\n",
              "      <td>7759</td>\n",
              "      <td>8688</td>\n",
              "      <td>8689</td>\n",
              "      <td>8689</td>\n",
              "      <td>8689</td>\n",
              "      <td>8689</td>\n",
              "    </tr>\n",
              "    <tr>\n",
              "      <th>London</th>\n",
              "      <td>15605</td>\n",
              "      <td>15605</td>\n",
              "      <td>15605</td>\n",
              "      <td>15605</td>\n",
              "      <td>6362</td>\n",
              "      <td>12623</td>\n",
              "      <td>12819</td>\n",
              "      <td>15605</td>\n",
              "      <td>15605</td>\n",
              "      <td>15605</td>\n",
              "      <td>15605</td>\n",
              "    </tr>\n",
              "  </tbody>\n",
              "</table>\n",
              "<p>20986 rows × 11 columns</p>\n",
              "</div>\n",
              "      <button class=\"colab-df-convert\" onclick=\"convertToInteractive('df-8c620001-4e03-4378-a57c-965e78296564')\"\n",
              "              title=\"Convert this dataframe to an interactive table.\"\n",
              "              style=\"display:none;\">\n",
              "        \n",
              "  <svg xmlns=\"http://www.w3.org/2000/svg\" height=\"24px\"viewBox=\"0 0 24 24\"\n",
              "       width=\"24px\">\n",
              "    <path d=\"M0 0h24v24H0V0z\" fill=\"none\"/>\n",
              "    <path d=\"M18.56 5.44l.94 2.06.94-2.06 2.06-.94-2.06-.94-.94-2.06-.94 2.06-2.06.94zm-11 1L8.5 8.5l.94-2.06 2.06-.94-2.06-.94L8.5 2.5l-.94 2.06-2.06.94zm10 10l.94 2.06.94-2.06 2.06-.94-2.06-.94-.94-2.06-.94 2.06-2.06.94z\"/><path d=\"M17.41 7.96l-1.37-1.37c-.4-.4-.92-.59-1.43-.59-.52 0-1.04.2-1.43.59L10.3 9.45l-7.72 7.72c-.78.78-.78 2.05 0 2.83L4 21.41c.39.39.9.59 1.41.59.51 0 1.02-.2 1.41-.59l7.78-7.78 2.81-2.81c.8-.78.8-2.07 0-2.86zM5.41 20L4 18.59l7.72-7.72 1.47 1.35L5.41 20z\"/>\n",
              "  </svg>\n",
              "      </button>\n",
              "      \n",
              "  <style>\n",
              "    .colab-df-container {\n",
              "      display:flex;\n",
              "      flex-wrap:wrap;\n",
              "      gap: 12px;\n",
              "    }\n",
              "\n",
              "    .colab-df-convert {\n",
              "      background-color: #E8F0FE;\n",
              "      border: none;\n",
              "      border-radius: 50%;\n",
              "      cursor: pointer;\n",
              "      display: none;\n",
              "      fill: #1967D2;\n",
              "      height: 32px;\n",
              "      padding: 0 0 0 0;\n",
              "      width: 32px;\n",
              "    }\n",
              "\n",
              "    .colab-df-convert:hover {\n",
              "      background-color: #E2EBFA;\n",
              "      box-shadow: 0px 1px 2px rgba(60, 64, 67, 0.3), 0px 1px 3px 1px rgba(60, 64, 67, 0.15);\n",
              "      fill: #174EA6;\n",
              "    }\n",
              "\n",
              "    [theme=dark] .colab-df-convert {\n",
              "      background-color: #3B4455;\n",
              "      fill: #D2E3FC;\n",
              "    }\n",
              "\n",
              "    [theme=dark] .colab-df-convert:hover {\n",
              "      background-color: #434B5C;\n",
              "      box-shadow: 0px 1px 3px 1px rgba(0, 0, 0, 0.15);\n",
              "      filter: drop-shadow(0px 1px 2px rgba(0, 0, 0, 0.3));\n",
              "      fill: #FFFFFF;\n",
              "    }\n",
              "  </style>\n",
              "\n",
              "      <script>\n",
              "        const buttonEl =\n",
              "          document.querySelector('#df-8c620001-4e03-4378-a57c-965e78296564 button.colab-df-convert');\n",
              "        buttonEl.style.display =\n",
              "          google.colab.kernel.accessAllowed ? 'block' : 'none';\n",
              "\n",
              "        async function convertToInteractive(key) {\n",
              "          const element = document.querySelector('#df-8c620001-4e03-4378-a57c-965e78296564');\n",
              "          const dataTable =\n",
              "            await google.colab.kernel.invokeFunction('convertToInteractive',\n",
              "                                                     [key], {});\n",
              "          if (!dataTable) return;\n",
              "\n",
              "          const docLinkHtml = 'Like what you see? Visit the ' +\n",
              "            '<a target=\"_blank\" href=https://colab.research.google.com/notebooks/data_table.ipynb>data table notebook</a>'\n",
              "            + ' to learn more about interactive tables.';\n",
              "          element.innerHTML = '';\n",
              "          dataTable['output_type'] = 'display_data';\n",
              "          await google.colab.output.renderOutput(dataTable, element);\n",
              "          const docLink = document.createElement('div');\n",
              "          docLink.innerHTML = docLinkHtml;\n",
              "          element.appendChild(docLink);\n",
              "        }\n",
              "      </script>\n",
              "    </div>\n",
              "  </div>\n",
              "  "
            ],
            "text/plain": [
              "                                                       Id  ...  SourceName\n",
              "LocationRaw                                                ...            \n",
              "London, Middlesex, Hertfordshire, Buckinghamshi...      1  ...           1\n",
              "Nass                                                    1  ...           1\n",
              "National - Midlands, Home Counties, Thames Vall...      1  ...           1\n",
              "National Role - Preferably Midlands/North West          1  ...           1\n",
              "National Role but Ideally based in the North of...      1  ...           1\n",
              "...                                                   ...  ...         ...\n",
              "City of London - London                              2344  ...        2344\n",
              "City London South East                               2843  ...        2843\n",
              "UK                                                   5538  ...        5538\n",
              "London South East                                    8689  ...        8689\n",
              "London                                              15605  ...       15605\n",
              "\n",
              "[20986 rows x 11 columns]"
            ]
          },
          "metadata": {},
          "execution_count": 15
        }
      ]
    },
    {
      "cell_type": "markdown",
      "source": [
        "### Conferindo se a coluna 'SalaryRaw' tem algum valor nulo"
      ],
      "metadata": {
        "id": "gyPwbT5zc7Qd"
      },
      "id": "gyPwbT5zc7Qd"
    },
    {
      "cell_type": "code",
      "source": [
        "df_tmp.SalaryRaw.isna().sum()"
      ],
      "metadata": {
        "colab": {
          "base_uri": "https://localhost:8080/"
        },
        "id": "hRpU5hxUc2qL",
        "outputId": "2a83160e-2903-4b95-d5a4-c3b75b064b95"
      },
      "id": "hRpU5hxUc2qL",
      "execution_count": 16,
      "outputs": [
        {
          "output_type": "execute_result",
          "data": {
            "text/plain": [
              "0"
            ]
          },
          "metadata": {},
          "execution_count": 16
        }
      ]
    },
    {
      "cell_type": "markdown",
      "source": [
        "### Criação de novas características"
      ],
      "metadata": {
        "id": "vzAPgGizcgX1"
      },
      "id": "vzAPgGizcgX1"
    },
    {
      "cell_type": "markdown",
      "source": [
        "* Criação de lista para alocar os valores únicos de salários"
      ],
      "metadata": {
        "id": "fHj4IugUewHY"
      },
      "id": "fHj4IugUewHY"
    },
    {
      "cell_type": "code",
      "source": [
        "salary_list = df_tmp['SalaryRaw'].unique().tolist()"
      ],
      "metadata": {
        "id": "iJk_ccL2cL_c"
      },
      "id": "iJk_ccL2cL_c",
      "execution_count": 17,
      "outputs": []
    },
    {
      "cell_type": "markdown",
      "source": [
        "* Conferindo a quantidade de registros da lista"
      ],
      "metadata": {
        "id": "2Px0U_UZeFmr"
      },
      "id": "2Px0U_UZeFmr"
    },
    {
      "cell_type": "code",
      "source": [
        "len(salary_list)"
      ],
      "metadata": {
        "colab": {
          "base_uri": "https://localhost:8080/"
        },
        "id": "aQAHGFGld7_u",
        "outputId": "63a4bc29-4148-4c36-b3db-7ba2db4c0fdc"
      },
      "id": "aQAHGFGld7_u",
      "execution_count": 18,
      "outputs": [
        {
          "output_type": "execute_result",
          "data": {
            "text/plain": [
              "97286"
            ]
          },
          "metadata": {},
          "execution_count": 18
        }
      ]
    },
    {
      "cell_type": "markdown",
      "source": [
        "* Criação de função para alocar em nova coluna a periodicidade de recebimento salarial"
      ],
      "metadata": {
        "id": "AnvLWAJEe2BJ"
      },
      "id": "AnvLWAJEe2BJ"
    },
    {
      "cell_type": "code",
      "source": [
        "def base_salarial(x):\n",
        "    y=\"\"\n",
        "    if \"year\" in str(x):\n",
        "        y = \"Yearly\"\n",
        "    elif \"annum\" in str(x):\n",
        "        y = \"Yearly\"\n",
        "    elif \"hour\" in str(x):\n",
        "        y = \"Hourly\"\n",
        "    elif \"day\" in str(x):\n",
        "        y = \"Daily\"\n",
        "    elif \"week\" in str(x):\n",
        "        y = \"Weekly\"\n",
        "    \n",
        "    return y"
      ],
      "metadata": {
        "id": "NV4vUDTpeK36"
      },
      "id": "NV4vUDTpeK36",
      "execution_count": 19,
      "outputs": []
    },
    {
      "cell_type": "code",
      "source": [
        "df_tmp['Rate_by'] = df_tmp['SalaryRaw'].apply(base_salarial)"
      ],
      "metadata": {
        "id": "HWYvfq55fmGm"
      },
      "id": "HWYvfq55fmGm",
      "execution_count": 20,
      "outputs": []
    },
    {
      "cell_type": "markdown",
      "source": [
        "* Filtrando os dados que não tinham descrição deduzindo que são com periodicidade anual"
      ],
      "metadata": {
        "id": "8yiUipmCmvPK"
      },
      "id": "8yiUipmCmvPK"
    },
    {
      "cell_type": "code",
      "source": [
        "filtro = df_tmp['Rate_by'] == \"\""
      ],
      "metadata": {
        "id": "HYa2eM00i61X"
      },
      "id": "HYa2eM00i61X",
      "execution_count": 21,
      "outputs": []
    },
    {
      "cell_type": "code",
      "source": [
        "df_tmp.loc[filtro,'Rate_by'] = 'Yearly'"
      ],
      "metadata": {
        "id": "-zdSJcxrgkvF"
      },
      "id": "-zdSJcxrgkvF",
      "execution_count": 22,
      "outputs": []
    },
    {
      "cell_type": "markdown",
      "source": [
        "* Conferindo a quantidade de dados e frequência e periodicidade do cálculo de valor dos salários"
      ],
      "metadata": {
        "id": "8dJeTIRcg_Cb"
      },
      "id": "8dJeTIRcg_Cb"
    },
    {
      "cell_type": "code",
      "source": [
        "df_tmp.groupby('Rate_by').SalaryRaw.count()"
      ],
      "metadata": {
        "colab": {
          "base_uri": "https://localhost:8080/"
        },
        "id": "UG-3eRf8g0qQ",
        "outputId": "4bb4c4c6-9fe2-4150-e7ba-ffc67c9d1803"
      },
      "id": "UG-3eRf8g0qQ",
      "execution_count": 23,
      "outputs": [
        {
          "output_type": "execute_result",
          "data": {
            "text/plain": [
              "Rate_by\n",
              "Daily       9195\n",
              "Hourly     27879\n",
              "Weekly      1498\n",
              "Yearly    206196\n",
              "Name: SalaryRaw, dtype: int64"
            ]
          },
          "metadata": {},
          "execution_count": 23
        }
      ]
    },
    {
      "cell_type": "markdown",
      "source": [
        "* Criação de intervalos salariais/categorias"
      ],
      "metadata": {
        "id": "w1R7GW5drUaV"
      },
      "id": "w1R7GW5drUaV"
    },
    {
      "cell_type": "code",
      "source": [
        "intervalosSalariais = [0,25000,50000,70000,90000,120000,300000]"
      ],
      "metadata": {
        "id": "QcBSu4bunX2T"
      },
      "id": "QcBSu4bunX2T",
      "execution_count": 24,
      "outputs": []
    },
    {
      "cell_type": "code",
      "source": [
        "df_tmp['SalaryBin'] = pd.cut(x=df_tmp.SalaryNormalized, bins=intervalosSalariais, labels=False)"
      ],
      "metadata": {
        "id": "x4KBhVbUrazn"
      },
      "id": "x4KBhVbUrazn",
      "execution_count": 25,
      "outputs": []
    },
    {
      "cell_type": "code",
      "source": [
        "plt.figure(figsize=(8,6))\n",
        "df_tmp.groupby('SalaryBin')['LocationNormalized'].count().plot.bar()\n",
        "plt.title(\"Faixas Salariais\")\n",
        "plt.xticks([0,1,2,3,4,5],['0-25K','25K-50K','50K-70K','70K-90K','90K-120K','120K-300K'], rotation=30)\n",
        "plt.show()"
      ],
      "metadata": {
        "colab": {
          "base_uri": "https://localhost:8080/",
          "height": 429
        },
        "id": "-ZMhubd0p_OL",
        "outputId": "f39a94b5-5d92-43b6-9378-0cf0755f9d7c"
      },
      "id": "-ZMhubd0p_OL",
      "execution_count": 26,
      "outputs": [
        {
          "output_type": "display_data",
          "data": {
            "image/png": "[encoded data removed]",
            "text/plain": [
              "<Figure size 576x432 with 1 Axes>"
            ]
          },
          "metadata": {
            "needs_background": "light"
          }
        }
      ]
    },
    {
      "cell_type": "markdown",
      "source": [
        "### Usando Vetorização de palavras para verificar a coluna Title - Cargo"
      ],
      "metadata": {
        "id": "26q1evC2pLgH"
      },
      "id": "26q1evC2pLgH"
    },
    {
      "cell_type": "code",
      "source": [
        "from sklearn.feature_extraction.text import CountVectorizer\n",
        "from sklearn.model_selection import train_test_split\n",
        "\n",
        "y = df_tmp['SalaryBin'].astype('category')\n",
        "X_train, X_test, y_train, y_test = train_test_split(df_tmp['Title'], y, test_size=0.2)\n",
        "\n",
        "cv = CountVectorizer(stop_words='english', ngram_range=(1,3), min_df=0.03)"
      ],
      "metadata": {
        "id": "MogA6iVmpK5o"
      },
      "id": "MogA6iVmpK5o",
      "execution_count": 27,
      "outputs": []
    },
    {
      "cell_type": "markdown",
      "source": [
        "* Ajustando o count vectorizer para a coluna Title - Cargo"
      ],
      "metadata": {
        "id": "KUk5FDX0p3bs"
      },
      "id": "KUk5FDX0p3bs"
    },
    {
      "cell_type": "code",
      "source": [
        "cv.fit(df_tmp.Title)\n",
        "\n",
        "palavrasCargos = pd.DataFrame(cv.transform(df_tmp.Title).todense(), columns=cv.get_feature_names())"
      ],
      "metadata": {
        "colab": {
          "base_uri": "https://localhost:8080/"
        },
        "id": "Yt5ixttx8tuF",
        "outputId": "3427c966-e36f-40b4-ad03-1964634c65cb"
      },
      "id": "Yt5ixttx8tuF",
      "execution_count": 28,
      "outputs": [
        {
          "output_type": "stream",
          "name": "stderr",
          "text": [
            "/usr/local/lib/python3.7/dist-packages/sklearn/utils/deprecation.py:87: FutureWarning: Function get_feature_names is deprecated; get_feature_names is deprecated in 1.0 and will be removed in 1.2. Please use get_feature_names_out instead.\n",
            "  warnings.warn(msg, category=FutureWarning)\n"
          ]
        }
      ]
    },
    {
      "cell_type": "code",
      "source": [
        "palavrasCargos"
      ],
      "metadata": {
        "colab": {
          "base_uri": "https://localhost:8080/",
          "height": 423
        },
        "id": "OzLFf2sovh4Y",
        "outputId": "0a095401-709a-4429-b96a-b41a429db99f"
      },
      "id": "OzLFf2sovh4Y",
      "execution_count": 29,
      "outputs": [
        {
          "output_type": "execute_result",
          "data": {
            "text/html": [
              "\n",
              "  <div id=\"df-4b1eb321-cfb2-42f4-b427-f71b94822888\">\n",
              "    <div class=\"colab-df-container\">\n",
              "      <div>\n",
              "<style scoped>\n",
              "    .dataframe tbody tr th:only-of-type {\n",
              "        vertical-align: middle;\n",
              "    }\n",
              "\n",
              "    .dataframe tbody tr th {\n",
              "        vertical-align: top;\n",
              "    }\n",
              "\n",
              "    .dataframe thead th {\n",
              "        text-align: right;\n",
              "    }\n",
              "</style>\n",
              "<table border=\"1\" class=\"dataframe\">\n",
              "  <thead>\n",
              "    <tr style=\"text-align: right;\">\n",
              "      <th></th>\n",
              "      <th>analyst</th>\n",
              "      <th>assistant</th>\n",
              "      <th>business</th>\n",
              "      <th>consultant</th>\n",
              "      <th>developer</th>\n",
              "      <th>engineer</th>\n",
              "      <th>executive</th>\n",
              "      <th>london</th>\n",
              "      <th>manager</th>\n",
              "      <th>sales</th>\n",
              "      <th>senior</th>\n",
              "      <th>support</th>\n",
              "    </tr>\n",
              "  </thead>\n",
              "  <tbody>\n",
              "    <tr>\n",
              "      <th>0</th>\n",
              "      <td>1</td>\n",
              "      <td>0</td>\n",
              "      <td>0</td>\n",
              "      <td>0</td>\n",
              "      <td>0</td>\n",
              "      <td>0</td>\n",
              "      <td>0</td>\n",
              "      <td>0</td>\n",
              "      <td>0</td>\n",
              "      <td>0</td>\n",
              "      <td>0</td>\n",
              "      <td>0</td>\n",
              "    </tr>\n",
              "    <tr>\n",
              "      <th>1</th>\n",
              "      <td>0</td>\n",
              "      <td>0</td>\n",
              "      <td>0</td>\n",
              "      <td>0</td>\n",
              "      <td>0</td>\n",
              "      <td>1</td>\n",
              "      <td>0</td>\n",
              "      <td>0</td>\n",
              "      <td>0</td>\n",
              "      <td>0</td>\n",
              "      <td>0</td>\n",
              "      <td>0</td>\n",
              "    </tr>\n",
              "    <tr>\n",
              "      <th>2</th>\n",
              "      <td>1</td>\n",
              "      <td>0</td>\n",
              "      <td>0</td>\n",
              "      <td>0</td>\n",
              "      <td>0</td>\n",
              "      <td>0</td>\n",
              "      <td>0</td>\n",
              "      <td>0</td>\n",
              "      <td>0</td>\n",
              "      <td>0</td>\n",
              "      <td>0</td>\n",
              "      <td>0</td>\n",
              "    </tr>\n",
              "    <tr>\n",
              "      <th>3</th>\n",
              "      <td>1</td>\n",
              "      <td>0</td>\n",
              "      <td>0</td>\n",
              "      <td>0</td>\n",
              "      <td>0</td>\n",
              "      <td>0</td>\n",
              "      <td>0</td>\n",
              "      <td>0</td>\n",
              "      <td>0</td>\n",
              "      <td>0</td>\n",
              "      <td>0</td>\n",
              "      <td>0</td>\n",
              "    </tr>\n",
              "    <tr>\n",
              "      <th>4</th>\n",
              "      <td>1</td>\n",
              "      <td>0</td>\n",
              "      <td>0</td>\n",
              "      <td>0</td>\n",
              "      <td>0</td>\n",
              "      <td>0</td>\n",
              "      <td>0</td>\n",
              "      <td>0</td>\n",
              "      <td>0</td>\n",
              "      <td>0</td>\n",
              "      <td>0</td>\n",
              "      <td>0</td>\n",
              "    </tr>\n",
              "    <tr>\n",
              "      <th>...</th>\n",
              "      <td>...</td>\n",
              "      <td>...</td>\n",
              "      <td>...</td>\n",
              "      <td>...</td>\n",
              "      <td>...</td>\n",
              "      <td>...</td>\n",
              "      <td>...</td>\n",
              "      <td>...</td>\n",
              "      <td>...</td>\n",
              "      <td>...</td>\n",
              "      <td>...</td>\n",
              "      <td>...</td>\n",
              "    </tr>\n",
              "    <tr>\n",
              "      <th>244763</th>\n",
              "      <td>0</td>\n",
              "      <td>0</td>\n",
              "      <td>0</td>\n",
              "      <td>0</td>\n",
              "      <td>0</td>\n",
              "      <td>0</td>\n",
              "      <td>0</td>\n",
              "      <td>0</td>\n",
              "      <td>0</td>\n",
              "      <td>0</td>\n",
              "      <td>0</td>\n",
              "      <td>0</td>\n",
              "    </tr>\n",
              "    <tr>\n",
              "      <th>244764</th>\n",
              "      <td>0</td>\n",
              "      <td>0</td>\n",
              "      <td>1</td>\n",
              "      <td>0</td>\n",
              "      <td>0</td>\n",
              "      <td>0</td>\n",
              "      <td>0</td>\n",
              "      <td>0</td>\n",
              "      <td>0</td>\n",
              "      <td>0</td>\n",
              "      <td>0</td>\n",
              "      <td>0</td>\n",
              "    </tr>\n",
              "    <tr>\n",
              "      <th>244765</th>\n",
              "      <td>0</td>\n",
              "      <td>0</td>\n",
              "      <td>0</td>\n",
              "      <td>0</td>\n",
              "      <td>0</td>\n",
              "      <td>0</td>\n",
              "      <td>0</td>\n",
              "      <td>0</td>\n",
              "      <td>0</td>\n",
              "      <td>0</td>\n",
              "      <td>0</td>\n",
              "      <td>0</td>\n",
              "    </tr>\n",
              "    <tr>\n",
              "      <th>244766</th>\n",
              "      <td>0</td>\n",
              "      <td>0</td>\n",
              "      <td>0</td>\n",
              "      <td>0</td>\n",
              "      <td>0</td>\n",
              "      <td>0</td>\n",
              "      <td>0</td>\n",
              "      <td>0</td>\n",
              "      <td>0</td>\n",
              "      <td>0</td>\n",
              "      <td>0</td>\n",
              "      <td>0</td>\n",
              "    </tr>\n",
              "    <tr>\n",
              "      <th>244767</th>\n",
              "      <td>0</td>\n",
              "      <td>0</td>\n",
              "      <td>0</td>\n",
              "      <td>0</td>\n",
              "      <td>0</td>\n",
              "      <td>0</td>\n",
              "      <td>0</td>\n",
              "      <td>0</td>\n",
              "      <td>0</td>\n",
              "      <td>0</td>\n",
              "      <td>0</td>\n",
              "      <td>0</td>\n",
              "    </tr>\n",
              "  </tbody>\n",
              "</table>\n",
              "<p>244768 rows × 12 columns</p>\n",
              "</div>\n",
              "      <button class=\"colab-df-convert\" onclick=\"convertToInteractive('df-4b1eb321-cfb2-42f4-b427-f71b94822888')\"\n",
              "              title=\"Convert this dataframe to an interactive table.\"\n",
              "              style=\"display:none;\">\n",
              "        \n",
              "  <svg xmlns=\"http://www.w3.org/2000/svg\" height=\"24px\"viewBox=\"0 0 24 24\"\n",
              "       width=\"24px\">\n",
              "    <path d=\"M0 0h24v24H0V0z\" fill=\"none\"/>\n",
              "    <path d=\"M18.56 5.44l.94 2.06.94-2.06 2.06-.94-2.06-.94-.94-2.06-.94 2.06-2.06.94zm-11 1L8.5 8.5l.94-2.06 2.06-.94-2.06-.94L8.5 2.5l-.94 2.06-2.06.94zm10 10l.94 2.06.94-2.06 2.06-.94-2.06-.94-.94-2.06-.94 2.06-2.06.94z\"/><path d=\"M17.41 7.96l-1.37-1.37c-.4-.4-.92-.59-1.43-.59-.52 0-1.04.2-1.43.59L10.3 9.45l-7.72 7.72c-.78.78-.78 2.05 0 2.83L4 21.41c.39.39.9.59 1.41.59.51 0 1.02-.2 1.41-.59l7.78-7.78 2.81-2.81c.8-.78.8-2.07 0-2.86zM5.41 20L4 18.59l7.72-7.72 1.47 1.35L5.41 20z\"/>\n",
              "  </svg>\n",
              "      </button>\n",
              "      \n",
              "  <style>\n",
              "    .colab-df-container {\n",
              "      display:flex;\n",
              "      flex-wrap:wrap;\n",
              "      gap: 12px;\n",
              "    }\n",
              "\n",
              "    .colab-df-convert {\n",
              "      background-color: #E8F0FE;\n",
              "      border: none;\n",
              "      border-radius: 50%;\n",
              "      cursor: pointer;\n",
              "      display: none;\n",
              "      fill: #1967D2;\n",
              "      height: 32px;\n",
              "      padding: 0 0 0 0;\n",
              "      width: 32px;\n",
              "    }\n",
              "\n",
              "    .colab-df-convert:hover {\n",
              "      background-color: #E2EBFA;\n",
              "      box-shadow: 0px 1px 2px rgba(60, 64, 67, 0.3), 0px 1px 3px 1px rgba(60, 64, 67, 0.15);\n",
              "      fill: #174EA6;\n",
              "    }\n",
              "\n",
              "    [theme=dark] .colab-df-convert {\n",
              "      background-color: #3B4455;\n",
              "      fill: #D2E3FC;\n",
              "    }\n",
              "\n",
              "    [theme=dark] .colab-df-convert:hover {\n",
              "      background-color: #434B5C;\n",
              "      box-shadow: 0px 1px 3px 1px rgba(0, 0, 0, 0.15);\n",
              "      filter: drop-shadow(0px 1px 2px rgba(0, 0, 0, 0.3));\n",
              "      fill: #FFFFFF;\n",
              "    }\n",
              "  </style>\n",
              "\n",
              "      <script>\n",
              "        const buttonEl =\n",
              "          document.querySelector('#df-4b1eb321-cfb2-42f4-b427-f71b94822888 button.colab-df-convert');\n",
              "        buttonEl.style.display =\n",
              "          google.colab.kernel.accessAllowed ? 'block' : 'none';\n",
              "\n",
              "        async function convertToInteractive(key) {\n",
              "          const element = document.querySelector('#df-4b1eb321-cfb2-42f4-b427-f71b94822888');\n",
              "          const dataTable =\n",
              "            await google.colab.kernel.invokeFunction('convertToInteractive',\n",
              "                                                     [key], {});\n",
              "          if (!dataTable) return;\n",
              "\n",
              "          const docLinkHtml = 'Like what you see? Visit the ' +\n",
              "            '<a target=\"_blank\" href=https://colab.research.google.com/notebooks/data_table.ipynb>data table notebook</a>'\n",
              "            + ' to learn more about interactive tables.';\n",
              "          element.innerHTML = '';\n",
              "          dataTable['output_type'] = 'display_data';\n",
              "          await google.colab.output.renderOutput(dataTable, element);\n",
              "          const docLink = document.createElement('div');\n",
              "          docLink.innerHTML = docLinkHtml;\n",
              "          element.appendChild(docLink);\n",
              "        }\n",
              "      </script>\n",
              "    </div>\n",
              "  </div>\n",
              "  "
            ],
            "text/plain": [
              "        analyst  assistant  business  ...  sales  senior  support\n",
              "0             1          0         0  ...      0       0        0\n",
              "1             0          0         0  ...      0       0        0\n",
              "2             1          0         0  ...      0       0        0\n",
              "3             1          0         0  ...      0       0        0\n",
              "4             1          0         0  ...      0       0        0\n",
              "...         ...        ...       ...  ...    ...     ...      ...\n",
              "244763        0          0         0  ...      0       0        0\n",
              "244764        0          0         1  ...      0       0        0\n",
              "244765        0          0         0  ...      0       0        0\n",
              "244766        0          0         0  ...      0       0        0\n",
              "244767        0          0         0  ...      0       0        0\n",
              "\n",
              "[244768 rows x 12 columns]"
            ]
          },
          "metadata": {},
          "execution_count": 29
        }
      ]
    },
    {
      "cell_type": "code",
      "source": [
        "obs_palavras = pd.concat([palavrasCargos, df_tmp.SalaryBin], axis=1)\n",
        "\n",
        "obs_palavras.head()"
      ],
      "metadata": {
        "colab": {
          "base_uri": "https://localhost:8080/",
          "height": 206
        },
        "id": "JOgojWfPvrDM",
        "outputId": "514f2673-3a7b-462e-f487-5ab6613267ec"
      },
      "id": "JOgojWfPvrDM",
      "execution_count": 30,
      "outputs": [
        {
          "output_type": "execute_result",
          "data": {
            "text/html": [
              "\n",
              "  <div id=\"df-38eff9b6-5fdf-42e3-890a-0fce17641cbb\">\n",
              "    <div class=\"colab-df-container\">\n",
              "      <div>\n",
              "<style scoped>\n",
              "    .dataframe tbody tr th:only-of-type {\n",
              "        vertical-align: middle;\n",
              "    }\n",
              "\n",
              "    .dataframe tbody tr th {\n",
              "        vertical-align: top;\n",
              "    }\n",
              "\n",
              "    .dataframe thead th {\n",
              "        text-align: right;\n",
              "    }\n",
              "</style>\n",
              "<table border=\"1\" class=\"dataframe\">\n",
              "  <thead>\n",
              "    <tr style=\"text-align: right;\">\n",
              "      <th></th>\n",
              "      <th>analyst</th>\n",
              "      <th>assistant</th>\n",
              "      <th>business</th>\n",
              "      <th>consultant</th>\n",
              "      <th>developer</th>\n",
              "      <th>engineer</th>\n",
              "      <th>executive</th>\n",
              "      <th>london</th>\n",
              "      <th>manager</th>\n",
              "      <th>sales</th>\n",
              "      <th>senior</th>\n",
              "      <th>support</th>\n",
              "      <th>SalaryBin</th>\n",
              "    </tr>\n",
              "  </thead>\n",
              "  <tbody>\n",
              "    <tr>\n",
              "      <th>0</th>\n",
              "      <td>1</td>\n",
              "      <td>0</td>\n",
              "      <td>0</td>\n",
              "      <td>0</td>\n",
              "      <td>0</td>\n",
              "      <td>0</td>\n",
              "      <td>0</td>\n",
              "      <td>0</td>\n",
              "      <td>0</td>\n",
              "      <td>0</td>\n",
              "      <td>0</td>\n",
              "      <td>0</td>\n",
              "      <td>0</td>\n",
              "    </tr>\n",
              "    <tr>\n",
              "      <th>1</th>\n",
              "      <td>0</td>\n",
              "      <td>0</td>\n",
              "      <td>0</td>\n",
              "      <td>0</td>\n",
              "      <td>0</td>\n",
              "      <td>1</td>\n",
              "      <td>0</td>\n",
              "      <td>0</td>\n",
              "      <td>0</td>\n",
              "      <td>0</td>\n",
              "      <td>0</td>\n",
              "      <td>0</td>\n",
              "      <td>1</td>\n",
              "    </tr>\n",
              "    <tr>\n",
              "      <th>2</th>\n",
              "      <td>1</td>\n",
              "      <td>0</td>\n",
              "      <td>0</td>\n",
              "      <td>0</td>\n",
              "      <td>0</td>\n",
              "      <td>0</td>\n",
              "      <td>0</td>\n",
              "      <td>0</td>\n",
              "      <td>0</td>\n",
              "      <td>0</td>\n",
              "      <td>0</td>\n",
              "      <td>0</td>\n",
              "      <td>1</td>\n",
              "    </tr>\n",
              "    <tr>\n",
              "      <th>3</th>\n",
              "      <td>1</td>\n",
              "      <td>0</td>\n",
              "      <td>0</td>\n",
              "      <td>0</td>\n",
              "      <td>0</td>\n",
              "      <td>0</td>\n",
              "      <td>0</td>\n",
              "      <td>0</td>\n",
              "      <td>0</td>\n",
              "      <td>0</td>\n",
              "      <td>0</td>\n",
              "      <td>0</td>\n",
              "      <td>1</td>\n",
              "    </tr>\n",
              "    <tr>\n",
              "      <th>4</th>\n",
              "      <td>1</td>\n",
              "      <td>0</td>\n",
              "      <td>0</td>\n",
              "      <td>0</td>\n",
              "      <td>0</td>\n",
              "      <td>0</td>\n",
              "      <td>0</td>\n",
              "      <td>0</td>\n",
              "      <td>0</td>\n",
              "      <td>0</td>\n",
              "      <td>0</td>\n",
              "      <td>0</td>\n",
              "      <td>0</td>\n",
              "    </tr>\n",
              "  </tbody>\n",
              "</table>\n",
              "</div>\n",
              "      <button class=\"colab-df-convert\" onclick=\"convertToInteractive('df-38eff9b6-5fdf-42e3-890a-0fce17641cbb')\"\n",
              "              title=\"Convert this dataframe to an interactive table.\"\n",
              "              style=\"display:none;\">\n",
              "        \n",
              "  <svg xmlns=\"http://www.w3.org/2000/svg\" height=\"24px\"viewBox=\"0 0 24 24\"\n",
              "       width=\"24px\">\n",
              "    <path d=\"M0 0h24v24H0V0z\" fill=\"none\"/>\n",
              "    <path d=\"M18.56 5.44l.94 2.06.94-2.06 2.06-.94-2.06-.94-.94-2.06-.94 2.06-2.06.94zm-11 1L8.5 8.5l.94-2.06 2.06-.94-2.06-.94L8.5 2.5l-.94 2.06-2.06.94zm10 10l.94 2.06.94-2.06 2.06-.94-2.06-.94-.94-2.06-.94 2.06-2.06.94z\"/><path d=\"M17.41 7.96l-1.37-1.37c-.4-.4-.92-.59-1.43-.59-.52 0-1.04.2-1.43.59L10.3 9.45l-7.72 7.72c-.78.78-.78 2.05 0 2.83L4 21.41c.39.39.9.59 1.41.59.51 0 1.02-.2 1.41-.59l7.78-7.78 2.81-2.81c.8-.78.8-2.07 0-2.86zM5.41 20L4 18.59l7.72-7.72 1.47 1.35L5.41 20z\"/>\n",
              "  </svg>\n",
              "      </button>\n",
              "      \n",
              "  <style>\n",
              "    .colab-df-container {\n",
              "      display:flex;\n",
              "      flex-wrap:wrap;\n",
              "      gap: 12px;\n",
              "    }\n",
              "\n",
              "    .colab-df-convert {\n",
              "      background-color: #E8F0FE;\n",
              "      border: none;\n",
              "      border-radius: 50%;\n",
              "      cursor: pointer;\n",
              "      display: none;\n",
              "      fill: #1967D2;\n",
              "      height: 32px;\n",
              "      padding: 0 0 0 0;\n",
              "      width: 32px;\n",
              "    }\n",
              "\n",
              "    .colab-df-convert:hover {\n",
              "      background-color: #E2EBFA;\n",
              "      box-shadow: 0px 1px 2px rgba(60, 64, 67, 0.3), 0px 1px 3px 1px rgba(60, 64, 67, 0.15);\n",
              "      fill: #174EA6;\n",
              "    }\n",
              "\n",
              "    [theme=dark] .colab-df-convert {\n",
              "      background-color: #3B4455;\n",
              "      fill: #D2E3FC;\n",
              "    }\n",
              "\n",
              "    [theme=dark] .colab-df-convert:hover {\n",
              "      background-color: #434B5C;\n",
              "      box-shadow: 0px 1px 3px 1px rgba(0, 0, 0, 0.15);\n",
              "      filter: drop-shadow(0px 1px 2px rgba(0, 0, 0, 0.3));\n",
              "      fill: #FFFFFF;\n",
              "    }\n",
              "  </style>\n",
              "\n",
              "      <script>\n",
              "        const buttonEl =\n",
              "          document.querySelector('#df-38eff9b6-5fdf-42e3-890a-0fce17641cbb button.colab-df-convert');\n",
              "        buttonEl.style.display =\n",
              "          google.colab.kernel.accessAllowed ? 'block' : 'none';\n",
              "\n",
              "        async function convertToInteractive(key) {\n",
              "          const element = document.querySelector('#df-38eff9b6-5fdf-42e3-890a-0fce17641cbb');\n",
              "          const dataTable =\n",
              "            await google.colab.kernel.invokeFunction('convertToInteractive',\n",
              "                                                     [key], {});\n",
              "          if (!dataTable) return;\n",
              "\n",
              "          const docLinkHtml = 'Like what you see? Visit the ' +\n",
              "            '<a target=\"_blank\" href=https://colab.research.google.com/notebooks/data_table.ipynb>data table notebook</a>'\n",
              "            + ' to learn more about interactive tables.';\n",
              "          element.innerHTML = '';\n",
              "          dataTable['output_type'] = 'display_data';\n",
              "          await google.colab.output.renderOutput(dataTable, element);\n",
              "          const docLink = document.createElement('div');\n",
              "          docLink.innerHTML = docLinkHtml;\n",
              "          element.appendChild(docLink);\n",
              "        }\n",
              "      </script>\n",
              "    </div>\n",
              "  </div>\n",
              "  "
            ],
            "text/plain": [
              "   analyst  assistant  business  consultant  ...  sales  senior  support  SalaryBin\n",
              "0        1          0         0           0  ...      0       0        0          0\n",
              "1        0          0         0           0  ...      0       0        0          1\n",
              "2        1          0         0           0  ...      0       0        0          1\n",
              "3        1          0         0           0  ...      0       0        0          1\n",
              "4        1          0         0           0  ...      0       0        0          0\n",
              "\n",
              "[5 rows x 13 columns]"
            ]
          },
          "metadata": {},
          "execution_count": 30
        }
      ]
    },
    {
      "cell_type": "code",
      "source": [
        "for i in range(0,6) : \n",
        "  contadorPalavras = obs_palavras[obs_palavras['SalaryBin']==i].sum(axis=0)\n",
        "  print(f'Faixa Salarial de {intervalosSalariais[i]}K até {intervalosSalariais[i+1]}K anual, ocorrências de palavras: ')\n",
        "  palavrasComuns = contadorPalavras.sort_values(ascending=False)\n",
        "  print(palavrasComuns)"
      ],
      "metadata": {
        "colab": {
          "base_uri": "https://localhost:8080/"
        },
        "id": "N2o-2NIUwJmP",
        "outputId": "9c0bb24a-ce97-4057-dc99-3c476f39ba0f"
      },
      "id": "N2o-2NIUwJmP",
      "execution_count": 31,
      "outputs": [
        {
          "output_type": "stream",
          "name": "stdout",
          "text": [
            "Faixa Salarial de 0K até 25000K anual, ocorrências de palavras: \n",
            "assistant     10158\n",
            "sales          9615\n",
            "manager        9226\n",
            "executive      5482\n",
            "support        5160\n",
            "consultant     3665\n",
            "engineer       3438\n",
            "business       1969\n",
            "senior         1885\n",
            "analyst        1671\n",
            "london         1610\n",
            "developer      1449\n",
            "SalaryBin         0\n",
            "dtype: int64\n",
            "Faixa Salarial de 25000K até 50000K anual, ocorrências de palavras: \n",
            "SalaryBin     117918\n",
            "manager        30429\n",
            "engineer       17307\n",
            "senior          9893\n",
            "developer       9206\n",
            "sales           8367\n",
            "analyst         5569\n",
            "london          5429\n",
            "business        5378\n",
            "executive       4498\n",
            "consultant      3840\n",
            "support         2865\n",
            "assistant       1878\n",
            "dtype: int64\n",
            "Faixa Salarial de 50000K até 70000K anual, ocorrências de palavras: \n",
            "SalaryBin     50558\n",
            "manager        8176\n",
            "senior         3841\n",
            "engineer       2442\n",
            "developer      2115\n",
            "business       1805\n",
            "london         1696\n",
            "consultant     1435\n",
            "analyst        1371\n",
            "sales          1313\n",
            "executive       496\n",
            "support         343\n",
            "assistant       111\n",
            "dtype: int64\n",
            "Faixa Salarial de 70000K até 90000K anual, ocorrências de palavras: \n",
            "SalaryBin     26592\n",
            "manager        1910\n",
            "senior         1080\n",
            "developer       897\n",
            "engineer        844\n",
            "business        657\n",
            "london          587\n",
            "analyst         555\n",
            "consultant      445\n",
            "sales           359\n",
            "executive       132\n",
            "support         125\n",
            "assistant        25\n",
            "dtype: int64\n",
            "Faixa Salarial de 90000K até 120000K anual, ocorrências de palavras: \n",
            "SalaryBin     8236\n",
            "manager        401\n",
            "senior         269\n",
            "developer      224\n",
            "business       176\n",
            "london         152\n",
            "engineer       152\n",
            "analyst        147\n",
            "sales          112\n",
            "consultant      94\n",
            "executive       23\n",
            "support         19\n",
            "assistant        7\n",
            "dtype: int64\n",
            "Faixa Salarial de 120000K até 300000K anual, ocorrências de palavras: \n",
            "SalaryBin     1000\n",
            "manager         21\n",
            "london          19\n",
            "consultant      16\n",
            "engineer         9\n",
            "senior           8\n",
            "developer        4\n",
            "sales            3\n",
            "business         3\n",
            "analyst          3\n",
            "support          0\n",
            "executive        0\n",
            "assistant        0\n",
            "dtype: int64\n"
          ]
        }
      ]
    },
    {
      "cell_type": "markdown",
      "source": [
        "* Unindo as colunas Title e FullDescription"
      ],
      "metadata": {
        "id": "HDMP4ZiD-Yzc"
      },
      "id": "HDMP4ZiD-Yzc"
    },
    {
      "cell_type": "code",
      "source": [
        "#df_tmp['Full_Title'] = df_tmp['Title'].str.cat(df_tmp['FullDescription'], sep = ' ')"
      ],
      "metadata": {
        "id": "PE--cRi_-YQJ"
      },
      "id": "PE--cRi_-YQJ",
      "execution_count": 32,
      "outputs": []
    },
    {
      "cell_type": "code",
      "source": [
        "df_tmp.head()"
      ],
      "metadata": {
        "colab": {
          "base_uri": "https://localhost:8080/",
          "height": 548
        },
        "id": "AmGJhG57-twT",
        "outputId": "f943f647-1865-4ad2-c9d4-2f75a5a03154"
      },
      "id": "AmGJhG57-twT",
      "execution_count": 33,
      "outputs": [
        {
          "output_type": "execute_result",
          "data": {
            "text/html": [
              "\n",
              "  <div id=\"df-3bf49617-0530-495c-8bb4-5d642facb279\">\n",
              "    <div class=\"colab-df-container\">\n",
              "      <div>\n",
              "<style scoped>\n",
              "    .dataframe tbody tr th:only-of-type {\n",
              "        vertical-align: middle;\n",
              "    }\n",
              "\n",
              "    .dataframe tbody tr th {\n",
              "        vertical-align: top;\n",
              "    }\n",
              "\n",
              "    .dataframe thead th {\n",
              "        text-align: right;\n",
              "    }\n",
              "</style>\n",
              "<table border=\"1\" class=\"dataframe\">\n",
              "  <thead>\n",
              "    <tr style=\"text-align: right;\">\n",
              "      <th></th>\n",
              "      <th>Id</th>\n",
              "      <th>Title</th>\n",
              "      <th>FullDescription</th>\n",
              "      <th>LocationRaw</th>\n",
              "      <th>LocationNormalized</th>\n",
              "      <th>ContractType</th>\n",
              "      <th>ContractTime</th>\n",
              "      <th>Company</th>\n",
              "      <th>Category</th>\n",
              "      <th>SalaryRaw</th>\n",
              "      <th>SalaryNormalized</th>\n",
              "      <th>SourceName</th>\n",
              "      <th>Rate_by</th>\n",
              "      <th>SalaryBin</th>\n",
              "    </tr>\n",
              "  </thead>\n",
              "  <tbody>\n",
              "    <tr>\n",
              "      <th>0</th>\n",
              "      <td>12612628</td>\n",
              "      <td>engineering systems analyst</td>\n",
              "      <td>Engineering Systems Analyst Dorking Surrey Sal...</td>\n",
              "      <td>Dorking, Surrey, Surrey</td>\n",
              "      <td>Dorking</td>\n",
              "      <td>NaN</td>\n",
              "      <td>permanent</td>\n",
              "      <td>Gregory Martin International</td>\n",
              "      <td>Engineering Jobs</td>\n",
              "      <td>20000 - 30000/annum 20-30K</td>\n",
              "      <td>25000</td>\n",
              "      <td>cv-library.co.uk</td>\n",
              "      <td>Yearly</td>\n",
              "      <td>0</td>\n",
              "    </tr>\n",
              "    <tr>\n",
              "      <th>1</th>\n",
              "      <td>12612830</td>\n",
              "      <td>stress engineer glasgow</td>\n",
              "      <td>Stress Engineer Glasgow Salary **** to **** We...</td>\n",
              "      <td>Glasgow, Scotland, Scotland</td>\n",
              "      <td>Glasgow</td>\n",
              "      <td>NaN</td>\n",
              "      <td>permanent</td>\n",
              "      <td>Gregory Martin International</td>\n",
              "      <td>Engineering Jobs</td>\n",
              "      <td>25000 - 35000/annum 25-35K</td>\n",
              "      <td>30000</td>\n",
              "      <td>cv-library.co.uk</td>\n",
              "      <td>Yearly</td>\n",
              "      <td>1</td>\n",
              "    </tr>\n",
              "    <tr>\n",
              "      <th>2</th>\n",
              "      <td>12612844</td>\n",
              "      <td>modelling and simulation analyst</td>\n",
              "      <td>Mathematical Modeller / Simulation Analyst / O...</td>\n",
              "      <td>Hampshire, South East, South East</td>\n",
              "      <td>Hampshire</td>\n",
              "      <td>NaN</td>\n",
              "      <td>permanent</td>\n",
              "      <td>Gregory Martin International</td>\n",
              "      <td>Engineering Jobs</td>\n",
              "      <td>20000 - 40000/annum 20-40K</td>\n",
              "      <td>30000</td>\n",
              "      <td>cv-library.co.uk</td>\n",
              "      <td>Yearly</td>\n",
              "      <td>1</td>\n",
              "    </tr>\n",
              "    <tr>\n",
              "      <th>3</th>\n",
              "      <td>12613049</td>\n",
              "      <td>engineering systems analyst / mathematical mod...</td>\n",
              "      <td>Engineering Systems Analyst / Mathematical Mod...</td>\n",
              "      <td>Surrey, South East, South East</td>\n",
              "      <td>Surrey</td>\n",
              "      <td>NaN</td>\n",
              "      <td>permanent</td>\n",
              "      <td>Gregory Martin International</td>\n",
              "      <td>Engineering Jobs</td>\n",
              "      <td>25000 - 30000/annum 25K-30K negotiable</td>\n",
              "      <td>27500</td>\n",
              "      <td>cv-library.co.uk</td>\n",
              "      <td>Yearly</td>\n",
              "      <td>1</td>\n",
              "    </tr>\n",
              "    <tr>\n",
              "      <th>4</th>\n",
              "      <td>12613647</td>\n",
              "      <td>pioneer, miser engineering systems analyst</td>\n",
              "      <td>Pioneer, Miser  Engineering Systems Analyst Do...</td>\n",
              "      <td>Surrey, South East, South East</td>\n",
              "      <td>Surrey</td>\n",
              "      <td>NaN</td>\n",
              "      <td>permanent</td>\n",
              "      <td>Gregory Martin International</td>\n",
              "      <td>Engineering Jobs</td>\n",
              "      <td>20000 - 30000/annum 20-30K</td>\n",
              "      <td>25000</td>\n",
              "      <td>cv-library.co.uk</td>\n",
              "      <td>Yearly</td>\n",
              "      <td>0</td>\n",
              "    </tr>\n",
              "  </tbody>\n",
              "</table>\n",
              "</div>\n",
              "      <button class=\"colab-df-convert\" onclick=\"convertToInteractive('df-3bf49617-0530-495c-8bb4-5d642facb279')\"\n",
              "              title=\"Convert this dataframe to an interactive table.\"\n",
              "              style=\"display:none;\">\n",
              "        \n",
              "  <svg xmlns=\"http://www.w3.org/2000/svg\" height=\"24px\"viewBox=\"0 0 24 24\"\n",
              "       width=\"24px\">\n",
              "    <path d=\"M0 0h24v24H0V0z\" fill=\"none\"/>\n",
              "    <path d=\"M18.56 5.44l.94 2.06.94-2.06 2.06-.94-2.06-.94-.94-2.06-.94 2.06-2.06.94zm-11 1L8.5 8.5l.94-2.06 2.06-.94-2.06-.94L8.5 2.5l-.94 2.06-2.06.94zm10 10l.94 2.06.94-2.06 2.06-.94-2.06-.94-.94-2.06-.94 2.06-2.06.94z\"/><path d=\"M17.41 7.96l-1.37-1.37c-.4-.4-.92-.59-1.43-.59-.52 0-1.04.2-1.43.59L10.3 9.45l-7.72 7.72c-.78.78-.78 2.05 0 2.83L4 21.41c.39.39.9.59 1.41.59.51 0 1.02-.2 1.41-.59l7.78-7.78 2.81-2.81c.8-.78.8-2.07 0-2.86zM5.41 20L4 18.59l7.72-7.72 1.47 1.35L5.41 20z\"/>\n",
              "  </svg>\n",
              "      </button>\n",
              "      \n",
              "  <style>\n",
              "    .colab-df-container {\n",
              "      display:flex;\n",
              "      flex-wrap:wrap;\n",
              "      gap: 12px;\n",
              "    }\n",
              "\n",
              "    .colab-df-convert {\n",
              "      background-color: #E8F0FE;\n",
              "      border: none;\n",
              "      border-radius: 50%;\n",
              "      cursor: pointer;\n",
              "      display: none;\n",
              "      fill: #1967D2;\n",
              "      height: 32px;\n",
              "      padding: 0 0 0 0;\n",
              "      width: 32px;\n",
              "    }\n",
              "\n",
              "    .colab-df-convert:hover {\n",
              "      background-color: #E2EBFA;\n",
              "      box-shadow: 0px 1px 2px rgba(60, 64, 67, 0.3), 0px 1px 3px 1px rgba(60, 64, 67, 0.15);\n",
              "      fill: #174EA6;\n",
              "    }\n",
              "\n",
              "    [theme=dark] .colab-df-convert {\n",
              "      background-color: #3B4455;\n",
              "      fill: #D2E3FC;\n",
              "    }\n",
              "\n",
              "    [theme=dark] .colab-df-convert:hover {\n",
              "      background-color: #434B5C;\n",
              "      box-shadow: 0px 1px 3px 1px rgba(0, 0, 0, 0.15);\n",
              "      filter: drop-shadow(0px 1px 2px rgba(0, 0, 0, 0.3));\n",
              "      fill: #FFFFFF;\n",
              "    }\n",
              "  </style>\n",
              "\n",
              "      <script>\n",
              "        const buttonEl =\n",
              "          document.querySelector('#df-3bf49617-0530-495c-8bb4-5d642facb279 button.colab-df-convert');\n",
              "        buttonEl.style.display =\n",
              "          google.colab.kernel.accessAllowed ? 'block' : 'none';\n",
              "\n",
              "        async function convertToInteractive(key) {\n",
              "          const element = document.querySelector('#df-3bf49617-0530-495c-8bb4-5d642facb279');\n",
              "          const dataTable =\n",
              "            await google.colab.kernel.invokeFunction('convertToInteractive',\n",
              "                                                     [key], {});\n",
              "          if (!dataTable) return;\n",
              "\n",
              "          const docLinkHtml = 'Like what you see? Visit the ' +\n",
              "            '<a target=\"_blank\" href=https://colab.research.google.com/notebooks/data_table.ipynb>data table notebook</a>'\n",
              "            + ' to learn more about interactive tables.';\n",
              "          element.innerHTML = '';\n",
              "          dataTable['output_type'] = 'display_data';\n",
              "          await google.colab.output.renderOutput(dataTable, element);\n",
              "          const docLink = document.createElement('div');\n",
              "          docLink.innerHTML = docLinkHtml;\n",
              "          element.appendChild(docLink);\n",
              "        }\n",
              "      </script>\n",
              "    </div>\n",
              "  </div>\n",
              "  "
            ],
            "text/plain": [
              "         Id  ... SalaryBin\n",
              "0  12612628  ...         0\n",
              "1  12612830  ...         1\n",
              "2  12612844  ...         1\n",
              "3  12613049  ...         1\n",
              "4  12613647  ...         0\n",
              "\n",
              "[5 rows x 14 columns]"
            ]
          },
          "metadata": {},
          "execution_count": 33
        }
      ]
    },
    {
      "cell_type": "markdown",
      "source": [
        "### Processamento do texto \n",
        "\n",
        "* Primeiramente importaremos as bibliotecas usadas"
      ],
      "metadata": {
        "id": "su27adpS_OY_"
      },
      "id": "su27adpS_OY_"
    },
    {
      "cell_type": "code",
      "source": [
        "import nltk\n",
        "nltk.download('stopwords')\n",
        "from nltk import word_tokenize, FreqDist\n",
        "from nltk.corpus import stopwords\n",
        "import string\n",
        "from nltk.probability import FreqDist"
      ],
      "metadata": {
        "colab": {
          "base_uri": "https://localhost:8080/"
        },
        "id": "NBK_mkbnAGtk",
        "outputId": "3addc170-5f06-4f61-9d63-41882d020b9a"
      },
      "id": "NBK_mkbnAGtk",
      "execution_count": 34,
      "outputs": [
        {
          "output_type": "stream",
          "name": "stdout",
          "text": [
            "[nltk_data] Downloading package stopwords to /root/nltk_data...\n",
            "[nltk_data]   Package stopwords is already up-to-date!\n"
          ]
        }
      ]
    },
    {
      "cell_type": "markdown",
      "source": [
        "* Criando funções para a limpeza do texto"
      ],
      "metadata": {
        "id": "F41P-v0E_ZGi"
      },
      "id": "F41P-v0E_ZGi"
    },
    {
      "cell_type": "code",
      "source": [
        "def limpaTexto(descricoesTrabalho) :\n",
        "  descricao = []\n",
        "  padrao = \"([a-zA-Z]+(?:'[a-z]+)?)\"\n",
        "  listaStopWords = stopwords.words('english')\n",
        "  listaStopWords += list(string.punctuation)\n",
        "  listaStopWords += ['0','1','2','3','4','5','6','8','9']\n",
        "\n",
        "  for descricaoTrabalho in descricoesTrabalho:\n",
        "        descricaoTrab_tokens_raw = nltk.regexp_tokenize(descricaoTrabalho, padrao)\n",
        "        descricaoTrab_tokens=[palavra.lower() for palavra in descricaoTrab_tokens_raw]\n",
        "        descricaoTrab_words_stopped = [palavra for palavra in descricaoTrab_tokens if palavra not in listaStopWords]\n",
        "        descricao.append(descricaoTrab_words_stopped)\n",
        "\n",
        "  return pd.Series(descricao)"
      ],
      "metadata": {
        "id": "UyWvGXNr_Mj0"
      },
      "id": "UyWvGXNr_Mj0",
      "execution_count": 35,
      "outputs": []
    },
    {
      "cell_type": "markdown",
      "source": [
        "* Tokenizando o texto das colunas Title."
      ],
      "metadata": {
        "id": "QwscGhKAEquU"
      },
      "id": "QwscGhKAEquU"
    },
    {
      "cell_type": "code",
      "source": [
        "trab_tokens = limpaTexto(df_tmp['Title'])"
      ],
      "metadata": {
        "id": "rRhxUw2IC9XR"
      },
      "id": "rRhxUw2IC9XR",
      "execution_count": 36,
      "outputs": []
    },
    {
      "cell_type": "code",
      "source": [
        "tokens = [palavra for trabalho in trab_tokens for palavra in trabalho]"
      ],
      "metadata": {
        "id": "oTmK8d2qEl3y"
      },
      "id": "oTmK8d2qEl3y",
      "execution_count": 37,
      "outputs": []
    },
    {
      "cell_type": "code",
      "source": [
        "trab_tokens_freq = FreqDist(tokens)\n",
        "trab_tokens_freq.most_common(100)"
      ],
      "metadata": {
        "colab": {
          "base_uri": "https://localhost:8080/"
        },
        "id": "gwLQJWDhF2qH",
        "outputId": "68f39ab4-af75-432a-aab6-037f6d2f785f"
      },
      "id": "gwLQJWDhF2qH",
      "execution_count": 38,
      "outputs": [
        {
          "output_type": "execute_result",
          "data": {
            "text/plain": [
              "[('manager', 50160),\n",
              " ('engineer', 24190),\n",
              " ('sales', 19769),\n",
              " ('senior', 16976),\n",
              " ('developer', 13896),\n",
              " ('assistant', 12179),\n",
              " ('k', 11060),\n",
              " ('executive', 10629),\n",
              " ('business', 9988),\n",
              " ('consultant', 9497),\n",
              " ('london', 9486),\n",
              " ('analyst', 9315),\n",
              " ('support', 8512),\n",
              " ('project', 7229),\n",
              " ('nurse', 7103),\n",
              " ('development', 6874),\n",
              " ('account', 6519),\n",
              " ('administrator', 6374),\n",
              " ('service', 6296),\n",
              " ('c', 6054),\n",
              " ('software', 5505),\n",
              " ('teacher', 5489),\n",
              " ('marketing', 5002),\n",
              " ('chef', 5000),\n",
              " ('care', 4917),\n",
              " ('design', 4791),\n",
              " ('recruitment', 4568),\n",
              " ('advisor', 4465),\n",
              " ('technical', 4246),\n",
              " ('worker', 3984),\n",
              " ('customer', 3885),\n",
              " ('head', 3765),\n",
              " ('graduate', 3754),\n",
              " ('accountant', 3744),\n",
              " ('team', 3704),\n",
              " ('officer', 3680),\n",
              " ('home', 3595),\n",
              " ('technician', 3580),\n",
              " ('finance', 3459),\n",
              " ('mechanical', 3360),\n",
              " ('services', 3320),\n",
              " ('web', 3278),\n",
              " ('financial', 3251),\n",
              " ('rgn', 3169),\n",
              " ('systems', 3117),\n",
              " ('management', 3106),\n",
              " ('coordinator', 3076),\n",
              " ('lead', 3056),\n",
              " ('commercial', 2952),\n",
              " ('hr', 2888),\n",
              " ('director', 2847),\n",
              " ('sql', 2803),\n",
              " ('general', 2678),\n",
              " ('net', 2658),\n",
              " ('electrical', 2604),\n",
              " ('quality', 2587),\n",
              " ('specialist', 2546),\n",
              " ('leader', 2545),\n",
              " ('java', 2484),\n",
              " ('digital', 2481),\n",
              " ('field', 2468),\n",
              " ('maintenance', 2437),\n",
              " ('surveyor', 2332),\n",
              " ('staff', 2301),\n",
              " ('health', 2286),\n",
              " ('social', 2270),\n",
              " ('west', 2204),\n",
              " ('trainee', 2197),\n",
              " ('contract', 2188),\n",
              " ('supervisor', 2186),\n",
              " ('controller', 2174),\n",
              " ('junior', 2159),\n",
              " ('job', 2091),\n",
              " ('time', 2067),\n",
              " ('data', 2034),\n",
              " ('jobs', 2027),\n",
              " ('restaurant', 2024),\n",
              " ('registered', 2007),\n",
              " ('new', 1995),\n",
              " ('required', 1989),\n",
              " ('accounts', 1980),\n",
              " ('aspnet', 1930),\n",
              " ('designer', 1917),\n",
              " ('deputy', 1906),\n",
              " ('operations', 1853),\n",
              " ('de', 1817),\n",
              " ('uk', 1800),\n",
              " ('part', 1796),\n",
              " ('retail', 1795),\n",
              " ('south', 1728),\n",
              " ('engineering', 1722),\n",
              " ('motor', 1683),\n",
              " ('product', 1677),\n",
              " ('test', 1675),\n",
              " ('area', 1673),\n",
              " ('production', 1624),\n",
              " ('partie', 1618),\n",
              " ('driver', 1613),\n",
              " ('architect', 1606),\n",
              " ('php', 1588)]"
            ]
          },
          "metadata": {},
          "execution_count": 38
        }
      ]
    },
    {
      "cell_type": "markdown",
      "source": [
        "* Quantidade total de palavras em todos os anúncios"
      ],
      "metadata": {
        "id": "e7--7o1XI-p3"
      },
      "id": "e7--7o1XI-p3"
    },
    {
      "cell_type": "code",
      "source": [
        "len(trab_tokens_freq)"
      ],
      "metadata": {
        "colab": {
          "base_uri": "https://localhost:8080/"
        },
        "id": "vlUNWReQJD26",
        "outputId": "96707bdc-85c4-41eb-a012-5e238bc50b2e"
      },
      "id": "vlUNWReQJD26",
      "execution_count": 39,
      "outputs": [
        {
          "output_type": "execute_result",
          "data": {
            "text/plain": [
              "18160"
            ]
          },
          "metadata": {},
          "execution_count": 39
        }
      ]
    },
    {
      "cell_type": "markdown",
      "source": [
        "* **Normalização da Frequência de palavras** : Divide-se a frequência de cada palavra pelo número total de palavras."
      ],
      "metadata": {
        "id": "co4RNnclJQgq"
      },
      "id": "co4RNnclJQgq"
    },
    {
      "cell_type": "code",
      "source": [
        "totalPalavras = sum(trab_tokens_freq.values())\n",
        "top100_trab = trab_tokens_freq.most_common(100)"
      ],
      "metadata": {
        "id": "ZcWzDdreJPeG"
      },
      "id": "ZcWzDdreJPeG",
      "execution_count": 40,
      "outputs": []
    },
    {
      "cell_type": "code",
      "source": [
        "print(f'Palavra               Frequencia Normalizada')\n",
        "for palavra in top100_trab : \n",
        "  freqNormal = palavra[1]/totalPalavras\n",
        "  print(f'{palavra[0]}   ------------   {freqNormal:.4}')"
      ],
      "metadata": {
        "colab": {
          "base_uri": "https://localhost:8080/"
        },
        "id": "YUnpLmh8J13G",
        "outputId": "6082f99e-94ea-4515-ec34-41e9c9148221"
      },
      "id": "YUnpLmh8J13G",
      "execution_count": 41,
      "outputs": [
        {
          "output_type": "stream",
          "name": "stdout",
          "text": [
            "Palavra               Frequencia Normalizada\n",
            "manager   ------------   0.05213\n",
            "engineer   ------------   0.02514\n",
            "sales   ------------   0.02055\n",
            "senior   ------------   0.01764\n",
            "developer   ------------   0.01444\n",
            "assistant   ------------   0.01266\n",
            "k   ------------   0.01149\n",
            "executive   ------------   0.01105\n",
            "business   ------------   0.01038\n",
            "consultant   ------------   0.00987\n",
            "london   ------------   0.009859\n",
            "analyst   ------------   0.009681\n",
            "support   ------------   0.008847\n",
            "project   ------------   0.007513\n",
            "nurse   ------------   0.007382\n",
            "development   ------------   0.007144\n",
            "account   ------------   0.006775\n",
            "administrator   ------------   0.006625\n",
            "service   ------------   0.006544\n",
            "c   ------------   0.006292\n",
            "software   ------------   0.005722\n",
            "teacher   ------------   0.005705\n",
            "marketing   ------------   0.005199\n",
            "chef   ------------   0.005197\n",
            "care   ------------   0.00511\n",
            "design   ------------   0.004979\n",
            "recruitment   ------------   0.004748\n",
            "advisor   ------------   0.004641\n",
            "technical   ------------   0.004413\n",
            "worker   ------------   0.004141\n",
            "customer   ------------   0.004038\n",
            "head   ------------   0.003913\n",
            "graduate   ------------   0.003902\n",
            "accountant   ------------   0.003891\n",
            "team   ------------   0.00385\n",
            "officer   ------------   0.003825\n",
            "home   ------------   0.003736\n",
            "technician   ------------   0.003721\n",
            "finance   ------------   0.003595\n",
            "mechanical   ------------   0.003492\n",
            "services   ------------   0.003451\n",
            "web   ------------   0.003407\n",
            "financial   ------------   0.003379\n",
            "rgn   ------------   0.003294\n",
            "systems   ------------   0.00324\n",
            "management   ------------   0.003228\n",
            "coordinator   ------------   0.003197\n",
            "lead   ------------   0.003176\n",
            "commercial   ------------   0.003068\n",
            "hr   ------------   0.003002\n",
            "director   ------------   0.002959\n",
            "sql   ------------   0.002913\n",
            "general   ------------   0.002783\n",
            "net   ------------   0.002763\n",
            "electrical   ------------   0.002706\n",
            "quality   ------------   0.002689\n",
            "specialist   ------------   0.002646\n",
            "leader   ------------   0.002645\n",
            "java   ------------   0.002582\n",
            "digital   ------------   0.002579\n",
            "field   ------------   0.002565\n",
            "maintenance   ------------   0.002533\n",
            "surveyor   ------------   0.002424\n",
            "staff   ------------   0.002391\n",
            "health   ------------   0.002376\n",
            "social   ------------   0.002359\n",
            "west   ------------   0.002291\n",
            "trainee   ------------   0.002283\n",
            "contract   ------------   0.002274\n",
            "supervisor   ------------   0.002272\n",
            "controller   ------------   0.002259\n",
            "junior   ------------   0.002244\n",
            "job   ------------   0.002173\n",
            "time   ------------   0.002148\n",
            "data   ------------   0.002114\n",
            "jobs   ------------   0.002107\n",
            "restaurant   ------------   0.002104\n",
            "registered   ------------   0.002086\n",
            "new   ------------   0.002073\n",
            "required   ------------   0.002067\n",
            "accounts   ------------   0.002058\n",
            "aspnet   ------------   0.002006\n",
            "designer   ------------   0.001992\n",
            "deputy   ------------   0.001981\n",
            "operations   ------------   0.001926\n",
            "de   ------------   0.001888\n",
            "uk   ------------   0.001871\n",
            "part   ------------   0.001867\n",
            "retail   ------------   0.001866\n",
            "south   ------------   0.001796\n",
            "engineering   ------------   0.00179\n",
            "motor   ------------   0.001749\n",
            "product   ------------   0.001743\n",
            "test   ------------   0.001741\n",
            "area   ------------   0.001739\n",
            "production   ------------   0.001688\n",
            "partie   ------------   0.001682\n",
            "driver   ------------   0.001676\n",
            "architect   ------------   0.001669\n",
            "php   ------------   0.00165\n"
          ]
        }
      ]
    },
    {
      "cell_type": "markdown",
      "source": [
        "* Pode-se observar que com o N-gram com uma única palavra não ficou bom seu aproveitamento, portanto será partido para a criação de um 2-gram ou bi-grama e 3-gram ou tri-grama."
      ],
      "metadata": {
        "id": "3_xM4z6EL9_Y"
      },
      "id": "3_xM4z6EL9_Y"
    },
    {
      "cell_type": "markdown",
      "source": [
        "### Criando Tri-gramas para validação no texto da coluna Title\n",
        "\n",
        "* Importando bibliotecas necessárias"
      ],
      "metadata": {
        "id": "ytWCWTwFM7Ja"
      },
      "id": "ytWCWTwFM7Ja"
    },
    {
      "cell_type": "code",
      "source": [
        "from nltk.collocations import *"
      ],
      "metadata": {
        "id": "MZ80OVHmNSMA"
      },
      "id": "MZ80OVHmNSMA",
      "execution_count": 42,
      "outputs": []
    },
    {
      "cell_type": "code",
      "source": [
        "trigram_ = nltk.collocations.TrigramAssocMeasures()\n",
        "finder = TrigramCollocationFinder.from_words(tokens)\n",
        "score = finder.score_ngrams(trigram_.raw_freq)"
      ],
      "metadata": {
        "id": "bvjfQiOJOq14"
      },
      "id": "bvjfQiOJOq14",
      "execution_count": 43,
      "outputs": []
    },
    {
      "cell_type": "code",
      "source": [
        "score[0:30]"
      ],
      "metadata": {
        "colab": {
          "base_uri": "https://localhost:8080/"
        },
        "id": "AIhlCAoUQSVh",
        "outputId": "9cc01d86-336c-461d-afbc-12d0d3ec449a"
      },
      "id": "AIhlCAoUQSVh",
      "execution_count": 44,
      "outputs": [
        {
          "output_type": "execute_result",
          "data": {
            "text/plain": [
              "[(('business', 'development', 'manager'), 0.002540118067681051),\n",
              " (('chef', 'de', 'partie'), 0.0016733183670075663),\n",
              " (('mechanical', 'design', 'engineer'), 0.0010289348964829135),\n",
              " (('motor', 'trade', 'job'), 0.0010091876610958677),\n",
              " (('qualified', 'social', 'worker'), 0.0006184002660680136),\n",
              " (('business', 'development', 'executive'), 0.000608006984285358),\n",
              " (('graduate', 'sales', 'executive'), 0.000564355200798204),\n",
              " (('field', 'service', 'engineer'), 0.0005435686372328927),\n",
              " (('trainee', 'recruitment', 'consultant'), 0.0005404506526980959),\n",
              " (('field', 'sales', 'executive'), 0.0005342146836285025),\n",
              " (('manager', 'business', 'development'), 0.0005248607300241124),\n",
              " (('area', 'sales', 'manager'), 0.0004967988692109421),\n",
              " (('staff', 'nurse', 'rgn'), 0.0004947202128544109),\n",
              " (('customer', 'service', 'advisor'), 0.00046977633657603726),\n",
              " (('registered', 'general', 'nurse'), 0.000458343726615116),\n",
              " (('manager', 'sales', 'executive'), 0.0004406751475846013),\n",
              " (('senior', 'quantity', 'surveyor'), 0.0004333998503367423),\n",
              " (('hr', 'business', 'partner'), 0.00042924253762368004),\n",
              " (('sales', 'account', 'manager'), 0.00042300656855408665),\n",
              " (('electrical', 'design', 'engineer'), 0.00040533798952357194),\n",
              " (('nursing', 'home', 'manager'), 0.0004042986613453064),\n",
              " (('car', 'sales', 'executive'), 0.00039806269227571296),\n",
              " (('senior', 'account', 'manager'), 0.0003616862060364181),\n",
              " (('business', 'travel', 'consultant'), 0.0003606468778581525),\n",
              " (('sales', 'executive', 'sales'), 0.0003564895651450902),\n",
              " (('care', 'home', 'manager'), 0.0003346636734015133),\n",
              " (('sales', 'executive', 'graduate'), 0.0003336243452232477),\n",
              " (('allied', 'health', 'care'), 0.00032842770433191983),\n",
              " (('health', 'care', 'professional'), 0.00032842770433191983),\n",
              " (('purchase', 'ledger', 'clerk'), 0.00031179845347967076)]"
            ]
          },
          "metadata": {},
          "execution_count": 44
        }
      ]
    },
    {
      "cell_type": "markdown",
      "source": [
        "### Criando uma núvem de palavras com os Cargos\n",
        "* Importando as bibliotecas necessárias"
      ],
      "metadata": {
        "id": "xO8b_lgheXKz"
      },
      "id": "xO8b_lgheXKz"
    },
    {
      "cell_type": "code",
      "source": [
        "from wordcloud import WordCloud, STOPWORDS, ImageColorGenerator"
      ],
      "metadata": {
        "id": "lsURg8NPd9IW"
      },
      "id": "lsURg8NPd9IW",
      "execution_count": 45,
      "outputs": []
    },
    {
      "cell_type": "code",
      "source": [
        "#Alocando o texto da coluna Title em uma variável\n",
        "text = \" \".join(descricao for descricao in df_tmp['Title'])\n",
        "\n",
        "#Criando uma lista de stopwords.\n",
        "stopwords = set(STOPWORDS)\n",
        "\n",
        "# Criando a núvem de palavras\n",
        "wordcloud = WordCloud(stopwords = stopwords,max_font_size=50, max_words=100, background_color='white').generate(text)\n",
        "plt.figure(figsize=(15,8))\n",
        "plt.imshow(wordcloud, interpolation='bilinear')\n",
        "plt.axis('off')\n",
        "plt.show()"
      ],
      "metadata": {
        "colab": {
          "base_uri": "https://localhost:8080/",
          "height": 449
        },
        "id": "hIFSgOE1dsAQ",
        "outputId": "eeeac414-3664-4856-f95d-24f58d70c89c"
      },
      "id": "hIFSgOE1dsAQ",
      "execution_count": 46,
      "outputs": [
        {
          "output_type": "display_data",
          "data": {
            "image/png": "[encoded data removed]",
            "text/plain": [
              "<Figure size 1080x576 with 1 Axes>"
            ]
          },
          "metadata": {
            "needs_background": "light"
          }
        }
      ]
    }
  ],
  "metadata": {
    "kernelspec": {
      "display_name": "Python 3",
      "language": "python",
      "name": "python3"
    },
    "language_info": {
      "codemirror_mode": {
        "name": "ipython",
        "version": 3
      },
      "file_extension": ".py",
      "mimetype": "text/x-python",
      "name": "python",
      "nbconvert_exporter": "python",
      "pygments_lexer": "ipython3",
      "version": "3.8.8"
    },
    "colab": {
      "name": "PredictSalary_RegressionProblemExample_AED.ipynb",
      "provenance": [],
      "collapsed_sections": [],
      "include_colab_link": true
    }
  },
  "nbformat": 4,
  "nbformat_minor": 5
}